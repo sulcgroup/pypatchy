{
 "cells": [
  {
   "cell_type": "code",
   "execution_count": 1,
   "id": "e5a605ff-a1f8-4e88-9005-7860933098a2",
   "metadata": {},
   "source": [
    "from input_output import *\n",
    "from functools import reduce\n",
    "import altair as alt\n",
    "print(\"Available datasets:\\n\\t\" + ',\\n\\t'.join(os.listdir(sims_root())))"
   ],
   "outputs": []
  },
  {
   "cell_type": "code",
   "execution_count": 2,
   "id": "c1884d43-2399-471b-8687-f4cac42f31d7",
   "metadata": {},
   "source": [
    "# Edit this cell to specify which datasets to compare\n",
    "# dataset_names = [\"WTSolidCube_7Nov22\", \"AlloSolidCube_X1_7Nov22\", \"AlloSolidCube_X3_Singlet_7Nov22\", \"AlloSolidCube_X5_1_7Nov22\", \"AlloSolidCube_X5_4_7Nov22\"]\n",
    "# dataset_names = [\"WTHollowCube_7Nov22\", \"AlloHollowCubeMin_X1_9Nov22\", \"AlloHollowCube_X1_7Nov22\"]\n",
    "dataset_names = [\"Allosteric_Pyramid_Full_Fall22\", \"Allosteric_Pyramid_Partial_Fall22\", \"NoAlloPyramid_14Oct22\"]\n",
    "### Readability ### \n",
    "# make sure the order is the same as dataset_names!!!!\n",
    "dataset_names_readable = [\"Full Allosteric\", \"Partial Allosteric\", \"Non-Allosteric\"]\n",
    "group_name = \"Pyramid\"\n",
    "target_name = \"pyramid\""
   ],
   "outputs": []
  },
  {
   "cell_type": "code",
   "execution_count": 4,
   "id": "e0083370-0465-4f51-8019-7a01ae492984",
   "metadata": {},
   "source": [
    "assert(len(dataset_names) > 0)\n",
    "datasets = [choose_results(dsname) for dsname in dataset_names]"
   ],
   "outputs": []
  },
  {
   "cell_type": "code",
   "execution_count": null,
   "id": "19fbd8e2-b16d-445a-9958-19d8c3884f14",
   "metadata": {},
   "source": [],
   "outputs": []
  },
  {
   "cell_type": "code",
   "execution_count": 61,
   "id": "9f4357e3-0452-4a4d-8b83-63e7e3e61783",
   "metadata": {},
   "source": [
    "datasets_data = []\n",
    "for dataset, dsname, dsnamehuman in zip(datasets, dataset_names, dataset_names_readable):\n",
    "    print(f\"Analyzing {dsname}\")\n",
    "    data = dataset.get_all_sizes()\n",
    "    # data = dataset.get_flat_yields(target_name, cutoff, overreach=overreach)\n",
    "    data['dsname'] = dsnamehuman\n",
    "    datasets_data.append(data)\n",
    "data = pd.concat(datasets_data, axis='index').reset_index()"
   ],
   "outputs": []
  },
  {
   "cell_type": "code",
   "execution_count": 62,
   "id": "44154870-40c9-4a7a-a9d9-daefc78b211e",
   "metadata": {},
   "source": [
    "data[\"nt\"].unique()"
   ],
   "outputs": []
  },
  {
   "cell_type": "code",
   "execution_count": 63,
   "id": "745007a0-352d-45d1-a065-86d118eb2ce2",
   "metadata": {},
   "source": [
    "tmax = 8 * get_sample_every() # pretty arbitrary, subject to review"
   ],
   "outputs": []
  },
  {
   "cell_type": "code",
   "execution_count": 64,
   "id": "bd62dba2-4bee-4273-8685-3cbed7595152",
   "metadata": {},
   "source": [
    "data = data[data[\"timepoint\"] <= tmax]"
   ],
   "outputs": []
  },
  {
   "cell_type": "code",
   "execution_count": 65,
   "id": "c0b4426c-203e-4d38-bae2-055b6d4f283d",
   "metadata": {},
   "source": [
    "data[\"time\"] = data[\"timepoint\"] * OXDNA_PRINT_CLUSTERS_EVERY / 1e6 # convert to megasteps"
   ],
   "outputs": []
  },
  {
   "cell_type": "code",
   "execution_count": 66,
   "id": "f69390b0-1747-40de-81c3-facf01c00d9f",
   "metadata": {},
   "source": [
    "df"
   ],
   "outputs": []
  },
  {
   "cell_type": "code",
   "execution_count": 71,
   "id": "db6e21fb-b1ac-4dd9-b4f4-98ecd04d1679",
   "metadata": {},
   "source": [
    "nt = 2\n",
    "\n",
    "df = data[data[\"nt\"] == nt]\n",
    "\n",
    "ymax = data[\"total_size\"].max()\n",
    "\n",
    "chart = alt.Chart(df).mark_line().encode(\n",
    "    x=alt.X('time:Q', title=\"Time (megasteps)\", axis=alt.Axis(tickCount=5)),\n",
    "    y=alt.Y('total_size:Q', title=\"Total Assembly Size\", scale=alt.Scale(domain=(0,ymax)), aggregate=\"mean\"),\n",
    "    color=alt.Color('dsname:O', scale=alt.Scale(scheme=\"accent\"), title=\"Rule\"),\n",
    "    strokeDash=alt.Stroke('temp', title=\"Temperature\")\n",
    ")\n",
    "\n",
    "chart = chart.configure_axis(\n",
    "    labelFontSize=18,\n",
    "    titleFontSize=20\n",
    ").configure_title(fontSize=24)\n",
    "chart.configure_legend(\n",
    "        labelFontSize=18,\n",
    "    titleFontSize=20\n",
    ")"
   ],
   "outputs": []
  },
  {
   "cell_type": "code",
   "execution_count": null,
   "id": "f7036bee-7c30-4bc4-a689-d07305ea58d3",
   "metadata": {},
   "source": [],
   "outputs": []
  },
  {
   "cell_type": "code",
   "execution_count": null,
   "id": "8be03eb9-6a9f-457a-86b2-18d636f17314",
   "metadata": {},
   "source": [],
   "outputs": []
  }
 ],
 "metadata": {
  "kernelspec": {
   "display_name": "Polycubes2",
   "language": "python",
   "name": "polycubes2"
  },
  "language_info": {
   "codemirror_mode": {
    "name": "ipython",
    "version": 3
   },
   "file_extension": ".py",
   "mimetype": "text/x-python",
   "name": "python",
   "nbconvert_exporter": "python",
   "pygments_lexer": "ipython3",
   "version": "3.10.9"
  }
 },
 "nbformat": 4,
 "nbformat_minor": 5
}
