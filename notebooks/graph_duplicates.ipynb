{
 "cells": [
  {
   "cell_type": "code",
   "execution_count": 12,
   "id": "fe5d9026-d46d-4759-8489-f8899b516d7b",
   "metadata": {},
   "outputs": [
    {
     "name": "stdout",
     "output_type": "stream",
     "text": [
      "Available datasets:\n",
      "\tAllosteric_Pyramid_Full_Fall22,\n",
      "\trestart_bad_trajs.sh,\n",
      "\tAllosteric_Pyramid_Partial_Fall22,\n",
      "\tAlloSolidCube_X5_4_12Dec22,\n",
      "\tAlloSolidCube_X5_1_12Dec22,\n",
      "\tAlloSolidCube_X3_Singlet_12Dec22,\n",
      "\tcheck_traj_sizes.sh,\n",
      "\tNoAlloPyramid_14Oct22,\n",
      "\tAlloPyramid_X4_14Mar23,\n",
      "\tjobinfo.txt,\n",
      "\tAlloSolidCube_X1_12Dec22\n"
     ]
    },
    {
     "name": "stdin",
     "output_type": "stream",
     "text": [
      "Input the name of a dataset:  AlloPyramid_X4_14Mar23\n"
     ]
    }
   ],
   "source": [
    "from input_output import *\n",
    "from util import *\n",
    "import altair as alt\n",
    "alt.data_transformers.disable_max_rows()\n",
    "\n",
    "print(\"Available datasets:\\n\\t\" + ',\\n\\t'.join(os.listdir(sims_root())))\n",
    "results_name = input(\"Input the name of a dataset: \")\n",
    "# construct a PatchySimResultSet object from the specified directory\n",
    "results = choose_results(results_name)\n",
    "\n",
    "if len(results.targets) > 1:\n",
    "    target_name = input(f\"Input the name of an analysis target ({','.join(results.targets.keys())}): \")\n",
    "else:\n",
    "    target_name = list(results.targets.keys())[0]\n",
    "target = results.targets[target_name]\n",
    "\n",
    "if len(results.runs) > 1:\n",
    "    eg = input(f\"Enter the export group ({','.join(results.export_groups())}):\") \n",
    "else:\n",
    "    eg = results.runs[0].name"
   ]
  },
  {
   "cell_type": "code",
   "execution_count": 13,
   "id": "1ec88fd2-83cb-466a-8ae4-3b58bb419432",
   "metadata": {},
   "outputs": [
    {
     "name": "stdin",
     "output_type": "stream",
     "text": [
      "Input the narrow type of the data (0, 1, 2, 3):  0\n",
      "Input temperature 0.01\n",
      "Input the graph match cutoff:  1\n",
      "Calculate relative yields? True\n",
      "Include overreaching graphs in yield calculations? False\n",
      "Enter resample  frequency (in kilosteps, should be >= to the observable print interval): \n"
     ]
    }
   ],
   "source": [
    "# narrow type = set of parameters s if x.find(\"_duplicate\") > -1 else xpecifying bonding angles between patches\n",
    "nt = int(input(f\"Input the narrow type of the data ({', '.join([f'{nt}' for nt in results.narrow_types])}): \"))\n",
    "# cutoff = the lower limit for counting clusters as partially assembled forms of the target\n",
    "# cutoff = 1 -> only count fully assembled clusters\n",
    "temp = float(input(f\"Input temperature\"))\n",
    "cutoff = float(input(\"Input the graph match cutoff: \"))\n",
    "relative = input(\"Calculate relative yields?\") == \"True\"\n",
    "overreach = input(\"Include overreaching graphs in yield calculations?\") == \"True\""
   ]
  },
  {
   "cell_type": "code",
   "execution_count": 14,
   "id": "b2b41da6-4d1b-41c5-951f-20bd8025e381",
   "metadata": {
    "scrolled": true,
    "tags": []
   },
   "outputs": [],
   "source": [
    "df = results.get_flat_yields(target_name, cutoff, overreach,filters={'nt':nt, 'temp':temp})"
   ]
  },
  {
   "cell_type": "code",
   "execution_count": 15,
   "id": "3b10ea0b-0e1c-4538-8d95-7e08d0982402",
   "metadata": {},
   "outputs": [],
   "source": [
    "ymax = df['num_assemblies'] * target['rel_count']\n",
    "if relative:\n",
    "    df['yield'] =  df['yield'] / ymax\n",
    "    ymax = 1.0\n",
    "    x_axis_format = '.0%'\n",
    "else:\n",
    "    x_axis_format = '.00'"
   ]
  },
  {
   "cell_type": "code",
   "execution_count": 16,
   "id": "35161b33-f406-404e-a35c-330dbb7b4a38",
   "metadata": {},
   "outputs": [
    {
     "name": "stderr",
     "output_type": "stream",
     "text": [
      "/home/jrevan21/.conda/envs/polycubes2/lib/python3.10/site-packages/altair/utils/core.py:283: FutureWarning: iteritems is deprecated and will be removed in a future version. Use .items instead.\n",
      "  for col_name, dtype in df.dtypes.iteritems():\n"
     ]
    },
    {
     "data": {
      "text/html": [
       "\n",
       "<div id=\"altair-viz-d237a9a0fd5c4e46b0d3fe13384412af\"></div>\n",
       "<script type=\"text/javascript\">\n",
       "  (function(spec, embedOpt){\n",
       "    let outputDiv = document.currentScript.previousElementSibling;\n",
       "    if (outputDiv.id !== \"altair-viz-d237a9a0fd5c4e46b0d3fe13384412af\") {\n",
       "      outputDiv = document.getElementById(\"altair-viz-d237a9a0fd5c4e46b0d3fe13384412af\");\n",
       "    }\n",
       "    const paths = {\n",
       "      \"vega\": \"https://cdn.jsdelivr.net/npm//vega@5?noext\",\n",
       "      \"vega-lib\": \"https://cdn.jsdelivr.net/npm//vega-lib?noext\",\n",
       "      \"vega-lite\": \"https://cdn.jsdelivr.net/npm//vega-lite@4.8.1?noext\",\n",
       "      \"vega-embed\": \"https://cdn.jsdelivr.net/npm//vega-embed@6?noext\",\n",
       "    };\n",
       "\n",
       "    function loadScript(lib) {\n",
       "      return new Promise(function(resolve, reject) {\n",
       "        var s = document.createElement('script');\n",
       "        s.src = paths[lib];\n",
       "        s.async = true;\n",
       "        s.onload = () => resolve(paths[lib]);\n",
       "        s.onerror = () => reject(`Error loading script: ${paths[lib]}`);\n",
       "        document.getElementsByTagName(\"head\")[0].appendChild(s);\n",
       "      });\n",
       "    }\n",
       "\n",
       "    function showError(err) {\n",
       "      outputDiv.innerHTML = `<div class=\"error\" style=\"color:red;\">${err}</div>`;\n",
       "      throw err;\n",
       "    }\n",
       "\n",
       "    function displayChart(vegaEmbed) {\n",
       "      vegaEmbed(outputDiv, spec, embedOpt)\n",
       "        .catch(err => showError(`Javascript Error: ${err.message}<br>This usually means there's a typo in your chart specification. See the javascript console for the full traceback.`));\n",
       "    }\n",
       "\n",
       "    if(typeof define === \"function\" && define.amd) {\n",
       "      requirejs.config({paths});\n",
       "      require([\"vega-embed\"], displayChart, err => showError(`Error loading script: ${err.message}`));\n",
       "    } else if (typeof vegaEmbed === \"function\") {\n",
       "      displayChart(vegaEmbed);\n",
       "    } else {\n",
       "      loadScript(\"vega\")\n",
       "        .then(() => loadScript(\"vega-lite\"))\n",
       "        .then(() => loadScript(\"vega-embed\"))\n",
       "        .catch(showError)\n",
       "        .then(() => displayChart(vegaEmbed));\n",
       "    }\n",
       "  })({\"config\": {\"view\": {\"continuousWidth\": 400, \"continuousHeight\": 300}}, \"data\": {\"name\": \"data-d751713988987e9331980363e24189ce\"}, \"mark\": \"line\", \"encoding\": {\"color\": {\"type\": \"ordinal\", \"field\": \"duplicate\", \"scale\": {\"scheme\": \"accent\"}, \"title\": \"Duplicate #\"}, \"x\": {\"type\": \"quantitative\", \"axis\": {\"tickCount\": 5}, \"field\": \"time\", \"title\": \"Time (megasteps)\"}, \"y\": {\"type\": \"quantitative\", \"axis\": {\"format\": \".0%\"}, \"field\": \"yield\", \"scale\": {\"domain\": [0, 1.0]}, \"title\": \"Yield\"}}, \"title\": \"Duplicates of Experiment (AlloPyramid_X4_14Mar23NT: 0, T0.01) Yield\", \"$schema\": \"https://vega.github.io/schema/vega-lite/v4.8.1.json\", \"datasets\": {\"data-d751713988987e9331980363e24189ce\": []}}, {\"mode\": \"vega-lite\"});\n",
       "</script>"
      ],
      "text/plain": [
       "alt.Chart(...)"
      ]
     },
     "execution_count": 16,
     "metadata": {},
     "output_type": "execute_result"
    }
   ],
   "source": [
    "graphtitle = f\"Duplicates of Experiment ({results_name}\"\n",
    "if len(results.runs) > 1:\n",
    "    graphtitle += f\"Export Group: {eg},\"\n",
    "graphtitle += f\"NT: {nt}, T{temp}) Yield\"\n",
    "if len(results.targets) > 1:\n",
    "    graphtitle += f\" (Target Topology: {target_name})\"\n",
    "alt.Chart(df, title=graphtitle).mark_line().encode(\n",
    "    x=alt.X('time:Q', title=\"Time (megasteps)\", axis=alt.Axis(tickCount=5)),\n",
    "    y=alt.Y(\n",
    "            \"yield:Q\",\n",
    "            title=\"Yield\",\n",
    "            scale=alt.Scale(domain=(0,ymax)),\n",
    "            axis=alt.Axis(format=x_axis_format)\n",
    "        ),\n",
    "    color=alt.Color('duplicate:O', scale=alt.Scale(scheme=\"accent\"), title=\"Duplicate #\")\n",
    ")"
   ]
  },
  {
   "cell_type": "code",
   "execution_count": null,
   "id": "4da01b34-ea81-46e1-be6b-c69003851fc2",
   "metadata": {},
   "outputs": [
    {
     "data": {
      "text/html": [
       "<div>\n",
       "<style scoped>\n",
       "    .dataframe tbody tr th:only-of-type {\n",
       "        vertical-align: middle;\n",
       "    }\n",
       "\n",
       "    .dataframe tbody tr th {\n",
       "        vertical-align: top;\n",
       "    }\n",
       "\n",
       "    .dataframe thead th {\n",
       "        text-align: right;\n",
       "    }\n",
       "</style>\n",
       "<table border=\"1\" class=\"dataframe\">\n",
       "  <thead>\n",
       "    <tr style=\"text-align: right;\">\n",
       "      <th></th>\n",
       "      <th>nt</th>\n",
       "      <th>temp</th>\n",
       "      <th>duplicate</th>\n",
       "      <th>tidx</th>\n",
       "      <th>yield</th>\n",
       "      <th>shape</th>\n",
       "      <th>num_assemblies</th>\n",
       "      <th>time</th>\n",
       "    </tr>\n",
       "  </thead>\n",
       "  <tbody>\n",
       "  </tbody>\n",
       "</table>\n",
       "</div>"
      ],
      "text/plain": [
       "Empty DataFrame\n",
       "Columns: [nt, temp, duplicate, tidx, yield, shape, num_assemblies, time]\n",
       "Index: []"
      ]
     },
     "execution_count": 17,
     "metadata": {},
     "output_type": "execute_result"
    }
   ],
   "source": []
  },
  {
   "cell_type": "code",
   "execution_count": null,
   "id": "e52a12d6-f01a-4286-a80e-192c4b1cac16",
   "metadata": {},
   "outputs": [],
   "source": []
  }
 ],
 "metadata": {
  "kernelspec": {
   "display_name": "Polycubes2",
   "language": "python",
   "name": "polycubes2"
  },
  "language_info": {
   "codemirror_mode": {
    "name": "ipython",
    "version": 3
   },
   "file_extension": ".py",
   "mimetype": "text/x-python",
   "name": "python",
   "nbconvert_exporter": "python",
   "pygments_lexer": "ipython3",
   "version": "3.10.9"
  }
 },
 "nbformat": 4,
 "nbformat_minor": 5
}
