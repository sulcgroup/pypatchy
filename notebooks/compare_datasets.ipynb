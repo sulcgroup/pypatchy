{
 "cells": [
  {
   "cell_type": "code",
   "execution_count": 2,
   "id": "130400dc-ea27-40d4-af42-3d442be14760",
   "metadata": {},
   "source": [
    "from pypatchy.patchy.analysis.input_output import *\n",
    "from functools import reduce\n",
    "import altair as alt\n",
    "print(\"Available datasets:\\n\\t\" + ',\\n\\t'.join(os.listdir(simulation_analysis_dir())))"
   ],
   "outputs": []
  },
  {
   "cell_type": "code",
   "execution_count": 3,
   "id": "2b763c82-a483-4ee7-8b6a-f6a016547e38",
   "metadata": {},
   "source": [
    "# Edit this cell to specify which datasets to compare\n",
    "dataset_names = [\"WTSolidCube_Minimal_JB\", \"AlloSolidCube_X1_12Dec22\", \"AlloSolidCube_X3_Singlet_12Dec22\", \"AlloSolidCube_X5_1_12Dec22\", \"AlloSolidCube_X5_4_12Dec22\"]\n",
    "# dataset_names = [\"WTHollowCube_7Nov22\", \"AlloHollowCubeMin_X1_9Nov22\", \"AlloHollowCube_X1_7Nov22\"]\n",
    "# dataset_names = [\"Allosteric_Pyramid_Full_Fall22\",\"AlloPyramid_X4_14Mar23\", \"NoAlloPyramid_14Oct22\"]\n",
    "### Readability ### \n",
    "# make sure the order is the same as dataset_names!!!!\n",
    "# dataset_names_readable = [\"X1\", \"X4\", \"Non-Allosteric\"]\n",
    "dataset_names_readable = [\"WT\", \"X1\", \"X3 S\", \"X5 1\", \"X5 4\"]\n",
    "# group_name = \"Pyramid\"\n",
    "group_name = \"Solid Cube\""
   ],
   "outputs": []
  },
  {
   "cell_type": "code",
   "execution_count": 4,
   "id": "bc9a2bd8-5b92-4d56-83ef-3aa419bd4ad0",
   "metadata": {},
   "source": [
    "assert(len(dataset_names) > 0)\n",
    "datasets = [choose_results(dsname) for dsname in dataset_names]"
   ],
   "outputs": []
  },
  {
   "cell_type": "code",
   "execution_count": null,
   "id": "d65b76ae-056f-43a0-bbd6-c9a28f78c07a",
   "metadata": {},
   "source": [
    "target_name_options = reduce(set.intersection, [set(r.targets.keys()) for r in datasets])\n",
    "print(f\"Target options {','.join(target_name_options)}\")"
   ],
   "outputs": []
  },
  {
   "cell_type": "code",
   "execution_count": null,
   "id": "3091b868-66e3-4c99-9deb-2ed956031677",
   "metadata": {},
   "source": [
    "target_name = \"solidcube\"\n",
    "# target_name = \"solidcube\""
   ],
   "outputs": []
  },
  {
   "cell_type": "code",
   "execution_count": null,
   "id": "32437ebf-8a3f-4955-afed-c25e03cf933e",
   "metadata": {},
   "source": [
    "# construct a PatchySimResultSet object from the specified directory\n",
    "targets = [r.targets[target_name] for r in datasets]"
   ],
   "outputs": []
  },
  {
   "cell_type": "code",
   "execution_count": 7,
   "id": "e7fe9b99-0502-4f2d-a532-197609279ea5",
   "metadata": {},
   "source": [
    "# PARAMETERS!!!!!\n",
    "# narrow type = set of parameters specifying bonding angles between patches\n",
    "# cutoff = the lower limit for counting clusters as partially assembled forms of the target\n",
    "# cutoff = 1 -> only count fully assembled clusters\n",
    "cutoff = 1\n",
    "overreach = False\n",
    "sample_every = 10"
   ],
   "outputs": []
  },
  {
   "cell_type": "code",
   "execution_count": null,
   "id": "63110e07-653e-4380-8afe-17e7bd9aa456",
   "metadata": {
    "scrolled": true,
    "tags": []
   },
   "source": [
    "datasets_data = []\n",
    "for dataset, dsname in zip(datasets, dataset_names):\n",
    "    print(f\"Analyzing {dsname}\")\n",
    "    data = dataset.get_stats(target_name, cutoff, overreach=overreach, sample_every=sample_every, verbose=True)\n",
    "    # data = dataset.get_flat_yields(target_name, cutoff, overreach=overreach)\n",
    "    data['dsname'] = dsname\n",
    "    datasets_data.append(data)\n",
    "data = pd.concat(datasets_data, axis='index').reset_index()"
   ],
   "outputs": []
  },
  {
   "cell_type": "code",
   "execution_count": null,
   "id": "d22faa86-63aa-4434-900c-6c95da1c9dee",
   "metadata": {
    "scrolled": true,
    "tags": []
   },
   "source": [
    "shortest_timeseries = min(itertools.chain.from_iterable([\n",
    "    [r.num_timepoints() \n",
    "         for r in dataset.flat_runs()] \n",
    "    for dataset in datasets\n",
    "]))\n",
    "mintime = shortest_timeseries * OXDNA_PRINT_CLUSTERS_EVERY\n",
    "data = data[data[\"time\"] < mintime]"
   ],
   "outputs": []
  },
  {
   "cell_type": "code",
   "execution_count": null,
   "id": "32cead38-084d-4c13-9b48-ebf66d1347c3",
   "metadata": {},
   "source": [
    "print(f\"Temperature options: {data['temp'].unique()}\")"
   ],
   "outputs": []
  },
  {
   "cell_type": "code",
   "execution_count": null,
   "id": "62adac6a-3928-46f5-a899-68c0516166a4",
   "metadata": {
    "tags": []
   },
   "source": [
    "### MORE PARAMETERS!!! ####\n",
    "nt = 0\n",
    "temperatures = [0.01, 0.025]\n",
    "ymax = 8\n",
    "relative=True\n",
    "\n",
    "df = data[(data['nt'] == nt) & (data['temp'].isin(temperatures))]\n",
    "\n",
    "shapes = [\"DEFAULT\"]\n",
    "\n",
    "# assert(len(shapes) > 0)\n",
    "# indexer = reduce(lambda a,b: (a | b), [df['shape'] == s for s in shapes])\n",
    "# df = df[indexer]\n",
    "\n",
    "# normalize yield if applicable, either way format x axis\n",
    "if relative:\n",
    "    df['yield_min'] = df['yield_min'] / ymax\n",
    "    df['yield_max'] = df['yield_max'] / ymax\n",
    "    # df['yield_stdev'] = df['yield_stdev'] / ymax\n",
    "    df['yield'] =  df['yield'] / ymax\n",
    "    ymax = 1.0\n",
    "    x_axis_format = '.0%'\n",
    "else:\n",
    "    x_axis_format = '.00'\n",
    "df['time'] /= 1e6 # convert steps to megasteps\n",
    "\n",
    "charts = []\n",
    "# if len(shapes) == 1:\n",
    "#     chart_title = f\"Comparison of Datasets: {', '.join(dataset_names_readable)} (Group: {shapes[0]}) (Narrow Type {nt})\"\n",
    "# else:\n",
    "chart_title = f\"Comparison of Datasets {group_name} {', '.join(dataset_names_readable)} (Narrow Type {nt})\"\n",
    "if len(target_name_options) > 1:\n",
    "    chart_title += f\"Analysis Target: {target_name}\"\n",
    "temperatures = df['temp'].unique()\n",
    "for i, t in enumerate(temperatures):\n",
    "    charts.append(alt.Chart(df[df['temp'] == t], title=f\"T={t}\"))\n",
    "    charts[i] = charts[i].mark_line().encode(\n",
    "        x=alt.X('time:Q', title=\"Time (megasteps)\", axis=alt.Axis(tickCount=5)),\n",
    "        y=alt.Y(\n",
    "            \"yield:Q\",\n",
    "            title=\"Yield\",\n",
    "            scale=alt.Scale(domain=(0,ymax)),\n",
    "            axis=alt.Axis(format=x_axis_format, tickCount=4)\n",
    "        ),\n",
    "        color=alt.Color('dsname:O', scale=alt.Scale(scheme=\"accent\"), title=\"Dataset\")\n",
    "    ) + charts[i].mark_area(opacity=0.25).encode(\n",
    "        x=alt.X(\"time:Q\", axis=alt.Axis(tickCount=5)),\n",
    "        y=\"yield_min:Q\",\n",
    "        y2=\"yield_max:Q\",\n",
    "        color=alt.Color('dsname:O', scale=alt.Scale(scheme=\"accent\"), title=\"Dataset\")\n",
    "    )\n",
    "chart = alt.hconcat(*charts)\n",
    "# ) + alt.Chart(df).mark_errorband(extent='ci', opacity=0.2).encode(\n",
    "#     x=alt.X('time:Q'),\n",
    "#     y=alt.Y('yield', title='Yield'), accept_partials=True\n",
    "#     color = alt.Color('shape', scale=alt.Scale())\n",
    "# )).properties(width=600, height=450).facet(column='potential', row='type').properties(title=sim_name)\"None of the students learn anything and it's your fault\"\n",
    "\n",
    "chart = chart.properties(title=chart_title)\n",
    "chart.configure_axis(\n",
    "    labelFontSize=18,\n",
    "    titleFontSize=20\n",
    ").configure_title(fontSize=24)\n",
    "# chart.save(sims_root() + os.sep + results.export_name + os.sep + results.export_name + \".html\")"
   ],
   "outputs": []
  },
  {
   "cell_type": "code",
   "execution_count": null,
   "id": "a510f620-999c-4a2f-be68-40bb32e54998",
   "metadata": {},
   "source": [
    "data"
   ],
   "outputs": []
  },
  {
   "cell_type": "code",
   "execution_count": null,
   "id": "5b49c2f0-d57d-4280-b35d-254e6063736e",
   "metadata": {},
   "source": [
    "mintime"
   ],
   "outputs": []
  },
  {
   "cell_type": "code",
   "execution_count": null,
   "id": "8ee7ee61-7e78-4c6a-9d4b-2143b6e12ae5",
   "metadata": {},
   "source": [],
   "outputs": []
  }
 ],
 "metadata": {
  "kernelspec": {
   "display_name": "Polycubes",
   "language": "python",
   "name": "polycubes"
  },
  "language_info": {
   "codemirror_mode": {
    "name": "ipython",
    "version": 3
   },
   "file_extension": ".py",
   "mimetype": "text/x-python",
   "name": "python",
   "nbconvert_exporter": "python",
   "pygments_lexer": "ipython3",
   "version": "3.9.16"
  }
 },
 "nbformat": 4,
 "nbformat_minor": 5
}
