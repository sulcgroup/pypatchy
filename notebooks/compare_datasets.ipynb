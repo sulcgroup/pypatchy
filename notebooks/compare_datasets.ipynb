{
 "cells": [
  {
   "cell_type": "code",
   "execution_count": 2,
   "id": "130400dc-ea27-40d4-af42-3d442be14760",
   "metadata": {},
   "outputs": [
    {
     "name": "stdout",
     "output_type": "stream",
     "text": [
      "Available datasets:\n",
      "\tAllosteric_Pyramid_Full_Fall22,\n",
      "\trestart_bad_trajs.sh,\n",
      "\tAllosteric_Pyramid_Partial_Fall22,\n",
      "\tAlloSolidCube_X5_4_12Dec22,\n",
      "\tAlloSolidCube_X5_1_12Dec22,\n",
      "\tAlloSolidCube_X3_Singlet_12Dec22,\n",
      "\tcheck_traj_sizes.sh,\n",
      "\thelices_periodic_nopadding,\n",
      "\tWTSolidCube_FullyAddr_JB,\n",
      "\tWereflamingo_X2,\n",
      "\tNoAlloPyramid_14Oct22,\n",
      "\tAlloPyramid_X4_14Mar23,\n",
      "\trerun_dnaanalysis_3x_4x.sh,\n",
      "\tAlloSolidCube_X1_12Dec22,\n",
      "\tWereflamingo_X4,\n",
      "\tWereflamingo_X3,\n",
      "\tWereflamingo_X2_2023-06-05,\n",
      "\tWTSolidCube_Minimal_JB\n"
     ]
    }
   ],
   "source": [
    "from pypatchy.patchy.analysis.input_output import *\n",
    "from functools import reduce\n",
    "import altair as alt\n",
    "print(\"Available datasets:\\n\\t\" + ',\\n\\t'.join(os.listdir(simulation_analysis_dir())))"
   ]
  },
  {
   "cell_type": "code",
   "execution_count": 3,
   "id": "2b763c82-a483-4ee7-8b6a-f6a016547e38",
   "metadata": {},
   "outputs": [],
   "source": [
    "# Edit this cell to specify which datasets to compare\n",
    "dataset_names = [\"WTSolidCube_Minimal_JB\", \"AlloSolidCube_X1_12Dec22\", \"AlloSolidCube_X3_Singlet_12Dec22\", \"AlloSolidCube_X5_1_12Dec22\", \"AlloSolidCube_X5_4_12Dec22\"]\n",
    "# dataset_names = [\"WTHollowCube_7Nov22\", \"AlloHollowCubeMin_X1_9Nov22\", \"AlloHollowCube_X1_7Nov22\"]\n",
    "# dataset_names = [\"Allosteric_Pyramid_Full_Fall22\",\"AlloPyramid_X4_14Mar23\", \"NoAlloPyramid_14Oct22\"]\n",
    "### Readability ### \n",
    "# make sure the order is the same as dataset_names!!!!\n",
    "# dataset_names_readable = [\"X1\", \"X4\", \"Non-Allosteric\"]\n",
    "dataset_names_readable = [\"WT\", \"X1\", \"X3 S\", \"X5 1\", \"X5 4\"]\n",
    "# group_name = \"Pyramid\"\n",
    "group_name = \"Solid Cube\""
   ]
  },
  {
   "cell_type": "code",
   "execution_count": 4,
   "id": "bc9a2bd8-5b92-4d56-83ef-3aa419bd4ad0",
   "metadata": {},
   "outputs": [
    {
     "ename": "TypeError",
     "evalue": "__init__() missing 1 required positional argument: 'patches'",
     "output_type": "error",
     "traceback": [
      "\u001b[0;31m---------------------------------------------------------------------------\u001b[0m",
      "\u001b[0;31mTypeError\u001b[0m                                 Traceback (most recent call last)",
      "Cell \u001b[0;32mIn[4], line 2\u001b[0m\n\u001b[1;32m      1\u001b[0m \u001b[38;5;28;01massert\u001b[39;00m(\u001b[38;5;28mlen\u001b[39m(dataset_names) \u001b[38;5;241m>\u001b[39m \u001b[38;5;241m0\u001b[39m)\n\u001b[0;32m----> 2\u001b[0m datasets \u001b[38;5;241m=\u001b[39m [choose_results(dsname) \u001b[38;5;28;01mfor\u001b[39;00m dsname \u001b[38;5;129;01min\u001b[39;00m dataset_names]\n",
      "Cell \u001b[0;32mIn[4], line 2\u001b[0m, in \u001b[0;36m<listcomp>\u001b[0;34m(.0)\u001b[0m\n\u001b[1;32m      1\u001b[0m \u001b[38;5;28;01massert\u001b[39;00m(\u001b[38;5;28mlen\u001b[39m(dataset_names) \u001b[38;5;241m>\u001b[39m \u001b[38;5;241m0\u001b[39m)\n\u001b[0;32m----> 2\u001b[0m datasets \u001b[38;5;241m=\u001b[39m [\u001b[43mchoose_results\u001b[49m\u001b[43m(\u001b[49m\u001b[43mdsname\u001b[49m\u001b[43m)\u001b[49m \u001b[38;5;28;01mfor\u001b[39;00m dsname \u001b[38;5;129;01min\u001b[39;00m dataset_names]\n",
      "File \u001b[0;32m~/.conda/envs/polycubes/lib/python3.9/site-packages/pypatchy/patchy/analysis/input_output.py:32\u001b[0m, in \u001b[0;36mchoose_results\u001b[0;34m(sim_name)\u001b[0m\n\u001b[1;32m     29\u001b[0m     \u001b[38;5;28mprint\u001b[39m(\u001b[38;5;124m\"\u001b[39m\u001b[38;5;124mNo valid topology files to use to analyze yields. Exiting.\u001b[39m\u001b[38;5;124m\"\u001b[39m)\n\u001b[1;32m     30\u001b[0m     exit(\u001b[38;5;241m0\u001b[39m)\n\u001b[0;32m---> 32\u001b[0m results \u001b[38;5;241m=\u001b[39m \u001b[43mPatchyRunSet\u001b[49m\u001b[43m(\u001b[49m\u001b[43msimulation_analysis_dir\u001b[49m\u001b[43m(\u001b[49m\u001b[43m)\u001b[49m\u001b[43m \u001b[49m\u001b[38;5;241;43m/\u001b[39;49m\u001b[43m \u001b[49m\u001b[43msim_name\u001b[49m\u001b[43m,\u001b[49m\u001b[43m \u001b[49m\u001b[43manalysis_params\u001b[49m\u001b[43m)\u001b[49m\n\u001b[1;32m     34\u001b[0m \u001b[38;5;28;01mreturn\u001b[39;00m results\n",
      "File \u001b[0;32m~/.conda/envs/polycubes/lib/python3.9/site-packages/pypatchy/patchy/analysis/patchyresults.py:25\u001b[0m, in \u001b[0;36mPatchyRunSet.__init__\u001b[0;34m(self, froot, analysisparams)\u001b[0m\n\u001b[1;32m     23\u001b[0m \u001b[38;5;28mself\u001b[39m\u001b[38;5;241m.\u001b[39mtemperatures \u001b[38;5;241m=\u001b[39m run_setup[\u001b[38;5;124m'\u001b[39m\u001b[38;5;124mtemperatures\u001b[39m\u001b[38;5;124m'\u001b[39m]\n\u001b[1;32m     24\u001b[0m \u001b[38;5;28;01mif\u001b[39;00m \u001b[38;5;124m'\u001b[39m\u001b[38;5;124mrules\u001b[39m\u001b[38;5;124m'\u001b[39m \u001b[38;5;129;01min\u001b[39;00m run_setup:\n\u001b[0;32m---> 25\u001b[0m     \u001b[38;5;28mself\u001b[39m\u001b[38;5;241m.\u001b[39mrule \u001b[38;5;241m=\u001b[39m [PolycubeRuleCubeType(ct) \u001b[38;5;28;01mfor\u001b[39;00m ct \u001b[38;5;129;01min\u001b[39;00m run_setup[\u001b[38;5;124m'\u001b[39m\u001b[38;5;124mrules\u001b[39m\u001b[38;5;124m'\u001b[39m]]\n\u001b[1;32m     26\u001b[0m \u001b[38;5;28;01melse\u001b[39;00m:\n\u001b[1;32m     27\u001b[0m     \u001b[38;5;28mself\u001b[39m\u001b[38;5;241m.\u001b[39mrule \u001b[38;5;241m=\u001b[39m [PolycubeRuleCubeType(ct) \u001b[38;5;28;01mfor\u001b[39;00m ct \u001b[38;5;129;01min\u001b[39;00m run_setup[\u001b[38;5;124m'\u001b[39m\u001b[38;5;124mcube_types\u001b[39m\u001b[38;5;124m'\u001b[39m]]\n",
      "File \u001b[0;32m~/.conda/envs/polycubes/lib/python3.9/site-packages/pypatchy/patchy/analysis/patchyresults.py:25\u001b[0m, in \u001b[0;36m<listcomp>\u001b[0;34m(.0)\u001b[0m\n\u001b[1;32m     23\u001b[0m \u001b[38;5;28mself\u001b[39m\u001b[38;5;241m.\u001b[39mtemperatures \u001b[38;5;241m=\u001b[39m run_setup[\u001b[38;5;124m'\u001b[39m\u001b[38;5;124mtemperatures\u001b[39m\u001b[38;5;124m'\u001b[39m]\n\u001b[1;32m     24\u001b[0m \u001b[38;5;28;01mif\u001b[39;00m \u001b[38;5;124m'\u001b[39m\u001b[38;5;124mrules\u001b[39m\u001b[38;5;124m'\u001b[39m \u001b[38;5;129;01min\u001b[39;00m run_setup:\n\u001b[0;32m---> 25\u001b[0m     \u001b[38;5;28mself\u001b[39m\u001b[38;5;241m.\u001b[39mrule \u001b[38;5;241m=\u001b[39m [\u001b[43mPolycubeRuleCubeType\u001b[49m\u001b[43m(\u001b[49m\u001b[43mct\u001b[49m\u001b[43m)\u001b[49m \u001b[38;5;28;01mfor\u001b[39;00m ct \u001b[38;5;129;01min\u001b[39;00m run_setup[\u001b[38;5;124m'\u001b[39m\u001b[38;5;124mrules\u001b[39m\u001b[38;5;124m'\u001b[39m]]\n\u001b[1;32m     26\u001b[0m \u001b[38;5;28;01melse\u001b[39;00m:\n\u001b[1;32m     27\u001b[0m     \u001b[38;5;28mself\u001b[39m\u001b[38;5;241m.\u001b[39mrule \u001b[38;5;241m=\u001b[39m [PolycubeRuleCubeType(ct) \u001b[38;5;28;01mfor\u001b[39;00m ct \u001b[38;5;129;01min\u001b[39;00m run_setup[\u001b[38;5;124m'\u001b[39m\u001b[38;5;124mcube_types\u001b[39m\u001b[38;5;124m'\u001b[39m]]\n",
      "\u001b[0;31mTypeError\u001b[0m: __init__() missing 1 required positional argument: 'patches'"
     ]
    }
   ],
   "source": [
    "assert(len(dataset_names) > 0)\n",
    "datasets = [choose_results(dsname) for dsname in dataset_names]"
   ]
  },
  {
   "cell_type": "code",
   "execution_count": null,
   "id": "d65b76ae-056f-43a0-bbd6-c9a28f78c07a",
   "metadata": {},
   "outputs": [],
   "source": [
    "target_name_options = reduce(set.intersection, [set(r.targets.keys()) for r in datasets])\n",
    "print(f\"Target options {','.join(target_name_options)}\")"
   ]
  },
  {
   "cell_type": "code",
   "execution_count": null,
   "id": "3091b868-66e3-4c99-9deb-2ed956031677",
   "metadata": {},
   "outputs": [],
   "source": [
    "target_name = \"solidcube\"\n",
    "# target_name = \"solidcube\""
   ]
  },
  {
   "cell_type": "code",
   "execution_count": null,
   "id": "32437ebf-8a3f-4955-afed-c25e03cf933e",
   "metadata": {},
   "outputs": [],
   "source": [
    "# construct a PatchySimResultSet object from the specified directory\n",
    "targets = [r.targets[target_name] for r in datasets]"
   ]
  },
  {
   "cell_type": "code",
   "execution_count": 7,
   "id": "e7fe9b99-0502-4f2d-a532-197609279ea5",
   "metadata": {},
   "outputs": [],
   "source": [
    "# PARAMETERS!!!!!\n",
    "# narrow type = set of parameters specifying bonding angles between patches\n",
    "# cutoff = the lower limit for counting clusters as partially assembled forms of the target\n",
    "# cutoff = 1 -> only count fully assembled clusters\n",
    "cutoff = 1\n",
    "overreach = False\n",
    "sample_every = 10"
   ]
  },
  {
   "cell_type": "code",
   "execution_count": null,
   "id": "63110e07-653e-4380-8afe-17e7bd9aa456",
   "metadata": {
    "scrolled": true,
    "tags": []
   },
   "outputs": [
    {
     "name": "stdout",
     "output_type": "stream",
     "text": [
      "Analyzing WTSolidCube_Minimal_JB\n",
      "Computing yields of DEFAULT duplicate 0 nt=0 T=0.01 with target=solidcube, overreach=False, cutoff=1...\n"
     ]
    },
    {
     "name": "stderr",
     "output_type": "stream",
     "text": [
      "\n",
      "Please cite these publications for any work that uses the oxDNA simulation package\n",
      "\t\t- for the code:\n",
      "\t\t\t* P. Šulc et al., J. Chem. Phys. 137, 135101 (2012)\n",
      "\t\t\t* L. Rovigatti et al., J. Comput. Chem. 36, 1 (2015)\n",
      "\t\t- for the oxDNA model:\n",
      "\t\t\t* T. E. Ouldridge et al., J. Chem. Phys, 134, 085101 (2011)\n",
      "\t\t- for the oxDNA2 model:\n",
      "\t\t\t* B. E. K. Snodin et al., J. Chem. Phys. 142, 234901 (2015)\n",
      "\t\t- for the oxRNA model:\n",
      "\t\t\t* P. Šulc et al., J. Chem. Phys. 140, 235102 (2014)\n"
     ]
    },
    {
     "name": "stdout",
     "output_type": "stream",
     "text": [
      "Missing 20 timepoints... Categorizing...\n",
      "Starting categorizing clusters DEFAULT duplicate 0 nt=0 T=0.01...\n",
      "Missing timepoint at timepoint 10. Calculating...\n"
     ]
    }
   ],
   "source": [
    "datasets_data = []\n",
    "for dataset, dsname in zip(datasets, dataset_names):\n",
    "    print(f\"Analyzing {dsname}\")\n",
    "    data = dataset.get_stats(target_name, cutoff, overreach=overreach, sample_every=sample_every, verbose=True)\n",
    "    # data = dataset.get_flat_yields(target_name, cutoff, overreach=overreach)\n",
    "    data['dsname'] = dsname\n",
    "    datasets_data.append(data)\n",
    "data = pd.concat(datasets_data, axis='index').reset_index()"
   ]
  },
  {
   "cell_type": "code",
   "execution_count": null,
   "id": "d22faa86-63aa-4434-900c-6c95da1c9dee",
   "metadata": {
    "scrolled": true,
    "tags": []
   },
   "outputs": [],
   "source": [
    "shortest_timeseries = min(itertools.chain.from_iterable([\n",
    "    [r.num_timepoints() \n",
    "         for r in dataset.flat_runs()] \n",
    "    for dataset in datasets\n",
    "]))\n",
    "mintime = shortest_timeseries * OXDNA_PRINT_CLUSTERS_EVERY\n",
    "data = data[data[\"time\"] < mintime]"
   ]
  },
  {
   "cell_type": "code",
   "execution_count": null,
   "id": "32cead38-084d-4c13-9b48-ebf66d1347c3",
   "metadata": {},
   "outputs": [],
   "source": [
    "print(f\"Temperature options: {data['temp'].unique()}\")"
   ]
  },
  {
   "cell_type": "code",
   "execution_count": null,
   "id": "62adac6a-3928-46f5-a899-68c0516166a4",
   "metadata": {
    "tags": []
   },
   "outputs": [],
   "source": [
    "### MORE PARAMETERS!!! ####\n",
    "nt = 0\n",
    "temperatures = [0.01, 0.025]\n",
    "ymax = 8\n",
    "relative=True\n",
    "\n",
    "df = data[(data['nt'] == nt) & (data['temp'].isin(temperatures))]\n",
    "\n",
    "shapes = [\"DEFAULT\"]\n",
    "\n",
    "# assert(len(shapes) > 0)\n",
    "# indexer = reduce(lambda a,b: (a | b), [df['shape'] == s for s in shapes])\n",
    "# df = df[indexer]\n",
    "\n",
    "# normalize yield if applicable, either way format x axis\n",
    "if relative:\n",
    "    df['yield_min'] = df['yield_min'] / ymax\n",
    "    df['yield_max'] = df['yield_max'] / ymax\n",
    "    # df['yield_stdev'] = df['yield_stdev'] / ymax\n",
    "    df['yield'] =  df['yield'] / ymax\n",
    "    ymax = 1.0\n",
    "    x_axis_format = '.0%'\n",
    "else:\n",
    "    x_axis_format = '.00'\n",
    "df['time'] /= 1e6 # convert steps to megasteps\n",
    "\n",
    "charts = []\n",
    "# if len(shapes) == 1:\n",
    "#     chart_title = f\"Comparison of Datasets: {', '.join(dataset_names_readable)} (Group: {shapes[0]}) (Narrow Type {nt})\"\n",
    "# else:\n",
    "chart_title = f\"Comparison of Datasets {group_name} {', '.join(dataset_names_readable)} (Narrow Type {nt})\"\n",
    "if len(target_name_options) > 1:\n",
    "    chart_title += f\"Analysis Target: {target_name}\"\n",
    "temperatures = df['temp'].unique()\n",
    "for i, t in enumerate(temperatures):\n",
    "    charts.append(alt.Chart(df[df['temp'] == t], title=f\"T={t}\"))\n",
    "    charts[i] = charts[i].mark_line().encode(\n",
    "        x=alt.X('time:Q', title=\"Time (megasteps)\", axis=alt.Axis(tickCount=5)),\n",
    "        y=alt.Y(\n",
    "            \"yield:Q\",\n",
    "            title=\"Yield\",\n",
    "            scale=alt.Scale(domain=(0,ymax)),\n",
    "            axis=alt.Axis(format=x_axis_format, tickCount=4)\n",
    "        ),\n",
    "        color=alt.Color('dsname:O', scale=alt.Scale(scheme=\"accent\"), title=\"Dataset\")\n",
    "    ) + charts[i].mark_area(opacity=0.25).encode(\n",
    "        x=alt.X(\"time:Q\", axis=alt.Axis(tickCount=5)),\n",
    "        y=\"yield_min:Q\",\n",
    "        y2=\"yield_max:Q\",\n",
    "        color=alt.Color('dsname:O', scale=alt.Scale(scheme=\"accent\"), title=\"Dataset\")\n",
    "    )\n",
    "chart = alt.hconcat(*charts)\n",
    "# ) + alt.Chart(df).mark_errorband(extent='ci', opacity=0.2).encode(\n",
    "#     x=alt.X('time:Q'),\n",
    "#     y=alt.Y('yield', title='Yield'), accept_partials=True\n",
    "#     color = alt.Color('shape', scale=alt.Scale())\n",
    "# )).properties(width=600, height=450).facet(column='potential', row='type').properties(title=sim_name)\"None of the students learn anything and it's your fault\"\n",
    "\n",
    "chart = chart.properties(title=chart_title)\n",
    "chart.configure_axis(\n",
    "    labelFontSize=18,\n",
    "    titleFontSize=20\n",
    ").configure_title(fontSize=24)\n",
    "# chart.save(sims_root() + os.sep + results.export_name + os.sep + results.export_name + \".html\")"
   ]
  },
  {
   "cell_type": "code",
   "execution_count": null,
   "id": "a510f620-999c-4a2f-be68-40bb32e54998",
   "metadata": {},
   "outputs": [],
   "source": [
    "data"
   ]
  },
  {
   "cell_type": "code",
   "execution_count": null,
   "id": "5b49c2f0-d57d-4280-b35d-254e6063736e",
   "metadata": {},
   "outputs": [],
   "source": [
    "mintime"
   ]
  },
  {
   "cell_type": "code",
   "execution_count": null,
   "id": "8ee7ee61-7e78-4c6a-9d4b-2143b6e12ae5",
   "metadata": {},
   "outputs": [],
   "source": []
  }
 ],
 "metadata": {
  "kernelspec": {
   "display_name": "Polycubes",
   "language": "python",
   "name": "polycubes"
  },
  "language_info": {
   "codemirror_mode": {
    "name": "ipython",
    "version": 3
   },
   "file_extension": ".py",
   "mimetype": "text/x-python",
   "name": "python",
   "nbconvert_exporter": "python",
   "pygments_lexer": "ipython3",
   "version": "3.9.16"
  }
 },
 "nbformat": 4,
 "nbformat_minor": 5
}
