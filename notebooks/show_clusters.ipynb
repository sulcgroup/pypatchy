{
 "cells": [
  {
   "cell_type": "code",
   "execution_count": 1,
   "id": "72f2601b-3184-4b80-a123-5c5c1735c475",
   "metadata": {
    "pycharm": {
     "name": "#%%\n"
    }
   },
   "source": [
    "import matplotlib as mpl\n",
    "import matplotlib.pyplot as plt\n",
    "from analyseClusters import getGraphOverlap\n",
    "import math\n",
    "\n",
    "from input_output import *\n",
    "results_name, results, target_name, target = choose_results_and_target()"
   ],
   "outputs": []
  },
  {
   "cell_type": "code",
   "execution_count": 2,
   "id": "3e954a84-ca2e-45b4-982c-cc9053df1e75",
   "metadata": {
    "pycharm": {
     "name": "#%%\n"
    }
   },
   "source": [
    "eg = \"DEFAULT\"\n",
    "nt = 0\n",
    "temperature = 0.01\n",
    "duplicate = 0\n",
    "data_group = results.get_run(eg, duplicate, nt, temperature)\n",
    "steps_per_timepoint = getVal(data_group.get_path() + os.sep + \"last_conf.dat\", 't = ')"
   ],
   "outputs": []
  },
  {
   "cell_type": "code",
   "execution_count": 74,
   "id": "c0a01d0d-6a0d-45bd-9ce9-d55c4464fdcd",
   "metadata": {
    "pycharm": {
     "name": "#%%\n"
    }
   },
   "source": [
    "print(f\"Result {data_group.print_descriptors()} has {data_group.num_timepoints()} timepoints.\")\n",
    "plt.plot(\n",
    "\n",
    "    [len(data_group.get_cluster_graphs()[pt]) for pt in range(data_group.num_timepoints())]    \n",
    ")\n",
    "plt.xlabel(\"Timepoint\")\n",
    "plt.ylabel(\"Num. Clusters\")\n",
    "plt.show()\n",
    "tmin = int(input(f\"Input a starting timepoint (0 - {data_group.num_timepoints()}): \"))\n",
    "tmax = int(input(f\"Input a ending timepoint (0 - {data_group.num_timepoints()}): \"))\n",
    "assert tmax > tmin\n",
    "num_timepoints = int(input(f\"How many timepoints? (<10 recommended)\"))\n",
    "trange = [int(i) for i in np.linspace(tmin, tmax, num_timepoints + 1, dtype=int)]"
   ],
   "outputs": []
  },
  {
   "cell_type": "code",
   "execution_count": 75,
   "id": "d47156c1-6e6a-4c9b-9a95-a1f07108f727",
   "metadata": {
    "pycharm": {
     "name": "#%%\n"
    }
   },
   "source": [
    "tgraphs = [data_group.get_cluster_graphs()[t] for t in trange]\n",
    "ttimesteps = np.array(trange) * OXDNA_PRINT_CLUSTERS_EVERY\n",
    "plt.plot(\n",
    "    ttimesteps,\n",
    "    [len(pt) for pt in tgraphs]    \n",
    ")\n",
    "plt.xlabel(\"Simulation Step\")\n",
    "plt.ylabel(\"Num. Clusters\")\n",
    "plt.show()"
   ],
   "outputs": []
  },
  {
   "cell_type": "code",
   "execution_count": null,
   "id": "d40282fb-c095-42bc-89a8-e87ced4d208d",
   "metadata": {
    "jupyter": {
     "source_hidden": true
    },
    "tags": [],
    "pycharm": {
     "name": "#%%\n"
    }
   },
   "source": [
    "G = nx.DiGraph()\n",
    "# construct position dict\n",
    "plt.figure(figsize=(\n",
    "    len(tgraphs) * 4,\n",
    "    max(len(gs) for gs in tgraphs) * 4\n",
    "    )\n",
    ")\n",
    "nwmax = 0\n",
    "for x, tg in enumerate (tgraphs):\n",
    "    if len(tg) > 0:\n",
    "        dy = h / len(tg)\n",
    "        for y, g in enumerate(tg):\n",
    "            pos[g] = (x * 100 ,y*500)\n",
    "            minipos = nx.spring_layout(g, \n",
    "                                       center=pos[g],\n",
    "                                       scale=6,\n",
    "                                       k=10/math.sqrt(target[\"graph\"].size()),\n",
    "                                       seed=42,\n",
    "                                      iterations=100)\n",
    "            nx.draw_networkx(g,\n",
    "                             pos=minipos,\n",
    "                             node_color=[\n",
    "                                 selectColor(data_group.particle_identities[n]) for n in g.nodes()\n",
    "                             ],\n",
    "                             node_size=150,\n",
    "                             font_size=6)\n",
    "            G.add_node(g)\n",
    "        dymin = min(dymin, dy)\n",
    "\n",
    "for x,tg in enumerate(tgraphs[:-1]):\n",
    "    for i, g1 in enumerate(tg):\n",
    "        for j, g2 in enumerate(tgraphs[x+1]):\n",
    "            if set(g1).intersection(set(g2)):\n",
    "                G.add_edge(g1, g2)\n",
    "\n",
    "nodes = nx.draw_networkx_nodes(G, \n",
    "                       pos=pos,\n",
    "                      node_color=\"#0f0f0f00\",\n",
    "                      edgecolors=\"black\",\n",
    "                      node_size=8e3)\n",
    "edges = nx.draw_networkx_edges(G, pos, arrows=\"->\")\n",
    "# nx.draw_networkx(G, pos)"
   ],
   "outputs": []
  },
  {
   "cell_type": "code",
   "execution_count": 173,
   "id": "7e54a0bb-050a-4e9a-87cb-69ca92f48d26",
   "metadata": {
    "tags": [],
    "pycharm": {
     "name": "#%%\n"
    }
   },
   "source": [
    "LABELS=False"
   ],
   "outputs": []
  },
  {
   "cell_type": "code",
   "execution_count": 169,
   "id": "80ba205b-984e-454d-91f0-bf1e098e6af2",
   "metadata": {
    "pycharm": {
     "name": "#%%\n"
    }
   },
   "source": [
    "def same_id(n1, n2):\n",
    "    return n1['id'] == n2['id']\n",
    "\n",
    "class TreeNode:\n",
    "    def __init__(self, G, parent=None):\n",
    "        if parent is not None:\n",
    "            parent.add_child(self)\n",
    "        self.graph = G\n",
    "        nx.set_node_attributes(self.graph, {n: n for n in self.graph}, name=\"id\")\n",
    "        self.children = []\n",
    "        self.x = -1\n",
    "        self.y = -1\n",
    "        self.product_lvl = getGraphOverlap(self.graph, target['graph'], 0, False)\n",
    "        \n",
    "    def add_child(self, child):\n",
    "        self.children.append(child)\n",
    "    \n",
    "    def get_gen_0_size(self):\n",
    "        if len(self.children) == 0:\n",
    "            return 1\n",
    "        else:\n",
    "            return sum([n.get_gen_0_size() for n in self.children])\n",
    "        \n",
    "        \n",
    "graphs = [[] for _ in trange]\n",
    "i = len(trange) - 1\n",
    "while i > -1:\n",
    "    t = trange[i]\n",
    "    if i == len(trange) - 1:\n",
    "        graphs[i] = [TreeNode(G) for G in data_group.cluster_graphs[t]]\n",
    "    else:\n",
    "        for G in data_group.cluster_graphs[t]:\n",
    "            nx.set_node_attributes(G, {n: n for n in G}, name=\"id\")\n",
    "            for N in graphs[i + 1]:\n",
    "                g1 = nx.line_graph(G)\n",
    "                g2 = nx.line_graph(N.graph)\n",
    "                if isomorphism.GraphMatcher(\n",
    "                            G, N.graph,\n",
    "                            node_match=same_id\n",
    "                        ).subgraph_is_isomorphic():\n",
    "                    graphs[i].append(TreeNode(G, N))\n",
    "                    break;\n",
    "    i -= 1"
   ],
   "outputs": []
  },
  {
   "cell_type": "code",
   "execution_count": 185,
   "id": "62270263-5b9b-4ebb-923d-5259dcc51bd4",
   "metadata": {
    "pycharm": {
     "name": "#%%\n"
    }
   },
   "source": [
    "def drawGraph(G, x, y, axes):\n",
    "    colors = [mpl.colors.hsv_to_rgb(((((137.508 * data_group.particle_identities[c])  % 360) / 360), .5,.65)) for c in G]\n",
    "    nx.draw_networkx(G,\n",
    "                     with_labels=LABELS,\n",
    "                     ax=axs[y,x],\n",
    "                     font_weight='bold', \n",
    "                     node_color=colors,\n",
    "                     font_size=8,\n",
    "                     node_size=150)"
   ],
   "outputs": []
  },
  {
   "cell_type": "code",
   "execution_count": 187,
   "id": "57b35e50-dba0-4c84-b894-3a6f04af2f86",
   "metadata": {
    "pycharm": {
     "name": "#%%\n"
    }
   },
   "source": [
    "xs = len(trange)\n",
    "ys = sum([n.get_gen_0_size() for n in graphs[len(graphs) - 1]])\n",
    "fig, axs = plt.subplots(ys, xs)\n",
    "fig.set_figheight(1.75 * ys)\n",
    "fig.set_figwidth(1.75 * xs)\n",
    "fig.supxlabel(\"Time (pt:steps)\")\n",
    "fig.supylabel(\"Cluster\")\n",
    "fig.tight_layout()\n",
    "nextGen = None\n",
    "x = xs - 1\n",
    "# process backwards\n",
    "while (x > -1):\n",
    "    y = 0\n",
    "    if nextGen is None:\n",
    "        gs = graphs[len(graphs) - 1]\n",
    "        for n in gs: \n",
    "            footprint = n.get_gen_0_size()\n",
    "            drawGraph(n.graph, x, y + int(footprint / 2), axs)\n",
    "            n.x = x\n",
    "            n.y = y + int(footprint / 2)\n",
    "            y += footprint\n",
    "        nextGen = gs\n",
    "    else:\n",
    "        gss = nextGen\n",
    "        nextGen = []\n",
    "        # loop each graph in the following generation\n",
    "        for gs in gss:\n",
    "            # loop each child node of the graph (from following generation)\n",
    "            for n in gs.children:\n",
    "                footprint = n.get_gen_0_size()\n",
    "                ypos = gs.y + int (footprint / 2)\n",
    "                drawGraph(n.graph, x, ypos, axs)\n",
    "                if ypos == 0:\n",
    "                    axs.title(\"TITLE\")\n",
    "                cp = mpl.patches.ConnectionPatch((1, 0.5), (0, 0.5), \n",
    "                                                 \"axes fraction\", \"axes fraction\",\n",
    "                                                 axs[ypos, x], axs[gs.y, gs.x],\n",
    "                                                color=\"red\", arrowstyle=\"->\")\n",
    "                axs[1, 1].add_artist(cp)\n",
    "                n.x = x\n",
    "                n.y = ypos     \n",
    "                nextGen.append(n)\n",
    "    x -= 1"
   ],
   "outputs": []
  },
  {
   "cell_type": "code",
   "execution_count": 188,
   "id": "1861200b-fd6b-4d44-84c8-1c06677b5432",
   "metadata": {
    "pycharm": {
     "name": "#%%\n"
    }
   },
   "source": [
    "timepoint = int(input(f\"Select a timepoint between 0 and {len(data_group.cluster_graphs)} (* {steps_per_timepoint}): \"))"
   ],
   "outputs": []
  },
  {
   "cell_type": "code",
   "execution_count": 218,
   "id": "3037aa8f-8ee7-4808-991a-9b3cfe9bc833",
   "metadata": {
    "pycharm": {
     "name": "#%%\n"
    }
   },
   "source": [
    "# data_group.cluster_graphs\n",
    "# data_group.particle_identities\n",
    "graphs = data_group.get_cluster_graphs()[timepoint]\n",
    "xs = math.floor(math.sqrt(len(graphs)))\n",
    "ys = math.ceil(math.sqrt(len(graphs)))\n",
    "fig, axs = plt.subplots(ys, xs, figsize=(6*xs, 6*ys))\n",
    "for x in range(xs):\n",
    "    for y in range(ys):\n",
    "        i = y * xs + x\n",
    "        nx.draw_networkx(graphs[i],\n",
    "                     pos=nx.spring_layout(graphs[i], seed=24),\n",
    "                     with_labels=LABELS,\n",
    "                     ax=axs[y,x],\n",
    "                     font_weight='bold', \n",
    "                     node_color=[\n",
    "                                 mpl.colors.hsv_to_rgb(((((137.508 * data_group.particle_identities[n])  % 360) / 360), .5,.65)) for n in graphs[i].nodes()\n",
    "                             ],\n",
    "                     font_size=8,\n",
    "                     node_size=150)"
   ],
   "outputs": []
  },
  {
   "cell_type": "code",
   "execution_count": 211,
   "id": "18aa7046-0500-458c-b0ba-3dd6f0ea1ac3",
   "metadata": {
    "pycharm": {
     "name": "#%%\n"
    }
   },
   "source": [
    "[data_group.particle_identities[n] for n in graphs[0].nodes()]"
   ],
   "outputs": []
  },
  {
   "cell_type": "code",
   "execution_count": null,
   "id": "177d954a-438c-405e-b8c3-f7bb78ec989a",
   "metadata": {
    "pycharm": {
     "name": "#%%\n"
    }
   },
   "source": [],
   "outputs": []
  },
  {
   "cell_type": "code",
   "execution_count": null,
   "id": "8b79f0e1-7ea6-4214-b6a2-56216d99faaa",
   "metadata": {
    "pycharm": {
     "name": "#%%\n"
    }
   },
   "source": [],
   "outputs": []
  }
 ],
 "metadata": {
  "kernelspec": {
   "display_name": "Polycubes2",
   "language": "python",
   "name": "polycubes2"
  },
  "language_info": {
   "codemirror_mode": {
    "name": "ipython",
    "version": 3
   },
   "file_extension": ".py",
   "mimetype": "text/x-python",
   "name": "python",
   "nbconvert_exporter": "python",
   "pygments_lexer": "ipython3",
   "version": "3.10.9"
  }
 },
 "nbformat": 4,
 "nbformat_minor": 5
}
