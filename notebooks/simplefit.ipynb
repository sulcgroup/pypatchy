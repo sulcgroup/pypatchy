{
 "cells": [
  {
   "cell_type": "code",
   "execution_count": null,
   "id": "5110852d-2c21-4e18-b161-34d1a2554dda",
   "metadata": {},
   "outputs": [],
   "source": [
    "from input_output import *\n",
    "from scipy.optimize import curve_fit"
   ]
  },
  {
   "cell_type": "code",
   "execution_count": null,
   "id": "5322b4aa-758c-4bf1-841b-7be483f62ea3",
   "metadata": {},
   "outputs": [],
   "source": [
    "print(\"Available datasets:\\n\\t\" + ',\\n\\t'.join(os.listdir(sims_root())))\n",
    "results_name = input(\"Input the name of a dataset: \")\n",
    "# construct a PatchySimResultSet object from the specified directory\n",
    "results = choose_results(results_name)"
   ]
  },
  {
   "cell_type": "code",
   "execution_count": null,
   "id": "7d968a30-9774-40a4-951d-5186a7a484d6",
   "metadata": {},
   "outputs": [],
   "source": [
    "target_name = input(f\"Input the name of an analysis target ({','.join(results.targets.keys())}): \")\n",
    "\n",
    "target = results.targets[target_name]"
   ]
  },
  {
   "cell_type": "code",
   "execution_count": null,
   "id": "88e133ee-1c5d-4cca-b127-3d7f52e6617a",
   "metadata": {},
   "outputs": [],
   "source": [
    "# narrow type = set of parameters specifying bonding angles between patches\n",
    "nt_options = ', '.join(f\"{nt}\" for nt in reduce(set.intersection, [set(r.narrow_types()) for r in datasets]))\n",
    "nt = int(input(f\"Input the narrow type of the data ({nt_options}): \"))\n",
    "# temperature = int(input(f\"Input a temperature (options: {','.join(results.temperatures())}):\"))\n",
    "# cutoff = the lower limit for counting clusters as partially assembled forms of the target\n",
    "# cutoff = 1 -> only count fully assembled clusters\n",
    "cutoff = float(input(\"Input the graph match cutoff: \"))\n",
    "relative = input(\"Calculate relative yields?\") == \"True\"\n",
    "overreach = input(\"Include overreaching graphs in yield calculations?\") == \"True\""
   ]
  },
  {
   "cell_type": "code",
   "execution_count": null,
   "id": "4aa4d0f4-95a3-4fd0-acd4-e074f341a8bb",
   "metadata": {},
   "outputs": [],
   "source": [
    "df = results.calculateYields(target_name, cutoff, overreach)"
   ]
  },
  {
   "cell_type": "code",
   "execution_count": null,
   "id": "1d943428-24f1-475a-ab7f-84bf379b9b1d",
   "metadata": {},
   "outputs": [],
   "source": [
    "df = df[df['potential'] == nt]"
   ]
  },
  {
   "cell_type": "code",
   "execution_count": null,
   "id": "20bed0d6-a5a8-4107-bf2d-831b531b30d3",
   "metadata": {},
   "outputs": [],
   "source": [
    "if (relative):\n",
    "    for t, yld in zip(results.temperatures(), yield_data):\n",
    "        yld['yield'] = yld['yield'] / (yld['num_assemblies'] * target['rel_count'])\n",
    "    ymax = 1.0\n",
    "else:\n",
    "    if (df['num_assemblies'].unique().size > 1):\n",
    "        print (\"Assembly counts are not consistant, scaling may be wonky. You may want to do a relative yield analysis.\")\n",
    "    ymax = df['num_assemblies'].max() * target['rel_count']"
   ]
  },
  {
   "cell_type": "code",
   "execution_count": null,
   "id": "b6b2cf76-421e-4dc3-b54f-57c9de43d050",
   "metadata": {},
   "outputs": [],
   "source": [
    "model = lambda(x, a, b): a-(b/x)"
   ]
  },
  {
   "cell_type": "code",
   "execution_count": null,
   "id": "acf5026a-199a-44cd-8fb3-a8e09124b605",
   "metadata": {},
   "outputs": [
    {
     "ename": "SyntaxError",
     "evalue": "unmatched ')' (427238713.py, line 7)",
     "output_type": "error",
     "traceback": [
      "\u001b[0;36m  Input \u001b[0;32mIn [1]\u001b[0;36m\u001b[0m\n\u001b[0;31m    for t in results.temperatures()):\u001b[0m\n\u001b[0m                                   ^\u001b[0m\n\u001b[0;31mSyntaxError\u001b[0m\u001b[0;31m:\u001b[0m unmatched ')'\n"
     ]
    }
   ],
   "source": [
    "# popt = optimal parameters array\n",
    "# pcov = covariance of parameters\n",
    "popt = {}\n",
    "pcov = {}\n",
    "for t in results.temperatures()):\n",
    "    (poptp[t], pcov[t], _, _, _) = curve_fit(model, df['time'], df['yield'])\n",
    "    perr = np.sqrt(np.diag(pcov))\n",
    "    df['temp'==t][\"myield\"] = model(df['temp'==t]['time'], *poptp[t]),\n",
    "    df['temp'==t][\"myield_min\"] = model(xs['temp'==t]['time'], *(popt[t] - perr)),\n",
    "    df['temp'==t][\"myield_max\"] = model(xs['temp'==t]['time'], *(popt[t] + perr))"
   ]
  },
  {
   "cell_type": "code",
   "execution_count": null,
   "id": "038704e1-8274-4cf8-ad53-eed3045f5281",
   "metadata": {},
   "outputs": [],
   "source": [
    "chart = alt.Chart(df, f\"Model of {results_name} formation to {target_name} at NT={nt}\")\n",
    "chart = chart.mark_circle(size=60).encode(\n",
    "    x=alt.X(\"time:Q\", axis=alt.Axis(tickCount=5)),\n",
    "    y=alt.Y(\n",
    "        \"yield:Q\",\n",
    "        title=\"Yield\",\n",
    "        scale=alt.Scale(\n",
    "            domain=(0, ymax)\n",
    "        )\n",
    "    ),\n",
    "    color=\"temp\"\n",
    ") + chart.mark_line().encode(\n",
    "    x=alt.X(\"time:Q\"),\n",
    "    y=alt.Y(\"myield\"),\n",
    "    color=\"temp\"\n",
    ") + chart.mark_area().encode(\n",
    "    x=\"time:Q\",\n",
    "    y=\"myield_min:Q\",\n",
    "    y2=\"myield_max:Q\"\n",
    "    color=\"temp\"\n",
    ")"
   ]
  }
 ],
 "metadata": {
  "kernelspec": {
   "display_name": "polycubes",
   "language": "python",
   "name": "polycubes"
  },
  "language_info": {
   "codemirror_mode": {
    "name": "ipython",
    "version": 3
   },
   "file_extension": ".py",
   "mimetype": "text/x-python",
   "name": "python",
   "nbconvert_exporter": "python",
   "pygments_lexer": "ipython3",
   "version": "3.9.12"
  }
 },
 "nbformat": 4,
 "nbformat_minor": 5
}
