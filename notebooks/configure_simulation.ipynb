{
 "cells": [
  {
   "cell_type": "code",
   "execution_count": 1,
   "id": "6c0e977d-6910-4cc4-a69f-4b63eb50e92c",
   "metadata": {
    "pycharm": {
     "name": "#%%\n"
    }
   },
   "source": [
    "import sys\n",
    "import os\n",
    "import json"
   ],
   "outputs": []
  },
  {
   "cell_type": "code",
   "execution_count": 2,
   "id": "5a79de0e-32c8-49b6-84b1-d47eb0c025a9",
   "metadata": {
    "pycharm": {
     "name": "#%%\n"
    }
   },
   "source": [
    "from pypatchy.patchy.setup.patchy_set_setup import PatchySimulationSetup\n",
    "from pypatchy.util import get_input_dir"
   ],
   "outputs": []
  },
  {
   "cell_type": "code",
   "execution_count": 3,
   "id": "f0422f4b-b773-4db0-a70e-dc2484e59b32",
   "metadata": {
    "pycharm": {
     "name": "#%%\n"
    }
   },
   "source": [
    "sim_setup = PatchySimulationSetup(cfg_file_name=\"wereflamingo_X2_scaling.json\", sim_date=\"2023-06-20\")"
   ],
   "outputs": []
  },
  {
   "cell_type": "code",
   "execution_count": null,
   "id": "3109cb68-6a75-4e37-8351-7a1937c643f1",
   "metadata": {
    "scrolled": true,
    "tags": [],
    "pycharm": {
     "name": "#%%\n"
    }
   },
   "source": [
    "sim_setup.do_setup()"
   ],
   "outputs": []
  },
  {
   "cell_type": "code",
   "execution_count": 4,
   "id": "bf84052a-2052-40b1-b8d3-741374ac5c3c",
   "metadata": {
    "scrolled": true,
    "tags": [],
    "pycharm": {
     "name": "#%%\n"
    }
   },
   "source": [
    "sim_setup.start_simulations()"
   ],
   "outputs": []
  },
  {
   "cell_type": "code",
   "execution_count": 13,
   "id": "e6968873-e719-498c-85d6-6fba0c7aa2be",
   "metadata": {
    "pycharm": {
     "name": "#%%\n"
    }
   },
   "source": [
    "sim_setup.dump_slurm_log_file()"
   ],
   "outputs": []
  },
  {
   "cell_type": "code",
   "execution_count": 14,
   "id": "42f0ad89-30f4-44f6-8b27-e5bf96e62fa6",
   "metadata": {
    "pycharm": {
     "name": "#%%\n"
    }
   },
   "source": [
    "sim_setup.slurm_log"
   ],
   "outputs": []
  },
  {
   "cell_type": "code",
   "execution_count": null,
   "id": "ea8202ee-5674-4db2-a21d-b0e4b664dc50",
   "metadata": {
    "pycharm": {
     "name": "#%%\n"
    }
   },
   "source": [],
   "outputs": []
  }
 ],
 "metadata": {
  "kernelspec": {
   "display_name": "Polycubes",
   "language": "python",
   "name": "polycubes"
  },
  "language_info": {
   "codemirror_mode": {
    "name": "ipython",
    "version": 3
   },
   "file_extension": ".py",
   "mimetype": "text/x-python",
   "name": "python",
   "nbconvert_exporter": "python",
   "pygments_lexer": "ipython3",
   "version": "3.9.16"
  }
 },
 "nbformat": 4,
 "nbformat_minor": 5
}
