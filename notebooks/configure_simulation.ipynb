{
 "cells": [
  {
   "cell_type": "code",
   "execution_count": 1,
   "id": "6c0e977d-6910-4cc4-a69f-4b63eb50e92c",
   "metadata": {},
   "outputs": [],
   "source": [
    "import sys\n",
    "import os\n",
    "import json\n",
    "sys.path.append('../src')"
   ]
  },
  {
   "cell_type": "code",
   "execution_count": 2,
   "id": "5a79de0e-32c8-49b6-84b1-d47eb0c025a9",
   "metadata": {},
   "outputs": [],
   "source": [
    "from patchy.setup.patchy_set_setup import PatchySimulationSetup\n",
    "from patchy.util import *"
   ]
  },
  {
   "cell_type": "code",
   "execution_count": 3,
   "id": "f0422f4b-b773-4db0-a70e-dc2484e59b32",
   "metadata": {},
   "outputs": [],
   "source": [
    "with open(get_root() + os.sep + \"input\" + os.sep + \"wereflamingo_X2.json\") as f:\n",
    "    sim_setup = PatchySimulationSetup(json.load(f))"
   ]
  },
  {
   "cell_type": "code",
   "execution_count": 4,
   "id": "3109cb68-6a75-4e37-8351-7a1937c643f1",
   "metadata": {},
   "outputs": [
    {
     "ename": "TypeError",
     "evalue": "list indices must be integers or slices, not str",
     "output_type": "error",
     "traceback": [
      "\u001b[0;31m---------------------------------------------------------------------------\u001b[0m",
      "\u001b[0;31mTypeError\u001b[0m                                 Traceback (most recent call last)",
      "Cell \u001b[0;32mIn[4], line 1\u001b[0m\n\u001b[0;32m----> 1\u001b[0m \u001b[43msim_setup\u001b[49m\u001b[38;5;241;43m.\u001b[39;49m\u001b[43mdo_setup\u001b[49m\u001b[43m(\u001b[49m\u001b[43m)\u001b[49m\n",
      "File \u001b[0;32m~/pypatchy/notebooks/../src/patchy/setup/patchy_set_setup.py:148\u001b[0m, in \u001b[0;36mPatchySimulationSetup.do_setup\u001b[0;34m(self)\u001b[0m\n\u001b[1;32m    144\u001b[0m Path(\u001b[38;5;28mself\u001b[39m\u001b[38;5;241m.\u001b[39mfolder_path(sim))\u001b[38;5;241m.\u001b[39mmkdir(parents\u001b[38;5;241m=\u001b[39m\u001b[38;5;28;01mTrue\u001b[39;00m, exist_ok\u001b[38;5;241m=\u001b[39m\u001b[38;5;28;01mTrue\u001b[39;00m)\n\u001b[1;32m    146\u001b[0m \u001b[38;5;28mself\u001b[39m\u001b[38;5;241m.\u001b[39mwrite_input_file(sim)\n\u001b[0;32m--> 148\u001b[0m \u001b[38;5;28;43mself\u001b[39;49m\u001b[38;5;241;43m.\u001b[39;49m\u001b[43mwrite_sim_top_particles_patches\u001b[49m\u001b[43m(\u001b[49m\u001b[43msim\u001b[49m\u001b[43m)\u001b[49m\n\u001b[1;32m    150\u001b[0m \u001b[38;5;28mself\u001b[39m\u001b[38;5;241m.\u001b[39mwrite_slurm_script(sim)\n",
      "File \u001b[0;32m~/pypatchy/notebooks/../src/patchy/setup/patchy_set_setup.py:271\u001b[0m, in \u001b[0;36mPatchySimulationSetup.write_sim_top_particles_patches\u001b[0;34m(self, sim)\u001b[0m\n\u001b[1;32m    268\u001b[0m \u001b[38;5;28;01mif\u001b[39;00m server_config[PATCHY_FILE_FORMAT_KEY] \u001b[38;5;241m==\u001b[39m \u001b[38;5;124m\"\u001b[39m\u001b[38;5;124mjosh_flavio\u001b[39m\u001b[38;5;124m\"\u001b[39m:\n\u001b[1;32m    269\u001b[0m     \u001b[38;5;28;01mfor\u001b[39;00m i, patch_obj \u001b[38;5;129;01min\u001b[39;00m \u001b[38;5;28menumerate\u001b[39m(patches):\n\u001b[1;32m    270\u001b[0m         \u001b[38;5;66;03m# adjust for patch multiplier from multidentate\u001b[39;00m\n\u001b[0;32m--> 271\u001b[0m         allo_conditional \u001b[38;5;241m=\u001b[39m \u001b[38;5;28;43mself\u001b[39;49m\u001b[38;5;241;43m.\u001b[39;49m\u001b[43mparticles\u001b[49m\u001b[43m[\u001b[49m\u001b[38;5;124;43m\"\u001b[39;49m\u001b[38;5;124;43mconditional\u001b[39;49m\u001b[38;5;124;43m\"\u001b[39;49m\u001b[43m]\u001b[49m[\u001b[38;5;28mint\u001b[39m(i \u001b[38;5;241m/\u001b[39m \u001b[38;5;28mself\u001b[39m\u001b[38;5;241m.\u001b[39msim_get_param(sim, NUM_TEETH_KEY))]\n\u001b[1;32m    272\u001b[0m         patches_file\u001b[38;5;241m.\u001b[39mwrite(patch_obj\u001b[38;5;241m.\u001b[39msave_to_string(),\n\u001b[1;32m    273\u001b[0m                            {\u001b[38;5;124m\"\u001b[39m\u001b[38;5;124mallostery_conditional\u001b[39m\u001b[38;5;124m\"\u001b[39m: allo_conditional})\n\u001b[1;32m    274\u001b[0m     \u001b[38;5;28;01melse\u001b[39;00m:  \u001b[38;5;66;03m# josh/lorenzo\u001b[39;00m\n\u001b[1;32m    275\u001b[0m         \u001b[38;5;66;03m# adjust for patch multiplier from multidentate\u001b[39;00m\n",
      "\u001b[0;31mTypeError\u001b[0m: list indices must be integers or slices, not str"
     ]
    }
   ],
   "source": [
    "sim_setup.do_setup()"
   ]
  },
  {
   "cell_type": "code",
   "execution_count": null,
   "id": "bf84052a-2052-40b1-b8d3-741374ac5c3c",
   "metadata": {},
   "outputs": [],
   "source": []
  },
  {
   "cell_type": "code",
   "execution_count": null,
   "id": "ad33541e-830d-4b48-a21d-f6d9a737c555",
   "metadata": {},
   "outputs": [],
   "source": []
  }
 ],
 "metadata": {
  "kernelspec": {
   "display_name": "Polycubes2",
   "language": "python",
   "name": "polycubes2"
  },
  "language_info": {
   "codemirror_mode": {
    "name": "ipython",
    "version": 3
   },
   "file_extension": ".py",
   "mimetype": "text/x-python",
   "name": "python",
   "nbconvert_exporter": "python",
   "pygments_lexer": "ipython3",
   "version": "3.10.9"
  }
 },
 "nbformat": 4,
 "nbformat_minor": 5
}
