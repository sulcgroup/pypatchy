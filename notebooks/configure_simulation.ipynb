{
 "cells": [
  {
   "cell_type": "code",
   "execution_count": 1,
   "id": "6c0e977d-6910-4cc4-a69f-4b63eb50e92c",
   "metadata": {},
   "outputs": [],
   "source": [
    "import sys\n",
    "import os\n",
    "import json\n",
    "sys.path.append('../src')"
   ]
  },
  {
   "cell_type": "code",
   "execution_count": 2,
   "id": "5a79de0e-32c8-49b6-84b1-d47eb0c025a9",
   "metadata": {},
   "outputs": [],
   "source": [
    "from patchy.setup.patchy_set_setup import PatchySimulationSetup\n",
    "from util import *"
   ]
  },
  {
   "cell_type": "code",
   "execution_count": 3,
   "id": "f0422f4b-b773-4db0-a70e-dc2484e59b32",
   "metadata": {},
   "outputs": [],
   "source": [
    "with open(get_root() + os.sep + \"input\" + os.sep + \"wereflamingo_X2_scaling.json\") as f:\n",
    "    sim_setup = PatchySimulationSetup(json.load(f))"
   ]
  },
  {
   "cell_type": "code",
   "execution_count": 4,
   "id": "3109cb68-6a75-4e37-8351-7a1937c643f1",
   "metadata": {
    "scrolled": true,
    "tags": []
   },
   "outputs": [
    {
     "name": "stdout",
     "output_type": "stream",
     "text": [
      "Setting up folder / file structure...\n",
      "Setting up folder / file structure for particle_type_levels={'CT0': 2, 'CT1': 1, 'CT2': 3, 'CT3': 6, 'CT4': 1, 'CT5': 10, 'CT6': 1, 'CT7': 1}, duplicate=0, narrow_type=0, T=0.01, num_assemblies=4...\n",
      "Folder /scratch/jrevan21/patchysimulations/Wereflamingo_X2_longsim_2023-06-17/rule_both/duplicate_0/narrow_type_0/T_0.01/num_assemblies_4 already exists. Continuing...\n",
      "Writing input files...\n",
      "Writing .top, .txt, etc. files...\n",
      "Writing observable json, as nessecary...\n",
      "Writing sbatch scripts...\n",
      ">`chmod u+x /scratch/jrevan21/patchysimulations/Wereflamingo_X2_longsim_2023-06-17/rule_both/duplicate_0/narrow_type_0/T_0.01/num_assemblies_4/gen_conf.sh`\n",
      "``\n",
      ">`chmod u+x /scratch/jrevan21/patchysimulations/Wereflamingo_X2_longsim_2023-06-17/rule_both/duplicate_0/narrow_type_0/T_0.01/num_assemblies_4/slurm_script.sh`\n",
      "``\n",
      "Setting up folder / file structure for particle_type_levels={'CT0': 2, 'CT1': 1, 'CT2': 3, 'CT3': 6, 'CT4': 1, 'CT5': 10, 'CT6': 1, 'CT7': 1}, duplicate=0, narrow_type=0, T=0.01, num_assemblies=8...\n",
      "Folder /scratch/jrevan21/patchysimulations/Wereflamingo_X2_longsim_2023-06-17/rule_both/duplicate_0/narrow_type_0/T_0.01/num_assemblies_8 already exists. Continuing...\n",
      "Writing input files...\n",
      "Writing .top, .txt, etc. files...\n",
      "Writing observable json, as nessecary...\n",
      "Writing sbatch scripts...\n",
      ">`chmod u+x /scratch/jrevan21/patchysimulations/Wereflamingo_X2_longsim_2023-06-17/rule_both/duplicate_0/narrow_type_0/T_0.01/num_assemblies_8/gen_conf.sh`\n",
      "``\n",
      ">`chmod u+x /scratch/jrevan21/patchysimulations/Wereflamingo_X2_longsim_2023-06-17/rule_both/duplicate_0/narrow_type_0/T_0.01/num_assemblies_8/slurm_script.sh`\n",
      "``\n",
      "Setting up folder / file structure for particle_type_levels={'CT0': 2, 'CT1': 1, 'CT2': 3, 'CT3': 6, 'CT4': 1, 'CT5': 10, 'CT6': 1, 'CT7': 1}, duplicate=0, narrow_type=0, T=0.01, num_assemblies=12...\n",
      "Folder /scratch/jrevan21/patchysimulations/Wereflamingo_X2_longsim_2023-06-17/rule_both/duplicate_0/narrow_type_0/T_0.01/num_assemblies_12 already exists. Continuing...\n",
      "Writing input files...\n",
      "Writing .top, .txt, etc. files...\n",
      "Writing observable json, as nessecary...\n",
      "Writing sbatch scripts...\n",
      ">`chmod u+x /scratch/jrevan21/patchysimulations/Wereflamingo_X2_longsim_2023-06-17/rule_both/duplicate_0/narrow_type_0/T_0.01/num_assemblies_12/gen_conf.sh`\n",
      "``\n",
      ">`chmod u+x /scratch/jrevan21/patchysimulations/Wereflamingo_X2_longsim_2023-06-17/rule_both/duplicate_0/narrow_type_0/T_0.01/num_assemblies_12/slurm_script.sh`\n",
      "``\n",
      "Setting up folder / file structure for particle_type_levels={'CT0': 2, 'CT1': 1, 'CT2': 3, 'CT3': 6, 'CT4': 1, 'CT5': 10, 'CT6': 1, 'CT7': 1}, duplicate=0, narrow_type=0, T=0.01, num_assemblies=16...\n",
      "Folder /scratch/jrevan21/patchysimulations/Wereflamingo_X2_longsim_2023-06-17/rule_both/duplicate_0/narrow_type_0/T_0.01/num_assemblies_16 already exists. Continuing...\n",
      "Writing input files...\n",
      "Writing .top, .txt, etc. files...\n",
      "Writing observable json, as nessecary...\n",
      "Writing sbatch scripts...\n",
      ">`chmod u+x /scratch/jrevan21/patchysimulations/Wereflamingo_X2_longsim_2023-06-17/rule_both/duplicate_0/narrow_type_0/T_0.01/num_assemblies_16/gen_conf.sh`\n",
      "``\n",
      ">`chmod u+x /scratch/jrevan21/patchysimulations/Wereflamingo_X2_longsim_2023-06-17/rule_both/duplicate_0/narrow_type_0/T_0.01/num_assemblies_16/slurm_script.sh`\n",
      "``\n",
      "Setting up folder / file structure for particle_type_levels={'CT0': 2, 'CT1': 1, 'CT2': 3, 'CT3': 6, 'CT4': 1, 'CT5': 10, 'CT6': 1, 'CT7': 1}, duplicate=0, narrow_type=0, T=0.025, num_assemblies=4...\n",
      "Folder /scratch/jrevan21/patchysimulations/Wereflamingo_X2_longsim_2023-06-17/rule_both/duplicate_0/narrow_type_0/T_0.025/num_assemblies_4 already exists. Continuing...\n",
      "Writing input files...\n",
      "Writing .top, .txt, etc. files...\n",
      "Writing observable json, as nessecary...\n",
      "Writing sbatch scripts...\n",
      ">`chmod u+x /scratch/jrevan21/patchysimulations/Wereflamingo_X2_longsim_2023-06-17/rule_both/duplicate_0/narrow_type_0/T_0.025/num_assemblies_4/gen_conf.sh`\n",
      "``\n",
      ">`chmod u+x /scratch/jrevan21/patchysimulations/Wereflamingo_X2_longsim_2023-06-17/rule_both/duplicate_0/narrow_type_0/T_0.025/num_assemblies_4/slurm_script.sh`\n",
      "``\n",
      "Setting up folder / file structure for particle_type_levels={'CT0': 2, 'CT1': 1, 'CT2': 3, 'CT3': 6, 'CT4': 1, 'CT5': 10, 'CT6': 1, 'CT7': 1}, duplicate=0, narrow_type=0, T=0.025, num_assemblies=8...\n",
      "Folder /scratch/jrevan21/patchysimulations/Wereflamingo_X2_longsim_2023-06-17/rule_both/duplicate_0/narrow_type_0/T_0.025/num_assemblies_8 already exists. Continuing...\n",
      "Writing input files...\n",
      "Writing .top, .txt, etc. files...\n",
      "Writing observable json, as nessecary...\n",
      "Writing sbatch scripts...\n",
      ">`chmod u+x /scratch/jrevan21/patchysimulations/Wereflamingo_X2_longsim_2023-06-17/rule_both/duplicate_0/narrow_type_0/T_0.025/num_assemblies_8/gen_conf.sh`\n",
      "``\n",
      ">`chmod u+x /scratch/jrevan21/patchysimulations/Wereflamingo_X2_longsim_2023-06-17/rule_both/duplicate_0/narrow_type_0/T_0.025/num_assemblies_8/slurm_script.sh`\n",
      "``\n",
      "Setting up folder / file structure for particle_type_levels={'CT0': 2, 'CT1': 1, 'CT2': 3, 'CT3': 6, 'CT4': 1, 'CT5': 10, 'CT6': 1, 'CT7': 1}, duplicate=0, narrow_type=0, T=0.025, num_assemblies=12...\n",
      "Folder /scratch/jrevan21/patchysimulations/Wereflamingo_X2_longsim_2023-06-17/rule_both/duplicate_0/narrow_type_0/T_0.025/num_assemblies_12 already exists. Continuing...\n",
      "Writing input files...\n",
      "Writing .top, .txt, etc. files...\n",
      "Writing observable json, as nessecary...\n",
      "Writing sbatch scripts...\n",
      ">`chmod u+x /scratch/jrevan21/patchysimulations/Wereflamingo_X2_longsim_2023-06-17/rule_both/duplicate_0/narrow_type_0/T_0.025/num_assemblies_12/gen_conf.sh`\n",
      "``\n",
      ">`chmod u+x /scratch/jrevan21/patchysimulations/Wereflamingo_X2_longsim_2023-06-17/rule_both/duplicate_0/narrow_type_0/T_0.025/num_assemblies_12/slurm_script.sh`\n",
      "``\n",
      "Setting up folder / file structure for particle_type_levels={'CT0': 2, 'CT1': 1, 'CT2': 3, 'CT3': 6, 'CT4': 1, 'CT5': 10, 'CT6': 1, 'CT7': 1}, duplicate=0, narrow_type=0, T=0.025, num_assemblies=16...\n",
      "Folder /scratch/jrevan21/patchysimulations/Wereflamingo_X2_longsim_2023-06-17/rule_both/duplicate_0/narrow_type_0/T_0.025/num_assemblies_16 already exists. Continuing...\n",
      "Writing input files...\n",
      "Writing .top, .txt, etc. files...\n",
      "Writing observable json, as nessecary...\n",
      "Writing sbatch scripts...\n",
      ">`chmod u+x /scratch/jrevan21/patchysimulations/Wereflamingo_X2_longsim_2023-06-17/rule_both/duplicate_0/narrow_type_0/T_0.025/num_assemblies_16/gen_conf.sh`\n",
      "``\n",
      ">`chmod u+x /scratch/jrevan21/patchysimulations/Wereflamingo_X2_longsim_2023-06-17/rule_both/duplicate_0/narrow_type_0/T_0.025/num_assemblies_16/slurm_script.sh`\n",
      "``\n",
      "Setting up folder / file structure for particle_type_levels={'CT0': 2, 'CT1': 1, 'CT2': 3, 'CT3': 6, 'CT4': 1, 'CT5': 10, 'CT6': 1, 'CT7': 1}, duplicate=0, narrow_type=1, T=0.01, num_assemblies=4...\n",
      "Folder /scratch/jrevan21/patchysimulations/Wereflamingo_X2_longsim_2023-06-17/rule_both/duplicate_0/narrow_type_1/T_0.01/num_assemblies_4 already exists. Continuing...\n",
      "Writing input files...\n",
      "Writing .top, .txt, etc. files...\n",
      "Writing observable json, as nessecary...\n",
      "Writing sbatch scripts...\n",
      ">`chmod u+x /scratch/jrevan21/patchysimulations/Wereflamingo_X2_longsim_2023-06-17/rule_both/duplicate_0/narrow_type_1/T_0.01/num_assemblies_4/gen_conf.sh`\n",
      "``\n",
      ">`chmod u+x /scratch/jrevan21/patchysimulations/Wereflamingo_X2_longsim_2023-06-17/rule_both/duplicate_0/narrow_type_1/T_0.01/num_assemblies_4/slurm_script.sh`\n",
      "``\n",
      "Setting up folder / file structure for particle_type_levels={'CT0': 2, 'CT1': 1, 'CT2': 3, 'CT3': 6, 'CT4': 1, 'CT5': 10, 'CT6': 1, 'CT7': 1}, duplicate=0, narrow_type=1, T=0.01, num_assemblies=8...\n",
      "Folder /scratch/jrevan21/patchysimulations/Wereflamingo_X2_longsim_2023-06-17/rule_both/duplicate_0/narrow_type_1/T_0.01/num_assemblies_8 already exists. Continuing...\n",
      "Writing input files...\n",
      "Writing .top, .txt, etc. files...\n",
      "Writing observable json, as nessecary...\n",
      "Writing sbatch scripts...\n",
      ">`chmod u+x /scratch/jrevan21/patchysimulations/Wereflamingo_X2_longsim_2023-06-17/rule_both/duplicate_0/narrow_type_1/T_0.01/num_assemblies_8/gen_conf.sh`\n",
      "``\n",
      ">`chmod u+x /scratch/jrevan21/patchysimulations/Wereflamingo_X2_longsim_2023-06-17/rule_both/duplicate_0/narrow_type_1/T_0.01/num_assemblies_8/slurm_script.sh`\n",
      "``\n",
      "Setting up folder / file structure for particle_type_levels={'CT0': 2, 'CT1': 1, 'CT2': 3, 'CT3': 6, 'CT4': 1, 'CT5': 10, 'CT6': 1, 'CT7': 1}, duplicate=0, narrow_type=1, T=0.01, num_assemblies=12...\n",
      "Folder /scratch/jrevan21/patchysimulations/Wereflamingo_X2_longsim_2023-06-17/rule_both/duplicate_0/narrow_type_1/T_0.01/num_assemblies_12 already exists. Continuing...\n",
      "Writing input files...\n",
      "Writing .top, .txt, etc. files...\n",
      "Writing observable json, as nessecary...\n",
      "Writing sbatch scripts...\n",
      ">`chmod u+x /scratch/jrevan21/patchysimulations/Wereflamingo_X2_longsim_2023-06-17/rule_both/duplicate_0/narrow_type_1/T_0.01/num_assemblies_12/gen_conf.sh`\n",
      "``\n",
      ">`chmod u+x /scratch/jrevan21/patchysimulations/Wereflamingo_X2_longsim_2023-06-17/rule_both/duplicate_0/narrow_type_1/T_0.01/num_assemblies_12/slurm_script.sh`\n",
      "``\n",
      "Setting up folder / file structure for particle_type_levels={'CT0': 2, 'CT1': 1, 'CT2': 3, 'CT3': 6, 'CT4': 1, 'CT5': 10, 'CT6': 1, 'CT7': 1}, duplicate=0, narrow_type=1, T=0.01, num_assemblies=16...\n",
      "Folder /scratch/jrevan21/patchysimulations/Wereflamingo_X2_longsim_2023-06-17/rule_both/duplicate_0/narrow_type_1/T_0.01/num_assemblies_16 already exists. Continuing...\n",
      "Writing input files...\n",
      "Writing .top, .txt, etc. files...\n",
      "Writing observable json, as nessecary...\n",
      "Writing sbatch scripts...\n",
      ">`chmod u+x /scratch/jrevan21/patchysimulations/Wereflamingo_X2_longsim_2023-06-17/rule_both/duplicate_0/narrow_type_1/T_0.01/num_assemblies_16/gen_conf.sh`\n",
      "``\n",
      ">`chmod u+x /scratch/jrevan21/patchysimulations/Wereflamingo_X2_longsim_2023-06-17/rule_both/duplicate_0/narrow_type_1/T_0.01/num_assemblies_16/slurm_script.sh`\n",
      "``\n",
      "Setting up folder / file structure for particle_type_levels={'CT0': 2, 'CT1': 1, 'CT2': 3, 'CT3': 6, 'CT4': 1, 'CT5': 10, 'CT6': 1, 'CT7': 1}, duplicate=0, narrow_type=1, T=0.025, num_assemblies=4...\n",
      "Folder /scratch/jrevan21/patchysimulations/Wereflamingo_X2_longsim_2023-06-17/rule_both/duplicate_0/narrow_type_1/T_0.025/num_assemblies_4 already exists. Continuing...\n",
      "Writing input files...\n",
      "Writing .top, .txt, etc. files...\n",
      "Writing observable json, as nessecary...\n",
      "Writing sbatch scripts...\n",
      ">`chmod u+x /scratch/jrevan21/patchysimulations/Wereflamingo_X2_longsim_2023-06-17/rule_both/duplicate_0/narrow_type_1/T_0.025/num_assemblies_4/gen_conf.sh`\n",
      "``\n",
      ">`chmod u+x /scratch/jrevan21/patchysimulations/Wereflamingo_X2_longsim_2023-06-17/rule_both/duplicate_0/narrow_type_1/T_0.025/num_assemblies_4/slurm_script.sh`\n",
      "``\n",
      "Setting up folder / file structure for particle_type_levels={'CT0': 2, 'CT1': 1, 'CT2': 3, 'CT3': 6, 'CT4': 1, 'CT5': 10, 'CT6': 1, 'CT7': 1}, duplicate=0, narrow_type=1, T=0.025, num_assemblies=8...\n",
      "Folder /scratch/jrevan21/patchysimulations/Wereflamingo_X2_longsim_2023-06-17/rule_both/duplicate_0/narrow_type_1/T_0.025/num_assemblies_8 already exists. Continuing...\n",
      "Writing input files...\n",
      "Writing .top, .txt, etc. files...\n",
      "Writing observable json, as nessecary...\n",
      "Writing sbatch scripts...\n",
      ">`chmod u+x /scratch/jrevan21/patchysimulations/Wereflamingo_X2_longsim_2023-06-17/rule_both/duplicate_0/narrow_type_1/T_0.025/num_assemblies_8/gen_conf.sh`\n",
      "``\n",
      ">`chmod u+x /scratch/jrevan21/patchysimulations/Wereflamingo_X2_longsim_2023-06-17/rule_both/duplicate_0/narrow_type_1/T_0.025/num_assemblies_8/slurm_script.sh`\n",
      "``\n",
      "Setting up folder / file structure for particle_type_levels={'CT0': 2, 'CT1': 1, 'CT2': 3, 'CT3': 6, 'CT4': 1, 'CT5': 10, 'CT6': 1, 'CT7': 1}, duplicate=0, narrow_type=1, T=0.025, num_assemblies=12...\n",
      "Folder /scratch/jrevan21/patchysimulations/Wereflamingo_X2_longsim_2023-06-17/rule_both/duplicate_0/narrow_type_1/T_0.025/num_assemblies_12 already exists. Continuing...\n",
      "Writing input files...\n",
      "Writing .top, .txt, etc. files...\n",
      "Writing observable json, as nessecary...\n",
      "Writing sbatch scripts...\n",
      ">`chmod u+x /scratch/jrevan21/patchysimulations/Wereflamingo_X2_longsim_2023-06-17/rule_both/duplicate_0/narrow_type_1/T_0.025/num_assemblies_12/gen_conf.sh`\n",
      "``\n",
      ">`chmod u+x /scratch/jrevan21/patchysimulations/Wereflamingo_X2_longsim_2023-06-17/rule_both/duplicate_0/narrow_type_1/T_0.025/num_assemblies_12/slurm_script.sh`\n",
      "``\n",
      "Setting up folder / file structure for particle_type_levels={'CT0': 2, 'CT1': 1, 'CT2': 3, 'CT3': 6, 'CT4': 1, 'CT5': 10, 'CT6': 1, 'CT7': 1}, duplicate=0, narrow_type=1, T=0.025, num_assemblies=16...\n",
      "Folder /scratch/jrevan21/patchysimulations/Wereflamingo_X2_longsim_2023-06-17/rule_both/duplicate_0/narrow_type_1/T_0.025/num_assemblies_16 already exists. Continuing...\n",
      "Writing input files...\n",
      "Writing .top, .txt, etc. files...\n",
      "Writing observable json, as nessecary...\n",
      "Writing sbatch scripts...\n",
      ">`chmod u+x /scratch/jrevan21/patchysimulations/Wereflamingo_X2_longsim_2023-06-17/rule_both/duplicate_0/narrow_type_1/T_0.025/num_assemblies_16/gen_conf.sh`\n",
      "``\n",
      ">`chmod u+x /scratch/jrevan21/patchysimulations/Wereflamingo_X2_longsim_2023-06-17/rule_both/duplicate_0/narrow_type_1/T_0.025/num_assemblies_16/slurm_script.sh`\n",
      "``\n",
      "Setting up folder / file structure for particle_type_levels={'CT0': 2, 'CT1': 1, 'CT2': 3, 'CT3': 6, 'CT4': 1, 'CT5': 10, 'CT6': 1, 'CT7': 1}, duplicate=1, narrow_type=0, T=0.01, num_assemblies=4...\n",
      "Folder /scratch/jrevan21/patchysimulations/Wereflamingo_X2_longsim_2023-06-17/rule_both/duplicate_1/narrow_type_0/T_0.01/num_assemblies_4 already exists. Continuing...\n",
      "Writing input files...\n",
      "Writing .top, .txt, etc. files...\n",
      "Writing observable json, as nessecary...\n",
      "Writing sbatch scripts...\n",
      ">`chmod u+x /scratch/jrevan21/patchysimulations/Wereflamingo_X2_longsim_2023-06-17/rule_both/duplicate_1/narrow_type_0/T_0.01/num_assemblies_4/gen_conf.sh`\n",
      "``\n",
      ">`chmod u+x /scratch/jrevan21/patchysimulations/Wereflamingo_X2_longsim_2023-06-17/rule_both/duplicate_1/narrow_type_0/T_0.01/num_assemblies_4/slurm_script.sh`\n",
      "``\n",
      "Setting up folder / file structure for particle_type_levels={'CT0': 2, 'CT1': 1, 'CT2': 3, 'CT3': 6, 'CT4': 1, 'CT5': 10, 'CT6': 1, 'CT7': 1}, duplicate=1, narrow_type=0, T=0.01, num_assemblies=8...\n",
      "Folder /scratch/jrevan21/patchysimulations/Wereflamingo_X2_longsim_2023-06-17/rule_both/duplicate_1/narrow_type_0/T_0.01/num_assemblies_8 already exists. Continuing...\n",
      "Writing input files...\n",
      "Writing .top, .txt, etc. files...\n",
      "Writing observable json, as nessecary...\n",
      "Writing sbatch scripts...\n",
      ">`chmod u+x /scratch/jrevan21/patchysimulations/Wereflamingo_X2_longsim_2023-06-17/rule_both/duplicate_1/narrow_type_0/T_0.01/num_assemblies_8/gen_conf.sh`\n",
      "``\n",
      ">`chmod u+x /scratch/jrevan21/patchysimulations/Wereflamingo_X2_longsim_2023-06-17/rule_both/duplicate_1/narrow_type_0/T_0.01/num_assemblies_8/slurm_script.sh`\n",
      "``\n",
      "Setting up folder / file structure for particle_type_levels={'CT0': 2, 'CT1': 1, 'CT2': 3, 'CT3': 6, 'CT4': 1, 'CT5': 10, 'CT6': 1, 'CT7': 1}, duplicate=1, narrow_type=0, T=0.01, num_assemblies=12...\n",
      "Folder /scratch/jrevan21/patchysimulations/Wereflamingo_X2_longsim_2023-06-17/rule_both/duplicate_1/narrow_type_0/T_0.01/num_assemblies_12 already exists. Continuing...\n",
      "Writing input files...\n",
      "Writing .top, .txt, etc. files...\n",
      "Writing observable json, as nessecary...\n",
      "Writing sbatch scripts...\n",
      ">`chmod u+x /scratch/jrevan21/patchysimulations/Wereflamingo_X2_longsim_2023-06-17/rule_both/duplicate_1/narrow_type_0/T_0.01/num_assemblies_12/gen_conf.sh`\n",
      "``\n",
      ">`chmod u+x /scratch/jrevan21/patchysimulations/Wereflamingo_X2_longsim_2023-06-17/rule_both/duplicate_1/narrow_type_0/T_0.01/num_assemblies_12/slurm_script.sh`\n",
      "``\n",
      "Setting up folder / file structure for particle_type_levels={'CT0': 2, 'CT1': 1, 'CT2': 3, 'CT3': 6, 'CT4': 1, 'CT5': 10, 'CT6': 1, 'CT7': 1}, duplicate=1, narrow_type=0, T=0.01, num_assemblies=16...\n",
      "Folder /scratch/jrevan21/patchysimulations/Wereflamingo_X2_longsim_2023-06-17/rule_both/duplicate_1/narrow_type_0/T_0.01/num_assemblies_16 already exists. Continuing...\n",
      "Writing input files...\n",
      "Writing .top, .txt, etc. files...\n",
      "Writing observable json, as nessecary...\n",
      "Writing sbatch scripts...\n",
      ">`chmod u+x /scratch/jrevan21/patchysimulations/Wereflamingo_X2_longsim_2023-06-17/rule_both/duplicate_1/narrow_type_0/T_0.01/num_assemblies_16/gen_conf.sh`\n",
      "``\n",
      ">`chmod u+x /scratch/jrevan21/patchysimulations/Wereflamingo_X2_longsim_2023-06-17/rule_both/duplicate_1/narrow_type_0/T_0.01/num_assemblies_16/slurm_script.sh`\n",
      "``\n",
      "Setting up folder / file structure for particle_type_levels={'CT0': 2, 'CT1': 1, 'CT2': 3, 'CT3': 6, 'CT4': 1, 'CT5': 10, 'CT6': 1, 'CT7': 1}, duplicate=1, narrow_type=0, T=0.025, num_assemblies=4...\n",
      "Folder /scratch/jrevan21/patchysimulations/Wereflamingo_X2_longsim_2023-06-17/rule_both/duplicate_1/narrow_type_0/T_0.025/num_assemblies_4 already exists. Continuing...\n",
      "Writing input files...\n",
      "Writing .top, .txt, etc. files...\n",
      "Writing observable json, as nessecary...\n",
      "Writing sbatch scripts...\n",
      ">`chmod u+x /scratch/jrevan21/patchysimulations/Wereflamingo_X2_longsim_2023-06-17/rule_both/duplicate_1/narrow_type_0/T_0.025/num_assemblies_4/gen_conf.sh`\n",
      "``\n",
      ">`chmod u+x /scratch/jrevan21/patchysimulations/Wereflamingo_X2_longsim_2023-06-17/rule_both/duplicate_1/narrow_type_0/T_0.025/num_assemblies_4/slurm_script.sh`\n",
      "``\n",
      "Setting up folder / file structure for particle_type_levels={'CT0': 2, 'CT1': 1, 'CT2': 3, 'CT3': 6, 'CT4': 1, 'CT5': 10, 'CT6': 1, 'CT7': 1}, duplicate=1, narrow_type=0, T=0.025, num_assemblies=8...\n",
      "Folder /scratch/jrevan21/patchysimulations/Wereflamingo_X2_longsim_2023-06-17/rule_both/duplicate_1/narrow_type_0/T_0.025/num_assemblies_8 already exists. Continuing...\n",
      "Writing input files...\n",
      "Writing .top, .txt, etc. files...\n",
      "Writing observable json, as nessecary...\n",
      "Writing sbatch scripts...\n",
      ">`chmod u+x /scratch/jrevan21/patchysimulations/Wereflamingo_X2_longsim_2023-06-17/rule_both/duplicate_1/narrow_type_0/T_0.025/num_assemblies_8/gen_conf.sh`\n",
      "``\n",
      ">`chmod u+x /scratch/jrevan21/patchysimulations/Wereflamingo_X2_longsim_2023-06-17/rule_both/duplicate_1/narrow_type_0/T_0.025/num_assemblies_8/slurm_script.sh`\n",
      "``\n",
      "Setting up folder / file structure for particle_type_levels={'CT0': 2, 'CT1': 1, 'CT2': 3, 'CT3': 6, 'CT4': 1, 'CT5': 10, 'CT6': 1, 'CT7': 1}, duplicate=1, narrow_type=0, T=0.025, num_assemblies=12...\n",
      "Folder /scratch/jrevan21/patchysimulations/Wereflamingo_X2_longsim_2023-06-17/rule_both/duplicate_1/narrow_type_0/T_0.025/num_assemblies_12 already exists. Continuing...\n",
      "Writing input files...\n",
      "Writing .top, .txt, etc. files...\n",
      "Writing observable json, as nessecary...\n",
      "Writing sbatch scripts...\n",
      ">`chmod u+x /scratch/jrevan21/patchysimulations/Wereflamingo_X2_longsim_2023-06-17/rule_both/duplicate_1/narrow_type_0/T_0.025/num_assemblies_12/gen_conf.sh`\n",
      "``\n",
      ">`chmod u+x /scratch/jrevan21/patchysimulations/Wereflamingo_X2_longsim_2023-06-17/rule_both/duplicate_1/narrow_type_0/T_0.025/num_assemblies_12/slurm_script.sh`\n",
      "``\n",
      "Setting up folder / file structure for particle_type_levels={'CT0': 2, 'CT1': 1, 'CT2': 3, 'CT3': 6, 'CT4': 1, 'CT5': 10, 'CT6': 1, 'CT7': 1}, duplicate=1, narrow_type=0, T=0.025, num_assemblies=16...\n",
      "Folder /scratch/jrevan21/patchysimulations/Wereflamingo_X2_longsim_2023-06-17/rule_both/duplicate_1/narrow_type_0/T_0.025/num_assemblies_16 already exists. Continuing...\n",
      "Writing input files...\n",
      "Writing .top, .txt, etc. files...\n",
      "Writing observable json, as nessecary...\n",
      "Writing sbatch scripts...\n",
      ">`chmod u+x /scratch/jrevan21/patchysimulations/Wereflamingo_X2_longsim_2023-06-17/rule_both/duplicate_1/narrow_type_0/T_0.025/num_assemblies_16/gen_conf.sh`\n",
      "``\n",
      ">`chmod u+x /scratch/jrevan21/patchysimulations/Wereflamingo_X2_longsim_2023-06-17/rule_both/duplicate_1/narrow_type_0/T_0.025/num_assemblies_16/slurm_script.sh`\n",
      "``\n",
      "Setting up folder / file structure for particle_type_levels={'CT0': 2, 'CT1': 1, 'CT2': 3, 'CT3': 6, 'CT4': 1, 'CT5': 10, 'CT6': 1, 'CT7': 1}, duplicate=1, narrow_type=1, T=0.01, num_assemblies=4...\n",
      "Folder /scratch/jrevan21/patchysimulations/Wereflamingo_X2_longsim_2023-06-17/rule_both/duplicate_1/narrow_type_1/T_0.01/num_assemblies_4 already exists. Continuing...\n",
      "Writing input files...\n",
      "Writing .top, .txt, etc. files...\n",
      "Writing observable json, as nessecary...\n",
      "Writing sbatch scripts...\n",
      ">`chmod u+x /scratch/jrevan21/patchysimulations/Wereflamingo_X2_longsim_2023-06-17/rule_both/duplicate_1/narrow_type_1/T_0.01/num_assemblies_4/gen_conf.sh`\n",
      "``\n",
      ">`chmod u+x /scratch/jrevan21/patchysimulations/Wereflamingo_X2_longsim_2023-06-17/rule_both/duplicate_1/narrow_type_1/T_0.01/num_assemblies_4/slurm_script.sh`\n",
      "``\n",
      "Setting up folder / file structure for particle_type_levels={'CT0': 2, 'CT1': 1, 'CT2': 3, 'CT3': 6, 'CT4': 1, 'CT5': 10, 'CT6': 1, 'CT7': 1}, duplicate=1, narrow_type=1, T=0.01, num_assemblies=8...\n",
      "Folder /scratch/jrevan21/patchysimulations/Wereflamingo_X2_longsim_2023-06-17/rule_both/duplicate_1/narrow_type_1/T_0.01/num_assemblies_8 already exists. Continuing...\n",
      "Writing input files...\n",
      "Writing .top, .txt, etc. files...\n",
      "Writing observable json, as nessecary...\n",
      "Writing sbatch scripts...\n",
      ">`chmod u+x /scratch/jrevan21/patchysimulations/Wereflamingo_X2_longsim_2023-06-17/rule_both/duplicate_1/narrow_type_1/T_0.01/num_assemblies_8/gen_conf.sh`\n",
      "``\n",
      ">`chmod u+x /scratch/jrevan21/patchysimulations/Wereflamingo_X2_longsim_2023-06-17/rule_both/duplicate_1/narrow_type_1/T_0.01/num_assemblies_8/slurm_script.sh`\n",
      "``\n",
      "Setting up folder / file structure for particle_type_levels={'CT0': 2, 'CT1': 1, 'CT2': 3, 'CT3': 6, 'CT4': 1, 'CT5': 10, 'CT6': 1, 'CT7': 1}, duplicate=1, narrow_type=1, T=0.01, num_assemblies=12...\n",
      "Folder /scratch/jrevan21/patchysimulations/Wereflamingo_X2_longsim_2023-06-17/rule_both/duplicate_1/narrow_type_1/T_0.01/num_assemblies_12 already exists. Continuing...\n",
      "Writing input files...\n",
      "Writing .top, .txt, etc. files...\n",
      "Writing observable json, as nessecary...\n",
      "Writing sbatch scripts...\n",
      ">`chmod u+x /scratch/jrevan21/patchysimulations/Wereflamingo_X2_longsim_2023-06-17/rule_both/duplicate_1/narrow_type_1/T_0.01/num_assemblies_12/gen_conf.sh`\n",
      "``\n",
      ">`chmod u+x /scratch/jrevan21/patchysimulations/Wereflamingo_X2_longsim_2023-06-17/rule_both/duplicate_1/narrow_type_1/T_0.01/num_assemblies_12/slurm_script.sh`\n",
      "``\n",
      "Setting up folder / file structure for particle_type_levels={'CT0': 2, 'CT1': 1, 'CT2': 3, 'CT3': 6, 'CT4': 1, 'CT5': 10, 'CT6': 1, 'CT7': 1}, duplicate=1, narrow_type=1, T=0.01, num_assemblies=16...\n",
      "Folder /scratch/jrevan21/patchysimulations/Wereflamingo_X2_longsim_2023-06-17/rule_both/duplicate_1/narrow_type_1/T_0.01/num_assemblies_16 already exists. Continuing...\n",
      "Writing input files...\n",
      "Writing .top, .txt, etc. files...\n",
      "Writing observable json, as nessecary...\n",
      "Writing sbatch scripts...\n",
      ">`chmod u+x /scratch/jrevan21/patchysimulations/Wereflamingo_X2_longsim_2023-06-17/rule_both/duplicate_1/narrow_type_1/T_0.01/num_assemblies_16/gen_conf.sh`\n",
      "``\n",
      ">`chmod u+x /scratch/jrevan21/patchysimulations/Wereflamingo_X2_longsim_2023-06-17/rule_both/duplicate_1/narrow_type_1/T_0.01/num_assemblies_16/slurm_script.sh`\n",
      "``\n",
      "Setting up folder / file structure for particle_type_levels={'CT0': 2, 'CT1': 1, 'CT2': 3, 'CT3': 6, 'CT4': 1, 'CT5': 10, 'CT6': 1, 'CT7': 1}, duplicate=1, narrow_type=1, T=0.025, num_assemblies=4...\n",
      "Folder /scratch/jrevan21/patchysimulations/Wereflamingo_X2_longsim_2023-06-17/rule_both/duplicate_1/narrow_type_1/T_0.025/num_assemblies_4 already exists. Continuing...\n",
      "Writing input files...\n",
      "Writing .top, .txt, etc. files...\n",
      "Writing observable json, as nessecary...\n",
      "Writing sbatch scripts...\n",
      ">`chmod u+x /scratch/jrevan21/patchysimulations/Wereflamingo_X2_longsim_2023-06-17/rule_both/duplicate_1/narrow_type_1/T_0.025/num_assemblies_4/gen_conf.sh`\n",
      "``\n",
      ">`chmod u+x /scratch/jrevan21/patchysimulations/Wereflamingo_X2_longsim_2023-06-17/rule_both/duplicate_1/narrow_type_1/T_0.025/num_assemblies_4/slurm_script.sh`\n",
      "``\n",
      "Setting up folder / file structure for particle_type_levels={'CT0': 2, 'CT1': 1, 'CT2': 3, 'CT3': 6, 'CT4': 1, 'CT5': 10, 'CT6': 1, 'CT7': 1}, duplicate=1, narrow_type=1, T=0.025, num_assemblies=8...\n",
      "Folder /scratch/jrevan21/patchysimulations/Wereflamingo_X2_longsim_2023-06-17/rule_both/duplicate_1/narrow_type_1/T_0.025/num_assemblies_8 already exists. Continuing...\n",
      "Writing input files...\n",
      "Writing .top, .txt, etc. files...\n",
      "Writing observable json, as nessecary...\n",
      "Writing sbatch scripts...\n",
      ">`chmod u+x /scratch/jrevan21/patchysimulations/Wereflamingo_X2_longsim_2023-06-17/rule_both/duplicate_1/narrow_type_1/T_0.025/num_assemblies_8/gen_conf.sh`\n",
      "``\n",
      ">`chmod u+x /scratch/jrevan21/patchysimulations/Wereflamingo_X2_longsim_2023-06-17/rule_both/duplicate_1/narrow_type_1/T_0.025/num_assemblies_8/slurm_script.sh`\n",
      "``\n",
      "Setting up folder / file structure for particle_type_levels={'CT0': 2, 'CT1': 1, 'CT2': 3, 'CT3': 6, 'CT4': 1, 'CT5': 10, 'CT6': 1, 'CT7': 1}, duplicate=1, narrow_type=1, T=0.025, num_assemblies=12...\n",
      "Folder /scratch/jrevan21/patchysimulations/Wereflamingo_X2_longsim_2023-06-17/rule_both/duplicate_1/narrow_type_1/T_0.025/num_assemblies_12 already exists. Continuing...\n",
      "Writing input files...\n",
      "Writing .top, .txt, etc. files...\n",
      "Writing observable json, as nessecary...\n",
      "Writing sbatch scripts...\n",
      ">`chmod u+x /scratch/jrevan21/patchysimulations/Wereflamingo_X2_longsim_2023-06-17/rule_both/duplicate_1/narrow_type_1/T_0.025/num_assemblies_12/gen_conf.sh`\n",
      "``\n",
      ">`chmod u+x /scratch/jrevan21/patchysimulations/Wereflamingo_X2_longsim_2023-06-17/rule_both/duplicate_1/narrow_type_1/T_0.025/num_assemblies_12/slurm_script.sh`\n",
      "``\n",
      "Setting up folder / file structure for particle_type_levels={'CT0': 2, 'CT1': 1, 'CT2': 3, 'CT3': 6, 'CT4': 1, 'CT5': 10, 'CT6': 1, 'CT7': 1}, duplicate=1, narrow_type=1, T=0.025, num_assemblies=16...\n",
      "Folder /scratch/jrevan21/patchysimulations/Wereflamingo_X2_longsim_2023-06-17/rule_both/duplicate_1/narrow_type_1/T_0.025/num_assemblies_16 already exists. Continuing...\n",
      "Writing input files...\n",
      "Writing .top, .txt, etc. files...\n",
      "Writing observable json, as nessecary...\n",
      "Writing sbatch scripts...\n",
      ">`chmod u+x /scratch/jrevan21/patchysimulations/Wereflamingo_X2_longsim_2023-06-17/rule_both/duplicate_1/narrow_type_1/T_0.025/num_assemblies_16/gen_conf.sh`\n",
      "``\n",
      ">`chmod u+x /scratch/jrevan21/patchysimulations/Wereflamingo_X2_longsim_2023-06-17/rule_both/duplicate_1/narrow_type_1/T_0.025/num_assemblies_16/slurm_script.sh`\n",
      "``\n",
      "Setting up folder / file structure for particle_type_levels={'CT0': 2, 'CT1': 1, 'CT2': 3, 'CT3': 6, 'CT4': 1, 'CT5': 10, 'CT6': 1, 'CT7': 1}, duplicate=2, narrow_type=0, T=0.01, num_assemblies=4...\n",
      "Folder /scratch/jrevan21/patchysimulations/Wereflamingo_X2_longsim_2023-06-17/rule_both/duplicate_2/narrow_type_0/T_0.01/num_assemblies_4 already exists. Continuing...\n",
      "Writing input files...\n",
      "Writing .top, .txt, etc. files...\n",
      "Writing observable json, as nessecary...\n",
      "Writing sbatch scripts...\n",
      ">`chmod u+x /scratch/jrevan21/patchysimulations/Wereflamingo_X2_longsim_2023-06-17/rule_both/duplicate_2/narrow_type_0/T_0.01/num_assemblies_4/gen_conf.sh`\n",
      "``\n",
      ">`chmod u+x /scratch/jrevan21/patchysimulations/Wereflamingo_X2_longsim_2023-06-17/rule_both/duplicate_2/narrow_type_0/T_0.01/num_assemblies_4/slurm_script.sh`\n",
      "``\n",
      "Setting up folder / file structure for particle_type_levels={'CT0': 2, 'CT1': 1, 'CT2': 3, 'CT3': 6, 'CT4': 1, 'CT5': 10, 'CT6': 1, 'CT7': 1}, duplicate=2, narrow_type=0, T=0.01, num_assemblies=8...\n",
      "Folder /scratch/jrevan21/patchysimulations/Wereflamingo_X2_longsim_2023-06-17/rule_both/duplicate_2/narrow_type_0/T_0.01/num_assemblies_8 already exists. Continuing...\n",
      "Writing input files...\n",
      "Writing .top, .txt, etc. files...\n",
      "Writing observable json, as nessecary...\n",
      "Writing sbatch scripts...\n",
      ">`chmod u+x /scratch/jrevan21/patchysimulations/Wereflamingo_X2_longsim_2023-06-17/rule_both/duplicate_2/narrow_type_0/T_0.01/num_assemblies_8/gen_conf.sh`\n",
      "``\n",
      ">`chmod u+x /scratch/jrevan21/patchysimulations/Wereflamingo_X2_longsim_2023-06-17/rule_both/duplicate_2/narrow_type_0/T_0.01/num_assemblies_8/slurm_script.sh`\n",
      "``\n",
      "Setting up folder / file structure for particle_type_levels={'CT0': 2, 'CT1': 1, 'CT2': 3, 'CT3': 6, 'CT4': 1, 'CT5': 10, 'CT6': 1, 'CT7': 1}, duplicate=2, narrow_type=0, T=0.01, num_assemblies=12...\n",
      "Folder /scratch/jrevan21/patchysimulations/Wereflamingo_X2_longsim_2023-06-17/rule_both/duplicate_2/narrow_type_0/T_0.01/num_assemblies_12 already exists. Continuing...\n",
      "Writing input files...\n",
      "Writing .top, .txt, etc. files...\n",
      "Writing observable json, as nessecary...\n",
      "Writing sbatch scripts...\n",
      ">`chmod u+x /scratch/jrevan21/patchysimulations/Wereflamingo_X2_longsim_2023-06-17/rule_both/duplicate_2/narrow_type_0/T_0.01/num_assemblies_12/gen_conf.sh`\n",
      "``\n",
      ">`chmod u+x /scratch/jrevan21/patchysimulations/Wereflamingo_X2_longsim_2023-06-17/rule_both/duplicate_2/narrow_type_0/T_0.01/num_assemblies_12/slurm_script.sh`\n",
      "``\n",
      "Setting up folder / file structure for particle_type_levels={'CT0': 2, 'CT1': 1, 'CT2': 3, 'CT3': 6, 'CT4': 1, 'CT5': 10, 'CT6': 1, 'CT7': 1}, duplicate=2, narrow_type=0, T=0.01, num_assemblies=16...\n",
      "Folder /scratch/jrevan21/patchysimulations/Wereflamingo_X2_longsim_2023-06-17/rule_both/duplicate_2/narrow_type_0/T_0.01/num_assemblies_16 already exists. Continuing...\n",
      "Writing input files...\n",
      "Writing .top, .txt, etc. files...\n",
      "Writing observable json, as nessecary...\n",
      "Writing sbatch scripts...\n",
      ">`chmod u+x /scratch/jrevan21/patchysimulations/Wereflamingo_X2_longsim_2023-06-17/rule_both/duplicate_2/narrow_type_0/T_0.01/num_assemblies_16/gen_conf.sh`\n",
      "``\n",
      ">`chmod u+x /scratch/jrevan21/patchysimulations/Wereflamingo_X2_longsim_2023-06-17/rule_both/duplicate_2/narrow_type_0/T_0.01/num_assemblies_16/slurm_script.sh`\n",
      "``\n",
      "Setting up folder / file structure for particle_type_levels={'CT0': 2, 'CT1': 1, 'CT2': 3, 'CT3': 6, 'CT4': 1, 'CT5': 10, 'CT6': 1, 'CT7': 1}, duplicate=2, narrow_type=0, T=0.025, num_assemblies=4...\n",
      "Folder /scratch/jrevan21/patchysimulations/Wereflamingo_X2_longsim_2023-06-17/rule_both/duplicate_2/narrow_type_0/T_0.025/num_assemblies_4 already exists. Continuing...\n",
      "Writing input files...\n",
      "Writing .top, .txt, etc. files...\n",
      "Writing observable json, as nessecary...\n",
      "Writing sbatch scripts...\n",
      ">`chmod u+x /scratch/jrevan21/patchysimulations/Wereflamingo_X2_longsim_2023-06-17/rule_both/duplicate_2/narrow_type_0/T_0.025/num_assemblies_4/gen_conf.sh`\n",
      "``\n",
      ">`chmod u+x /scratch/jrevan21/patchysimulations/Wereflamingo_X2_longsim_2023-06-17/rule_both/duplicate_2/narrow_type_0/T_0.025/num_assemblies_4/slurm_script.sh`\n",
      "``\n",
      "Setting up folder / file structure for particle_type_levels={'CT0': 2, 'CT1': 1, 'CT2': 3, 'CT3': 6, 'CT4': 1, 'CT5': 10, 'CT6': 1, 'CT7': 1}, duplicate=2, narrow_type=0, T=0.025, num_assemblies=8...\n",
      "Folder /scratch/jrevan21/patchysimulations/Wereflamingo_X2_longsim_2023-06-17/rule_both/duplicate_2/narrow_type_0/T_0.025/num_assemblies_8 already exists. Continuing...\n",
      "Writing input files...\n",
      "Writing .top, .txt, etc. files...\n",
      "Writing observable json, as nessecary...\n",
      "Writing sbatch scripts...\n",
      ">`chmod u+x /scratch/jrevan21/patchysimulations/Wereflamingo_X2_longsim_2023-06-17/rule_both/duplicate_2/narrow_type_0/T_0.025/num_assemblies_8/gen_conf.sh`\n",
      "``\n",
      ">`chmod u+x /scratch/jrevan21/patchysimulations/Wereflamingo_X2_longsim_2023-06-17/rule_both/duplicate_2/narrow_type_0/T_0.025/num_assemblies_8/slurm_script.sh`\n",
      "``\n",
      "Setting up folder / file structure for particle_type_levels={'CT0': 2, 'CT1': 1, 'CT2': 3, 'CT3': 6, 'CT4': 1, 'CT5': 10, 'CT6': 1, 'CT7': 1}, duplicate=2, narrow_type=0, T=0.025, num_assemblies=12...\n",
      "Folder /scratch/jrevan21/patchysimulations/Wereflamingo_X2_longsim_2023-06-17/rule_both/duplicate_2/narrow_type_0/T_0.025/num_assemblies_12 already exists. Continuing...\n",
      "Writing input files...\n",
      "Writing .top, .txt, etc. files...\n",
      "Writing observable json, as nessecary...\n",
      "Writing sbatch scripts...\n",
      ">`chmod u+x /scratch/jrevan21/patchysimulations/Wereflamingo_X2_longsim_2023-06-17/rule_both/duplicate_2/narrow_type_0/T_0.025/num_assemblies_12/gen_conf.sh`\n",
      "``\n",
      ">`chmod u+x /scratch/jrevan21/patchysimulations/Wereflamingo_X2_longsim_2023-06-17/rule_both/duplicate_2/narrow_type_0/T_0.025/num_assemblies_12/slurm_script.sh`\n",
      "``\n",
      "Setting up folder / file structure for particle_type_levels={'CT0': 2, 'CT1': 1, 'CT2': 3, 'CT3': 6, 'CT4': 1, 'CT5': 10, 'CT6': 1, 'CT7': 1}, duplicate=2, narrow_type=0, T=0.025, num_assemblies=16...\n",
      "Folder /scratch/jrevan21/patchysimulations/Wereflamingo_X2_longsim_2023-06-17/rule_both/duplicate_2/narrow_type_0/T_0.025/num_assemblies_16 already exists. Continuing...\n",
      "Writing input files...\n",
      "Writing .top, .txt, etc. files...\n",
      "Writing observable json, as nessecary...\n",
      "Writing sbatch scripts...\n",
      ">`chmod u+x /scratch/jrevan21/patchysimulations/Wereflamingo_X2_longsim_2023-06-17/rule_both/duplicate_2/narrow_type_0/T_0.025/num_assemblies_16/gen_conf.sh`\n",
      "``\n",
      ">`chmod u+x /scratch/jrevan21/patchysimulations/Wereflamingo_X2_longsim_2023-06-17/rule_both/duplicate_2/narrow_type_0/T_0.025/num_assemblies_16/slurm_script.sh`\n",
      "``\n",
      "Setting up folder / file structure for particle_type_levels={'CT0': 2, 'CT1': 1, 'CT2': 3, 'CT3': 6, 'CT4': 1, 'CT5': 10, 'CT6': 1, 'CT7': 1}, duplicate=2, narrow_type=1, T=0.01, num_assemblies=4...\n",
      "Folder /scratch/jrevan21/patchysimulations/Wereflamingo_X2_longsim_2023-06-17/rule_both/duplicate_2/narrow_type_1/T_0.01/num_assemblies_4 already exists. Continuing...\n",
      "Writing input files...\n",
      "Writing .top, .txt, etc. files...\n",
      "Writing observable json, as nessecary...\n",
      "Writing sbatch scripts...\n",
      ">`chmod u+x /scratch/jrevan21/patchysimulations/Wereflamingo_X2_longsim_2023-06-17/rule_both/duplicate_2/narrow_type_1/T_0.01/num_assemblies_4/gen_conf.sh`\n",
      "``\n",
      ">`chmod u+x /scratch/jrevan21/patchysimulations/Wereflamingo_X2_longsim_2023-06-17/rule_both/duplicate_2/narrow_type_1/T_0.01/num_assemblies_4/slurm_script.sh`\n",
      "``\n",
      "Setting up folder / file structure for particle_type_levels={'CT0': 2, 'CT1': 1, 'CT2': 3, 'CT3': 6, 'CT4': 1, 'CT5': 10, 'CT6': 1, 'CT7': 1}, duplicate=2, narrow_type=1, T=0.01, num_assemblies=8...\n",
      "Folder /scratch/jrevan21/patchysimulations/Wereflamingo_X2_longsim_2023-06-17/rule_both/duplicate_2/narrow_type_1/T_0.01/num_assemblies_8 already exists. Continuing...\n",
      "Writing input files...\n",
      "Writing .top, .txt, etc. files...\n",
      "Writing observable json, as nessecary...\n",
      "Writing sbatch scripts...\n",
      ">`chmod u+x /scratch/jrevan21/patchysimulations/Wereflamingo_X2_longsim_2023-06-17/rule_both/duplicate_2/narrow_type_1/T_0.01/num_assemblies_8/gen_conf.sh`\n",
      "``\n",
      ">`chmod u+x /scratch/jrevan21/patchysimulations/Wereflamingo_X2_longsim_2023-06-17/rule_both/duplicate_2/narrow_type_1/T_0.01/num_assemblies_8/slurm_script.sh`\n",
      "``\n",
      "Setting up folder / file structure for particle_type_levels={'CT0': 2, 'CT1': 1, 'CT2': 3, 'CT3': 6, 'CT4': 1, 'CT5': 10, 'CT6': 1, 'CT7': 1}, duplicate=2, narrow_type=1, T=0.01, num_assemblies=12...\n",
      "Folder /scratch/jrevan21/patchysimulations/Wereflamingo_X2_longsim_2023-06-17/rule_both/duplicate_2/narrow_type_1/T_0.01/num_assemblies_12 already exists. Continuing...\n",
      "Writing input files...\n",
      "Writing .top, .txt, etc. files...\n",
      "Writing observable json, as nessecary...\n",
      "Writing sbatch scripts...\n",
      ">`chmod u+x /scratch/jrevan21/patchysimulations/Wereflamingo_X2_longsim_2023-06-17/rule_both/duplicate_2/narrow_type_1/T_0.01/num_assemblies_12/gen_conf.sh`\n",
      "``\n",
      ">`chmod u+x /scratch/jrevan21/patchysimulations/Wereflamingo_X2_longsim_2023-06-17/rule_both/duplicate_2/narrow_type_1/T_0.01/num_assemblies_12/slurm_script.sh`\n",
      "``\n",
      "Setting up folder / file structure for particle_type_levels={'CT0': 2, 'CT1': 1, 'CT2': 3, 'CT3': 6, 'CT4': 1, 'CT5': 10, 'CT6': 1, 'CT7': 1}, duplicate=2, narrow_type=1, T=0.01, num_assemblies=16...\n",
      "Folder /scratch/jrevan21/patchysimulations/Wereflamingo_X2_longsim_2023-06-17/rule_both/duplicate_2/narrow_type_1/T_0.01/num_assemblies_16 already exists. Continuing...\n",
      "Writing input files...\n",
      "Writing .top, .txt, etc. files...\n",
      "Writing observable json, as nessecary...\n",
      "Writing sbatch scripts...\n",
      ">`chmod u+x /scratch/jrevan21/patchysimulations/Wereflamingo_X2_longsim_2023-06-17/rule_both/duplicate_2/narrow_type_1/T_0.01/num_assemblies_16/gen_conf.sh`\n",
      "``\n",
      ">`chmod u+x /scratch/jrevan21/patchysimulations/Wereflamingo_X2_longsim_2023-06-17/rule_both/duplicate_2/narrow_type_1/T_0.01/num_assemblies_16/slurm_script.sh`\n",
      "``\n",
      "Setting up folder / file structure for particle_type_levels={'CT0': 2, 'CT1': 1, 'CT2': 3, 'CT3': 6, 'CT4': 1, 'CT5': 10, 'CT6': 1, 'CT7': 1}, duplicate=2, narrow_type=1, T=0.025, num_assemblies=4...\n",
      "Folder /scratch/jrevan21/patchysimulations/Wereflamingo_X2_longsim_2023-06-17/rule_both/duplicate_2/narrow_type_1/T_0.025/num_assemblies_4 already exists. Continuing...\n",
      "Writing input files...\n",
      "Writing .top, .txt, etc. files...\n",
      "Writing observable json, as nessecary...\n",
      "Writing sbatch scripts...\n",
      ">`chmod u+x /scratch/jrevan21/patchysimulations/Wereflamingo_X2_longsim_2023-06-17/rule_both/duplicate_2/narrow_type_1/T_0.025/num_assemblies_4/gen_conf.sh`\n",
      "``\n",
      ">`chmod u+x /scratch/jrevan21/patchysimulations/Wereflamingo_X2_longsim_2023-06-17/rule_both/duplicate_2/narrow_type_1/T_0.025/num_assemblies_4/slurm_script.sh`\n",
      "``\n",
      "Setting up folder / file structure for particle_type_levels={'CT0': 2, 'CT1': 1, 'CT2': 3, 'CT3': 6, 'CT4': 1, 'CT5': 10, 'CT6': 1, 'CT7': 1}, duplicate=2, narrow_type=1, T=0.025, num_assemblies=8...\n",
      "Folder /scratch/jrevan21/patchysimulations/Wereflamingo_X2_longsim_2023-06-17/rule_both/duplicate_2/narrow_type_1/T_0.025/num_assemblies_8 already exists. Continuing...\n",
      "Writing input files...\n",
      "Writing .top, .txt, etc. files...\n",
      "Writing observable json, as nessecary...\n",
      "Writing sbatch scripts...\n",
      ">`chmod u+x /scratch/jrevan21/patchysimulations/Wereflamingo_X2_longsim_2023-06-17/rule_both/duplicate_2/narrow_type_1/T_0.025/num_assemblies_8/gen_conf.sh`\n",
      "``\n",
      ">`chmod u+x /scratch/jrevan21/patchysimulations/Wereflamingo_X2_longsim_2023-06-17/rule_both/duplicate_2/narrow_type_1/T_0.025/num_assemblies_8/slurm_script.sh`\n",
      "``\n",
      "Setting up folder / file structure for particle_type_levels={'CT0': 2, 'CT1': 1, 'CT2': 3, 'CT3': 6, 'CT4': 1, 'CT5': 10, 'CT6': 1, 'CT7': 1}, duplicate=2, narrow_type=1, T=0.025, num_assemblies=12...\n",
      "Folder /scratch/jrevan21/patchysimulations/Wereflamingo_X2_longsim_2023-06-17/rule_both/duplicate_2/narrow_type_1/T_0.025/num_assemblies_12 already exists. Continuing...\n",
      "Writing input files...\n",
      "Writing .top, .txt, etc. files...\n",
      "Writing observable json, as nessecary...\n",
      "Writing sbatch scripts...\n",
      ">`chmod u+x /scratch/jrevan21/patchysimulations/Wereflamingo_X2_longsim_2023-06-17/rule_both/duplicate_2/narrow_type_1/T_0.025/num_assemblies_12/gen_conf.sh`\n",
      "``\n",
      ">`chmod u+x /scratch/jrevan21/patchysimulations/Wereflamingo_X2_longsim_2023-06-17/rule_both/duplicate_2/narrow_type_1/T_0.025/num_assemblies_12/slurm_script.sh`\n",
      "``\n",
      "Setting up folder / file structure for particle_type_levels={'CT0': 2, 'CT1': 1, 'CT2': 3, 'CT3': 6, 'CT4': 1, 'CT5': 10, 'CT6': 1, 'CT7': 1}, duplicate=2, narrow_type=1, T=0.025, num_assemblies=16...\n",
      "Folder /scratch/jrevan21/patchysimulations/Wereflamingo_X2_longsim_2023-06-17/rule_both/duplicate_2/narrow_type_1/T_0.025/num_assemblies_16 already exists. Continuing...\n",
      "Writing input files...\n",
      "Writing .top, .txt, etc. files...\n",
      "Writing observable json, as nessecary...\n",
      "Writing sbatch scripts...\n",
      ">`chmod u+x /scratch/jrevan21/patchysimulations/Wereflamingo_X2_longsim_2023-06-17/rule_both/duplicate_2/narrow_type_1/T_0.025/num_assemblies_16/gen_conf.sh`\n",
      "``\n",
      ">`chmod u+x /scratch/jrevan21/patchysimulations/Wereflamingo_X2_longsim_2023-06-17/rule_both/duplicate_2/narrow_type_1/T_0.025/num_assemblies_16/slurm_script.sh`\n",
      "``\n",
      "Setting up folder / file structure for particle_type_levels={'CT0': 2, 'CT1': 1, 'CT2': 3, 'CT3': 6, 'CT4': 1, 'CT5': 10, 'CT6': 1, 'CT7': 1}, duplicate=3, narrow_type=0, T=0.01, num_assemblies=4...\n",
      "Folder /scratch/jrevan21/patchysimulations/Wereflamingo_X2_longsim_2023-06-17/rule_both/duplicate_3/narrow_type_0/T_0.01/num_assemblies_4 already exists. Continuing...\n",
      "Writing input files...\n",
      "Writing .top, .txt, etc. files...\n",
      "Writing observable json, as nessecary...\n",
      "Writing sbatch scripts...\n",
      ">`chmod u+x /scratch/jrevan21/patchysimulations/Wereflamingo_X2_longsim_2023-06-17/rule_both/duplicate_3/narrow_type_0/T_0.01/num_assemblies_4/gen_conf.sh`\n",
      "``\n",
      ">`chmod u+x /scratch/jrevan21/patchysimulations/Wereflamingo_X2_longsim_2023-06-17/rule_both/duplicate_3/narrow_type_0/T_0.01/num_assemblies_4/slurm_script.sh`\n",
      "``\n",
      "Setting up folder / file structure for particle_type_levels={'CT0': 2, 'CT1': 1, 'CT2': 3, 'CT3': 6, 'CT4': 1, 'CT5': 10, 'CT6': 1, 'CT7': 1}, duplicate=3, narrow_type=0, T=0.01, num_assemblies=8...\n",
      "Folder /scratch/jrevan21/patchysimulations/Wereflamingo_X2_longsim_2023-06-17/rule_both/duplicate_3/narrow_type_0/T_0.01/num_assemblies_8 already exists. Continuing...\n",
      "Writing input files...\n",
      "Writing .top, .txt, etc. files...\n",
      "Writing observable json, as nessecary...\n",
      "Writing sbatch scripts...\n",
      ">`chmod u+x /scratch/jrevan21/patchysimulations/Wereflamingo_X2_longsim_2023-06-17/rule_both/duplicate_3/narrow_type_0/T_0.01/num_assemblies_8/gen_conf.sh`\n",
      "``\n",
      ">`chmod u+x /scratch/jrevan21/patchysimulations/Wereflamingo_X2_longsim_2023-06-17/rule_both/duplicate_3/narrow_type_0/T_0.01/num_assemblies_8/slurm_script.sh`\n",
      "``\n",
      "Setting up folder / file structure for particle_type_levels={'CT0': 2, 'CT1': 1, 'CT2': 3, 'CT3': 6, 'CT4': 1, 'CT5': 10, 'CT6': 1, 'CT7': 1}, duplicate=3, narrow_type=0, T=0.01, num_assemblies=12...\n",
      "Folder /scratch/jrevan21/patchysimulations/Wereflamingo_X2_longsim_2023-06-17/rule_both/duplicate_3/narrow_type_0/T_0.01/num_assemblies_12 already exists. Continuing...\n",
      "Writing input files...\n",
      "Writing .top, .txt, etc. files...\n",
      "Writing observable json, as nessecary...\n",
      "Writing sbatch scripts...\n",
      ">`chmod u+x /scratch/jrevan21/patchysimulations/Wereflamingo_X2_longsim_2023-06-17/rule_both/duplicate_3/narrow_type_0/T_0.01/num_assemblies_12/gen_conf.sh`\n",
      "``\n",
      ">`chmod u+x /scratch/jrevan21/patchysimulations/Wereflamingo_X2_longsim_2023-06-17/rule_both/duplicate_3/narrow_type_0/T_0.01/num_assemblies_12/slurm_script.sh`\n",
      "``\n",
      "Setting up folder / file structure for particle_type_levels={'CT0': 2, 'CT1': 1, 'CT2': 3, 'CT3': 6, 'CT4': 1, 'CT5': 10, 'CT6': 1, 'CT7': 1}, duplicate=3, narrow_type=0, T=0.01, num_assemblies=16...\n",
      "Folder /scratch/jrevan21/patchysimulations/Wereflamingo_X2_longsim_2023-06-17/rule_both/duplicate_3/narrow_type_0/T_0.01/num_assemblies_16 already exists. Continuing...\n",
      "Writing input files...\n",
      "Writing .top, .txt, etc. files...\n",
      "Writing observable json, as nessecary...\n",
      "Writing sbatch scripts...\n",
      ">`chmod u+x /scratch/jrevan21/patchysimulations/Wereflamingo_X2_longsim_2023-06-17/rule_both/duplicate_3/narrow_type_0/T_0.01/num_assemblies_16/gen_conf.sh`\n",
      "``\n",
      ">`chmod u+x /scratch/jrevan21/patchysimulations/Wereflamingo_X2_longsim_2023-06-17/rule_both/duplicate_3/narrow_type_0/T_0.01/num_assemblies_16/slurm_script.sh`\n",
      "``\n",
      "Setting up folder / file structure for particle_type_levels={'CT0': 2, 'CT1': 1, 'CT2': 3, 'CT3': 6, 'CT4': 1, 'CT5': 10, 'CT6': 1, 'CT7': 1}, duplicate=3, narrow_type=0, T=0.025, num_assemblies=4...\n",
      "Folder /scratch/jrevan21/patchysimulations/Wereflamingo_X2_longsim_2023-06-17/rule_both/duplicate_3/narrow_type_0/T_0.025/num_assemblies_4 already exists. Continuing...\n",
      "Writing input files...\n",
      "Writing .top, .txt, etc. files...\n",
      "Writing observable json, as nessecary...\n",
      "Writing sbatch scripts...\n",
      ">`chmod u+x /scratch/jrevan21/patchysimulations/Wereflamingo_X2_longsim_2023-06-17/rule_both/duplicate_3/narrow_type_0/T_0.025/num_assemblies_4/gen_conf.sh`\n",
      "``\n",
      ">`chmod u+x /scratch/jrevan21/patchysimulations/Wereflamingo_X2_longsim_2023-06-17/rule_both/duplicate_3/narrow_type_0/T_0.025/num_assemblies_4/slurm_script.sh`\n",
      "``\n",
      "Setting up folder / file structure for particle_type_levels={'CT0': 2, 'CT1': 1, 'CT2': 3, 'CT3': 6, 'CT4': 1, 'CT5': 10, 'CT6': 1, 'CT7': 1}, duplicate=3, narrow_type=0, T=0.025, num_assemblies=8...\n",
      "Folder /scratch/jrevan21/patchysimulations/Wereflamingo_X2_longsim_2023-06-17/rule_both/duplicate_3/narrow_type_0/T_0.025/num_assemblies_8 already exists. Continuing...\n",
      "Writing input files...\n",
      "Writing .top, .txt, etc. files...\n",
      "Writing observable json, as nessecary...\n",
      "Writing sbatch scripts...\n",
      ">`chmod u+x /scratch/jrevan21/patchysimulations/Wereflamingo_X2_longsim_2023-06-17/rule_both/duplicate_3/narrow_type_0/T_0.025/num_assemblies_8/gen_conf.sh`\n",
      "``\n",
      ">`chmod u+x /scratch/jrevan21/patchysimulations/Wereflamingo_X2_longsim_2023-06-17/rule_both/duplicate_3/narrow_type_0/T_0.025/num_assemblies_8/slurm_script.sh`\n",
      "``\n",
      "Setting up folder / file structure for particle_type_levels={'CT0': 2, 'CT1': 1, 'CT2': 3, 'CT3': 6, 'CT4': 1, 'CT5': 10, 'CT6': 1, 'CT7': 1}, duplicate=3, narrow_type=0, T=0.025, num_assemblies=12...\n",
      "Folder /scratch/jrevan21/patchysimulations/Wereflamingo_X2_longsim_2023-06-17/rule_both/duplicate_3/narrow_type_0/T_0.025/num_assemblies_12 already exists. Continuing...\n",
      "Writing input files...\n",
      "Writing .top, .txt, etc. files...\n",
      "Writing observable json, as nessecary...\n",
      "Writing sbatch scripts...\n",
      ">`chmod u+x /scratch/jrevan21/patchysimulations/Wereflamingo_X2_longsim_2023-06-17/rule_both/duplicate_3/narrow_type_0/T_0.025/num_assemblies_12/gen_conf.sh`\n",
      "``\n",
      ">`chmod u+x /scratch/jrevan21/patchysimulations/Wereflamingo_X2_longsim_2023-06-17/rule_both/duplicate_3/narrow_type_0/T_0.025/num_assemblies_12/slurm_script.sh`\n",
      "``\n",
      "Setting up folder / file structure for particle_type_levels={'CT0': 2, 'CT1': 1, 'CT2': 3, 'CT3': 6, 'CT4': 1, 'CT5': 10, 'CT6': 1, 'CT7': 1}, duplicate=3, narrow_type=0, T=0.025, num_assemblies=16...\n",
      "Folder /scratch/jrevan21/patchysimulations/Wereflamingo_X2_longsim_2023-06-17/rule_both/duplicate_3/narrow_type_0/T_0.025/num_assemblies_16 already exists. Continuing...\n",
      "Writing input files...\n",
      "Writing .top, .txt, etc. files...\n",
      "Writing observable json, as nessecary...\n",
      "Writing sbatch scripts...\n",
      ">`chmod u+x /scratch/jrevan21/patchysimulations/Wereflamingo_X2_longsim_2023-06-17/rule_both/duplicate_3/narrow_type_0/T_0.025/num_assemblies_16/gen_conf.sh`\n",
      "``\n",
      ">`chmod u+x /scratch/jrevan21/patchysimulations/Wereflamingo_X2_longsim_2023-06-17/rule_both/duplicate_3/narrow_type_0/T_0.025/num_assemblies_16/slurm_script.sh`\n",
      "``\n",
      "Setting up folder / file structure for particle_type_levels={'CT0': 2, 'CT1': 1, 'CT2': 3, 'CT3': 6, 'CT4': 1, 'CT5': 10, 'CT6': 1, 'CT7': 1}, duplicate=3, narrow_type=1, T=0.01, num_assemblies=4...\n",
      "Folder /scratch/jrevan21/patchysimulations/Wereflamingo_X2_longsim_2023-06-17/rule_both/duplicate_3/narrow_type_1/T_0.01/num_assemblies_4 already exists. Continuing...\n",
      "Writing input files...\n",
      "Writing .top, .txt, etc. files...\n",
      "Writing observable json, as nessecary...\n",
      "Writing sbatch scripts...\n",
      ">`chmod u+x /scratch/jrevan21/patchysimulations/Wereflamingo_X2_longsim_2023-06-17/rule_both/duplicate_3/narrow_type_1/T_0.01/num_assemblies_4/gen_conf.sh`\n",
      "``\n",
      ">`chmod u+x /scratch/jrevan21/patchysimulations/Wereflamingo_X2_longsim_2023-06-17/rule_both/duplicate_3/narrow_type_1/T_0.01/num_assemblies_4/slurm_script.sh`\n",
      "``\n",
      "Setting up folder / file structure for particle_type_levels={'CT0': 2, 'CT1': 1, 'CT2': 3, 'CT3': 6, 'CT4': 1, 'CT5': 10, 'CT6': 1, 'CT7': 1}, duplicate=3, narrow_type=1, T=0.01, num_assemblies=8...\n",
      "Folder /scratch/jrevan21/patchysimulations/Wereflamingo_X2_longsim_2023-06-17/rule_both/duplicate_3/narrow_type_1/T_0.01/num_assemblies_8 already exists. Continuing...\n",
      "Writing input files...\n",
      "Writing .top, .txt, etc. files...\n",
      "Writing observable json, as nessecary...\n",
      "Writing sbatch scripts...\n",
      ">`chmod u+x /scratch/jrevan21/patchysimulations/Wereflamingo_X2_longsim_2023-06-17/rule_both/duplicate_3/narrow_type_1/T_0.01/num_assemblies_8/gen_conf.sh`\n",
      "``\n",
      ">`chmod u+x /scratch/jrevan21/patchysimulations/Wereflamingo_X2_longsim_2023-06-17/rule_both/duplicate_3/narrow_type_1/T_0.01/num_assemblies_8/slurm_script.sh`\n",
      "``\n",
      "Setting up folder / file structure for particle_type_levels={'CT0': 2, 'CT1': 1, 'CT2': 3, 'CT3': 6, 'CT4': 1, 'CT5': 10, 'CT6': 1, 'CT7': 1}, duplicate=3, narrow_type=1, T=0.01, num_assemblies=12...\n",
      "Folder /scratch/jrevan21/patchysimulations/Wereflamingo_X2_longsim_2023-06-17/rule_both/duplicate_3/narrow_type_1/T_0.01/num_assemblies_12 already exists. Continuing...\n",
      "Writing input files...\n",
      "Writing .top, .txt, etc. files...\n",
      "Writing observable json, as nessecary...\n",
      "Writing sbatch scripts...\n",
      ">`chmod u+x /scratch/jrevan21/patchysimulations/Wereflamingo_X2_longsim_2023-06-17/rule_both/duplicate_3/narrow_type_1/T_0.01/num_assemblies_12/gen_conf.sh`\n",
      "``\n",
      ">`chmod u+x /scratch/jrevan21/patchysimulations/Wereflamingo_X2_longsim_2023-06-17/rule_both/duplicate_3/narrow_type_1/T_0.01/num_assemblies_12/slurm_script.sh`\n",
      "``\n",
      "Setting up folder / file structure for particle_type_levels={'CT0': 2, 'CT1': 1, 'CT2': 3, 'CT3': 6, 'CT4': 1, 'CT5': 10, 'CT6': 1, 'CT7': 1}, duplicate=3, narrow_type=1, T=0.01, num_assemblies=16...\n",
      "Folder /scratch/jrevan21/patchysimulations/Wereflamingo_X2_longsim_2023-06-17/rule_both/duplicate_3/narrow_type_1/T_0.01/num_assemblies_16 already exists. Continuing...\n",
      "Writing input files...\n",
      "Writing .top, .txt, etc. files...\n",
      "Writing observable json, as nessecary...\n",
      "Writing sbatch scripts...\n",
      ">`chmod u+x /scratch/jrevan21/patchysimulations/Wereflamingo_X2_longsim_2023-06-17/rule_both/duplicate_3/narrow_type_1/T_0.01/num_assemblies_16/gen_conf.sh`\n",
      "``\n",
      ">`chmod u+x /scratch/jrevan21/patchysimulations/Wereflamingo_X2_longsim_2023-06-17/rule_both/duplicate_3/narrow_type_1/T_0.01/num_assemblies_16/slurm_script.sh`\n",
      "``\n",
      "Setting up folder / file structure for particle_type_levels={'CT0': 2, 'CT1': 1, 'CT2': 3, 'CT3': 6, 'CT4': 1, 'CT5': 10, 'CT6': 1, 'CT7': 1}, duplicate=3, narrow_type=1, T=0.025, num_assemblies=4...\n",
      "Folder /scratch/jrevan21/patchysimulations/Wereflamingo_X2_longsim_2023-06-17/rule_both/duplicate_3/narrow_type_1/T_0.025/num_assemblies_4 already exists. Continuing...\n",
      "Writing input files...\n",
      "Writing .top, .txt, etc. files...\n",
      "Writing observable json, as nessecary...\n",
      "Writing sbatch scripts...\n",
      ">`chmod u+x /scratch/jrevan21/patchysimulations/Wereflamingo_X2_longsim_2023-06-17/rule_both/duplicate_3/narrow_type_1/T_0.025/num_assemblies_4/gen_conf.sh`\n",
      "``\n",
      ">`chmod u+x /scratch/jrevan21/patchysimulations/Wereflamingo_X2_longsim_2023-06-17/rule_both/duplicate_3/narrow_type_1/T_0.025/num_assemblies_4/slurm_script.sh`\n",
      "``\n",
      "Setting up folder / file structure for particle_type_levels={'CT0': 2, 'CT1': 1, 'CT2': 3, 'CT3': 6, 'CT4': 1, 'CT5': 10, 'CT6': 1, 'CT7': 1}, duplicate=3, narrow_type=1, T=0.025, num_assemblies=8...\n",
      "Folder /scratch/jrevan21/patchysimulations/Wereflamingo_X2_longsim_2023-06-17/rule_both/duplicate_3/narrow_type_1/T_0.025/num_assemblies_8 already exists. Continuing...\n",
      "Writing input files...\n",
      "Writing .top, .txt, etc. files...\n",
      "Writing observable json, as nessecary...\n",
      "Writing sbatch scripts...\n",
      ">`chmod u+x /scratch/jrevan21/patchysimulations/Wereflamingo_X2_longsim_2023-06-17/rule_both/duplicate_3/narrow_type_1/T_0.025/num_assemblies_8/gen_conf.sh`\n",
      "``\n",
      ">`chmod u+x /scratch/jrevan21/patchysimulations/Wereflamingo_X2_longsim_2023-06-17/rule_both/duplicate_3/narrow_type_1/T_0.025/num_assemblies_8/slurm_script.sh`\n",
      "``\n",
      "Setting up folder / file structure for particle_type_levels={'CT0': 2, 'CT1': 1, 'CT2': 3, 'CT3': 6, 'CT4': 1, 'CT5': 10, 'CT6': 1, 'CT7': 1}, duplicate=3, narrow_type=1, T=0.025, num_assemblies=12...\n",
      "Folder /scratch/jrevan21/patchysimulations/Wereflamingo_X2_longsim_2023-06-17/rule_both/duplicate_3/narrow_type_1/T_0.025/num_assemblies_12 already exists. Continuing...\n",
      "Writing input files...\n",
      "Writing .top, .txt, etc. files...\n",
      "Writing observable json, as nessecary...\n",
      "Writing sbatch scripts...\n",
      ">`chmod u+x /scratch/jrevan21/patchysimulations/Wereflamingo_X2_longsim_2023-06-17/rule_both/duplicate_3/narrow_type_1/T_0.025/num_assemblies_12/gen_conf.sh`\n",
      "``\n",
      ">`chmod u+x /scratch/jrevan21/patchysimulations/Wereflamingo_X2_longsim_2023-06-17/rule_both/duplicate_3/narrow_type_1/T_0.025/num_assemblies_12/slurm_script.sh`\n",
      "``\n",
      "Setting up folder / file structure for particle_type_levels={'CT0': 2, 'CT1': 1, 'CT2': 3, 'CT3': 6, 'CT4': 1, 'CT5': 10, 'CT6': 1, 'CT7': 1}, duplicate=3, narrow_type=1, T=0.025, num_assemblies=16...\n",
      "Folder /scratch/jrevan21/patchysimulations/Wereflamingo_X2_longsim_2023-06-17/rule_both/duplicate_3/narrow_type_1/T_0.025/num_assemblies_16 already exists. Continuing...\n",
      "Writing input files...\n",
      "Writing .top, .txt, etc. files...\n",
      "Writing observable json, as nessecary...\n",
      "Writing sbatch scripts...\n",
      ">`chmod u+x /scratch/jrevan21/patchysimulations/Wereflamingo_X2_longsim_2023-06-17/rule_both/duplicate_3/narrow_type_1/T_0.025/num_assemblies_16/gen_conf.sh`\n",
      "``\n",
      ">`chmod u+x /scratch/jrevan21/patchysimulations/Wereflamingo_X2_longsim_2023-06-17/rule_both/duplicate_3/narrow_type_1/T_0.025/num_assemblies_16/slurm_script.sh`\n",
      "``\n",
      "Setting up folder / file structure for particle_type_levels={'CT0': 1, 'CT1': 1, 'CT2': 3, 'CT3': 6, 'CT4': 0, 'CT5': 10, 'CT6': 1, 'CT7': 0}, duplicate=0, narrow_type=0, T=0.01, num_assemblies=4...\n",
      "Folder /scratch/jrevan21/patchysimulations/Wereflamingo_X2_longsim_2023-06-17/rule_neither/duplicate_0/narrow_type_0/T_0.01/num_assemblies_4 already exists. Continuing...\n",
      "Writing input files...\n",
      "Writing .top, .txt, etc. files...\n",
      "Writing observable json, as nessecary...\n",
      "Writing sbatch scripts...\n",
      ">`chmod u+x /scratch/jrevan21/patchysimulations/Wereflamingo_X2_longsim_2023-06-17/rule_neither/duplicate_0/narrow_type_0/T_0.01/num_assemblies_4/gen_conf.sh`\n",
      "``\n",
      ">`chmod u+x /scratch/jrevan21/patchysimulations/Wereflamingo_X2_longsim_2023-06-17/rule_neither/duplicate_0/narrow_type_0/T_0.01/num_assemblies_4/slurm_script.sh`\n",
      "``\n",
      "Setting up folder / file structure for particle_type_levels={'CT0': 1, 'CT1': 1, 'CT2': 3, 'CT3': 6, 'CT4': 0, 'CT5': 10, 'CT6': 1, 'CT7': 0}, duplicate=0, narrow_type=0, T=0.01, num_assemblies=8...\n",
      "Folder /scratch/jrevan21/patchysimulations/Wereflamingo_X2_longsim_2023-06-17/rule_neither/duplicate_0/narrow_type_0/T_0.01/num_assemblies_8 already exists. Continuing...\n",
      "Writing input files...\n",
      "Writing .top, .txt, etc. files...\n",
      "Writing observable json, as nessecary...\n",
      "Writing sbatch scripts...\n",
      ">`chmod u+x /scratch/jrevan21/patchysimulations/Wereflamingo_X2_longsim_2023-06-17/rule_neither/duplicate_0/narrow_type_0/T_0.01/num_assemblies_8/gen_conf.sh`\n",
      "``\n",
      ">`chmod u+x /scratch/jrevan21/patchysimulations/Wereflamingo_X2_longsim_2023-06-17/rule_neither/duplicate_0/narrow_type_0/T_0.01/num_assemblies_8/slurm_script.sh`\n",
      "``\n",
      "Setting up folder / file structure for particle_type_levels={'CT0': 1, 'CT1': 1, 'CT2': 3, 'CT3': 6, 'CT4': 0, 'CT5': 10, 'CT6': 1, 'CT7': 0}, duplicate=0, narrow_type=0, T=0.01, num_assemblies=12...\n",
      "Folder /scratch/jrevan21/patchysimulations/Wereflamingo_X2_longsim_2023-06-17/rule_neither/duplicate_0/narrow_type_0/T_0.01/num_assemblies_12 already exists. Continuing...\n",
      "Writing input files...\n",
      "Writing .top, .txt, etc. files...\n",
      "Writing observable json, as nessecary...\n",
      "Writing sbatch scripts...\n",
      ">`chmod u+x /scratch/jrevan21/patchysimulations/Wereflamingo_X2_longsim_2023-06-17/rule_neither/duplicate_0/narrow_type_0/T_0.01/num_assemblies_12/gen_conf.sh`\n",
      "``\n",
      ">`chmod u+x /scratch/jrevan21/patchysimulations/Wereflamingo_X2_longsim_2023-06-17/rule_neither/duplicate_0/narrow_type_0/T_0.01/num_assemblies_12/slurm_script.sh`\n",
      "``\n",
      "Setting up folder / file structure for particle_type_levels={'CT0': 1, 'CT1': 1, 'CT2': 3, 'CT3': 6, 'CT4': 0, 'CT5': 10, 'CT6': 1, 'CT7': 0}, duplicate=0, narrow_type=0, T=0.01, num_assemblies=16...\n",
      "Folder /scratch/jrevan21/patchysimulations/Wereflamingo_X2_longsim_2023-06-17/rule_neither/duplicate_0/narrow_type_0/T_0.01/num_assemblies_16 already exists. Continuing...\n",
      "Writing input files...\n",
      "Writing .top, .txt, etc. files...\n",
      "Writing observable json, as nessecary...\n",
      "Writing sbatch scripts...\n",
      ">`chmod u+x /scratch/jrevan21/patchysimulations/Wereflamingo_X2_longsim_2023-06-17/rule_neither/duplicate_0/narrow_type_0/T_0.01/num_assemblies_16/gen_conf.sh`\n",
      "``\n",
      ">`chmod u+x /scratch/jrevan21/patchysimulations/Wereflamingo_X2_longsim_2023-06-17/rule_neither/duplicate_0/narrow_type_0/T_0.01/num_assemblies_16/slurm_script.sh`\n",
      "``\n",
      "Setting up folder / file structure for particle_type_levels={'CT0': 1, 'CT1': 1, 'CT2': 3, 'CT3': 6, 'CT4': 0, 'CT5': 10, 'CT6': 1, 'CT7': 0}, duplicate=0, narrow_type=0, T=0.025, num_assemblies=4...\n",
      "Folder /scratch/jrevan21/patchysimulations/Wereflamingo_X2_longsim_2023-06-17/rule_neither/duplicate_0/narrow_type_0/T_0.025/num_assemblies_4 already exists. Continuing...\n",
      "Writing input files...\n",
      "Writing .top, .txt, etc. files...\n",
      "Writing observable json, as nessecary...\n",
      "Writing sbatch scripts...\n",
      ">`chmod u+x /scratch/jrevan21/patchysimulations/Wereflamingo_X2_longsim_2023-06-17/rule_neither/duplicate_0/narrow_type_0/T_0.025/num_assemblies_4/gen_conf.sh`\n",
      "``\n",
      ">`chmod u+x /scratch/jrevan21/patchysimulations/Wereflamingo_X2_longsim_2023-06-17/rule_neither/duplicate_0/narrow_type_0/T_0.025/num_assemblies_4/slurm_script.sh`\n",
      "``\n",
      "Setting up folder / file structure for particle_type_levels={'CT0': 1, 'CT1': 1, 'CT2': 3, 'CT3': 6, 'CT4': 0, 'CT5': 10, 'CT6': 1, 'CT7': 0}, duplicate=0, narrow_type=0, T=0.025, num_assemblies=8...\n",
      "Folder /scratch/jrevan21/patchysimulations/Wereflamingo_X2_longsim_2023-06-17/rule_neither/duplicate_0/narrow_type_0/T_0.025/num_assemblies_8 already exists. Continuing...\n",
      "Writing input files...\n",
      "Writing .top, .txt, etc. files...\n",
      "Writing observable json, as nessecary...\n",
      "Writing sbatch scripts...\n",
      ">`chmod u+x /scratch/jrevan21/patchysimulations/Wereflamingo_X2_longsim_2023-06-17/rule_neither/duplicate_0/narrow_type_0/T_0.025/num_assemblies_8/gen_conf.sh`\n",
      "``\n",
      ">`chmod u+x /scratch/jrevan21/patchysimulations/Wereflamingo_X2_longsim_2023-06-17/rule_neither/duplicate_0/narrow_type_0/T_0.025/num_assemblies_8/slurm_script.sh`\n",
      "``\n",
      "Setting up folder / file structure for particle_type_levels={'CT0': 1, 'CT1': 1, 'CT2': 3, 'CT3': 6, 'CT4': 0, 'CT5': 10, 'CT6': 1, 'CT7': 0}, duplicate=0, narrow_type=0, T=0.025, num_assemblies=12...\n",
      "Folder /scratch/jrevan21/patchysimulations/Wereflamingo_X2_longsim_2023-06-17/rule_neither/duplicate_0/narrow_type_0/T_0.025/num_assemblies_12 already exists. Continuing...\n",
      "Writing input files...\n",
      "Writing .top, .txt, etc. files...\n",
      "Writing observable json, as nessecary...\n",
      "Writing sbatch scripts...\n",
      ">`chmod u+x /scratch/jrevan21/patchysimulations/Wereflamingo_X2_longsim_2023-06-17/rule_neither/duplicate_0/narrow_type_0/T_0.025/num_assemblies_12/gen_conf.sh`\n",
      "``\n",
      ">`chmod u+x /scratch/jrevan21/patchysimulations/Wereflamingo_X2_longsim_2023-06-17/rule_neither/duplicate_0/narrow_type_0/T_0.025/num_assemblies_12/slurm_script.sh`\n",
      "``\n",
      "Setting up folder / file structure for particle_type_levels={'CT0': 1, 'CT1': 1, 'CT2': 3, 'CT3': 6, 'CT4': 0, 'CT5': 10, 'CT6': 1, 'CT7': 0}, duplicate=0, narrow_type=0, T=0.025, num_assemblies=16...\n",
      "Folder /scratch/jrevan21/patchysimulations/Wereflamingo_X2_longsim_2023-06-17/rule_neither/duplicate_0/narrow_type_0/T_0.025/num_assemblies_16 already exists. Continuing...\n",
      "Writing input files...\n",
      "Writing .top, .txt, etc. files...\n",
      "Writing observable json, as nessecary...\n",
      "Writing sbatch scripts...\n",
      ">`chmod u+x /scratch/jrevan21/patchysimulations/Wereflamingo_X2_longsim_2023-06-17/rule_neither/duplicate_0/narrow_type_0/T_0.025/num_assemblies_16/gen_conf.sh`\n",
      "``\n",
      ">`chmod u+x /scratch/jrevan21/patchysimulations/Wereflamingo_X2_longsim_2023-06-17/rule_neither/duplicate_0/narrow_type_0/T_0.025/num_assemblies_16/slurm_script.sh`\n",
      "``\n",
      "Setting up folder / file structure for particle_type_levels={'CT0': 1, 'CT1': 1, 'CT2': 3, 'CT3': 6, 'CT4': 0, 'CT5': 10, 'CT6': 1, 'CT7': 0}, duplicate=0, narrow_type=1, T=0.01, num_assemblies=4...\n",
      "Folder /scratch/jrevan21/patchysimulations/Wereflamingo_X2_longsim_2023-06-17/rule_neither/duplicate_0/narrow_type_1/T_0.01/num_assemblies_4 already exists. Continuing...\n",
      "Writing input files...\n",
      "Writing .top, .txt, etc. files...\n",
      "Writing observable json, as nessecary...\n",
      "Writing sbatch scripts...\n",
      ">`chmod u+x /scratch/jrevan21/patchysimulations/Wereflamingo_X2_longsim_2023-06-17/rule_neither/duplicate_0/narrow_type_1/T_0.01/num_assemblies_4/gen_conf.sh`\n",
      "``\n",
      ">`chmod u+x /scratch/jrevan21/patchysimulations/Wereflamingo_X2_longsim_2023-06-17/rule_neither/duplicate_0/narrow_type_1/T_0.01/num_assemblies_4/slurm_script.sh`\n",
      "``\n",
      "Setting up folder / file structure for particle_type_levels={'CT0': 1, 'CT1': 1, 'CT2': 3, 'CT3': 6, 'CT4': 0, 'CT5': 10, 'CT6': 1, 'CT7': 0}, duplicate=0, narrow_type=1, T=0.01, num_assemblies=8...\n",
      "Folder /scratch/jrevan21/patchysimulations/Wereflamingo_X2_longsim_2023-06-17/rule_neither/duplicate_0/narrow_type_1/T_0.01/num_assemblies_8 already exists. Continuing...\n",
      "Writing input files...\n",
      "Writing .top, .txt, etc. files...\n",
      "Writing observable json, as nessecary...\n",
      "Writing sbatch scripts...\n",
      ">`chmod u+x /scratch/jrevan21/patchysimulations/Wereflamingo_X2_longsim_2023-06-17/rule_neither/duplicate_0/narrow_type_1/T_0.01/num_assemblies_8/gen_conf.sh`\n",
      "``\n",
      ">`chmod u+x /scratch/jrevan21/patchysimulations/Wereflamingo_X2_longsim_2023-06-17/rule_neither/duplicate_0/narrow_type_1/T_0.01/num_assemblies_8/slurm_script.sh`\n",
      "``\n",
      "Setting up folder / file structure for particle_type_levels={'CT0': 1, 'CT1': 1, 'CT2': 3, 'CT3': 6, 'CT4': 0, 'CT5': 10, 'CT6': 1, 'CT7': 0}, duplicate=0, narrow_type=1, T=0.01, num_assemblies=12...\n",
      "Folder /scratch/jrevan21/patchysimulations/Wereflamingo_X2_longsim_2023-06-17/rule_neither/duplicate_0/narrow_type_1/T_0.01/num_assemblies_12 already exists. Continuing...\n",
      "Writing input files...\n",
      "Writing .top, .txt, etc. files...\n",
      "Writing observable json, as nessecary...\n",
      "Writing sbatch scripts...\n",
      ">`chmod u+x /scratch/jrevan21/patchysimulations/Wereflamingo_X2_longsim_2023-06-17/rule_neither/duplicate_0/narrow_type_1/T_0.01/num_assemblies_12/gen_conf.sh`\n",
      "``\n",
      ">`chmod u+x /scratch/jrevan21/patchysimulations/Wereflamingo_X2_longsim_2023-06-17/rule_neither/duplicate_0/narrow_type_1/T_0.01/num_assemblies_12/slurm_script.sh`\n",
      "``\n",
      "Setting up folder / file structure for particle_type_levels={'CT0': 1, 'CT1': 1, 'CT2': 3, 'CT3': 6, 'CT4': 0, 'CT5': 10, 'CT6': 1, 'CT7': 0}, duplicate=0, narrow_type=1, T=0.01, num_assemblies=16...\n",
      "Folder /scratch/jrevan21/patchysimulations/Wereflamingo_X2_longsim_2023-06-17/rule_neither/duplicate_0/narrow_type_1/T_0.01/num_assemblies_16 already exists. Continuing...\n",
      "Writing input files...\n",
      "Writing .top, .txt, etc. files...\n",
      "Writing observable json, as nessecary...\n",
      "Writing sbatch scripts...\n",
      ">`chmod u+x /scratch/jrevan21/patchysimulations/Wereflamingo_X2_longsim_2023-06-17/rule_neither/duplicate_0/narrow_type_1/T_0.01/num_assemblies_16/gen_conf.sh`\n",
      "``\n",
      ">`chmod u+x /scratch/jrevan21/patchysimulations/Wereflamingo_X2_longsim_2023-06-17/rule_neither/duplicate_0/narrow_type_1/T_0.01/num_assemblies_16/slurm_script.sh`\n",
      "``\n",
      "Setting up folder / file structure for particle_type_levels={'CT0': 1, 'CT1': 1, 'CT2': 3, 'CT3': 6, 'CT4': 0, 'CT5': 10, 'CT6': 1, 'CT7': 0}, duplicate=0, narrow_type=1, T=0.025, num_assemblies=4...\n",
      "Folder /scratch/jrevan21/patchysimulations/Wereflamingo_X2_longsim_2023-06-17/rule_neither/duplicate_0/narrow_type_1/T_0.025/num_assemblies_4 already exists. Continuing...\n",
      "Writing input files...\n",
      "Writing .top, .txt, etc. files...\n",
      "Writing observable json, as nessecary...\n",
      "Writing sbatch scripts...\n",
      ">`chmod u+x /scratch/jrevan21/patchysimulations/Wereflamingo_X2_longsim_2023-06-17/rule_neither/duplicate_0/narrow_type_1/T_0.025/num_assemblies_4/gen_conf.sh`\n",
      "``\n",
      ">`chmod u+x /scratch/jrevan21/patchysimulations/Wereflamingo_X2_longsim_2023-06-17/rule_neither/duplicate_0/narrow_type_1/T_0.025/num_assemblies_4/slurm_script.sh`\n",
      "``\n",
      "Setting up folder / file structure for particle_type_levels={'CT0': 1, 'CT1': 1, 'CT2': 3, 'CT3': 6, 'CT4': 0, 'CT5': 10, 'CT6': 1, 'CT7': 0}, duplicate=0, narrow_type=1, T=0.025, num_assemblies=8...\n",
      "Folder /scratch/jrevan21/patchysimulations/Wereflamingo_X2_longsim_2023-06-17/rule_neither/duplicate_0/narrow_type_1/T_0.025/num_assemblies_8 already exists. Continuing...\n",
      "Writing input files...\n",
      "Writing .top, .txt, etc. files...\n",
      "Writing observable json, as nessecary...\n",
      "Writing sbatch scripts...\n",
      ">`chmod u+x /scratch/jrevan21/patchysimulations/Wereflamingo_X2_longsim_2023-06-17/rule_neither/duplicate_0/narrow_type_1/T_0.025/num_assemblies_8/gen_conf.sh`\n",
      "``\n",
      ">`chmod u+x /scratch/jrevan21/patchysimulations/Wereflamingo_X2_longsim_2023-06-17/rule_neither/duplicate_0/narrow_type_1/T_0.025/num_assemblies_8/slurm_script.sh`\n",
      "``\n",
      "Setting up folder / file structure for particle_type_levels={'CT0': 1, 'CT1': 1, 'CT2': 3, 'CT3': 6, 'CT4': 0, 'CT5': 10, 'CT6': 1, 'CT7': 0}, duplicate=0, narrow_type=1, T=0.025, num_assemblies=12...\n",
      "Folder /scratch/jrevan21/patchysimulations/Wereflamingo_X2_longsim_2023-06-17/rule_neither/duplicate_0/narrow_type_1/T_0.025/num_assemblies_12 already exists. Continuing...\n",
      "Writing input files...\n",
      "Writing .top, .txt, etc. files...\n",
      "Writing observable json, as nessecary...\n",
      "Writing sbatch scripts...\n",
      ">`chmod u+x /scratch/jrevan21/patchysimulations/Wereflamingo_X2_longsim_2023-06-17/rule_neither/duplicate_0/narrow_type_1/T_0.025/num_assemblies_12/gen_conf.sh`\n",
      "``\n",
      ">`chmod u+x /scratch/jrevan21/patchysimulations/Wereflamingo_X2_longsim_2023-06-17/rule_neither/duplicate_0/narrow_type_1/T_0.025/num_assemblies_12/slurm_script.sh`\n",
      "``\n",
      "Setting up folder / file structure for particle_type_levels={'CT0': 1, 'CT1': 1, 'CT2': 3, 'CT3': 6, 'CT4': 0, 'CT5': 10, 'CT6': 1, 'CT7': 0}, duplicate=0, narrow_type=1, T=0.025, num_assemblies=16...\n",
      "Folder /scratch/jrevan21/patchysimulations/Wereflamingo_X2_longsim_2023-06-17/rule_neither/duplicate_0/narrow_type_1/T_0.025/num_assemblies_16 already exists. Continuing...\n",
      "Writing input files...\n",
      "Writing .top, .txt, etc. files...\n",
      "Writing observable json, as nessecary...\n",
      "Writing sbatch scripts...\n",
      ">`chmod u+x /scratch/jrevan21/patchysimulations/Wereflamingo_X2_longsim_2023-06-17/rule_neither/duplicate_0/narrow_type_1/T_0.025/num_assemblies_16/gen_conf.sh`\n",
      "``\n",
      ">`chmod u+x /scratch/jrevan21/patchysimulations/Wereflamingo_X2_longsim_2023-06-17/rule_neither/duplicate_0/narrow_type_1/T_0.025/num_assemblies_16/slurm_script.sh`\n",
      "``\n",
      "Setting up folder / file structure for particle_type_levels={'CT0': 1, 'CT1': 1, 'CT2': 3, 'CT3': 6, 'CT4': 0, 'CT5': 10, 'CT6': 1, 'CT7': 0}, duplicate=1, narrow_type=0, T=0.01, num_assemblies=4...\n",
      "Folder /scratch/jrevan21/patchysimulations/Wereflamingo_X2_longsim_2023-06-17/rule_neither/duplicate_1/narrow_type_0/T_0.01/num_assemblies_4 already exists. Continuing...\n",
      "Writing input files...\n",
      "Writing .top, .txt, etc. files...\n",
      "Writing observable json, as nessecary...\n",
      "Writing sbatch scripts...\n",
      ">`chmod u+x /scratch/jrevan21/patchysimulations/Wereflamingo_X2_longsim_2023-06-17/rule_neither/duplicate_1/narrow_type_0/T_0.01/num_assemblies_4/gen_conf.sh`\n",
      "``\n",
      ">`chmod u+x /scratch/jrevan21/patchysimulations/Wereflamingo_X2_longsim_2023-06-17/rule_neither/duplicate_1/narrow_type_0/T_0.01/num_assemblies_4/slurm_script.sh`\n",
      "``\n",
      "Setting up folder / file structure for particle_type_levels={'CT0': 1, 'CT1': 1, 'CT2': 3, 'CT3': 6, 'CT4': 0, 'CT5': 10, 'CT6': 1, 'CT7': 0}, duplicate=1, narrow_type=0, T=0.01, num_assemblies=8...\n",
      "Folder /scratch/jrevan21/patchysimulations/Wereflamingo_X2_longsim_2023-06-17/rule_neither/duplicate_1/narrow_type_0/T_0.01/num_assemblies_8 already exists. Continuing...\n",
      "Writing input files...\n",
      "Writing .top, .txt, etc. files...\n",
      "Writing observable json, as nessecary...\n",
      "Writing sbatch scripts...\n",
      ">`chmod u+x /scratch/jrevan21/patchysimulations/Wereflamingo_X2_longsim_2023-06-17/rule_neither/duplicate_1/narrow_type_0/T_0.01/num_assemblies_8/gen_conf.sh`\n",
      "``\n",
      ">`chmod u+x /scratch/jrevan21/patchysimulations/Wereflamingo_X2_longsim_2023-06-17/rule_neither/duplicate_1/narrow_type_0/T_0.01/num_assemblies_8/slurm_script.sh`\n",
      "``\n",
      "Setting up folder / file structure for particle_type_levels={'CT0': 1, 'CT1': 1, 'CT2': 3, 'CT3': 6, 'CT4': 0, 'CT5': 10, 'CT6': 1, 'CT7': 0}, duplicate=1, narrow_type=0, T=0.01, num_assemblies=12...\n",
      "Folder /scratch/jrevan21/patchysimulations/Wereflamingo_X2_longsim_2023-06-17/rule_neither/duplicate_1/narrow_type_0/T_0.01/num_assemblies_12 already exists. Continuing...\n",
      "Writing input files...\n",
      "Writing .top, .txt, etc. files...\n",
      "Writing observable json, as nessecary...\n",
      "Writing sbatch scripts...\n",
      ">`chmod u+x /scratch/jrevan21/patchysimulations/Wereflamingo_X2_longsim_2023-06-17/rule_neither/duplicate_1/narrow_type_0/T_0.01/num_assemblies_12/gen_conf.sh`\n",
      "``\n",
      ">`chmod u+x /scratch/jrevan21/patchysimulations/Wereflamingo_X2_longsim_2023-06-17/rule_neither/duplicate_1/narrow_type_0/T_0.01/num_assemblies_12/slurm_script.sh`\n",
      "``\n",
      "Setting up folder / file structure for particle_type_levels={'CT0': 1, 'CT1': 1, 'CT2': 3, 'CT3': 6, 'CT4': 0, 'CT5': 10, 'CT6': 1, 'CT7': 0}, duplicate=1, narrow_type=0, T=0.01, num_assemblies=16...\n",
      "Folder /scratch/jrevan21/patchysimulations/Wereflamingo_X2_longsim_2023-06-17/rule_neither/duplicate_1/narrow_type_0/T_0.01/num_assemblies_16 already exists. Continuing...\n",
      "Writing input files...\n",
      "Writing .top, .txt, etc. files...\n",
      "Writing observable json, as nessecary...\n",
      "Writing sbatch scripts...\n",
      ">`chmod u+x /scratch/jrevan21/patchysimulations/Wereflamingo_X2_longsim_2023-06-17/rule_neither/duplicate_1/narrow_type_0/T_0.01/num_assemblies_16/gen_conf.sh`\n",
      "``\n",
      ">`chmod u+x /scratch/jrevan21/patchysimulations/Wereflamingo_X2_longsim_2023-06-17/rule_neither/duplicate_1/narrow_type_0/T_0.01/num_assemblies_16/slurm_script.sh`\n",
      "``\n",
      "Setting up folder / file structure for particle_type_levels={'CT0': 1, 'CT1': 1, 'CT2': 3, 'CT3': 6, 'CT4': 0, 'CT5': 10, 'CT6': 1, 'CT7': 0}, duplicate=1, narrow_type=0, T=0.025, num_assemblies=4...\n",
      "Folder /scratch/jrevan21/patchysimulations/Wereflamingo_X2_longsim_2023-06-17/rule_neither/duplicate_1/narrow_type_0/T_0.025/num_assemblies_4 already exists. Continuing...\n",
      "Writing input files...\n",
      "Writing .top, .txt, etc. files...\n",
      "Writing observable json, as nessecary...\n",
      "Writing sbatch scripts...\n",
      ">`chmod u+x /scratch/jrevan21/patchysimulations/Wereflamingo_X2_longsim_2023-06-17/rule_neither/duplicate_1/narrow_type_0/T_0.025/num_assemblies_4/gen_conf.sh`\n",
      "``\n",
      ">`chmod u+x /scratch/jrevan21/patchysimulations/Wereflamingo_X2_longsim_2023-06-17/rule_neither/duplicate_1/narrow_type_0/T_0.025/num_assemblies_4/slurm_script.sh`\n",
      "``\n",
      "Setting up folder / file structure for particle_type_levels={'CT0': 1, 'CT1': 1, 'CT2': 3, 'CT3': 6, 'CT4': 0, 'CT5': 10, 'CT6': 1, 'CT7': 0}, duplicate=1, narrow_type=0, T=0.025, num_assemblies=8...\n",
      "Folder /scratch/jrevan21/patchysimulations/Wereflamingo_X2_longsim_2023-06-17/rule_neither/duplicate_1/narrow_type_0/T_0.025/num_assemblies_8 already exists. Continuing...\n",
      "Writing input files...\n",
      "Writing .top, .txt, etc. files...\n",
      "Writing observable json, as nessecary...\n",
      "Writing sbatch scripts...\n",
      ">`chmod u+x /scratch/jrevan21/patchysimulations/Wereflamingo_X2_longsim_2023-06-17/rule_neither/duplicate_1/narrow_type_0/T_0.025/num_assemblies_8/gen_conf.sh`\n",
      "``\n",
      ">`chmod u+x /scratch/jrevan21/patchysimulations/Wereflamingo_X2_longsim_2023-06-17/rule_neither/duplicate_1/narrow_type_0/T_0.025/num_assemblies_8/slurm_script.sh`\n",
      "``\n",
      "Setting up folder / file structure for particle_type_levels={'CT0': 1, 'CT1': 1, 'CT2': 3, 'CT3': 6, 'CT4': 0, 'CT5': 10, 'CT6': 1, 'CT7': 0}, duplicate=1, narrow_type=0, T=0.025, num_assemblies=12...\n",
      "Folder /scratch/jrevan21/patchysimulations/Wereflamingo_X2_longsim_2023-06-17/rule_neither/duplicate_1/narrow_type_0/T_0.025/num_assemblies_12 already exists. Continuing...\n",
      "Writing input files...\n",
      "Writing .top, .txt, etc. files...\n",
      "Writing observable json, as nessecary...\n",
      "Writing sbatch scripts...\n",
      ">`chmod u+x /scratch/jrevan21/patchysimulations/Wereflamingo_X2_longsim_2023-06-17/rule_neither/duplicate_1/narrow_type_0/T_0.025/num_assemblies_12/gen_conf.sh`\n",
      "``\n",
      ">`chmod u+x /scratch/jrevan21/patchysimulations/Wereflamingo_X2_longsim_2023-06-17/rule_neither/duplicate_1/narrow_type_0/T_0.025/num_assemblies_12/slurm_script.sh`\n",
      "``\n",
      "Setting up folder / file structure for particle_type_levels={'CT0': 1, 'CT1': 1, 'CT2': 3, 'CT3': 6, 'CT4': 0, 'CT5': 10, 'CT6': 1, 'CT7': 0}, duplicate=1, narrow_type=0, T=0.025, num_assemblies=16...\n",
      "Folder /scratch/jrevan21/patchysimulations/Wereflamingo_X2_longsim_2023-06-17/rule_neither/duplicate_1/narrow_type_0/T_0.025/num_assemblies_16 already exists. Continuing...\n",
      "Writing input files...\n",
      "Writing .top, .txt, etc. files...\n",
      "Writing observable json, as nessecary...\n",
      "Writing sbatch scripts...\n",
      ">`chmod u+x /scratch/jrevan21/patchysimulations/Wereflamingo_X2_longsim_2023-06-17/rule_neither/duplicate_1/narrow_type_0/T_0.025/num_assemblies_16/gen_conf.sh`\n",
      "``\n",
      ">`chmod u+x /scratch/jrevan21/patchysimulations/Wereflamingo_X2_longsim_2023-06-17/rule_neither/duplicate_1/narrow_type_0/T_0.025/num_assemblies_16/slurm_script.sh`\n",
      "``\n",
      "Setting up folder / file structure for particle_type_levels={'CT0': 1, 'CT1': 1, 'CT2': 3, 'CT3': 6, 'CT4': 0, 'CT5': 10, 'CT6': 1, 'CT7': 0}, duplicate=1, narrow_type=1, T=0.01, num_assemblies=4...\n",
      "Folder /scratch/jrevan21/patchysimulations/Wereflamingo_X2_longsim_2023-06-17/rule_neither/duplicate_1/narrow_type_1/T_0.01/num_assemblies_4 already exists. Continuing...\n",
      "Writing input files...\n",
      "Writing .top, .txt, etc. files...\n",
      "Writing observable json, as nessecary...\n",
      "Writing sbatch scripts...\n",
      ">`chmod u+x /scratch/jrevan21/patchysimulations/Wereflamingo_X2_longsim_2023-06-17/rule_neither/duplicate_1/narrow_type_1/T_0.01/num_assemblies_4/gen_conf.sh`\n",
      "``\n",
      ">`chmod u+x /scratch/jrevan21/patchysimulations/Wereflamingo_X2_longsim_2023-06-17/rule_neither/duplicate_1/narrow_type_1/T_0.01/num_assemblies_4/slurm_script.sh`\n",
      "``\n",
      "Setting up folder / file structure for particle_type_levels={'CT0': 1, 'CT1': 1, 'CT2': 3, 'CT3': 6, 'CT4': 0, 'CT5': 10, 'CT6': 1, 'CT7': 0}, duplicate=1, narrow_type=1, T=0.01, num_assemblies=8...\n",
      "Folder /scratch/jrevan21/patchysimulations/Wereflamingo_X2_longsim_2023-06-17/rule_neither/duplicate_1/narrow_type_1/T_0.01/num_assemblies_8 already exists. Continuing...\n",
      "Writing input files...\n",
      "Writing .top, .txt, etc. files...\n",
      "Writing observable json, as nessecary...\n",
      "Writing sbatch scripts...\n",
      ">`chmod u+x /scratch/jrevan21/patchysimulations/Wereflamingo_X2_longsim_2023-06-17/rule_neither/duplicate_1/narrow_type_1/T_0.01/num_assemblies_8/gen_conf.sh`\n",
      "``\n",
      ">`chmod u+x /scratch/jrevan21/patchysimulations/Wereflamingo_X2_longsim_2023-06-17/rule_neither/duplicate_1/narrow_type_1/T_0.01/num_assemblies_8/slurm_script.sh`\n",
      "``\n",
      "Setting up folder / file structure for particle_type_levels={'CT0': 1, 'CT1': 1, 'CT2': 3, 'CT3': 6, 'CT4': 0, 'CT5': 10, 'CT6': 1, 'CT7': 0}, duplicate=1, narrow_type=1, T=0.01, num_assemblies=12...\n",
      "Folder /scratch/jrevan21/patchysimulations/Wereflamingo_X2_longsim_2023-06-17/rule_neither/duplicate_1/narrow_type_1/T_0.01/num_assemblies_12 already exists. Continuing...\n",
      "Writing input files...\n",
      "Writing .top, .txt, etc. files...\n",
      "Writing observable json, as nessecary...\n",
      "Writing sbatch scripts...\n",
      ">`chmod u+x /scratch/jrevan21/patchysimulations/Wereflamingo_X2_longsim_2023-06-17/rule_neither/duplicate_1/narrow_type_1/T_0.01/num_assemblies_12/gen_conf.sh`\n",
      "``\n",
      ">`chmod u+x /scratch/jrevan21/patchysimulations/Wereflamingo_X2_longsim_2023-06-17/rule_neither/duplicate_1/narrow_type_1/T_0.01/num_assemblies_12/slurm_script.sh`\n",
      "``\n",
      "Setting up folder / file structure for particle_type_levels={'CT0': 1, 'CT1': 1, 'CT2': 3, 'CT3': 6, 'CT4': 0, 'CT5': 10, 'CT6': 1, 'CT7': 0}, duplicate=1, narrow_type=1, T=0.01, num_assemblies=16...\n",
      "Folder /scratch/jrevan21/patchysimulations/Wereflamingo_X2_longsim_2023-06-17/rule_neither/duplicate_1/narrow_type_1/T_0.01/num_assemblies_16 already exists. Continuing...\n",
      "Writing input files...\n",
      "Writing .top, .txt, etc. files...\n",
      "Writing observable json, as nessecary...\n",
      "Writing sbatch scripts...\n",
      ">`chmod u+x /scratch/jrevan21/patchysimulations/Wereflamingo_X2_longsim_2023-06-17/rule_neither/duplicate_1/narrow_type_1/T_0.01/num_assemblies_16/gen_conf.sh`\n",
      "``\n",
      ">`chmod u+x /scratch/jrevan21/patchysimulations/Wereflamingo_X2_longsim_2023-06-17/rule_neither/duplicate_1/narrow_type_1/T_0.01/num_assemblies_16/slurm_script.sh`\n",
      "``\n",
      "Setting up folder / file structure for particle_type_levels={'CT0': 1, 'CT1': 1, 'CT2': 3, 'CT3': 6, 'CT4': 0, 'CT5': 10, 'CT6': 1, 'CT7': 0}, duplicate=1, narrow_type=1, T=0.025, num_assemblies=4...\n",
      "Folder /scratch/jrevan21/patchysimulations/Wereflamingo_X2_longsim_2023-06-17/rule_neither/duplicate_1/narrow_type_1/T_0.025/num_assemblies_4 already exists. Continuing...\n",
      "Writing input files...\n",
      "Writing .top, .txt, etc. files...\n",
      "Writing observable json, as nessecary...\n",
      "Writing sbatch scripts...\n",
      ">`chmod u+x /scratch/jrevan21/patchysimulations/Wereflamingo_X2_longsim_2023-06-17/rule_neither/duplicate_1/narrow_type_1/T_0.025/num_assemblies_4/gen_conf.sh`\n",
      "``\n",
      ">`chmod u+x /scratch/jrevan21/patchysimulations/Wereflamingo_X2_longsim_2023-06-17/rule_neither/duplicate_1/narrow_type_1/T_0.025/num_assemblies_4/slurm_script.sh`\n",
      "``\n",
      "Setting up folder / file structure for particle_type_levels={'CT0': 1, 'CT1': 1, 'CT2': 3, 'CT3': 6, 'CT4': 0, 'CT5': 10, 'CT6': 1, 'CT7': 0}, duplicate=1, narrow_type=1, T=0.025, num_assemblies=8...\n",
      "Folder /scratch/jrevan21/patchysimulations/Wereflamingo_X2_longsim_2023-06-17/rule_neither/duplicate_1/narrow_type_1/T_0.025/num_assemblies_8 already exists. Continuing...\n",
      "Writing input files...\n",
      "Writing .top, .txt, etc. files...\n",
      "Writing observable json, as nessecary...\n",
      "Writing sbatch scripts...\n",
      ">`chmod u+x /scratch/jrevan21/patchysimulations/Wereflamingo_X2_longsim_2023-06-17/rule_neither/duplicate_1/narrow_type_1/T_0.025/num_assemblies_8/gen_conf.sh`\n",
      "``\n",
      ">`chmod u+x /scratch/jrevan21/patchysimulations/Wereflamingo_X2_longsim_2023-06-17/rule_neither/duplicate_1/narrow_type_1/T_0.025/num_assemblies_8/slurm_script.sh`\n",
      "``\n",
      "Setting up folder / file structure for particle_type_levels={'CT0': 1, 'CT1': 1, 'CT2': 3, 'CT3': 6, 'CT4': 0, 'CT5': 10, 'CT6': 1, 'CT7': 0}, duplicate=1, narrow_type=1, T=0.025, num_assemblies=12...\n",
      "Folder /scratch/jrevan21/patchysimulations/Wereflamingo_X2_longsim_2023-06-17/rule_neither/duplicate_1/narrow_type_1/T_0.025/num_assemblies_12 already exists. Continuing...\n",
      "Writing input files...\n",
      "Writing .top, .txt, etc. files...\n",
      "Writing observable json, as nessecary...\n",
      "Writing sbatch scripts...\n",
      ">`chmod u+x /scratch/jrevan21/patchysimulations/Wereflamingo_X2_longsim_2023-06-17/rule_neither/duplicate_1/narrow_type_1/T_0.025/num_assemblies_12/gen_conf.sh`\n",
      "``\n",
      ">`chmod u+x /scratch/jrevan21/patchysimulations/Wereflamingo_X2_longsim_2023-06-17/rule_neither/duplicate_1/narrow_type_1/T_0.025/num_assemblies_12/slurm_script.sh`\n",
      "``\n",
      "Setting up folder / file structure for particle_type_levels={'CT0': 1, 'CT1': 1, 'CT2': 3, 'CT3': 6, 'CT4': 0, 'CT5': 10, 'CT6': 1, 'CT7': 0}, duplicate=1, narrow_type=1, T=0.025, num_assemblies=16...\n",
      "Folder /scratch/jrevan21/patchysimulations/Wereflamingo_X2_longsim_2023-06-17/rule_neither/duplicate_1/narrow_type_1/T_0.025/num_assemblies_16 already exists. Continuing...\n",
      "Writing input files...\n",
      "Writing .top, .txt, etc. files...\n",
      "Writing observable json, as nessecary...\n",
      "Writing sbatch scripts...\n",
      ">`chmod u+x /scratch/jrevan21/patchysimulations/Wereflamingo_X2_longsim_2023-06-17/rule_neither/duplicate_1/narrow_type_1/T_0.025/num_assemblies_16/gen_conf.sh`\n",
      "``\n",
      ">`chmod u+x /scratch/jrevan21/patchysimulations/Wereflamingo_X2_longsim_2023-06-17/rule_neither/duplicate_1/narrow_type_1/T_0.025/num_assemblies_16/slurm_script.sh`\n",
      "``\n",
      "Setting up folder / file structure for particle_type_levels={'CT0': 1, 'CT1': 1, 'CT2': 3, 'CT3': 6, 'CT4': 0, 'CT5': 10, 'CT6': 1, 'CT7': 0}, duplicate=2, narrow_type=0, T=0.01, num_assemblies=4...\n",
      "Folder /scratch/jrevan21/patchysimulations/Wereflamingo_X2_longsim_2023-06-17/rule_neither/duplicate_2/narrow_type_0/T_0.01/num_assemblies_4 already exists. Continuing...\n",
      "Writing input files...\n",
      "Writing .top, .txt, etc. files...\n",
      "Writing observable json, as nessecary...\n",
      "Writing sbatch scripts...\n",
      ">`chmod u+x /scratch/jrevan21/patchysimulations/Wereflamingo_X2_longsim_2023-06-17/rule_neither/duplicate_2/narrow_type_0/T_0.01/num_assemblies_4/gen_conf.sh`\n",
      "``\n",
      ">`chmod u+x /scratch/jrevan21/patchysimulations/Wereflamingo_X2_longsim_2023-06-17/rule_neither/duplicate_2/narrow_type_0/T_0.01/num_assemblies_4/slurm_script.sh`\n",
      "``\n",
      "Setting up folder / file structure for particle_type_levels={'CT0': 1, 'CT1': 1, 'CT2': 3, 'CT3': 6, 'CT4': 0, 'CT5': 10, 'CT6': 1, 'CT7': 0}, duplicate=2, narrow_type=0, T=0.01, num_assemblies=8...\n",
      "Folder /scratch/jrevan21/patchysimulations/Wereflamingo_X2_longsim_2023-06-17/rule_neither/duplicate_2/narrow_type_0/T_0.01/num_assemblies_8 already exists. Continuing...\n",
      "Writing input files...\n",
      "Writing .top, .txt, etc. files...\n",
      "Writing observable json, as nessecary...\n",
      "Writing sbatch scripts...\n",
      ">`chmod u+x /scratch/jrevan21/patchysimulations/Wereflamingo_X2_longsim_2023-06-17/rule_neither/duplicate_2/narrow_type_0/T_0.01/num_assemblies_8/gen_conf.sh`\n",
      "``\n",
      ">`chmod u+x /scratch/jrevan21/patchysimulations/Wereflamingo_X2_longsim_2023-06-17/rule_neither/duplicate_2/narrow_type_0/T_0.01/num_assemblies_8/slurm_script.sh`\n",
      "``\n",
      "Setting up folder / file structure for particle_type_levels={'CT0': 1, 'CT1': 1, 'CT2': 3, 'CT3': 6, 'CT4': 0, 'CT5': 10, 'CT6': 1, 'CT7': 0}, duplicate=2, narrow_type=0, T=0.01, num_assemblies=12...\n",
      "Folder /scratch/jrevan21/patchysimulations/Wereflamingo_X2_longsim_2023-06-17/rule_neither/duplicate_2/narrow_type_0/T_0.01/num_assemblies_12 already exists. Continuing...\n",
      "Writing input files...\n",
      "Writing .top, .txt, etc. files...\n",
      "Writing observable json, as nessecary...\n",
      "Writing sbatch scripts...\n",
      ">`chmod u+x /scratch/jrevan21/patchysimulations/Wereflamingo_X2_longsim_2023-06-17/rule_neither/duplicate_2/narrow_type_0/T_0.01/num_assemblies_12/gen_conf.sh`\n",
      "``\n",
      ">`chmod u+x /scratch/jrevan21/patchysimulations/Wereflamingo_X2_longsim_2023-06-17/rule_neither/duplicate_2/narrow_type_0/T_0.01/num_assemblies_12/slurm_script.sh`\n",
      "``\n",
      "Setting up folder / file structure for particle_type_levels={'CT0': 1, 'CT1': 1, 'CT2': 3, 'CT3': 6, 'CT4': 0, 'CT5': 10, 'CT6': 1, 'CT7': 0}, duplicate=2, narrow_type=0, T=0.01, num_assemblies=16...\n",
      "Folder /scratch/jrevan21/patchysimulations/Wereflamingo_X2_longsim_2023-06-17/rule_neither/duplicate_2/narrow_type_0/T_0.01/num_assemblies_16 already exists. Continuing...\n",
      "Writing input files...\n",
      "Writing .top, .txt, etc. files...\n",
      "Writing observable json, as nessecary...\n",
      "Writing sbatch scripts...\n",
      ">`chmod u+x /scratch/jrevan21/patchysimulations/Wereflamingo_X2_longsim_2023-06-17/rule_neither/duplicate_2/narrow_type_0/T_0.01/num_assemblies_16/gen_conf.sh`\n",
      "``\n",
      ">`chmod u+x /scratch/jrevan21/patchysimulations/Wereflamingo_X2_longsim_2023-06-17/rule_neither/duplicate_2/narrow_type_0/T_0.01/num_assemblies_16/slurm_script.sh`\n",
      "``\n",
      "Setting up folder / file structure for particle_type_levels={'CT0': 1, 'CT1': 1, 'CT2': 3, 'CT3': 6, 'CT4': 0, 'CT5': 10, 'CT6': 1, 'CT7': 0}, duplicate=2, narrow_type=0, T=0.025, num_assemblies=4...\n",
      "Folder /scratch/jrevan21/patchysimulations/Wereflamingo_X2_longsim_2023-06-17/rule_neither/duplicate_2/narrow_type_0/T_0.025/num_assemblies_4 already exists. Continuing...\n",
      "Writing input files...\n",
      "Writing .top, .txt, etc. files...\n",
      "Writing observable json, as nessecary...\n",
      "Writing sbatch scripts...\n",
      ">`chmod u+x /scratch/jrevan21/patchysimulations/Wereflamingo_X2_longsim_2023-06-17/rule_neither/duplicate_2/narrow_type_0/T_0.025/num_assemblies_4/gen_conf.sh`\n",
      "``\n",
      ">`chmod u+x /scratch/jrevan21/patchysimulations/Wereflamingo_X2_longsim_2023-06-17/rule_neither/duplicate_2/narrow_type_0/T_0.025/num_assemblies_4/slurm_script.sh`\n",
      "``\n",
      "Setting up folder / file structure for particle_type_levels={'CT0': 1, 'CT1': 1, 'CT2': 3, 'CT3': 6, 'CT4': 0, 'CT5': 10, 'CT6': 1, 'CT7': 0}, duplicate=2, narrow_type=0, T=0.025, num_assemblies=8...\n",
      "Folder /scratch/jrevan21/patchysimulations/Wereflamingo_X2_longsim_2023-06-17/rule_neither/duplicate_2/narrow_type_0/T_0.025/num_assemblies_8 already exists. Continuing...\n",
      "Writing input files...\n",
      "Writing .top, .txt, etc. files...\n",
      "Writing observable json, as nessecary...\n",
      "Writing sbatch scripts...\n",
      ">`chmod u+x /scratch/jrevan21/patchysimulations/Wereflamingo_X2_longsim_2023-06-17/rule_neither/duplicate_2/narrow_type_0/T_0.025/num_assemblies_8/gen_conf.sh`\n",
      "``\n",
      ">`chmod u+x /scratch/jrevan21/patchysimulations/Wereflamingo_X2_longsim_2023-06-17/rule_neither/duplicate_2/narrow_type_0/T_0.025/num_assemblies_8/slurm_script.sh`\n",
      "``\n",
      "Setting up folder / file structure for particle_type_levels={'CT0': 1, 'CT1': 1, 'CT2': 3, 'CT3': 6, 'CT4': 0, 'CT5': 10, 'CT6': 1, 'CT7': 0}, duplicate=2, narrow_type=0, T=0.025, num_assemblies=12...\n",
      "Folder /scratch/jrevan21/patchysimulations/Wereflamingo_X2_longsim_2023-06-17/rule_neither/duplicate_2/narrow_type_0/T_0.025/num_assemblies_12 already exists. Continuing...\n",
      "Writing input files...\n",
      "Writing .top, .txt, etc. files...\n",
      "Writing observable json, as nessecary...\n",
      "Writing sbatch scripts...\n",
      ">`chmod u+x /scratch/jrevan21/patchysimulations/Wereflamingo_X2_longsim_2023-06-17/rule_neither/duplicate_2/narrow_type_0/T_0.025/num_assemblies_12/gen_conf.sh`\n",
      "``\n",
      ">`chmod u+x /scratch/jrevan21/patchysimulations/Wereflamingo_X2_longsim_2023-06-17/rule_neither/duplicate_2/narrow_type_0/T_0.025/num_assemblies_12/slurm_script.sh`\n",
      "``\n",
      "Setting up folder / file structure for particle_type_levels={'CT0': 1, 'CT1': 1, 'CT2': 3, 'CT3': 6, 'CT4': 0, 'CT5': 10, 'CT6': 1, 'CT7': 0}, duplicate=2, narrow_type=0, T=0.025, num_assemblies=16...\n",
      "Folder /scratch/jrevan21/patchysimulations/Wereflamingo_X2_longsim_2023-06-17/rule_neither/duplicate_2/narrow_type_0/T_0.025/num_assemblies_16 already exists. Continuing...\n",
      "Writing input files...\n",
      "Writing .top, .txt, etc. files...\n",
      "Writing observable json, as nessecary...\n",
      "Writing sbatch scripts...\n",
      ">`chmod u+x /scratch/jrevan21/patchysimulations/Wereflamingo_X2_longsim_2023-06-17/rule_neither/duplicate_2/narrow_type_0/T_0.025/num_assemblies_16/gen_conf.sh`\n",
      "``\n",
      ">`chmod u+x /scratch/jrevan21/patchysimulations/Wereflamingo_X2_longsim_2023-06-17/rule_neither/duplicate_2/narrow_type_0/T_0.025/num_assemblies_16/slurm_script.sh`\n",
      "``\n",
      "Setting up folder / file structure for particle_type_levels={'CT0': 1, 'CT1': 1, 'CT2': 3, 'CT3': 6, 'CT4': 0, 'CT5': 10, 'CT6': 1, 'CT7': 0}, duplicate=2, narrow_type=1, T=0.01, num_assemblies=4...\n",
      "Folder /scratch/jrevan21/patchysimulations/Wereflamingo_X2_longsim_2023-06-17/rule_neither/duplicate_2/narrow_type_1/T_0.01/num_assemblies_4 already exists. Continuing...\n",
      "Writing input files...\n",
      "Writing .top, .txt, etc. files...\n",
      "Writing observable json, as nessecary...\n",
      "Writing sbatch scripts...\n",
      ">`chmod u+x /scratch/jrevan21/patchysimulations/Wereflamingo_X2_longsim_2023-06-17/rule_neither/duplicate_2/narrow_type_1/T_0.01/num_assemblies_4/gen_conf.sh`\n",
      "``\n",
      ">`chmod u+x /scratch/jrevan21/patchysimulations/Wereflamingo_X2_longsim_2023-06-17/rule_neither/duplicate_2/narrow_type_1/T_0.01/num_assemblies_4/slurm_script.sh`\n",
      "``\n",
      "Setting up folder / file structure for particle_type_levels={'CT0': 1, 'CT1': 1, 'CT2': 3, 'CT3': 6, 'CT4': 0, 'CT5': 10, 'CT6': 1, 'CT7': 0}, duplicate=2, narrow_type=1, T=0.01, num_assemblies=8...\n",
      "Folder /scratch/jrevan21/patchysimulations/Wereflamingo_X2_longsim_2023-06-17/rule_neither/duplicate_2/narrow_type_1/T_0.01/num_assemblies_8 already exists. Continuing...\n",
      "Writing input files...\n",
      "Writing .top, .txt, etc. files...\n",
      "Writing observable json, as nessecary...\n",
      "Writing sbatch scripts...\n",
      ">`chmod u+x /scratch/jrevan21/patchysimulations/Wereflamingo_X2_longsim_2023-06-17/rule_neither/duplicate_2/narrow_type_1/T_0.01/num_assemblies_8/gen_conf.sh`\n",
      "``\n",
      ">`chmod u+x /scratch/jrevan21/patchysimulations/Wereflamingo_X2_longsim_2023-06-17/rule_neither/duplicate_2/narrow_type_1/T_0.01/num_assemblies_8/slurm_script.sh`\n",
      "``\n",
      "Setting up folder / file structure for particle_type_levels={'CT0': 1, 'CT1': 1, 'CT2': 3, 'CT3': 6, 'CT4': 0, 'CT5': 10, 'CT6': 1, 'CT7': 0}, duplicate=2, narrow_type=1, T=0.01, num_assemblies=12...\n",
      "Folder /scratch/jrevan21/patchysimulations/Wereflamingo_X2_longsim_2023-06-17/rule_neither/duplicate_2/narrow_type_1/T_0.01/num_assemblies_12 already exists. Continuing...\n",
      "Writing input files...\n",
      "Writing .top, .txt, etc. files...\n",
      "Writing observable json, as nessecary...\n",
      "Writing sbatch scripts...\n",
      ">`chmod u+x /scratch/jrevan21/patchysimulations/Wereflamingo_X2_longsim_2023-06-17/rule_neither/duplicate_2/narrow_type_1/T_0.01/num_assemblies_12/gen_conf.sh`\n",
      "``\n",
      ">`chmod u+x /scratch/jrevan21/patchysimulations/Wereflamingo_X2_longsim_2023-06-17/rule_neither/duplicate_2/narrow_type_1/T_0.01/num_assemblies_12/slurm_script.sh`\n",
      "``\n",
      "Setting up folder / file structure for particle_type_levels={'CT0': 1, 'CT1': 1, 'CT2': 3, 'CT3': 6, 'CT4': 0, 'CT5': 10, 'CT6': 1, 'CT7': 0}, duplicate=2, narrow_type=1, T=0.01, num_assemblies=16...\n",
      "Folder /scratch/jrevan21/patchysimulations/Wereflamingo_X2_longsim_2023-06-17/rule_neither/duplicate_2/narrow_type_1/T_0.01/num_assemblies_16 already exists. Continuing...\n",
      "Writing input files...\n",
      "Writing .top, .txt, etc. files...\n",
      "Writing observable json, as nessecary...\n",
      "Writing sbatch scripts...\n",
      ">`chmod u+x /scratch/jrevan21/patchysimulations/Wereflamingo_X2_longsim_2023-06-17/rule_neither/duplicate_2/narrow_type_1/T_0.01/num_assemblies_16/gen_conf.sh`\n",
      "``\n",
      ">`chmod u+x /scratch/jrevan21/patchysimulations/Wereflamingo_X2_longsim_2023-06-17/rule_neither/duplicate_2/narrow_type_1/T_0.01/num_assemblies_16/slurm_script.sh`\n",
      "``\n",
      "Setting up folder / file structure for particle_type_levels={'CT0': 1, 'CT1': 1, 'CT2': 3, 'CT3': 6, 'CT4': 0, 'CT5': 10, 'CT6': 1, 'CT7': 0}, duplicate=2, narrow_type=1, T=0.025, num_assemblies=4...\n",
      "Folder /scratch/jrevan21/patchysimulations/Wereflamingo_X2_longsim_2023-06-17/rule_neither/duplicate_2/narrow_type_1/T_0.025/num_assemblies_4 already exists. Continuing...\n",
      "Writing input files...\n",
      "Writing .top, .txt, etc. files...\n",
      "Writing observable json, as nessecary...\n",
      "Writing sbatch scripts...\n",
      ">`chmod u+x /scratch/jrevan21/patchysimulations/Wereflamingo_X2_longsim_2023-06-17/rule_neither/duplicate_2/narrow_type_1/T_0.025/num_assemblies_4/gen_conf.sh`\n",
      "``\n",
      ">`chmod u+x /scratch/jrevan21/patchysimulations/Wereflamingo_X2_longsim_2023-06-17/rule_neither/duplicate_2/narrow_type_1/T_0.025/num_assemblies_4/slurm_script.sh`\n",
      "``\n",
      "Setting up folder / file structure for particle_type_levels={'CT0': 1, 'CT1': 1, 'CT2': 3, 'CT3': 6, 'CT4': 0, 'CT5': 10, 'CT6': 1, 'CT7': 0}, duplicate=2, narrow_type=1, T=0.025, num_assemblies=8...\n",
      "Folder /scratch/jrevan21/patchysimulations/Wereflamingo_X2_longsim_2023-06-17/rule_neither/duplicate_2/narrow_type_1/T_0.025/num_assemblies_8 already exists. Continuing...\n",
      "Writing input files...\n",
      "Writing .top, .txt, etc. files...\n",
      "Writing observable json, as nessecary...\n",
      "Writing sbatch scripts...\n",
      ">`chmod u+x /scratch/jrevan21/patchysimulations/Wereflamingo_X2_longsim_2023-06-17/rule_neither/duplicate_2/narrow_type_1/T_0.025/num_assemblies_8/gen_conf.sh`\n",
      "``\n",
      ">`chmod u+x /scratch/jrevan21/patchysimulations/Wereflamingo_X2_longsim_2023-06-17/rule_neither/duplicate_2/narrow_type_1/T_0.025/num_assemblies_8/slurm_script.sh`\n",
      "``\n",
      "Setting up folder / file structure for particle_type_levels={'CT0': 1, 'CT1': 1, 'CT2': 3, 'CT3': 6, 'CT4': 0, 'CT5': 10, 'CT6': 1, 'CT7': 0}, duplicate=2, narrow_type=1, T=0.025, num_assemblies=12...\n",
      "Folder /scratch/jrevan21/patchysimulations/Wereflamingo_X2_longsim_2023-06-17/rule_neither/duplicate_2/narrow_type_1/T_0.025/num_assemblies_12 already exists. Continuing...\n",
      "Writing input files...\n",
      "Writing .top, .txt, etc. files...\n",
      "Writing observable json, as nessecary...\n",
      "Writing sbatch scripts...\n",
      ">`chmod u+x /scratch/jrevan21/patchysimulations/Wereflamingo_X2_longsim_2023-06-17/rule_neither/duplicate_2/narrow_type_1/T_0.025/num_assemblies_12/gen_conf.sh`\n",
      "``\n",
      ">`chmod u+x /scratch/jrevan21/patchysimulations/Wereflamingo_X2_longsim_2023-06-17/rule_neither/duplicate_2/narrow_type_1/T_0.025/num_assemblies_12/slurm_script.sh`\n",
      "``\n",
      "Setting up folder / file structure for particle_type_levels={'CT0': 1, 'CT1': 1, 'CT2': 3, 'CT3': 6, 'CT4': 0, 'CT5': 10, 'CT6': 1, 'CT7': 0}, duplicate=2, narrow_type=1, T=0.025, num_assemblies=16...\n",
      "Folder /scratch/jrevan21/patchysimulations/Wereflamingo_X2_longsim_2023-06-17/rule_neither/duplicate_2/narrow_type_1/T_0.025/num_assemblies_16 already exists. Continuing...\n",
      "Writing input files...\n",
      "Writing .top, .txt, etc. files...\n",
      "Writing observable json, as nessecary...\n",
      "Writing sbatch scripts...\n",
      ">`chmod u+x /scratch/jrevan21/patchysimulations/Wereflamingo_X2_longsim_2023-06-17/rule_neither/duplicate_2/narrow_type_1/T_0.025/num_assemblies_16/gen_conf.sh`\n",
      "``\n",
      ">`chmod u+x /scratch/jrevan21/patchysimulations/Wereflamingo_X2_longsim_2023-06-17/rule_neither/duplicate_2/narrow_type_1/T_0.025/num_assemblies_16/slurm_script.sh`\n",
      "``\n",
      "Setting up folder / file structure for particle_type_levels={'CT0': 1, 'CT1': 1, 'CT2': 3, 'CT3': 6, 'CT4': 0, 'CT5': 10, 'CT6': 1, 'CT7': 0}, duplicate=3, narrow_type=0, T=0.01, num_assemblies=4...\n",
      "Folder /scratch/jrevan21/patchysimulations/Wereflamingo_X2_longsim_2023-06-17/rule_neither/duplicate_3/narrow_type_0/T_0.01/num_assemblies_4 already exists. Continuing...\n",
      "Writing input files...\n",
      "Writing .top, .txt, etc. files...\n",
      "Writing observable json, as nessecary...\n",
      "Writing sbatch scripts...\n",
      ">`chmod u+x /scratch/jrevan21/patchysimulations/Wereflamingo_X2_longsim_2023-06-17/rule_neither/duplicate_3/narrow_type_0/T_0.01/num_assemblies_4/gen_conf.sh`\n",
      "``\n",
      ">`chmod u+x /scratch/jrevan21/patchysimulations/Wereflamingo_X2_longsim_2023-06-17/rule_neither/duplicate_3/narrow_type_0/T_0.01/num_assemblies_4/slurm_script.sh`\n",
      "``\n",
      "Setting up folder / file structure for particle_type_levels={'CT0': 1, 'CT1': 1, 'CT2': 3, 'CT3': 6, 'CT4': 0, 'CT5': 10, 'CT6': 1, 'CT7': 0}, duplicate=3, narrow_type=0, T=0.01, num_assemblies=8...\n",
      "Folder /scratch/jrevan21/patchysimulations/Wereflamingo_X2_longsim_2023-06-17/rule_neither/duplicate_3/narrow_type_0/T_0.01/num_assemblies_8 already exists. Continuing...\n",
      "Writing input files...\n",
      "Writing .top, .txt, etc. files...\n",
      "Writing observable json, as nessecary...\n",
      "Writing sbatch scripts...\n",
      ">`chmod u+x /scratch/jrevan21/patchysimulations/Wereflamingo_X2_longsim_2023-06-17/rule_neither/duplicate_3/narrow_type_0/T_0.01/num_assemblies_8/gen_conf.sh`\n",
      "``\n",
      ">`chmod u+x /scratch/jrevan21/patchysimulations/Wereflamingo_X2_longsim_2023-06-17/rule_neither/duplicate_3/narrow_type_0/T_0.01/num_assemblies_8/slurm_script.sh`\n",
      "``\n",
      "Setting up folder / file structure for particle_type_levels={'CT0': 1, 'CT1': 1, 'CT2': 3, 'CT3': 6, 'CT4': 0, 'CT5': 10, 'CT6': 1, 'CT7': 0}, duplicate=3, narrow_type=0, T=0.01, num_assemblies=12...\n",
      "Folder /scratch/jrevan21/patchysimulations/Wereflamingo_X2_longsim_2023-06-17/rule_neither/duplicate_3/narrow_type_0/T_0.01/num_assemblies_12 already exists. Continuing...\n",
      "Writing input files...\n",
      "Writing .top, .txt, etc. files...\n",
      "Writing observable json, as nessecary...\n",
      "Writing sbatch scripts...\n",
      ">`chmod u+x /scratch/jrevan21/patchysimulations/Wereflamingo_X2_longsim_2023-06-17/rule_neither/duplicate_3/narrow_type_0/T_0.01/num_assemblies_12/gen_conf.sh`\n",
      "``\n",
      ">`chmod u+x /scratch/jrevan21/patchysimulations/Wereflamingo_X2_longsim_2023-06-17/rule_neither/duplicate_3/narrow_type_0/T_0.01/num_assemblies_12/slurm_script.sh`\n",
      "``\n",
      "Setting up folder / file structure for particle_type_levels={'CT0': 1, 'CT1': 1, 'CT2': 3, 'CT3': 6, 'CT4': 0, 'CT5': 10, 'CT6': 1, 'CT7': 0}, duplicate=3, narrow_type=0, T=0.01, num_assemblies=16...\n",
      "Folder /scratch/jrevan21/patchysimulations/Wereflamingo_X2_longsim_2023-06-17/rule_neither/duplicate_3/narrow_type_0/T_0.01/num_assemblies_16 already exists. Continuing...\n",
      "Writing input files...\n",
      "Writing .top, .txt, etc. files...\n",
      "Writing observable json, as nessecary...\n",
      "Writing sbatch scripts...\n",
      ">`chmod u+x /scratch/jrevan21/patchysimulations/Wereflamingo_X2_longsim_2023-06-17/rule_neither/duplicate_3/narrow_type_0/T_0.01/num_assemblies_16/gen_conf.sh`\n",
      "``\n",
      ">`chmod u+x /scratch/jrevan21/patchysimulations/Wereflamingo_X2_longsim_2023-06-17/rule_neither/duplicate_3/narrow_type_0/T_0.01/num_assemblies_16/slurm_script.sh`\n",
      "``\n",
      "Setting up folder / file structure for particle_type_levels={'CT0': 1, 'CT1': 1, 'CT2': 3, 'CT3': 6, 'CT4': 0, 'CT5': 10, 'CT6': 1, 'CT7': 0}, duplicate=3, narrow_type=0, T=0.025, num_assemblies=4...\n",
      "Folder /scratch/jrevan21/patchysimulations/Wereflamingo_X2_longsim_2023-06-17/rule_neither/duplicate_3/narrow_type_0/T_0.025/num_assemblies_4 already exists. Continuing...\n",
      "Writing input files...\n",
      "Writing .top, .txt, etc. files...\n",
      "Writing observable json, as nessecary...\n",
      "Writing sbatch scripts...\n",
      ">`chmod u+x /scratch/jrevan21/patchysimulations/Wereflamingo_X2_longsim_2023-06-17/rule_neither/duplicate_3/narrow_type_0/T_0.025/num_assemblies_4/gen_conf.sh`\n",
      "``\n",
      ">`chmod u+x /scratch/jrevan21/patchysimulations/Wereflamingo_X2_longsim_2023-06-17/rule_neither/duplicate_3/narrow_type_0/T_0.025/num_assemblies_4/slurm_script.sh`\n",
      "``\n",
      "Setting up folder / file structure for particle_type_levels={'CT0': 1, 'CT1': 1, 'CT2': 3, 'CT3': 6, 'CT4': 0, 'CT5': 10, 'CT6': 1, 'CT7': 0}, duplicate=3, narrow_type=0, T=0.025, num_assemblies=8...\n",
      "Folder /scratch/jrevan21/patchysimulations/Wereflamingo_X2_longsim_2023-06-17/rule_neither/duplicate_3/narrow_type_0/T_0.025/num_assemblies_8 already exists. Continuing...\n",
      "Writing input files...\n",
      "Writing .top, .txt, etc. files...\n",
      "Writing observable json, as nessecary...\n",
      "Writing sbatch scripts...\n",
      ">`chmod u+x /scratch/jrevan21/patchysimulations/Wereflamingo_X2_longsim_2023-06-17/rule_neither/duplicate_3/narrow_type_0/T_0.025/num_assemblies_8/gen_conf.sh`\n",
      "``\n",
      ">`chmod u+x /scratch/jrevan21/patchysimulations/Wereflamingo_X2_longsim_2023-06-17/rule_neither/duplicate_3/narrow_type_0/T_0.025/num_assemblies_8/slurm_script.sh`\n",
      "``\n",
      "Setting up folder / file structure for particle_type_levels={'CT0': 1, 'CT1': 1, 'CT2': 3, 'CT3': 6, 'CT4': 0, 'CT5': 10, 'CT6': 1, 'CT7': 0}, duplicate=3, narrow_type=0, T=0.025, num_assemblies=12...\n",
      "Folder /scratch/jrevan21/patchysimulations/Wereflamingo_X2_longsim_2023-06-17/rule_neither/duplicate_3/narrow_type_0/T_0.025/num_assemblies_12 already exists. Continuing...\n",
      "Writing input files...\n",
      "Writing .top, .txt, etc. files...\n",
      "Writing observable json, as nessecary...\n",
      "Writing sbatch scripts...\n",
      ">`chmod u+x /scratch/jrevan21/patchysimulations/Wereflamingo_X2_longsim_2023-06-17/rule_neither/duplicate_3/narrow_type_0/T_0.025/num_assemblies_12/gen_conf.sh`\n",
      "``\n",
      ">`chmod u+x /scratch/jrevan21/patchysimulations/Wereflamingo_X2_longsim_2023-06-17/rule_neither/duplicate_3/narrow_type_0/T_0.025/num_assemblies_12/slurm_script.sh`\n",
      "``\n",
      "Setting up folder / file structure for particle_type_levels={'CT0': 1, 'CT1': 1, 'CT2': 3, 'CT3': 6, 'CT4': 0, 'CT5': 10, 'CT6': 1, 'CT7': 0}, duplicate=3, narrow_type=0, T=0.025, num_assemblies=16...\n",
      "Folder /scratch/jrevan21/patchysimulations/Wereflamingo_X2_longsim_2023-06-17/rule_neither/duplicate_3/narrow_type_0/T_0.025/num_assemblies_16 already exists. Continuing...\n",
      "Writing input files...\n",
      "Writing .top, .txt, etc. files...\n",
      "Writing observable json, as nessecary...\n",
      "Writing sbatch scripts...\n",
      ">`chmod u+x /scratch/jrevan21/patchysimulations/Wereflamingo_X2_longsim_2023-06-17/rule_neither/duplicate_3/narrow_type_0/T_0.025/num_assemblies_16/gen_conf.sh`\n",
      "``\n",
      ">`chmod u+x /scratch/jrevan21/patchysimulations/Wereflamingo_X2_longsim_2023-06-17/rule_neither/duplicate_3/narrow_type_0/T_0.025/num_assemblies_16/slurm_script.sh`\n",
      "``\n",
      "Setting up folder / file structure for particle_type_levels={'CT0': 1, 'CT1': 1, 'CT2': 3, 'CT3': 6, 'CT4': 0, 'CT5': 10, 'CT6': 1, 'CT7': 0}, duplicate=3, narrow_type=1, T=0.01, num_assemblies=4...\n",
      "Folder /scratch/jrevan21/patchysimulations/Wereflamingo_X2_longsim_2023-06-17/rule_neither/duplicate_3/narrow_type_1/T_0.01/num_assemblies_4 already exists. Continuing...\n",
      "Writing input files...\n",
      "Writing .top, .txt, etc. files...\n",
      "Writing observable json, as nessecary...\n",
      "Writing sbatch scripts...\n",
      ">`chmod u+x /scratch/jrevan21/patchysimulations/Wereflamingo_X2_longsim_2023-06-17/rule_neither/duplicate_3/narrow_type_1/T_0.01/num_assemblies_4/gen_conf.sh`\n",
      "``\n",
      ">`chmod u+x /scratch/jrevan21/patchysimulations/Wereflamingo_X2_longsim_2023-06-17/rule_neither/duplicate_3/narrow_type_1/T_0.01/num_assemblies_4/slurm_script.sh`\n",
      "``\n",
      "Setting up folder / file structure for particle_type_levels={'CT0': 1, 'CT1': 1, 'CT2': 3, 'CT3': 6, 'CT4': 0, 'CT5': 10, 'CT6': 1, 'CT7': 0}, duplicate=3, narrow_type=1, T=0.01, num_assemblies=8...\n",
      "Folder /scratch/jrevan21/patchysimulations/Wereflamingo_X2_longsim_2023-06-17/rule_neither/duplicate_3/narrow_type_1/T_0.01/num_assemblies_8 already exists. Continuing...\n",
      "Writing input files...\n",
      "Writing .top, .txt, etc. files...\n",
      "Writing observable json, as nessecary...\n",
      "Writing sbatch scripts...\n",
      ">`chmod u+x /scratch/jrevan21/patchysimulations/Wereflamingo_X2_longsim_2023-06-17/rule_neither/duplicate_3/narrow_type_1/T_0.01/num_assemblies_8/gen_conf.sh`\n",
      "``\n",
      ">`chmod u+x /scratch/jrevan21/patchysimulations/Wereflamingo_X2_longsim_2023-06-17/rule_neither/duplicate_3/narrow_type_1/T_0.01/num_assemblies_8/slurm_script.sh`\n",
      "``\n",
      "Setting up folder / file structure for particle_type_levels={'CT0': 1, 'CT1': 1, 'CT2': 3, 'CT3': 6, 'CT4': 0, 'CT5': 10, 'CT6': 1, 'CT7': 0}, duplicate=3, narrow_type=1, T=0.01, num_assemblies=12...\n",
      "Folder /scratch/jrevan21/patchysimulations/Wereflamingo_X2_longsim_2023-06-17/rule_neither/duplicate_3/narrow_type_1/T_0.01/num_assemblies_12 already exists. Continuing...\n",
      "Writing input files...\n",
      "Writing .top, .txt, etc. files...\n",
      "Writing observable json, as nessecary...\n",
      "Writing sbatch scripts...\n",
      ">`chmod u+x /scratch/jrevan21/patchysimulations/Wereflamingo_X2_longsim_2023-06-17/rule_neither/duplicate_3/narrow_type_1/T_0.01/num_assemblies_12/gen_conf.sh`\n",
      "``\n",
      ">`chmod u+x /scratch/jrevan21/patchysimulations/Wereflamingo_X2_longsim_2023-06-17/rule_neither/duplicate_3/narrow_type_1/T_0.01/num_assemblies_12/slurm_script.sh`\n",
      "``\n",
      "Setting up folder / file structure for particle_type_levels={'CT0': 1, 'CT1': 1, 'CT2': 3, 'CT3': 6, 'CT4': 0, 'CT5': 10, 'CT6': 1, 'CT7': 0}, duplicate=3, narrow_type=1, T=0.01, num_assemblies=16...\n",
      "Folder /scratch/jrevan21/patchysimulations/Wereflamingo_X2_longsim_2023-06-17/rule_neither/duplicate_3/narrow_type_1/T_0.01/num_assemblies_16 already exists. Continuing...\n",
      "Writing input files...\n",
      "Writing .top, .txt, etc. files...\n",
      "Writing observable json, as nessecary...\n",
      "Writing sbatch scripts...\n",
      ">`chmod u+x /scratch/jrevan21/patchysimulations/Wereflamingo_X2_longsim_2023-06-17/rule_neither/duplicate_3/narrow_type_1/T_0.01/num_assemblies_16/gen_conf.sh`\n",
      "``\n",
      ">`chmod u+x /scratch/jrevan21/patchysimulations/Wereflamingo_X2_longsim_2023-06-17/rule_neither/duplicate_3/narrow_type_1/T_0.01/num_assemblies_16/slurm_script.sh`\n",
      "``\n",
      "Setting up folder / file structure for particle_type_levels={'CT0': 1, 'CT1': 1, 'CT2': 3, 'CT3': 6, 'CT4': 0, 'CT5': 10, 'CT6': 1, 'CT7': 0}, duplicate=3, narrow_type=1, T=0.025, num_assemblies=4...\n",
      "Folder /scratch/jrevan21/patchysimulations/Wereflamingo_X2_longsim_2023-06-17/rule_neither/duplicate_3/narrow_type_1/T_0.025/num_assemblies_4 already exists. Continuing...\n",
      "Writing input files...\n",
      "Writing .top, .txt, etc. files...\n",
      "Writing observable json, as nessecary...\n",
      "Writing sbatch scripts...\n",
      ">`chmod u+x /scratch/jrevan21/patchysimulations/Wereflamingo_X2_longsim_2023-06-17/rule_neither/duplicate_3/narrow_type_1/T_0.025/num_assemblies_4/gen_conf.sh`\n",
      "``\n",
      ">`chmod u+x /scratch/jrevan21/patchysimulations/Wereflamingo_X2_longsim_2023-06-17/rule_neither/duplicate_3/narrow_type_1/T_0.025/num_assemblies_4/slurm_script.sh`\n",
      "``\n",
      "Setting up folder / file structure for particle_type_levels={'CT0': 1, 'CT1': 1, 'CT2': 3, 'CT3': 6, 'CT4': 0, 'CT5': 10, 'CT6': 1, 'CT7': 0}, duplicate=3, narrow_type=1, T=0.025, num_assemblies=8...\n",
      "Folder /scratch/jrevan21/patchysimulations/Wereflamingo_X2_longsim_2023-06-17/rule_neither/duplicate_3/narrow_type_1/T_0.025/num_assemblies_8 already exists. Continuing...\n",
      "Writing input files...\n",
      "Writing .top, .txt, etc. files...\n",
      "Writing observable json, as nessecary...\n",
      "Writing sbatch scripts...\n",
      ">`chmod u+x /scratch/jrevan21/patchysimulations/Wereflamingo_X2_longsim_2023-06-17/rule_neither/duplicate_3/narrow_type_1/T_0.025/num_assemblies_8/gen_conf.sh`\n",
      "``\n",
      ">`chmod u+x /scratch/jrevan21/patchysimulations/Wereflamingo_X2_longsim_2023-06-17/rule_neither/duplicate_3/narrow_type_1/T_0.025/num_assemblies_8/slurm_script.sh`\n",
      "``\n",
      "Setting up folder / file structure for particle_type_levels={'CT0': 1, 'CT1': 1, 'CT2': 3, 'CT3': 6, 'CT4': 0, 'CT5': 10, 'CT6': 1, 'CT7': 0}, duplicate=3, narrow_type=1, T=0.025, num_assemblies=12...\n",
      "Folder /scratch/jrevan21/patchysimulations/Wereflamingo_X2_longsim_2023-06-17/rule_neither/duplicate_3/narrow_type_1/T_0.025/num_assemblies_12 already exists. Continuing...\n",
      "Writing input files...\n",
      "Writing .top, .txt, etc. files...\n",
      "Writing observable json, as nessecary...\n",
      "Writing sbatch scripts...\n",
      ">`chmod u+x /scratch/jrevan21/patchysimulations/Wereflamingo_X2_longsim_2023-06-17/rule_neither/duplicate_3/narrow_type_1/T_0.025/num_assemblies_12/gen_conf.sh`\n",
      "``\n",
      ">`chmod u+x /scratch/jrevan21/patchysimulations/Wereflamingo_X2_longsim_2023-06-17/rule_neither/duplicate_3/narrow_type_1/T_0.025/num_assemblies_12/slurm_script.sh`\n",
      "``\n",
      "Setting up folder / file structure for particle_type_levels={'CT0': 1, 'CT1': 1, 'CT2': 3, 'CT3': 6, 'CT4': 0, 'CT5': 10, 'CT6': 1, 'CT7': 0}, duplicate=3, narrow_type=1, T=0.025, num_assemblies=16...\n",
      "Folder /scratch/jrevan21/patchysimulations/Wereflamingo_X2_longsim_2023-06-17/rule_neither/duplicate_3/narrow_type_1/T_0.025/num_assemblies_16 already exists. Continuing...\n",
      "Writing input files...\n",
      "Writing .top, .txt, etc. files...\n",
      "Writing observable json, as nessecary...\n",
      "Writing sbatch scripts...\n",
      ">`chmod u+x /scratch/jrevan21/patchysimulations/Wereflamingo_X2_longsim_2023-06-17/rule_neither/duplicate_3/narrow_type_1/T_0.025/num_assemblies_16/gen_conf.sh`\n",
      "``\n",
      ">`chmod u+x /scratch/jrevan21/patchysimulations/Wereflamingo_X2_longsim_2023-06-17/rule_neither/duplicate_3/narrow_type_1/T_0.025/num_assemblies_16/slurm_script.sh`\n",
      "``\n"
     ]
    }
   ],
   "source": [
    "sim_setup.do_setup()"
   ]
  },
  {
   "cell_type": "code",
   "execution_count": 5,
   "id": "bf84052a-2052-40b1-b8d3-741374ac5c3c",
   "metadata": {
    "scrolled": true,
    "tags": []
   },
   "outputs": [
    {
     "name": "stdout",
     "output_type": "stream",
     "text": [
      ">`sbatch slurm_script.sh`\n",
      "`Submitted batch job 21350194\n",
      "`\n",
      ">`sbatch gen_conf.sh`\n",
      "`Submitted batch job 21350195\n",
      "`\n",
      ">`sbatch slurm_script.sh --dependency=afterok:21350195`\n",
      "`Submitted batch job 21350196\n",
      "`\n",
      ">`sbatch gen_conf.sh`\n",
      "`Submitted batch job 21350197\n",
      "`\n",
      ">`sbatch slurm_script.sh --dependency=afterok:21350197`\n"
     ]
    },
    {
     "name": "stderr",
     "output_type": "stream",
     "text": [
      "/home/jrevan21/pypatchy/notebooks/../src/patchy/setup/patchy_set_setup.py:367: FutureWarning: The frame.append method is deprecated and will be removed from pandas in a future version. Use pandas.concat instead.\n",
      "  self.slurm_log.append({\n",
      "/home/jrevan21/pypatchy/notebooks/../src/patchy/setup/patchy_set_setup.py:367: FutureWarning: The frame.append method is deprecated and will be removed from pandas in a future version. Use pandas.concat instead.\n",
      "  self.slurm_log.append({\n"
     ]
    },
    {
     "name": "stdout",
     "output_type": "stream",
     "text": [
      "`Submitted batch job 21350198\n",
      "`\n",
      ">`sbatch gen_conf.sh`\n",
      "`Submitted batch job 21350199\n",
      "`\n",
      ">`sbatch slurm_script.sh --dependency=afterok:21350199`\n",
      "`Submitted batch job 21350200\n",
      "`\n",
      ">`sbatch gen_conf.sh`\n"
     ]
    },
    {
     "name": "stderr",
     "output_type": "stream",
     "text": [
      "/home/jrevan21/pypatchy/notebooks/../src/patchy/setup/patchy_set_setup.py:367: FutureWarning: The frame.append method is deprecated and will be removed from pandas in a future version. Use pandas.concat instead.\n",
      "  self.slurm_log.append({\n",
      "/home/jrevan21/pypatchy/notebooks/../src/patchy/setup/patchy_set_setup.py:367: FutureWarning: The frame.append method is deprecated and will be removed from pandas in a future version. Use pandas.concat instead.\n",
      "  self.slurm_log.append({\n"
     ]
    },
    {
     "name": "stdout",
     "output_type": "stream",
     "text": [
      "`Submitted batch job 21350201\n",
      "`\n",
      ">`sbatch slurm_script.sh --dependency=afterok:21350201`\n",
      "`Submitted batch job 21350203\n",
      "`\n",
      ">`sbatch gen_conf.sh`\n",
      "`Submitted batch job 21350204\n",
      "`\n",
      ">`sbatch slurm_script.sh --dependency=afterok:21350204`\n"
     ]
    },
    {
     "name": "stderr",
     "output_type": "stream",
     "text": [
      "/home/jrevan21/pypatchy/notebooks/../src/patchy/setup/patchy_set_setup.py:367: FutureWarning: The frame.append method is deprecated and will be removed from pandas in a future version. Use pandas.concat instead.\n",
      "  self.slurm_log.append({\n"
     ]
    },
    {
     "name": "stdout",
     "output_type": "stream",
     "text": [
      "`Submitted batch job 21350205\n",
      "`\n",
      ">`sbatch gen_conf.sh`\n"
     ]
    },
    {
     "name": "stderr",
     "output_type": "stream",
     "text": [
      "/home/jrevan21/pypatchy/notebooks/../src/patchy/setup/patchy_set_setup.py:367: FutureWarning: The frame.append method is deprecated and will be removed from pandas in a future version. Use pandas.concat instead.\n",
      "  self.slurm_log.append({\n"
     ]
    },
    {
     "name": "stdout",
     "output_type": "stream",
     "text": [
      "`Submitted batch job 21350206\n",
      "`\n",
      ">`sbatch slurm_script.sh --dependency=afterok:21350206`\n",
      "`Submitted batch job 21350207\n",
      "`\n",
      ">`sbatch gen_conf.sh`\n",
      "`Submitted batch job 21350208\n",
      "`\n",
      ">`sbatch slurm_script.sh --dependency=afterok:21350208`\n",
      "`Submitted batch job 21350209\n",
      "`\n",
      ">`sbatch gen_conf.sh`\n",
      "`Submitted batch job 21350210\n",
      "`\n",
      ">`sbatch slurm_script.sh --dependency=afterok:21350210`\n"
     ]
    },
    {
     "name": "stderr",
     "output_type": "stream",
     "text": [
      "/home/jrevan21/pypatchy/notebooks/../src/patchy/setup/patchy_set_setup.py:367: FutureWarning: The frame.append method is deprecated and will be removed from pandas in a future version. Use pandas.concat instead.\n",
      "  self.slurm_log.append({\n",
      "/home/jrevan21/pypatchy/notebooks/../src/patchy/setup/patchy_set_setup.py:367: FutureWarning: The frame.append method is deprecated and will be removed from pandas in a future version. Use pandas.concat instead.\n",
      "  self.slurm_log.append({\n"
     ]
    },
    {
     "name": "stdout",
     "output_type": "stream",
     "text": [
      "`Submitted batch job 21350211\n",
      "`\n",
      ">`sbatch gen_conf.sh`\n"
     ]
    },
    {
     "name": "stderr",
     "output_type": "stream",
     "text": [
      "/home/jrevan21/pypatchy/notebooks/../src/patchy/setup/patchy_set_setup.py:367: FutureWarning: The frame.append method is deprecated and will be removed from pandas in a future version. Use pandas.concat instead.\n",
      "  self.slurm_log.append({\n"
     ]
    },
    {
     "name": "stdout",
     "output_type": "stream",
     "text": [
      "`Submitted batch job 21350212\n",
      "`\n",
      ">`sbatch slurm_script.sh --dependency=afterok:21350212`\n",
      "`Submitted batch job 21350213\n",
      "`\n",
      ">`sbatch gen_conf.sh`\n"
     ]
    },
    {
     "name": "stderr",
     "output_type": "stream",
     "text": [
      "/home/jrevan21/pypatchy/notebooks/../src/patchy/setup/patchy_set_setup.py:367: FutureWarning: The frame.append method is deprecated and will be removed from pandas in a future version. Use pandas.concat instead.\n",
      "  self.slurm_log.append({\n"
     ]
    },
    {
     "name": "stdout",
     "output_type": "stream",
     "text": [
      "`Submitted batch job 21350214\n",
      "`\n",
      ">`sbatch slurm_script.sh --dependency=afterok:21350214`\n",
      "`Submitted batch job 21350215\n",
      "`\n",
      ">`sbatch gen_conf.sh`\n",
      "`Submitted batch job 21350216\n",
      "`\n",
      ">`sbatch slurm_script.sh --dependency=afterok:21350216`\n"
     ]
    },
    {
     "name": "stderr",
     "output_type": "stream",
     "text": [
      "/home/jrevan21/pypatchy/notebooks/../src/patchy/setup/patchy_set_setup.py:367: FutureWarning: The frame.append method is deprecated and will be removed from pandas in a future version. Use pandas.concat instead.\n",
      "  self.slurm_log.append({\n"
     ]
    },
    {
     "name": "stdout",
     "output_type": "stream",
     "text": [
      "`Submitted batch job 21350217\n",
      "`\n",
      ">`sbatch gen_conf.sh`\n"
     ]
    },
    {
     "name": "stderr",
     "output_type": "stream",
     "text": [
      "/home/jrevan21/pypatchy/notebooks/../src/patchy/setup/patchy_set_setup.py:367: FutureWarning: The frame.append method is deprecated and will be removed from pandas in a future version. Use pandas.concat instead.\n",
      "  self.slurm_log.append({\n"
     ]
    },
    {
     "name": "stdout",
     "output_type": "stream",
     "text": [
      "`Submitted batch job 21350218\n",
      "`\n",
      ">`sbatch slurm_script.sh --dependency=afterok:21350218`\n",
      "`Submitted batch job 21350219\n",
      "`\n",
      ">`sbatch gen_conf.sh`\n"
     ]
    },
    {
     "name": "stderr",
     "output_type": "stream",
     "text": [
      "/home/jrevan21/pypatchy/notebooks/../src/patchy/setup/patchy_set_setup.py:367: FutureWarning: The frame.append method is deprecated and will be removed from pandas in a future version. Use pandas.concat instead.\n",
      "  self.slurm_log.append({\n"
     ]
    },
    {
     "name": "stdout",
     "output_type": "stream",
     "text": [
      "`Submitted batch job 21350220\n",
      "`\n",
      ">`sbatch slurm_script.sh --dependency=afterok:21350220`\n",
      "`Submitted batch job 21350221\n",
      "`\n",
      ">`sbatch gen_conf.sh`\n"
     ]
    },
    {
     "name": "stderr",
     "output_type": "stream",
     "text": [
      "/home/jrevan21/pypatchy/notebooks/../src/patchy/setup/patchy_set_setup.py:367: FutureWarning: The frame.append method is deprecated and will be removed from pandas in a future version. Use pandas.concat instead.\n",
      "  self.slurm_log.append({\n"
     ]
    },
    {
     "name": "stdout",
     "output_type": "stream",
     "text": [
      "`Submitted batch job 21350222\n",
      "`\n",
      ">`sbatch slurm_script.sh --dependency=afterok:21350222`\n",
      "`Submitted batch job 21350224\n",
      "`\n",
      ">`sbatch gen_conf.sh`\n"
     ]
    },
    {
     "name": "stderr",
     "output_type": "stream",
     "text": [
      "/home/jrevan21/pypatchy/notebooks/../src/patchy/setup/patchy_set_setup.py:367: FutureWarning: The frame.append method is deprecated and will be removed from pandas in a future version. Use pandas.concat instead.\n",
      "  self.slurm_log.append({\n"
     ]
    },
    {
     "name": "stdout",
     "output_type": "stream",
     "text": [
      "`Submitted batch job 21350225\n",
      "`\n",
      ">`sbatch slurm_script.sh --dependency=afterok:21350225`\n",
      "`Submitted batch job 21350226\n",
      "`\n",
      ">`sbatch gen_conf.sh`\n",
      "`Submitted batch job 21350227\n",
      "`\n",
      ">`sbatch slurm_script.sh --dependency=afterok:21350227`\n",
      "`Submitted batch job 21350229\n",
      "`\n",
      ">`sbatch gen_conf.sh`\n"
     ]
    },
    {
     "name": "stderr",
     "output_type": "stream",
     "text": [
      "/home/jrevan21/pypatchy/notebooks/../src/patchy/setup/patchy_set_setup.py:367: FutureWarning: The frame.append method is deprecated and will be removed from pandas in a future version. Use pandas.concat instead.\n",
      "  self.slurm_log.append({\n",
      "/home/jrevan21/pypatchy/notebooks/../src/patchy/setup/patchy_set_setup.py:367: FutureWarning: The frame.append method is deprecated and will be removed from pandas in a future version. Use pandas.concat instead.\n",
      "  self.slurm_log.append({\n"
     ]
    },
    {
     "name": "stdout",
     "output_type": "stream",
     "text": [
      "`Submitted batch job 21350230\n",
      "`\n",
      ">`sbatch slurm_script.sh --dependency=afterok:21350230`\n",
      "`Submitted batch job 21350231\n",
      "`\n",
      ">`sbatch gen_conf.sh`\n",
      "`Submitted batch job 21350232\n",
      "`\n",
      ">`sbatch slurm_script.sh --dependency=afterok:21350232`\n"
     ]
    },
    {
     "name": "stderr",
     "output_type": "stream",
     "text": [
      "/home/jrevan21/pypatchy/notebooks/../src/patchy/setup/patchy_set_setup.py:367: FutureWarning: The frame.append method is deprecated and will be removed from pandas in a future version. Use pandas.concat instead.\n",
      "  self.slurm_log.append({\n"
     ]
    },
    {
     "name": "stdout",
     "output_type": "stream",
     "text": [
      "`Submitted batch job 21350233\n",
      "`\n",
      ">`sbatch gen_conf.sh`\n",
      "`Submitted batch job 21350234\n",
      "`\n",
      ">`sbatch slurm_script.sh --dependency=afterok:21350234`\n",
      "`Submitted batch job 21350235\n",
      "`\n",
      ">`sbatch gen_conf.sh`\n"
     ]
    },
    {
     "name": "stderr",
     "output_type": "stream",
     "text": [
      "/home/jrevan21/pypatchy/notebooks/../src/patchy/setup/patchy_set_setup.py:367: FutureWarning: The frame.append method is deprecated and will be removed from pandas in a future version. Use pandas.concat instead.\n",
      "  self.slurm_log.append({\n",
      "/home/jrevan21/pypatchy/notebooks/../src/patchy/setup/patchy_set_setup.py:367: FutureWarning: The frame.append method is deprecated and will be removed from pandas in a future version. Use pandas.concat instead.\n",
      "  self.slurm_log.append({\n"
     ]
    },
    {
     "name": "stdout",
     "output_type": "stream",
     "text": [
      "`Submitted batch job 21350236\n",
      "`\n",
      ">`sbatch slurm_script.sh --dependency=afterok:21350236`\n",
      "`Submitted batch job 21350237\n",
      "`\n",
      ">`sbatch gen_conf.sh`\n",
      "`Submitted batch job 21350238\n",
      "`\n"
     ]
    },
    {
     "name": "stderr",
     "output_type": "stream",
     "text": [
      "/home/jrevan21/pypatchy/notebooks/../src/patchy/setup/patchy_set_setup.py:367: FutureWarning: The frame.append method is deprecated and will be removed from pandas in a future version. Use pandas.concat instead.\n",
      "  self.slurm_log.append({\n"
     ]
    },
    {
     "name": "stdout",
     "output_type": "stream",
     "text": [
      ">`sbatch slurm_script.sh --dependency=afterok:21350238`\n",
      "`Submitted batch job 21350239\n",
      "`\n",
      ">`sbatch gen_conf.sh`\n"
     ]
    },
    {
     "name": "stderr",
     "output_type": "stream",
     "text": [
      "/home/jrevan21/pypatchy/notebooks/../src/patchy/setup/patchy_set_setup.py:367: FutureWarning: The frame.append method is deprecated and will be removed from pandas in a future version. Use pandas.concat instead.\n",
      "  self.slurm_log.append({\n"
     ]
    },
    {
     "name": "stdout",
     "output_type": "stream",
     "text": [
      "`Submitted batch job 21350240\n",
      "`\n",
      ">`sbatch slurm_script.sh --dependency=afterok:21350240`\n",
      "`Submitted batch job 21350242\n",
      "`\n",
      ">`sbatch gen_conf.sh`\n"
     ]
    },
    {
     "name": "stderr",
     "output_type": "stream",
     "text": [
      "/home/jrevan21/pypatchy/notebooks/../src/patchy/setup/patchy_set_setup.py:367: FutureWarning: The frame.append method is deprecated and will be removed from pandas in a future version. Use pandas.concat instead.\n",
      "  self.slurm_log.append({\n"
     ]
    },
    {
     "name": "stdout",
     "output_type": "stream",
     "text": [
      "`Submitted batch job 21350243\n",
      "`\n",
      ">`sbatch slurm_script.sh --dependency=afterok:21350243`\n",
      "`Submitted batch job 21350244\n",
      "`\n",
      ">`sbatch gen_conf.sh`\n",
      "`Submitted batch job 21350245\n",
      "`\n",
      ">`sbatch slurm_script.sh --dependency=afterok:21350245`\n"
     ]
    },
    {
     "name": "stderr",
     "output_type": "stream",
     "text": [
      "/home/jrevan21/pypatchy/notebooks/../src/patchy/setup/patchy_set_setup.py:367: FutureWarning: The frame.append method is deprecated and will be removed from pandas in a future version. Use pandas.concat instead.\n",
      "  self.slurm_log.append({\n"
     ]
    },
    {
     "name": "stdout",
     "output_type": "stream",
     "text": [
      "`Submitted batch job 21350246\n",
      "`\n",
      ">`sbatch gen_conf.sh`\n",
      "`Submitted batch job 21350247\n",
      "`\n",
      ">`sbatch slurm_script.sh --dependency=afterok:21350247`\n"
     ]
    },
    {
     "name": "stderr",
     "output_type": "stream",
     "text": [
      "/home/jrevan21/pypatchy/notebooks/../src/patchy/setup/patchy_set_setup.py:367: FutureWarning: The frame.append method is deprecated and will be removed from pandas in a future version. Use pandas.concat instead.\n",
      "  self.slurm_log.append({\n"
     ]
    },
    {
     "name": "stdout",
     "output_type": "stream",
     "text": [
      "`Submitted batch job 21350248\n",
      "`\n",
      ">`sbatch gen_conf.sh`\n",
      "`Submitted batch job 21350250\n",
      "`\n",
      ">`sbatch slurm_script.sh --dependency=afterok:21350250`\n",
      "`Submitted batch job 21350251\n",
      "`\n",
      ">`sbatch gen_conf.sh`\n"
     ]
    },
    {
     "name": "stderr",
     "output_type": "stream",
     "text": [
      "/home/jrevan21/pypatchy/notebooks/../src/patchy/setup/patchy_set_setup.py:367: FutureWarning: The frame.append method is deprecated and will be removed from pandas in a future version. Use pandas.concat instead.\n",
      "  self.slurm_log.append({\n",
      "/home/jrevan21/pypatchy/notebooks/../src/patchy/setup/patchy_set_setup.py:367: FutureWarning: The frame.append method is deprecated and will be removed from pandas in a future version. Use pandas.concat instead.\n",
      "  self.slurm_log.append({\n"
     ]
    },
    {
     "name": "stdout",
     "output_type": "stream",
     "text": [
      "`Submitted batch job 21350252\n",
      "`\n",
      ">`sbatch slurm_script.sh --dependency=afterok:21350252`\n",
      "`Submitted batch job 21350253\n",
      "`\n",
      ">`sbatch gen_conf.sh`\n"
     ]
    },
    {
     "name": "stderr",
     "output_type": "stream",
     "text": [
      "/home/jrevan21/pypatchy/notebooks/../src/patchy/setup/patchy_set_setup.py:367: FutureWarning: The frame.append method is deprecated and will be removed from pandas in a future version. Use pandas.concat instead.\n",
      "  self.slurm_log.append({\n"
     ]
    },
    {
     "name": "stdout",
     "output_type": "stream",
     "text": [
      "`Submitted batch job 21350254\n",
      "`\n",
      ">`sbatch slurm_script.sh --dependency=afterok:21350254`\n",
      "`Submitted batch job 21350255\n",
      "`\n",
      ">`sbatch gen_conf.sh`\n",
      "`Submitted batch job 21350256\n",
      "`\n",
      ">`sbatch slurm_script.sh --dependency=afterok:21350256`\n",
      "`Submitted batch job 21350257\n",
      "`\n",
      ">`sbatch gen_conf.sh`\n",
      "`Submitted batch job 21350258\n",
      "`\n",
      ">`sbatch slurm_script.sh --dependency=afterok:21350258`\n"
     ]
    },
    {
     "name": "stderr",
     "output_type": "stream",
     "text": [
      "/home/jrevan21/pypatchy/notebooks/../src/patchy/setup/patchy_set_setup.py:367: FutureWarning: The frame.append method is deprecated and will be removed from pandas in a future version. Use pandas.concat instead.\n",
      "  self.slurm_log.append({\n",
      "/home/jrevan21/pypatchy/notebooks/../src/patchy/setup/patchy_set_setup.py:367: FutureWarning: The frame.append method is deprecated and will be removed from pandas in a future version. Use pandas.concat instead.\n",
      "  self.slurm_log.append({\n"
     ]
    },
    {
     "name": "stdout",
     "output_type": "stream",
     "text": [
      "`Submitted batch job 21350259\n",
      "`\n",
      ">`sbatch gen_conf.sh`\n",
      "`Submitted batch job 21350260\n",
      "`\n",
      ">`sbatch slurm_script.sh --dependency=afterok:21350260`\n"
     ]
    },
    {
     "name": "stderr",
     "output_type": "stream",
     "text": [
      "/home/jrevan21/pypatchy/notebooks/../src/patchy/setup/patchy_set_setup.py:367: FutureWarning: The frame.append method is deprecated and will be removed from pandas in a future version. Use pandas.concat instead.\n",
      "  self.slurm_log.append({\n"
     ]
    },
    {
     "name": "stdout",
     "output_type": "stream",
     "text": [
      "`Submitted batch job 21350261\n",
      "`\n",
      ">`sbatch gen_conf.sh`\n",
      "`Submitted batch job 21350262\n",
      "`\n",
      ">`sbatch slurm_script.sh --dependency=afterok:21350262`\n",
      "`Submitted batch job 21350263\n",
      "`\n",
      ">`sbatch gen_conf.sh`\n"
     ]
    },
    {
     "name": "stderr",
     "output_type": "stream",
     "text": [
      "/home/jrevan21/pypatchy/notebooks/../src/patchy/setup/patchy_set_setup.py:367: FutureWarning: The frame.append method is deprecated and will be removed from pandas in a future version. Use pandas.concat instead.\n",
      "  self.slurm_log.append({\n",
      "/home/jrevan21/pypatchy/notebooks/../src/patchy/setup/patchy_set_setup.py:367: FutureWarning: The frame.append method is deprecated and will be removed from pandas in a future version. Use pandas.concat instead.\n",
      "  self.slurm_log.append({\n"
     ]
    },
    {
     "name": "stdout",
     "output_type": "stream",
     "text": [
      "`Submitted batch job 21350264\n",
      "`\n",
      ">`sbatch slurm_script.sh --dependency=afterok:21350264`\n",
      "`Submitted batch job 21350267\n",
      "`\n",
      ">`sbatch gen_conf.sh`\n",
      "`Submitted batch job 21350268\n",
      "`\n",
      ">`sbatch slurm_script.sh --dependency=afterok:21350268`\n"
     ]
    },
    {
     "name": "stderr",
     "output_type": "stream",
     "text": [
      "/home/jrevan21/pypatchy/notebooks/../src/patchy/setup/patchy_set_setup.py:367: FutureWarning: The frame.append method is deprecated and will be removed from pandas in a future version. Use pandas.concat instead.\n",
      "  self.slurm_log.append({\n"
     ]
    },
    {
     "name": "stdout",
     "output_type": "stream",
     "text": [
      "`Submitted batch job 21350269\n",
      "`\n",
      ">`sbatch gen_conf.sh`\n",
      "`Submitted batch job 21350270\n",
      "`\n",
      ">`sbatch slurm_script.sh --dependency=afterok:21350270`\n",
      "`Submitted batch job 21350271\n",
      "`\n",
      ">`sbatch gen_conf.sh`\n"
     ]
    },
    {
     "name": "stderr",
     "output_type": "stream",
     "text": [
      "/home/jrevan21/pypatchy/notebooks/../src/patchy/setup/patchy_set_setup.py:367: FutureWarning: The frame.append method is deprecated and will be removed from pandas in a future version. Use pandas.concat instead.\n",
      "  self.slurm_log.append({\n",
      "/home/jrevan21/pypatchy/notebooks/../src/patchy/setup/patchy_set_setup.py:367: FutureWarning: The frame.append method is deprecated and will be removed from pandas in a future version. Use pandas.concat instead.\n",
      "  self.slurm_log.append({\n"
     ]
    },
    {
     "name": "stdout",
     "output_type": "stream",
     "text": [
      "`Submitted batch job 21350272\n",
      "`\n",
      ">`sbatch slurm_script.sh --dependency=afterok:21350272`\n",
      "`Submitted batch job 21350273\n",
      "`\n",
      ">`sbatch gen_conf.sh`\n",
      "`Submitted batch job 21350274\n",
      "`\n",
      ">`sbatch slurm_script.sh --dependency=afterok:21350274`\n"
     ]
    },
    {
     "name": "stderr",
     "output_type": "stream",
     "text": [
      "/home/jrevan21/pypatchy/notebooks/../src/patchy/setup/patchy_set_setup.py:367: FutureWarning: The frame.append method is deprecated and will be removed from pandas in a future version. Use pandas.concat instead.\n",
      "  self.slurm_log.append({\n"
     ]
    },
    {
     "name": "stdout",
     "output_type": "stream",
     "text": [
      "`Submitted batch job 21350275\n",
      "`\n",
      ">`sbatch gen_conf.sh`\n",
      "`Submitted batch job 21350276\n",
      "`\n",
      ">`sbatch slurm_script.sh --dependency=afterok:21350276`\n"
     ]
    },
    {
     "name": "stderr",
     "output_type": "stream",
     "text": [
      "/home/jrevan21/pypatchy/notebooks/../src/patchy/setup/patchy_set_setup.py:367: FutureWarning: The frame.append method is deprecated and will be removed from pandas in a future version. Use pandas.concat instead.\n",
      "  self.slurm_log.append({\n"
     ]
    },
    {
     "name": "stdout",
     "output_type": "stream",
     "text": [
      "`Submitted batch job 21350277\n",
      "`\n",
      ">`sbatch gen_conf.sh`\n",
      "`Submitted batch job 21350278\n",
      "`\n",
      ">`sbatch slurm_script.sh --dependency=afterok:21350278`\n"
     ]
    },
    {
     "name": "stderr",
     "output_type": "stream",
     "text": [
      "/home/jrevan21/pypatchy/notebooks/../src/patchy/setup/patchy_set_setup.py:367: FutureWarning: The frame.append method is deprecated and will be removed from pandas in a future version. Use pandas.concat instead.\n",
      "  self.slurm_log.append({\n"
     ]
    },
    {
     "name": "stdout",
     "output_type": "stream",
     "text": [
      "`Submitted batch job 21350280\n",
      "`\n",
      ">`sbatch gen_conf.sh`\n",
      "`Submitted batch job 21350281\n",
      "`\n",
      ">`sbatch slurm_script.sh --dependency=afterok:21350281`\n",
      "`Submitted batch job 21350282\n",
      "`\n"
     ]
    },
    {
     "name": "stderr",
     "output_type": "stream",
     "text": [
      "/home/jrevan21/pypatchy/notebooks/../src/patchy/setup/patchy_set_setup.py:367: FutureWarning: The frame.append method is deprecated and will be removed from pandas in a future version. Use pandas.concat instead.\n",
      "  self.slurm_log.append({\n",
      "/home/jrevan21/pypatchy/notebooks/../src/patchy/setup/patchy_set_setup.py:367: FutureWarning: The frame.append method is deprecated and will be removed from pandas in a future version. Use pandas.concat instead.\n",
      "  self.slurm_log.append({\n"
     ]
    },
    {
     "name": "stdout",
     "output_type": "stream",
     "text": [
      ">`sbatch gen_conf.sh`\n",
      "`Submitted batch job 21350283\n",
      "`\n",
      ">`sbatch slurm_script.sh --dependency=afterok:21350283`\n",
      "`Submitted batch job 21350284\n",
      "`\n",
      ">`sbatch gen_conf.sh`\n"
     ]
    },
    {
     "name": "stderr",
     "output_type": "stream",
     "text": [
      "/home/jrevan21/pypatchy/notebooks/../src/patchy/setup/patchy_set_setup.py:367: FutureWarning: The frame.append method is deprecated and will be removed from pandas in a future version. Use pandas.concat instead.\n",
      "  self.slurm_log.append({\n"
     ]
    },
    {
     "name": "stdout",
     "output_type": "stream",
     "text": [
      "`Submitted batch job 21350285\n",
      "`\n",
      ">`sbatch slurm_script.sh --dependency=afterok:21350285`\n",
      "`Submitted batch job 21350286\n",
      "`\n",
      ">`sbatch gen_conf.sh`\n"
     ]
    },
    {
     "name": "stderr",
     "output_type": "stream",
     "text": [
      "/home/jrevan21/pypatchy/notebooks/../src/patchy/setup/patchy_set_setup.py:367: FutureWarning: The frame.append method is deprecated and will be removed from pandas in a future version. Use pandas.concat instead.\n",
      "  self.slurm_log.append({\n"
     ]
    },
    {
     "name": "stdout",
     "output_type": "stream",
     "text": [
      "`Submitted batch job 21350288\n",
      "`\n",
      ">`sbatch slurm_script.sh --dependency=afterok:21350288`\n",
      "`Submitted batch job 21350289\n",
      "`\n",
      ">`sbatch gen_conf.sh`\n",
      "`Submitted batch job 21350290\n",
      "`\n",
      ">`sbatch slurm_script.sh --dependency=afterok:21350290`\n"
     ]
    },
    {
     "name": "stderr",
     "output_type": "stream",
     "text": [
      "/home/jrevan21/pypatchy/notebooks/../src/patchy/setup/patchy_set_setup.py:367: FutureWarning: The frame.append method is deprecated and will be removed from pandas in a future version. Use pandas.concat instead.\n",
      "  self.slurm_log.append({\n"
     ]
    },
    {
     "name": "stdout",
     "output_type": "stream",
     "text": [
      "`Submitted batch job 21350291\n",
      "`\n",
      ">`sbatch gen_conf.sh`\n",
      "`Submitted batch job 21350292\n",
      "`\n",
      ">`sbatch slurm_script.sh --dependency=afterok:21350292`\n"
     ]
    },
    {
     "name": "stderr",
     "output_type": "stream",
     "text": [
      "/home/jrevan21/pypatchy/notebooks/../src/patchy/setup/patchy_set_setup.py:367: FutureWarning: The frame.append method is deprecated and will be removed from pandas in a future version. Use pandas.concat instead.\n",
      "  self.slurm_log.append({\n"
     ]
    },
    {
     "name": "stdout",
     "output_type": "stream",
     "text": [
      "`Submitted batch job 21350293\n",
      "`\n",
      ">`sbatch gen_conf.sh`\n",
      "`Submitted batch job 21350294\n",
      "`\n",
      ">`sbatch slurm_script.sh --dependency=afterok:21350294`\n",
      "`Submitted batch job 21350296\n",
      "`\n",
      ">`sbatch gen_conf.sh`\n"
     ]
    },
    {
     "name": "stderr",
     "output_type": "stream",
     "text": [
      "/home/jrevan21/pypatchy/notebooks/../src/patchy/setup/patchy_set_setup.py:367: FutureWarning: The frame.append method is deprecated and will be removed from pandas in a future version. Use pandas.concat instead.\n",
      "  self.slurm_log.append({\n",
      "/home/jrevan21/pypatchy/notebooks/../src/patchy/setup/patchy_set_setup.py:367: FutureWarning: The frame.append method is deprecated and will be removed from pandas in a future version. Use pandas.concat instead.\n",
      "  self.slurm_log.append({\n"
     ]
    },
    {
     "name": "stdout",
     "output_type": "stream",
     "text": [
      "`Submitted batch job 21350297\n",
      "`\n",
      ">`sbatch slurm_script.sh --dependency=afterok:21350297`\n",
      "`Submitted batch job 21350298\n",
      "`\n",
      ">`sbatch gen_conf.sh`\n"
     ]
    },
    {
     "name": "stderr",
     "output_type": "stream",
     "text": [
      "/home/jrevan21/pypatchy/notebooks/../src/patchy/setup/patchy_set_setup.py:367: FutureWarning: The frame.append method is deprecated and will be removed from pandas in a future version. Use pandas.concat instead.\n",
      "  self.slurm_log.append({\n"
     ]
    },
    {
     "name": "stdout",
     "output_type": "stream",
     "text": [
      "`Submitted batch job 21350299\n",
      "`\n",
      ">`sbatch slurm_script.sh --dependency=afterok:21350299`\n",
      "`Submitted batch job 21350300\n",
      "`\n",
      ">`sbatch gen_conf.sh`\n"
     ]
    },
    {
     "name": "stderr",
     "output_type": "stream",
     "text": [
      "/home/jrevan21/pypatchy/notebooks/../src/patchy/setup/patchy_set_setup.py:367: FutureWarning: The frame.append method is deprecated and will be removed from pandas in a future version. Use pandas.concat instead.\n",
      "  self.slurm_log.append({\n"
     ]
    },
    {
     "name": "stdout",
     "output_type": "stream",
     "text": [
      "`Submitted batch job 21350301\n",
      "`\n",
      ">`sbatch slurm_script.sh --dependency=afterok:21350301`\n",
      "`Submitted batch job 21350303\n",
      "`\n",
      ">`sbatch gen_conf.sh`\n"
     ]
    },
    {
     "name": "stderr",
     "output_type": "stream",
     "text": [
      "/home/jrevan21/pypatchy/notebooks/../src/patchy/setup/patchy_set_setup.py:367: FutureWarning: The frame.append method is deprecated and will be removed from pandas in a future version. Use pandas.concat instead.\n",
      "  self.slurm_log.append({\n"
     ]
    },
    {
     "name": "stdout",
     "output_type": "stream",
     "text": [
      "`Submitted batch job 21350304\n",
      "`\n",
      ">`sbatch slurm_script.sh --dependency=afterok:21350304`\n",
      "`Submitted batch job 21350305\n",
      "`\n",
      ">`sbatch gen_conf.sh`\n",
      "`Submitted batch job 21350306\n",
      "`\n",
      ">`sbatch slurm_script.sh --dependency=afterok:21350306`\n"
     ]
    },
    {
     "name": "stderr",
     "output_type": "stream",
     "text": [
      "/home/jrevan21/pypatchy/notebooks/../src/patchy/setup/patchy_set_setup.py:367: FutureWarning: The frame.append method is deprecated and will be removed from pandas in a future version. Use pandas.concat instead.\n",
      "  self.slurm_log.append({\n"
     ]
    },
    {
     "name": "stdout",
     "output_type": "stream",
     "text": [
      "`Submitted batch job 21350307\n",
      "`\n",
      ">`sbatch gen_conf.sh`\n",
      "`Submitted batch job 21350308\n",
      "`\n",
      ">`sbatch slurm_script.sh --dependency=afterok:21350308`\n"
     ]
    },
    {
     "name": "stderr",
     "output_type": "stream",
     "text": [
      "/home/jrevan21/pypatchy/notebooks/../src/patchy/setup/patchy_set_setup.py:367: FutureWarning: The frame.append method is deprecated and will be removed from pandas in a future version. Use pandas.concat instead.\n",
      "  self.slurm_log.append({\n"
     ]
    },
    {
     "name": "stdout",
     "output_type": "stream",
     "text": [
      "`Submitted batch job 21350309\n",
      "`\n",
      ">`sbatch gen_conf.sh`\n"
     ]
    },
    {
     "name": "stderr",
     "output_type": "stream",
     "text": [
      "/home/jrevan21/pypatchy/notebooks/../src/patchy/setup/patchy_set_setup.py:367: FutureWarning: The frame.append method is deprecated and will be removed from pandas in a future version. Use pandas.concat instead.\n",
      "  self.slurm_log.append({\n"
     ]
    },
    {
     "name": "stdout",
     "output_type": "stream",
     "text": [
      "`Submitted batch job 21350310\n",
      "`\n",
      ">`sbatch slurm_script.sh --dependency=afterok:21350310`\n",
      "`Submitted batch job 21350312\n",
      "`\n",
      ">`sbatch gen_conf.sh`\n",
      "`Submitted batch job 21350313\n",
      "`\n",
      ">`sbatch slurm_script.sh --dependency=afterok:21350313`\n"
     ]
    },
    {
     "name": "stderr",
     "output_type": "stream",
     "text": [
      "/home/jrevan21/pypatchy/notebooks/../src/patchy/setup/patchy_set_setup.py:367: FutureWarning: The frame.append method is deprecated and will be removed from pandas in a future version. Use pandas.concat instead.\n",
      "  self.slurm_log.append({\n"
     ]
    },
    {
     "name": "stdout",
     "output_type": "stream",
     "text": [
      "`Submitted batch job 21350314\n",
      "`\n",
      ">`sbatch gen_conf.sh`\n",
      "`Submitted batch job 21350315\n",
      "`\n",
      ">`sbatch slurm_script.sh --dependency=afterok:21350315`\n",
      "`Submitted batch job 21350316\n",
      "`\n",
      ">`sbatch gen_conf.sh`\n"
     ]
    },
    {
     "name": "stderr",
     "output_type": "stream",
     "text": [
      "/home/jrevan21/pypatchy/notebooks/../src/patchy/setup/patchy_set_setup.py:367: FutureWarning: The frame.append method is deprecated and will be removed from pandas in a future version. Use pandas.concat instead.\n",
      "  self.slurm_log.append({\n",
      "/home/jrevan21/pypatchy/notebooks/../src/patchy/setup/patchy_set_setup.py:367: FutureWarning: The frame.append method is deprecated and will be removed from pandas in a future version. Use pandas.concat instead.\n",
      "  self.slurm_log.append({\n"
     ]
    },
    {
     "name": "stdout",
     "output_type": "stream",
     "text": [
      "`Submitted batch job 21350317\n",
      "`\n",
      ">`sbatch slurm_script.sh --dependency=afterok:21350317`\n",
      "`Submitted batch job 21350318\n",
      "`\n",
      ">`sbatch gen_conf.sh`\n",
      "`Submitted batch job 21350319\n",
      "`\n",
      ">`sbatch slurm_script.sh --dependency=afterok:21350319`\n",
      "`Submitted batch job 21350320\n",
      "`\n",
      ">`sbatch gen_conf.sh`\n"
     ]
    },
    {
     "name": "stderr",
     "output_type": "stream",
     "text": [
      "/home/jrevan21/pypatchy/notebooks/../src/patchy/setup/patchy_set_setup.py:367: FutureWarning: The frame.append method is deprecated and will be removed from pandas in a future version. Use pandas.concat instead.\n",
      "  self.slurm_log.append({\n",
      "/home/jrevan21/pypatchy/notebooks/../src/patchy/setup/patchy_set_setup.py:367: FutureWarning: The frame.append method is deprecated and will be removed from pandas in a future version. Use pandas.concat instead.\n",
      "  self.slurm_log.append({\n"
     ]
    },
    {
     "name": "stdout",
     "output_type": "stream",
     "text": [
      "`Submitted batch job 21350321\n",
      "`\n",
      ">`sbatch slurm_script.sh --dependency=afterok:21350321`\n",
      "`Submitted batch job 21350323\n",
      "`\n",
      ">`sbatch gen_conf.sh`\n",
      "`Submitted batch job 21350324\n",
      "`\n",
      ">`sbatch slurm_script.sh --dependency=afterok:21350324`\n"
     ]
    },
    {
     "name": "stderr",
     "output_type": "stream",
     "text": [
      "/home/jrevan21/pypatchy/notebooks/../src/patchy/setup/patchy_set_setup.py:367: FutureWarning: The frame.append method is deprecated and will be removed from pandas in a future version. Use pandas.concat instead.\n",
      "  self.slurm_log.append({\n"
     ]
    },
    {
     "name": "stdout",
     "output_type": "stream",
     "text": [
      "`Submitted batch job 21350325\n",
      "`\n",
      ">`sbatch gen_conf.sh`\n"
     ]
    },
    {
     "name": "stderr",
     "output_type": "stream",
     "text": [
      "/home/jrevan21/pypatchy/notebooks/../src/patchy/setup/patchy_set_setup.py:367: FutureWarning: The frame.append method is deprecated and will be removed from pandas in a future version. Use pandas.concat instead.\n",
      "  self.slurm_log.append({\n"
     ]
    },
    {
     "name": "stdout",
     "output_type": "stream",
     "text": [
      "`Submitted batch job 21350326\n",
      "`\n",
      ">`sbatch slurm_script.sh --dependency=afterok:21350326`\n",
      "`Submitted batch job 21350327\n",
      "`\n",
      ">`sbatch gen_conf.sh`\n"
     ]
    },
    {
     "name": "stderr",
     "output_type": "stream",
     "text": [
      "/home/jrevan21/pypatchy/notebooks/../src/patchy/setup/patchy_set_setup.py:367: FutureWarning: The frame.append method is deprecated and will be removed from pandas in a future version. Use pandas.concat instead.\n",
      "  self.slurm_log.append({\n"
     ]
    },
    {
     "name": "stdout",
     "output_type": "stream",
     "text": [
      "`Submitted batch job 21350329\n",
      "`\n",
      ">`sbatch slurm_script.sh --dependency=afterok:21350329`\n",
      "`Submitted batch job 21350330\n",
      "`\n",
      ">`sbatch gen_conf.sh`\n"
     ]
    },
    {
     "name": "stderr",
     "output_type": "stream",
     "text": [
      "/home/jrevan21/pypatchy/notebooks/../src/patchy/setup/patchy_set_setup.py:367: FutureWarning: The frame.append method is deprecated and will be removed from pandas in a future version. Use pandas.concat instead.\n",
      "  self.slurm_log.append({\n"
     ]
    },
    {
     "name": "stdout",
     "output_type": "stream",
     "text": [
      "`Submitted batch job 21350331\n",
      "`\n",
      ">`sbatch slurm_script.sh --dependency=afterok:21350331`\n",
      "`Submitted batch job 21350332\n",
      "`\n",
      ">`sbatch gen_conf.sh`\n",
      "`Submitted batch job 21350333\n",
      "`\n",
      ">`sbatch slurm_script.sh --dependency=afterok:21350333`\n"
     ]
    },
    {
     "name": "stderr",
     "output_type": "stream",
     "text": [
      "/home/jrevan21/pypatchy/notebooks/../src/patchy/setup/patchy_set_setup.py:367: FutureWarning: The frame.append method is deprecated and will be removed from pandas in a future version. Use pandas.concat instead.\n",
      "  self.slurm_log.append({\n"
     ]
    },
    {
     "name": "stdout",
     "output_type": "stream",
     "text": [
      "`Submitted batch job 21350334\n",
      "`\n",
      ">`sbatch gen_conf.sh`\n",
      "`Submitted batch job 21350335\n",
      "`\n",
      ">`sbatch slurm_script.sh --dependency=afterok:21350335`\n"
     ]
    },
    {
     "name": "stderr",
     "output_type": "stream",
     "text": [
      "/home/jrevan21/pypatchy/notebooks/../src/patchy/setup/patchy_set_setup.py:367: FutureWarning: The frame.append method is deprecated and will be removed from pandas in a future version. Use pandas.concat instead.\n",
      "  self.slurm_log.append({\n"
     ]
    },
    {
     "name": "stdout",
     "output_type": "stream",
     "text": [
      "`Submitted batch job 21350336\n",
      "`\n",
      ">`sbatch gen_conf.sh`\n",
      "`Submitted batch job 21350337\n",
      "`\n",
      ">`sbatch slurm_script.sh --dependency=afterok:21350337`\n"
     ]
    },
    {
     "name": "stderr",
     "output_type": "stream",
     "text": [
      "/home/jrevan21/pypatchy/notebooks/../src/patchy/setup/patchy_set_setup.py:367: FutureWarning: The frame.append method is deprecated and will be removed from pandas in a future version. Use pandas.concat instead.\n",
      "  self.slurm_log.append({\n"
     ]
    },
    {
     "name": "stdout",
     "output_type": "stream",
     "text": [
      "`Submitted batch job 21350338\n",
      "`\n",
      ">`sbatch gen_conf.sh`\n"
     ]
    },
    {
     "name": "stderr",
     "output_type": "stream",
     "text": [
      "/home/jrevan21/pypatchy/notebooks/../src/patchy/setup/patchy_set_setup.py:367: FutureWarning: The frame.append method is deprecated and will be removed from pandas in a future version. Use pandas.concat instead.\n",
      "  self.slurm_log.append({\n"
     ]
    },
    {
     "name": "stdout",
     "output_type": "stream",
     "text": [
      "`Submitted batch job 21350340\n",
      "`\n",
      ">`sbatch slurm_script.sh --dependency=afterok:21350340`\n",
      "`Submitted batch job 21350341\n",
      "`\n",
      ">`sbatch gen_conf.sh`\n",
      "`Submitted batch job 21350342\n",
      "`\n",
      ">`sbatch slurm_script.sh --dependency=afterok:21350342`\n"
     ]
    },
    {
     "name": "stderr",
     "output_type": "stream",
     "text": [
      "/home/jrevan21/pypatchy/notebooks/../src/patchy/setup/patchy_set_setup.py:367: FutureWarning: The frame.append method is deprecated and will be removed from pandas in a future version. Use pandas.concat instead.\n",
      "  self.slurm_log.append({\n"
     ]
    },
    {
     "name": "stdout",
     "output_type": "stream",
     "text": [
      "`Submitted batch job 21350343\n",
      "`\n",
      ">`sbatch gen_conf.sh`\n",
      "`Submitted batch job 21350344\n",
      "`\n",
      ">`sbatch slurm_script.sh --dependency=afterok:21350344`\n",
      "`Submitted batch job 21350345\n",
      "`\n",
      ">`sbatch gen_conf.sh`\n"
     ]
    },
    {
     "name": "stderr",
     "output_type": "stream",
     "text": [
      "/home/jrevan21/pypatchy/notebooks/../src/patchy/setup/patchy_set_setup.py:367: FutureWarning: The frame.append method is deprecated and will be removed from pandas in a future version. Use pandas.concat instead.\n",
      "  self.slurm_log.append({\n",
      "/home/jrevan21/pypatchy/notebooks/../src/patchy/setup/patchy_set_setup.py:367: FutureWarning: The frame.append method is deprecated and will be removed from pandas in a future version. Use pandas.concat instead.\n",
      "  self.slurm_log.append({\n"
     ]
    },
    {
     "name": "stdout",
     "output_type": "stream",
     "text": [
      "`Submitted batch job 21350346\n",
      "`\n",
      ">`sbatch slurm_script.sh --dependency=afterok:21350346`\n",
      "`Submitted batch job 21350347\n",
      "`\n",
      ">`sbatch gen_conf.sh`\n"
     ]
    },
    {
     "name": "stderr",
     "output_type": "stream",
     "text": [
      "/home/jrevan21/pypatchy/notebooks/../src/patchy/setup/patchy_set_setup.py:367: FutureWarning: The frame.append method is deprecated and will be removed from pandas in a future version. Use pandas.concat instead.\n",
      "  self.slurm_log.append({\n"
     ]
    },
    {
     "name": "stdout",
     "output_type": "stream",
     "text": [
      "`Submitted batch job 21350348\n",
      "`\n",
      ">`sbatch slurm_script.sh --dependency=afterok:21350348`\n",
      "`Submitted batch job 21350349\n",
      "`\n",
      ">`sbatch gen_conf.sh`\n",
      "`Submitted batch job 21350350\n",
      "`\n",
      ">`sbatch slurm_script.sh --dependency=afterok:21350350`\n",
      "`Submitted batch job 21350351\n",
      "`\n",
      ">`sbatch gen_conf.sh`\n"
     ]
    },
    {
     "name": "stderr",
     "output_type": "stream",
     "text": [
      "/home/jrevan21/pypatchy/notebooks/../src/patchy/setup/patchy_set_setup.py:367: FutureWarning: The frame.append method is deprecated and will be removed from pandas in a future version. Use pandas.concat instead.\n",
      "  self.slurm_log.append({\n",
      "/home/jrevan21/pypatchy/notebooks/../src/patchy/setup/patchy_set_setup.py:367: FutureWarning: The frame.append method is deprecated and will be removed from pandas in a future version. Use pandas.concat instead.\n",
      "  self.slurm_log.append({\n"
     ]
    },
    {
     "name": "stdout",
     "output_type": "stream",
     "text": [
      "`Submitted batch job 21350352\n",
      "`\n",
      ">`sbatch slurm_script.sh --dependency=afterok:21350352`\n",
      "`Submitted batch job 21350354\n",
      "`\n",
      ">`sbatch gen_conf.sh`\n"
     ]
    },
    {
     "name": "stderr",
     "output_type": "stream",
     "text": [
      "/home/jrevan21/pypatchy/notebooks/../src/patchy/setup/patchy_set_setup.py:367: FutureWarning: The frame.append method is deprecated and will be removed from pandas in a future version. Use pandas.concat instead.\n",
      "  self.slurm_log.append({\n"
     ]
    },
    {
     "name": "stdout",
     "output_type": "stream",
     "text": [
      "`Submitted batch job 21350355\n",
      "`\n",
      ">`sbatch slurm_script.sh --dependency=afterok:21350355`\n",
      "`Submitted batch job 21350356\n",
      "`\n",
      ">`sbatch gen_conf.sh`\n"
     ]
    },
    {
     "name": "stderr",
     "output_type": "stream",
     "text": [
      "/home/jrevan21/pypatchy/notebooks/../src/patchy/setup/patchy_set_setup.py:367: FutureWarning: The frame.append method is deprecated and will be removed from pandas in a future version. Use pandas.concat instead.\n",
      "  self.slurm_log.append({\n"
     ]
    },
    {
     "name": "stdout",
     "output_type": "stream",
     "text": [
      "`Submitted batch job 21350357\n",
      "`\n",
      ">`sbatch slurm_script.sh --dependency=afterok:21350357`\n",
      "`Submitted batch job 21350358\n",
      "`\n",
      ">`sbatch gen_conf.sh`\n",
      "`Submitted batch job 21350359\n",
      "`\n",
      ">`sbatch slurm_script.sh --dependency=afterok:21350359`\n"
     ]
    },
    {
     "name": "stderr",
     "output_type": "stream",
     "text": [
      "/home/jrevan21/pypatchy/notebooks/../src/patchy/setup/patchy_set_setup.py:367: FutureWarning: The frame.append method is deprecated and will be removed from pandas in a future version. Use pandas.concat instead.\n",
      "  self.slurm_log.append({\n"
     ]
    },
    {
     "name": "stdout",
     "output_type": "stream",
     "text": [
      "`Submitted batch job 21350360\n",
      "`\n",
      ">`sbatch gen_conf.sh`\n",
      "`Submitted batch job 21350361\n",
      "`\n",
      ">`sbatch slurm_script.sh --dependency=afterok:21350361`\n"
     ]
    },
    {
     "name": "stderr",
     "output_type": "stream",
     "text": [
      "/home/jrevan21/pypatchy/notebooks/../src/patchy/setup/patchy_set_setup.py:367: FutureWarning: The frame.append method is deprecated and will be removed from pandas in a future version. Use pandas.concat instead.\n",
      "  self.slurm_log.append({\n"
     ]
    },
    {
     "name": "stdout",
     "output_type": "stream",
     "text": [
      "`Submitted batch job 21350363\n",
      "`\n",
      ">`sbatch gen_conf.sh`\n"
     ]
    },
    {
     "name": "stderr",
     "output_type": "stream",
     "text": [
      "/home/jrevan21/pypatchy/notebooks/../src/patchy/setup/patchy_set_setup.py:367: FutureWarning: The frame.append method is deprecated and will be removed from pandas in a future version. Use pandas.concat instead.\n",
      "  self.slurm_log.append({\n"
     ]
    },
    {
     "name": "stdout",
     "output_type": "stream",
     "text": [
      "`Submitted batch job 21350364\n",
      "`\n",
      ">`sbatch slurm_script.sh --dependency=afterok:21350364`\n",
      "`Submitted batch job 21350366\n",
      "`\n",
      ">`sbatch gen_conf.sh`\n"
     ]
    },
    {
     "name": "stderr",
     "output_type": "stream",
     "text": [
      "/home/jrevan21/pypatchy/notebooks/../src/patchy/setup/patchy_set_setup.py:367: FutureWarning: The frame.append method is deprecated and will be removed from pandas in a future version. Use pandas.concat instead.\n",
      "  self.slurm_log.append({\n"
     ]
    },
    {
     "name": "stdout",
     "output_type": "stream",
     "text": [
      "`Submitted batch job 21350367\n",
      "`\n",
      ">`sbatch slurm_script.sh --dependency=afterok:21350367`\n",
      "`Submitted batch job 21350368\n",
      "`\n",
      ">`sbatch gen_conf.sh`\n"
     ]
    },
    {
     "name": "stderr",
     "output_type": "stream",
     "text": [
      "/home/jrevan21/pypatchy/notebooks/../src/patchy/setup/patchy_set_setup.py:367: FutureWarning: The frame.append method is deprecated and will be removed from pandas in a future version. Use pandas.concat instead.\n",
      "  self.slurm_log.append({\n"
     ]
    },
    {
     "name": "stdout",
     "output_type": "stream",
     "text": [
      "`Submitted batch job 21350369\n",
      "`\n",
      ">`sbatch slurm_script.sh --dependency=afterok:21350369`\n",
      "`Submitted batch job 21350371\n",
      "`\n",
      ">`sbatch gen_conf.sh`\n"
     ]
    },
    {
     "name": "stderr",
     "output_type": "stream",
     "text": [
      "/home/jrevan21/pypatchy/notebooks/../src/patchy/setup/patchy_set_setup.py:367: FutureWarning: The frame.append method is deprecated and will be removed from pandas in a future version. Use pandas.concat instead.\n",
      "  self.slurm_log.append({\n"
     ]
    },
    {
     "name": "stdout",
     "output_type": "stream",
     "text": [
      "`Submitted batch job 21350372\n",
      "`\n",
      ">`sbatch slurm_script.sh --dependency=afterok:21350372`\n",
      "`Submitted batch job 21350373\n",
      "`\n",
      ">`sbatch gen_conf.sh`\n"
     ]
    },
    {
     "name": "stderr",
     "output_type": "stream",
     "text": [
      "/home/jrevan21/pypatchy/notebooks/../src/patchy/setup/patchy_set_setup.py:367: FutureWarning: The frame.append method is deprecated and will be removed from pandas in a future version. Use pandas.concat instead.\n",
      "  self.slurm_log.append({\n"
     ]
    },
    {
     "name": "stdout",
     "output_type": "stream",
     "text": [
      "`Submitted batch job 21350374\n",
      "`\n",
      ">`sbatch slurm_script.sh --dependency=afterok:21350374`\n",
      "`Submitted batch job 21350375\n",
      "`\n",
      ">`sbatch gen_conf.sh`\n"
     ]
    },
    {
     "name": "stderr",
     "output_type": "stream",
     "text": [
      "/home/jrevan21/pypatchy/notebooks/../src/patchy/setup/patchy_set_setup.py:367: FutureWarning: The frame.append method is deprecated and will be removed from pandas in a future version. Use pandas.concat instead.\n",
      "  self.slurm_log.append({\n"
     ]
    },
    {
     "name": "stdout",
     "output_type": "stream",
     "text": [
      "`Submitted batch job 21350376\n",
      "`\n",
      ">`sbatch slurm_script.sh --dependency=afterok:21350376`\n",
      "`Submitted batch job 21350377\n",
      "`\n",
      ">`sbatch gen_conf.sh`\n",
      "`Submitted batch job 21350378\n",
      "`\n",
      ">`sbatch slurm_script.sh --dependency=afterok:21350378`\n"
     ]
    },
    {
     "name": "stderr",
     "output_type": "stream",
     "text": [
      "/home/jrevan21/pypatchy/notebooks/../src/patchy/setup/patchy_set_setup.py:367: FutureWarning: The frame.append method is deprecated and will be removed from pandas in a future version. Use pandas.concat instead.\n",
      "  self.slurm_log.append({\n"
     ]
    },
    {
     "name": "stdout",
     "output_type": "stream",
     "text": [
      "`Submitted batch job 21350379\n",
      "`\n",
      ">`sbatch gen_conf.sh`\n"
     ]
    },
    {
     "name": "stderr",
     "output_type": "stream",
     "text": [
      "/home/jrevan21/pypatchy/notebooks/../src/patchy/setup/patchy_set_setup.py:367: FutureWarning: The frame.append method is deprecated and will be removed from pandas in a future version. Use pandas.concat instead.\n",
      "  self.slurm_log.append({\n"
     ]
    },
    {
     "name": "stdout",
     "output_type": "stream",
     "text": [
      "`Submitted batch job 21350380\n",
      "`\n",
      ">`sbatch slurm_script.sh --dependency=afterok:21350380`\n",
      "`Submitted batch job 21350382\n",
      "`\n",
      ">`sbatch gen_conf.sh`\n",
      "`Submitted batch job 21350383\n",
      "`\n",
      ">`sbatch slurm_script.sh --dependency=afterok:21350383`\n"
     ]
    },
    {
     "name": "stderr",
     "output_type": "stream",
     "text": [
      "/home/jrevan21/pypatchy/notebooks/../src/patchy/setup/patchy_set_setup.py:367: FutureWarning: The frame.append method is deprecated and will be removed from pandas in a future version. Use pandas.concat instead.\n",
      "  self.slurm_log.append({\n"
     ]
    },
    {
     "name": "stdout",
     "output_type": "stream",
     "text": [
      "`Submitted batch job 21350384\n",
      "`\n",
      ">`sbatch gen_conf.sh`\n"
     ]
    },
    {
     "name": "stderr",
     "output_type": "stream",
     "text": [
      "/home/jrevan21/pypatchy/notebooks/../src/patchy/setup/patchy_set_setup.py:367: FutureWarning: The frame.append method is deprecated and will be removed from pandas in a future version. Use pandas.concat instead.\n",
      "  self.slurm_log.append({\n"
     ]
    },
    {
     "name": "stdout",
     "output_type": "stream",
     "text": [
      "`Submitted batch job 21350385\n",
      "`\n",
      ">`sbatch slurm_script.sh --dependency=afterok:21350385`\n",
      "`Submitted batch job 21350386\n",
      "`\n",
      ">`sbatch gen_conf.sh`\n"
     ]
    },
    {
     "name": "stderr",
     "output_type": "stream",
     "text": [
      "/home/jrevan21/pypatchy/notebooks/../src/patchy/setup/patchy_set_setup.py:367: FutureWarning: The frame.append method is deprecated and will be removed from pandas in a future version. Use pandas.concat instead.\n",
      "  self.slurm_log.append({\n"
     ]
    },
    {
     "name": "stdout",
     "output_type": "stream",
     "text": [
      "`Submitted batch job 21350387\n",
      "`\n",
      ">`sbatch slurm_script.sh --dependency=afterok:21350387`\n",
      "`Submitted batch job 21350388\n",
      "`\n",
      ">`sbatch gen_conf.sh`\n",
      "`Submitted batch job 21350389\n",
      "`\n",
      ">`sbatch slurm_script.sh --dependency=afterok:21350389`\n",
      "`Submitted batch job 21350390\n",
      "`\n",
      ">`sbatch gen_conf.sh`\n"
     ]
    },
    {
     "name": "stderr",
     "output_type": "stream",
     "text": [
      "/home/jrevan21/pypatchy/notebooks/../src/patchy/setup/patchy_set_setup.py:367: FutureWarning: The frame.append method is deprecated and will be removed from pandas in a future version. Use pandas.concat instead.\n",
      "  self.slurm_log.append({\n",
      "/home/jrevan21/pypatchy/notebooks/../src/patchy/setup/patchy_set_setup.py:367: FutureWarning: The frame.append method is deprecated and will be removed from pandas in a future version. Use pandas.concat instead.\n",
      "  self.slurm_log.append({\n"
     ]
    },
    {
     "name": "stdout",
     "output_type": "stream",
     "text": [
      "`Submitted batch job 21350391\n",
      "`\n",
      ">`sbatch slurm_script.sh --dependency=afterok:21350391`\n",
      "`Submitted batch job 21350392\n",
      "`\n",
      ">`sbatch gen_conf.sh`\n",
      "`Submitted batch job 21350393\n",
      "`\n",
      ">`sbatch slurm_script.sh --dependency=afterok:21350393`\n"
     ]
    },
    {
     "name": "stderr",
     "output_type": "stream",
     "text": [
      "/home/jrevan21/pypatchy/notebooks/../src/patchy/setup/patchy_set_setup.py:367: FutureWarning: The frame.append method is deprecated and will be removed from pandas in a future version. Use pandas.concat instead.\n",
      "  self.slurm_log.append({\n"
     ]
    },
    {
     "name": "stdout",
     "output_type": "stream",
     "text": [
      "`Submitted batch job 21350394\n",
      "`\n",
      ">`sbatch gen_conf.sh`\n",
      "`Submitted batch job 21350395\n",
      "`\n",
      ">`sbatch slurm_script.sh --dependency=afterok:21350395`\n",
      "`Submitted batch job 21350396\n",
      "`\n",
      ">`sbatch gen_conf.sh`\n"
     ]
    },
    {
     "name": "stderr",
     "output_type": "stream",
     "text": [
      "/home/jrevan21/pypatchy/notebooks/../src/patchy/setup/patchy_set_setup.py:367: FutureWarning: The frame.append method is deprecated and will be removed from pandas in a future version. Use pandas.concat instead.\n",
      "  self.slurm_log.append({\n",
      "/home/jrevan21/pypatchy/notebooks/../src/patchy/setup/patchy_set_setup.py:367: FutureWarning: The frame.append method is deprecated and will be removed from pandas in a future version. Use pandas.concat instead.\n",
      "  self.slurm_log.append({\n"
     ]
    },
    {
     "name": "stdout",
     "output_type": "stream",
     "text": [
      "`Submitted batch job 21350397\n",
      "`\n",
      ">`sbatch slurm_script.sh --dependency=afterok:21350397`\n",
      "`Submitted batch job 21350399\n",
      "`\n",
      ">`sbatch gen_conf.sh`\n",
      "`Submitted batch job 21350400\n",
      "`\n",
      ">`sbatch slurm_script.sh --dependency=afterok:21350400`\n",
      "`Submitted batch job 21350401\n",
      "`\n",
      ">`sbatch gen_conf.sh`\n"
     ]
    },
    {
     "name": "stderr",
     "output_type": "stream",
     "text": [
      "/home/jrevan21/pypatchy/notebooks/../src/patchy/setup/patchy_set_setup.py:367: FutureWarning: The frame.append method is deprecated and will be removed from pandas in a future version. Use pandas.concat instead.\n",
      "  self.slurm_log.append({\n",
      "/home/jrevan21/pypatchy/notebooks/../src/patchy/setup/patchy_set_setup.py:367: FutureWarning: The frame.append method is deprecated and will be removed from pandas in a future version. Use pandas.concat instead.\n",
      "  self.slurm_log.append({\n"
     ]
    },
    {
     "name": "stdout",
     "output_type": "stream",
     "text": [
      "`Submitted batch job 21350402\n",
      "`\n",
      ">`sbatch slurm_script.sh --dependency=afterok:21350402`\n",
      "`Submitted batch job 21350403\n",
      "`\n",
      ">`sbatch gen_conf.sh`\n",
      "`Submitted batch job 21350404\n",
      "`\n",
      ">`sbatch slurm_script.sh --dependency=afterok:21350404`\n",
      "`Submitted batch job 21350405\n",
      "`\n",
      ">`sbatch gen_conf.sh`\n"
     ]
    },
    {
     "name": "stderr",
     "output_type": "stream",
     "text": [
      "/home/jrevan21/pypatchy/notebooks/../src/patchy/setup/patchy_set_setup.py:367: FutureWarning: The frame.append method is deprecated and will be removed from pandas in a future version. Use pandas.concat instead.\n",
      "  self.slurm_log.append({\n",
      "/home/jrevan21/pypatchy/notebooks/../src/patchy/setup/patchy_set_setup.py:367: FutureWarning: The frame.append method is deprecated and will be removed from pandas in a future version. Use pandas.concat instead.\n",
      "  self.slurm_log.append({\n"
     ]
    },
    {
     "name": "stdout",
     "output_type": "stream",
     "text": [
      "`Submitted batch job 21350406\n",
      "`\n",
      ">`sbatch slurm_script.sh --dependency=afterok:21350406`\n",
      "`Submitted batch job 21350407\n",
      "`\n",
      ">`sbatch gen_conf.sh`\n",
      "`Submitted batch job 21350408\n",
      "`\n",
      ">`sbatch slurm_script.sh --dependency=afterok:21350408`\n"
     ]
    },
    {
     "name": "stderr",
     "output_type": "stream",
     "text": [
      "/home/jrevan21/pypatchy/notebooks/../src/patchy/setup/patchy_set_setup.py:367: FutureWarning: The frame.append method is deprecated and will be removed from pandas in a future version. Use pandas.concat instead.\n",
      "  self.slurm_log.append({\n"
     ]
    },
    {
     "name": "stdout",
     "output_type": "stream",
     "text": [
      "`Submitted batch job 21350409\n",
      "`\n",
      ">`sbatch gen_conf.sh`\n",
      "`Submitted batch job 21350410\n",
      "`\n",
      ">`sbatch slurm_script.sh --dependency=afterok:21350410`\n",
      "`Submitted batch job 21350411\n",
      "`\n",
      ">`sbatch gen_conf.sh`\n"
     ]
    },
    {
     "name": "stderr",
     "output_type": "stream",
     "text": [
      "/home/jrevan21/pypatchy/notebooks/../src/patchy/setup/patchy_set_setup.py:367: FutureWarning: The frame.append method is deprecated and will be removed from pandas in a future version. Use pandas.concat instead.\n",
      "  self.slurm_log.append({\n",
      "/home/jrevan21/pypatchy/notebooks/../src/patchy/setup/patchy_set_setup.py:367: FutureWarning: The frame.append method is deprecated and will be removed from pandas in a future version. Use pandas.concat instead.\n",
      "  self.slurm_log.append({\n"
     ]
    },
    {
     "name": "stdout",
     "output_type": "stream",
     "text": [
      "`Submitted batch job 21350412\n",
      "`\n",
      ">`sbatch slurm_script.sh --dependency=afterok:21350412`\n",
      "`Submitted batch job 21350413\n",
      "`\n",
      ">`sbatch gen_conf.sh`\n"
     ]
    },
    {
     "name": "stderr",
     "output_type": "stream",
     "text": [
      "/home/jrevan21/pypatchy/notebooks/../src/patchy/setup/patchy_set_setup.py:367: FutureWarning: The frame.append method is deprecated and will be removed from pandas in a future version. Use pandas.concat instead.\n",
      "  self.slurm_log.append({\n"
     ]
    },
    {
     "name": "stdout",
     "output_type": "stream",
     "text": [
      "`Submitted batch job 21350414\n",
      "`\n",
      ">`sbatch slurm_script.sh --dependency=afterok:21350414`\n",
      "`Submitted batch job 21350415\n",
      "`\n",
      ">`sbatch gen_conf.sh`\n",
      "`Submitted batch job 21350416\n",
      "`\n",
      ">`sbatch slurm_script.sh --dependency=afterok:21350416`\n",
      "`Submitted batch job 21350417\n",
      "`\n",
      ">`sbatch gen_conf.sh`\n"
     ]
    },
    {
     "name": "stderr",
     "output_type": "stream",
     "text": [
      "/home/jrevan21/pypatchy/notebooks/../src/patchy/setup/patchy_set_setup.py:367: FutureWarning: The frame.append method is deprecated and will be removed from pandas in a future version. Use pandas.concat instead.\n",
      "  self.slurm_log.append({\n",
      "/home/jrevan21/pypatchy/notebooks/../src/patchy/setup/patchy_set_setup.py:367: FutureWarning: The frame.append method is deprecated and will be removed from pandas in a future version. Use pandas.concat instead.\n",
      "  self.slurm_log.append({\n"
     ]
    },
    {
     "name": "stdout",
     "output_type": "stream",
     "text": [
      "`Submitted batch job 21350418\n",
      "`\n",
      ">`sbatch slurm_script.sh --dependency=afterok:21350418`\n",
      "`Submitted batch job 21350419\n",
      "`\n",
      ">`sbatch gen_conf.sh`\n",
      "`Submitted batch job 21350420\n",
      "`\n",
      ">`sbatch slurm_script.sh --dependency=afterok:21350420`\n",
      "`Submitted batch job 21350421\n",
      "`\n",
      ">`sbatch gen_conf.sh`\n"
     ]
    },
    {
     "name": "stderr",
     "output_type": "stream",
     "text": [
      "/home/jrevan21/pypatchy/notebooks/../src/patchy/setup/patchy_set_setup.py:367: FutureWarning: The frame.append method is deprecated and will be removed from pandas in a future version. Use pandas.concat instead.\n",
      "  self.slurm_log.append({\n",
      "/home/jrevan21/pypatchy/notebooks/../src/patchy/setup/patchy_set_setup.py:367: FutureWarning: The frame.append method is deprecated and will be removed from pandas in a future version. Use pandas.concat instead.\n",
      "  self.slurm_log.append({\n"
     ]
    },
    {
     "name": "stdout",
     "output_type": "stream",
     "text": [
      "`Submitted batch job 21350422\n",
      "`\n",
      ">`sbatch slurm_script.sh --dependency=afterok:21350422`\n",
      "`Submitted batch job 21350423\n",
      "`\n",
      ">`sbatch gen_conf.sh`\n",
      "`Submitted batch job 21350424\n",
      "`\n",
      ">`sbatch slurm_script.sh --dependency=afterok:21350424`\n",
      "`Submitted batch job 21350426\n",
      "`\n",
      ">`sbatch gen_conf.sh`\n",
      "`Submitted batch job 21350427\n",
      "`\n",
      ">`sbatch slurm_script.sh --dependency=afterok:21350427`\n"
     ]
    },
    {
     "name": "stderr",
     "output_type": "stream",
     "text": [
      "/home/jrevan21/pypatchy/notebooks/../src/patchy/setup/patchy_set_setup.py:367: FutureWarning: The frame.append method is deprecated and will be removed from pandas in a future version. Use pandas.concat instead.\n",
      "  self.slurm_log.append({\n",
      "/home/jrevan21/pypatchy/notebooks/../src/patchy/setup/patchy_set_setup.py:367: FutureWarning: The frame.append method is deprecated and will be removed from pandas in a future version. Use pandas.concat instead.\n",
      "  self.slurm_log.append({\n"
     ]
    },
    {
     "name": "stdout",
     "output_type": "stream",
     "text": [
      "`Submitted batch job 21350428\n",
      "`\n",
      ">`sbatch gen_conf.sh`\n",
      "`Submitted batch job 21350429\n",
      "`\n",
      ">`sbatch slurm_script.sh --dependency=afterok:21350429`\n",
      "`Submitted batch job 21350430\n",
      "`\n",
      ">`sbatch gen_conf.sh`\n",
      "`Submitted batch job 21350431\n",
      "`\n",
      ">`sbatch slurm_script.sh --dependency=afterok:21350431`\n"
     ]
    },
    {
     "name": "stderr",
     "output_type": "stream",
     "text": [
      "/home/jrevan21/pypatchy/notebooks/../src/patchy/setup/patchy_set_setup.py:367: FutureWarning: The frame.append method is deprecated and will be removed from pandas in a future version. Use pandas.concat instead.\n",
      "  self.slurm_log.append({\n",
      "/home/jrevan21/pypatchy/notebooks/../src/patchy/setup/patchy_set_setup.py:367: FutureWarning: The frame.append method is deprecated and will be removed from pandas in a future version. Use pandas.concat instead.\n",
      "  self.slurm_log.append({\n"
     ]
    },
    {
     "name": "stdout",
     "output_type": "stream",
     "text": [
      "`Submitted batch job 21350432\n",
      "`\n",
      ">`sbatch gen_conf.sh`\n",
      "`Submitted batch job 21350433\n",
      "`\n",
      ">`sbatch slurm_script.sh --dependency=afterok:21350433`\n"
     ]
    },
    {
     "name": "stderr",
     "output_type": "stream",
     "text": [
      "/home/jrevan21/pypatchy/notebooks/../src/patchy/setup/patchy_set_setup.py:367: FutureWarning: The frame.append method is deprecated and will be removed from pandas in a future version. Use pandas.concat instead.\n",
      "  self.slurm_log.append({\n"
     ]
    },
    {
     "name": "stdout",
     "output_type": "stream",
     "text": [
      "`Submitted batch job 21350434\n",
      "`\n",
      ">`sbatch gen_conf.sh`\n"
     ]
    },
    {
     "name": "stderr",
     "output_type": "stream",
     "text": [
      "/home/jrevan21/pypatchy/notebooks/../src/patchy/setup/patchy_set_setup.py:367: FutureWarning: The frame.append method is deprecated and will be removed from pandas in a future version. Use pandas.concat instead.\n",
      "  self.slurm_log.append({\n"
     ]
    },
    {
     "name": "stdout",
     "output_type": "stream",
     "text": [
      "`Submitted batch job 21350435\n",
      "`\n",
      ">`sbatch slurm_script.sh --dependency=afterok:21350435`\n",
      "`Submitted batch job 21350436\n",
      "`\n",
      ">`sbatch gen_conf.sh`\n"
     ]
    },
    {
     "name": "stderr",
     "output_type": "stream",
     "text": [
      "/home/jrevan21/pypatchy/notebooks/../src/patchy/setup/patchy_set_setup.py:367: FutureWarning: The frame.append method is deprecated and will be removed from pandas in a future version. Use pandas.concat instead.\n",
      "  self.slurm_log.append({\n"
     ]
    },
    {
     "name": "stdout",
     "output_type": "stream",
     "text": [
      "`Submitted batch job 21350437\n",
      "`\n",
      ">`sbatch slurm_script.sh --dependency=afterok:21350437`\n",
      "`Submitted batch job 21350438\n",
      "`\n",
      ">`sbatch gen_conf.sh`\n"
     ]
    },
    {
     "name": "stderr",
     "output_type": "stream",
     "text": [
      "/home/jrevan21/pypatchy/notebooks/../src/patchy/setup/patchy_set_setup.py:367: FutureWarning: The frame.append method is deprecated and will be removed from pandas in a future version. Use pandas.concat instead.\n",
      "  self.slurm_log.append({\n"
     ]
    },
    {
     "name": "stdout",
     "output_type": "stream",
     "text": [
      "`Submitted batch job 21350439\n",
      "`\n",
      ">`sbatch slurm_script.sh --dependency=afterok:21350439`\n",
      "`Submitted batch job 21350440\n",
      "`\n",
      ">`sbatch gen_conf.sh`\n",
      "`Submitted batch job 21350441\n",
      "`\n",
      ">`sbatch slurm_script.sh --dependency=afterok:21350441`\n"
     ]
    },
    {
     "name": "stderr",
     "output_type": "stream",
     "text": [
      "/home/jrevan21/pypatchy/notebooks/../src/patchy/setup/patchy_set_setup.py:367: FutureWarning: The frame.append method is deprecated and will be removed from pandas in a future version. Use pandas.concat instead.\n",
      "  self.slurm_log.append({\n"
     ]
    },
    {
     "name": "stdout",
     "output_type": "stream",
     "text": [
      "`Submitted batch job 21350442\n",
      "`\n",
      ">`sbatch gen_conf.sh`\n",
      "`Submitted batch job 21350443\n",
      "`\n",
      ">`sbatch slurm_script.sh --dependency=afterok:21350443`\n",
      "`Submitted batch job 21350444\n",
      "`\n",
      ">`sbatch gen_conf.sh`\n"
     ]
    },
    {
     "name": "stderr",
     "output_type": "stream",
     "text": [
      "/home/jrevan21/pypatchy/notebooks/../src/patchy/setup/patchy_set_setup.py:367: FutureWarning: The frame.append method is deprecated and will be removed from pandas in a future version. Use pandas.concat instead.\n",
      "  self.slurm_log.append({\n",
      "/home/jrevan21/pypatchy/notebooks/../src/patchy/setup/patchy_set_setup.py:367: FutureWarning: The frame.append method is deprecated and will be removed from pandas in a future version. Use pandas.concat instead.\n",
      "  self.slurm_log.append({\n"
     ]
    },
    {
     "name": "stdout",
     "output_type": "stream",
     "text": [
      "`Submitted batch job 21350445\n",
      "`\n",
      ">`sbatch slurm_script.sh --dependency=afterok:21350445`\n",
      "`Submitted batch job 21350447\n",
      "`\n",
      ">`sbatch gen_conf.sh`\n",
      "`Submitted batch job 21350448\n",
      "`\n",
      ">`sbatch slurm_script.sh --dependency=afterok:21350448`\n"
     ]
    },
    {
     "name": "stderr",
     "output_type": "stream",
     "text": [
      "/home/jrevan21/pypatchy/notebooks/../src/patchy/setup/patchy_set_setup.py:367: FutureWarning: The frame.append method is deprecated and will be removed from pandas in a future version. Use pandas.concat instead.\n",
      "  self.slurm_log.append({\n"
     ]
    },
    {
     "name": "stdout",
     "output_type": "stream",
     "text": [
      "`Submitted batch job 21350449\n",
      "`\n",
      ">`sbatch gen_conf.sh`\n",
      "`Submitted batch job 21350450\n",
      "`\n",
      ">`sbatch slurm_script.sh --dependency=afterok:21350450`\n",
      "`Submitted batch job 21350451\n",
      "`\n",
      ">`sbatch gen_conf.sh`\n"
     ]
    },
    {
     "name": "stderr",
     "output_type": "stream",
     "text": [
      "/home/jrevan21/pypatchy/notebooks/../src/patchy/setup/patchy_set_setup.py:367: FutureWarning: The frame.append method is deprecated and will be removed from pandas in a future version. Use pandas.concat instead.\n",
      "  self.slurm_log.append({\n",
      "/home/jrevan21/pypatchy/notebooks/../src/patchy/setup/patchy_set_setup.py:367: FutureWarning: The frame.append method is deprecated and will be removed from pandas in a future version. Use pandas.concat instead.\n",
      "  self.slurm_log.append({\n"
     ]
    },
    {
     "name": "stdout",
     "output_type": "stream",
     "text": [
      "`Submitted batch job 21350452\n",
      "`\n",
      ">`sbatch slurm_script.sh --dependency=afterok:21350452`\n",
      "`Submitted batch job 21350453\n",
      "`\n",
      ">`sbatch gen_conf.sh`\n",
      "`Submitted batch job 21350454\n",
      "`\n",
      ">`sbatch slurm_script.sh --dependency=afterok:21350454`\n",
      "`Submitted batch job 21350455\n",
      "`\n",
      ">`sbatch gen_conf.sh`\n",
      "`Submitted batch job 21350456\n",
      "`\n",
      ">`sbatch slurm_script.sh --dependency=afterok:21350456`\n"
     ]
    },
    {
     "name": "stderr",
     "output_type": "stream",
     "text": [
      "/home/jrevan21/pypatchy/notebooks/../src/patchy/setup/patchy_set_setup.py:367: FutureWarning: The frame.append method is deprecated and will be removed from pandas in a future version. Use pandas.concat instead.\n",
      "  self.slurm_log.append({\n",
      "/home/jrevan21/pypatchy/notebooks/../src/patchy/setup/patchy_set_setup.py:367: FutureWarning: The frame.append method is deprecated and will be removed from pandas in a future version. Use pandas.concat instead.\n",
      "  self.slurm_log.append({\n"
     ]
    },
    {
     "name": "stdout",
     "output_type": "stream",
     "text": [
      "`Submitted batch job 21350457\n",
      "`\n",
      ">`sbatch gen_conf.sh`\n",
      "`Submitted batch job 21350458\n",
      "`\n",
      ">`sbatch slurm_script.sh --dependency=afterok:21350458`\n",
      "`Submitted batch job 21350459\n",
      "`\n",
      ">`sbatch gen_conf.sh`\n",
      "`Submitted batch job 21350460\n",
      "`\n",
      ">`sbatch slurm_script.sh --dependency=afterok:21350460`\n"
     ]
    },
    {
     "name": "stderr",
     "output_type": "stream",
     "text": [
      "/home/jrevan21/pypatchy/notebooks/../src/patchy/setup/patchy_set_setup.py:367: FutureWarning: The frame.append method is deprecated and will be removed from pandas in a future version. Use pandas.concat instead.\n",
      "  self.slurm_log.append({\n",
      "/home/jrevan21/pypatchy/notebooks/../src/patchy/setup/patchy_set_setup.py:367: FutureWarning: The frame.append method is deprecated and will be removed from pandas in a future version. Use pandas.concat instead.\n",
      "  self.slurm_log.append({\n"
     ]
    },
    {
     "name": "stdout",
     "output_type": "stream",
     "text": [
      "`Submitted batch job 21350461\n",
      "`\n",
      ">`sbatch gen_conf.sh`\n",
      "`Submitted batch job 21350462\n",
      "`\n",
      ">`sbatch slurm_script.sh --dependency=afterok:21350462`\n",
      "`Submitted batch job 21350463\n",
      "`\n",
      ">`sbatch gen_conf.sh`\n",
      "`Submitted batch job 21350464\n",
      "`\n",
      ">`sbatch slurm_script.sh --dependency=afterok:21350464`\n",
      "`Submitted batch job 21350465\n",
      "`\n",
      ">`sbatch gen_conf.sh`\n"
     ]
    },
    {
     "name": "stderr",
     "output_type": "stream",
     "text": [
      "/home/jrevan21/pypatchy/notebooks/../src/patchy/setup/patchy_set_setup.py:367: FutureWarning: The frame.append method is deprecated and will be removed from pandas in a future version. Use pandas.concat instead.\n",
      "  self.slurm_log.append({\n",
      "/home/jrevan21/pypatchy/notebooks/../src/patchy/setup/patchy_set_setup.py:367: FutureWarning: The frame.append method is deprecated and will be removed from pandas in a future version. Use pandas.concat instead.\n",
      "  self.slurm_log.append({\n",
      "/home/jrevan21/pypatchy/notebooks/../src/patchy/setup/patchy_set_setup.py:367: FutureWarning: The frame.append method is deprecated and will be removed from pandas in a future version. Use pandas.concat instead.\n",
      "  self.slurm_log.append({\n"
     ]
    },
    {
     "name": "stdout",
     "output_type": "stream",
     "text": [
      "`Submitted batch job 21350466\n",
      "`\n",
      ">`sbatch slurm_script.sh --dependency=afterok:21350466`\n",
      "`Submitted batch job 21350467\n",
      "`\n",
      ">`sbatch gen_conf.sh`\n"
     ]
    },
    {
     "name": "stderr",
     "output_type": "stream",
     "text": [
      "/home/jrevan21/pypatchy/notebooks/../src/patchy/setup/patchy_set_setup.py:367: FutureWarning: The frame.append method is deprecated and will be removed from pandas in a future version. Use pandas.concat instead.\n",
      "  self.slurm_log.append({\n"
     ]
    },
    {
     "name": "stdout",
     "output_type": "stream",
     "text": [
      "`Submitted batch job 21350468\n",
      "`\n",
      ">`sbatch slurm_script.sh --dependency=afterok:21350468`\n",
      "`Submitted batch job 21350469\n",
      "`\n",
      ">`sbatch gen_conf.sh`\n"
     ]
    },
    {
     "name": "stderr",
     "output_type": "stream",
     "text": [
      "/home/jrevan21/pypatchy/notebooks/../src/patchy/setup/patchy_set_setup.py:367: FutureWarning: The frame.append method is deprecated and will be removed from pandas in a future version. Use pandas.concat instead.\n",
      "  self.slurm_log.append({\n"
     ]
    },
    {
     "name": "stdout",
     "output_type": "stream",
     "text": [
      "`Submitted batch job 21350470\n",
      "`\n",
      ">`sbatch slurm_script.sh --dependency=afterok:21350470`\n",
      "`Submitted batch job 21350471\n",
      "`\n"
     ]
    },
    {
     "name": "stderr",
     "output_type": "stream",
     "text": [
      "/home/jrevan21/pypatchy/notebooks/../src/patchy/setup/patchy_set_setup.py:367: FutureWarning: The frame.append method is deprecated and will be removed from pandas in a future version. Use pandas.concat instead.\n",
      "  self.slurm_log.append({\n"
     ]
    }
   ],
   "source": [
    "sim_setup.start_simulations()"
   ]
  },
  {
   "cell_type": "code",
   "execution_count": 6,
   "id": "e6968873-e719-498c-85d6-6fba0c7aa2be",
   "metadata": {},
   "outputs": [],
   "source": [
    "sim_setup.dump_slurm_log_file()"
   ]
  },
  {
   "cell_type": "code",
   "execution_count": null,
   "id": "42f0ad89-30f4-44f6-8b27-e5bf96e62fa6",
   "metadata": {},
   "outputs": [],
   "source": []
  }
 ],
 "metadata": {
  "kernelspec": {
   "display_name": "Polycubes2",
   "language": "python",
   "name": "polycubes2"
  },
  "language_info": {
   "codemirror_mode": {
    "name": "ipython",
    "version": 3
   },
   "file_extension": ".py",
   "mimetype": "text/x-python",
   "name": "python",
   "nbconvert_exporter": "python",
   "pygments_lexer": "ipython3",
   "version": "3.10.9"
  }
 },
 "nbformat": 4,
 "nbformat_minor": 5
}
