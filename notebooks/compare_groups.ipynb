{
 "cells": [
  {
   "cell_type": "markdown",
   "id": "e93fa8e3-74b9-4312-80c8-390124109416",
   "metadata": {},
   "source": [
    "# Compare Groups Script\n",
    "Compares export groups from within a **single results**. Different targets are plotted side-by-side, different export groups are plotted on the same axes."
   ]
  },
  {
   "cell_type": "code",
   "execution_count": 1,
   "id": "130400dc-ea27-40d4-af42-3d442be14760",
   "metadata": {},
   "outputs": [
    {
     "name": "stdout",
     "output_type": "stream",
     "text": [
      "Available datasets:\n",
      "\tAllosteric_Pyramid_Full_Fall22,\n",
      "\trestart_bad_trajs.sh,\n",
      "\tAllosteric_Pyramid_Partial_Fall22,\n",
      "\tAlloSolidCube_X5_4_12Dec22,\n",
      "\tAlloSolidCube_X5_1_12Dec22,\n",
      "\tAlloSolidCube_X3_Singlet_12Dec22,\n",
      "\tcheck_traj_sizes.sh,\n",
      "\tWereflamingo_X2,\n",
      "\tNoAlloPyramid_14Oct22,\n",
      "\tAlloPyramid_X4_14Mar23,\n",
      "\tjobinfo.txt,\n",
      "\tAlloSolidCube_X1_12Dec22,\n",
      "\tWereflamingo_X4,\n",
      "\tWereflamingo_X3,\n",
      "\tWTSolidCube_Minimal_JB\n"
     ]
    },
    {
     "data": {
      "image/png": "[encoded data removed]",
      "text/plain": [
       "<Figure size 640x480 with 2 Axes>"
      ]
     },
     "metadata": {},
     "output_type": "display_data"
    }
   ],
   "source": [
    "from input_output import *\n",
    "from functools import reduce\n",
    "import altair as alt\n",
    "print(\"Available datasets:\\n\\t\" + ',\\n\\t'.join(os.listdir(sims_root())))"
   ]
  },
  {
   "cell_type": "code",
   "execution_count": 10,
   "id": "2b763c82-a483-4ee7-8b6a-f6a016547e38",
   "metadata": {},
   "outputs": [],
   "source": [
    "results_name = \"Wereflamingo_X3\"\n",
    "results_name_readable = \"Wereflamingo X3\"\n",
    "\n",
    "results = choose_results(results_name)"
   ]
  },
  {
   "cell_type": "code",
   "execution_count": 11,
   "id": "d65b76ae-056f-43a0-bbd6-c9a28f78c07a",
   "metadata": {},
   "outputs": [],
   "source": [
    "target_names = results.targets.keys()"
   ]
  },
  {
   "cell_type": "code",
   "execution_count": 12,
   "id": "e7fe9b99-0502-4f2d-a532-197609279ea5",
   "metadata": {},
   "outputs": [],
   "source": [
    "# PARAMETERS!!!!!\n",
    "# narrow type = set of parameters specifying bonding angles between patches\n",
    "# cutoff = the lower limit for counting clusters as partially assembled forms of the target\n",
    "# cutoff = 1 -> only count fully assembled clusters\n",
    "cutoff = .8\n",
    "overreach = False\n",
    "sample_every = 1"
   ]
  },
  {
   "cell_type": "code",
   "execution_count": 13,
   "id": "63110e07-653e-4380-8afe-17e7bd9aa456",
   "metadata": {
    "scrolled": true,
    "tags": []
   },
   "outputs": [
    {
     "name": "stdout",
     "output_type": "stream",
     "text": [
      "Analyzing Wereflamingo_X3 yields for target: human\n",
      "Computing yields of HUMANS duplicate 0 nt=0 T=0.01 with target=human, overreach=False, cutoff=0.8...\n"
     ]
    },
    {
     "name": "stderr",
     "output_type": "stream",
     "text": [
      "\n",
      "Please cite these publications for any work that uses the oxDNA simulation package\n",
      "\t\t- for the code:\n",
      "\t\t\t* P. Šulc et al., J. Chem. Phys. 137, 135101 (2012)\n",
      "\t\t\t* L. Rovigatti et al., J. Comput. Chem. 36, 1 (2015)\n",
      "\t\t- for the oxDNA model:\n",
      "\t\t\t* T. E. Ouldridge et al., J. Chem. Phys, 134, 085101 (2011)\n",
      "\t\t- for the oxDNA2 model:\n",
      "\t\t\t* B. E. K. Snodin et al., J. Chem. Phys. 142, 234901 (2015)\n",
      "\t\t- for the oxRNA model:\n",
      "\t\t\t* P. Šulc et al., J. Chem. Phys. 140, 235102 (2014)\n"
     ]
    },
    {
     "name": "stdout",
     "output_type": "stream",
     "text": [
      "HUMANS duplicate 0 nt=0 T=0.01 - Max yield: 3.6923076923076925\n",
      "Computed yields in 0.29116132855415344!\n",
      "Computing yields of HUMANS duplicate 0 nt=0 T=0.02 with target=human, overreach=False, cutoff=0.8...\n"
     ]
    },
    {
     "name": "stderr",
     "output_type": "stream",
     "text": [
      "\n",
      "Please cite these publications for any work that uses the oxDNA simulation package\n",
      "\t\t- for the code:\n",
      "\t\t\t* P. Šulc et al., J. Chem. Phys. 137, 135101 (2012)\n",
      "\t\t\t* L. Rovigatti et al., J. Comput. Chem. 36, 1 (2015)\n",
      "\t\t- for the oxDNA model:\n",
      "\t\t\t* T. E. Ouldridge et al., J. Chem. Phys, 134, 085101 (2011)\n",
      "\t\t- for the oxDNA2 model:\n",
      "\t\t\t* B. E. K. Snodin et al., J. Chem. Phys. 142, 234901 (2015)\n",
      "\t\t- for the oxRNA model:\n",
      "\t\t\t* P. Šulc et al., J. Chem. Phys. 140, 235102 (2014)\n"
     ]
    },
    {
     "name": "stdout",
     "output_type": "stream",
     "text": [
      "HUMANS duplicate 0 nt=0 T=0.02 - Max yield: 3.5384615384615383\n",
      "Computed yields in 0.2588846907019615!\n",
      "Computing yields of HUMANS duplicate 0 nt=0 T=0.05 with target=human, overreach=False, cutoff=0.8...\n",
      "HUMANS duplicate 0 nt=0 T=0.05 - Max yield: 1.9230769230769231\n"
     ]
    },
    {
     "name": "stderr",
     "output_type": "stream",
     "text": [
      "\n",
      "Please cite these publications for any work that uses the oxDNA simulation package\n",
      "\t\t- for the code:\n",
      "\t\t\t* P. Šulc et al., J. Chem. Phys. 137, 135101 (2012)\n",
      "\t\t\t* L. Rovigatti et al., J. Comput. Chem. 36, 1 (2015)\n",
      "\t\t- for the oxDNA model:\n",
      "\t\t\t* T. E. Ouldridge et al., J. Chem. Phys, 134, 085101 (2011)\n",
      "\t\t- for the oxDNA2 model:\n",
      "\t\t\t* B. E. K. Snodin et al., J. Chem. Phys. 142, 234901 (2015)\n",
      "\t\t- for the oxRNA model:\n",
      "\t\t\t* P. Šulc et al., J. Chem. Phys. 140, 235102 (2014)\n"
     ]
    },
    {
     "name": "stdout",
     "output_type": "stream",
     "text": [
      "Computed yields in 0.28499525412917137!\n",
      "Computing yields of HUMANS duplicate 1 nt=0 T=0.01 with target=human, overreach=False, cutoff=0.8...\n",
      "HUMANS duplicate 1 nt=0 T=0.01 - Max yield: 3.6923076923076925\n",
      "Computed yields in 0.21341406553983688!\n",
      "Computing yields of HUMANS duplicate 1 nt=0 T=0.02 with target=human, overreach=False, cutoff=0.8...\n"
     ]
    },
    {
     "name": "stderr",
     "output_type": "stream",
     "text": [
      "\n",
      "Please cite these publications for any work that uses the oxDNA simulation package\n",
      "\t\t- for the code:\n",
      "\t\t\t* P. Šulc et al., J. Chem. Phys. 137, 135101 (2012)\n",
      "\t\t\t* L. Rovigatti et al., J. Comput. Chem. 36, 1 (2015)\n",
      "\t\t- for the oxDNA model:\n",
      "\t\t\t* T. E. Ouldridge et al., J. Chem. Phys, 134, 085101 (2011)\n",
      "\t\t- for the oxDNA2 model:\n",
      "\t\t\t* B. E. K. Snodin et al., J. Chem. Phys. 142, 234901 (2015)\n",
      "\t\t- for the oxRNA model:\n",
      "\t\t\t* P. Šulc et al., J. Chem. Phys. 140, 235102 (2014)\n",
      "\n",
      "Please cite these publications for any work that uses the oxDNA simulation package\n",
      "\t\t- for the code:\n",
      "\t\t\t* P. Šulc et al., J. Chem. Phys. 137, 135101 (2012)\n",
      "\t\t\t* L. Rovigatti et al., J. Comput. Chem. 36, 1 (2015)\n",
      "\t\t- for the oxDNA model:\n",
      "\t\t\t* T. E. Ouldridge et al., J. Chem. Phys, 134, 085101 (2011)\n",
      "\t\t- for the oxDNA2 model:\n",
      "\t\t\t* B. E. K. Snodin et al., J. Chem. Phys. 142, 234901 (2015)\n",
      "\t\t- for the oxRNA model:\n",
      "\t\t\t* P. Šulc et al., J. Chem. Phys. 140, 235102 (2014)\n"
     ]
    },
    {
     "name": "stdout",
     "output_type": "stream",
     "text": [
      "HUMANS duplicate 1 nt=0 T=0.02 - Max yield: 5.384615384615385\n",
      "Computed yields in 0.20884089916944504!\n",
      "Computing yields of HUMANS duplicate 1 nt=0 T=0.05 with target=human, overreach=False, cutoff=0.8...\n",
      "HUMANS duplicate 1 nt=0 T=0.05 - Max yield: 3.4615384615384617\n",
      "Computed yields in 0.17620272189378738!\n",
      "Computing yields of HUMANS duplicate 2 nt=0 T=0.01 with target=human, overreach=False, cutoff=0.8...\n"
     ]
    },
    {
     "name": "stderr",
     "output_type": "stream",
     "text": [
      "\n",
      "Please cite these publications for any work that uses the oxDNA simulation package\n",
      "\t\t- for the code:\n",
      "\t\t\t* P. Šulc et al., J. Chem. Phys. 137, 135101 (2012)\n",
      "\t\t\t* L. Rovigatti et al., J. Comput. Chem. 36, 1 (2015)\n",
      "\t\t- for the oxDNA model:\n",
      "\t\t\t* T. E. Ouldridge et al., J. Chem. Phys, 134, 085101 (2011)\n",
      "\t\t- for the oxDNA2 model:\n",
      "\t\t\t* B. E. K. Snodin et al., J. Chem. Phys. 142, 234901 (2015)\n",
      "\t\t- for the oxRNA model:\n",
      "\t\t\t* P. Šulc et al., J. Chem. Phys. 140, 235102 (2014)\n",
      "\n",
      "Please cite these publications for any work that uses the oxDNA simulation package\n",
      "\t\t- for the code:\n",
      "\t\t\t* P. Šulc et al., J. Chem. Phys. 137, 135101 (2012)\n",
      "\t\t\t* L. Rovigatti et al., J. Comput. Chem. 36, 1 (2015)\n",
      "\t\t- for the oxDNA model:\n",
      "\t\t\t* T. E. Ouldridge et al., J. Chem. Phys, 134, 085101 (2011)\n",
      "\t\t- for the oxDNA2 model:\n",
      "\t\t\t* B. E. K. Snodin et al., J. Chem. Phys. 142, 234901 (2015)\n",
      "\t\t- for the oxRNA model:\n",
      "\t\t\t* P. Šulc et al., J. Chem. Phys. 140, 235102 (2014)\n"
     ]
    },
    {
     "name": "stdout",
     "output_type": "stream",
     "text": [
      "HUMANS duplicate 2 nt=0 T=0.01 - Max yield: 4.230769230769231\n",
      "Computed yields in 0.14565359801054!\n",
      "Computing yields of HUMANS duplicate 2 nt=0 T=0.02 with target=human, overreach=False, cutoff=0.8...\n",
      "HUMANS duplicate 2 nt=0 T=0.02 - Max yield: 4.230769230769231\n",
      "Computed yields in 0.15500416606664658!\n",
      "Computing yields of HUMANS duplicate 2 nt=0 T=0.05 with target=human, overreach=False, cutoff=0.8...\n"
     ]
    },
    {
     "name": "stderr",
     "output_type": "stream",
     "text": [
      "\n",
      "Please cite these publications for any work that uses the oxDNA simulation package\n",
      "\t\t- for the code:\n",
      "\t\t\t* P. Šulc et al., J. Chem. Phys. 137, 135101 (2012)\n",
      "\t\t\t* L. Rovigatti et al., J. Comput. Chem. 36, 1 (2015)\n",
      "\t\t- for the oxDNA model:\n",
      "\t\t\t* T. E. Ouldridge et al., J. Chem. Phys, 134, 085101 (2011)\n",
      "\t\t- for the oxDNA2 model:\n",
      "\t\t\t* B. E. K. Snodin et al., J. Chem. Phys. 142, 234901 (2015)\n",
      "\t\t- for the oxRNA model:\n",
      "\t\t\t* P. Šulc et al., J. Chem. Phys. 140, 235102 (2014)\n",
      "\n",
      "Please cite these publications for any work that uses the oxDNA simulation package\n",
      "\t\t- for the code:\n",
      "\t\t\t* P. Šulc et al., J. Chem. Phys. 137, 135101 (2012)\n",
      "\t\t\t* L. Rovigatti et al., J. Comput. Chem. 36, 1 (2015)\n",
      "\t\t- for the oxDNA model:\n",
      "\t\t\t* T. E. Ouldridge et al., J. Chem. Phys, 134, 085101 (2011)\n",
      "\t\t- for the oxDNA2 model:\n",
      "\t\t\t* B. E. K. Snodin et al., J. Chem. Phys. 142, 234901 (2015)\n",
      "\t\t- for the oxRNA model:\n",
      "\t\t\t* P. Šulc et al., J. Chem. Phys. 140, 235102 (2014)\n"
     ]
    },
    {
     "name": "stdout",
     "output_type": "stream",
     "text": [
      "HUMANS duplicate 2 nt=0 T=0.05 - Max yield: 1.8461538461538463\n",
      "Computed yields in 0.12541644647717476!\n",
      "Computing yields of HUMANS duplicate 3 nt=0 T=0.01 with target=human, overreach=False, cutoff=0.8...\n"
     ]
    },
    {
     "name": "stderr",
     "output_type": "stream",
     "text": [
      "\n",
      "Please cite these publications for any work that uses the oxDNA simulation package\n",
      "\t\t- for the code:\n",
      "\t\t\t* P. Šulc et al., J. Chem. Phys. 137, 135101 (2012)\n",
      "\t\t\t* L. Rovigatti et al., J. Comput. Chem. 36, 1 (2015)\n",
      "\t\t- for the oxDNA model:\n",
      "\t\t\t* T. E. Ouldridge et al., J. Chem. Phys, 134, 085101 (2011)\n",
      "\t\t- for the oxDNA2 model:\n",
      "\t\t\t* B. E. K. Snodin et al., J. Chem. Phys. 142, 234901 (2015)\n",
      "\t\t- for the oxRNA model:\n",
      "\t\t\t* P. Šulc et al., J. Chem. Phys. 140, 235102 (2014)\n"
     ]
    },
    {
     "name": "stdout",
     "output_type": "stream",
     "text": [
      "HUMANS duplicate 3 nt=0 T=0.01 - Max yield: 1.6923076923076923\n",
      "Computed yields in 0.3499770276248455!\n",
      "Computing yields of HUMANS duplicate 3 nt=0 T=0.02 with target=human, overreach=False, cutoff=0.8...\n",
      "HUMANS duplicate 3 nt=0 T=0.02 - Max yield: 4.384615384615385\n"
     ]
    },
    {
     "name": "stderr",
     "output_type": "stream",
     "text": [
      "\n",
      "Please cite these publications for any work that uses the oxDNA simulation package\n",
      "\t\t- for the code:\n",
      "\t\t\t* P. Šulc et al., J. Chem. Phys. 137, 135101 (2012)\n",
      "\t\t\t* L. Rovigatti et al., J. Comput. Chem. 36, 1 (2015)\n",
      "\t\t- for the oxDNA model:\n",
      "\t\t\t* T. E. Ouldridge et al., J. Chem. Phys, 134, 085101 (2011)\n",
      "\t\t- for the oxDNA2 model:\n",
      "\t\t\t* B. E. K. Snodin et al., J. Chem. Phys. 142, 234901 (2015)\n",
      "\t\t- for the oxRNA model:\n",
      "\t\t\t* P. Šulc et al., J. Chem. Phys. 140, 235102 (2014)\n",
      "\n",
      "Please cite these publications for any work that uses the oxDNA simulation package\n",
      "\t\t- for the code:\n",
      "\t\t\t* P. Šulc et al., J. Chem. Phys. 137, 135101 (2012)\n",
      "\t\t\t* L. Rovigatti et al., J. Comput. Chem. 36, 1 (2015)\n",
      "\t\t- for the oxDNA model:\n",
      "\t\t\t* T. E. Ouldridge et al., J. Chem. Phys, 134, 085101 (2011)\n",
      "\t\t- for the oxDNA2 model:\n",
      "\t\t\t* B. E. K. Snodin et al., J. Chem. Phys. 142, 234901 (2015)\n",
      "\t\t- for the oxRNA model:\n",
      "\t\t\t* P. Šulc et al., J. Chem. Phys. 140, 235102 (2014)\n"
     ]
    },
    {
     "name": "stdout",
     "output_type": "stream",
     "text": [
      "Computed yields in 0.17009886354207993!\n",
      "Computing yields of HUMANS duplicate 3 nt=0 T=0.05 with target=human, overreach=False, cutoff=0.8...\n",
      "HUMANS duplicate 3 nt=0 T=0.05 - Max yield: 3.3846153846153846\n",
      "Computed yields in 0.18113015219569206!\n",
      "Computing yields of FLAMINGOS duplicate 0 nt=0 T=0.01 with target=human, overreach=False, cutoff=0.8...\n"
     ]
    },
    {
     "name": "stderr",
     "output_type": "stream",
     "text": [
      "\n",
      "Please cite these publications for any work that uses the oxDNA simulation package\n",
      "\t\t- for the code:\n",
      "\t\t\t* P. Šulc et al., J. Chem. Phys. 137, 135101 (2012)\n",
      "\t\t\t* L. Rovigatti et al., J. Comput. Chem. 36, 1 (2015)\n",
      "\t\t- for the oxDNA model:\n",
      "\t\t\t* T. E. Ouldridge et al., J. Chem. Phys, 134, 085101 (2011)\n",
      "\t\t- for the oxDNA2 model:\n",
      "\t\t\t* B. E. K. Snodin et al., J. Chem. Phys. 142, 234901 (2015)\n",
      "\t\t- for the oxRNA model:\n",
      "\t\t\t* P. Šulc et al., J. Chem. Phys. 140, 235102 (2014)\n"
     ]
    },
    {
     "name": "stdout",
     "output_type": "stream",
     "text": [
      "FLAMINGOS duplicate 0 nt=0 T=0.01 - Max yield: 0.8461538461538461\n",
      "Computed yields in 0.24156862869858742!\n",
      "Computing yields of FLAMINGOS duplicate 0 nt=0 T=0.02 with target=human, overreach=False, cutoff=0.8...\n",
      "FLAMINGOS duplicate 0 nt=0 T=0.02 - Max yield: 0.8461538461538461\n",
      "Computed yields in 0.17975152283906937!\n",
      "Computing yields of FLAMINGOS duplicate 0 nt=0 T=0.05 with target=human, overreach=False, cutoff=0.8...\n"
     ]
    },
    {
     "name": "stderr",
     "output_type": "stream",
     "text": [
      "\n",
      "Please cite these publications for any work that uses the oxDNA simulation package\n",
      "\t\t- for the code:\n",
      "\t\t\t* P. Šulc et al., J. Chem. Phys. 137, 135101 (2012)\n",
      "\t\t\t* L. Rovigatti et al., J. Comput. Chem. 36, 1 (2015)\n",
      "\t\t- for the oxDNA model:\n",
      "\t\t\t* T. E. Ouldridge et al., J. Chem. Phys, 134, 085101 (2011)\n",
      "\t\t- for the oxDNA2 model:\n",
      "\t\t\t* B. E. K. Snodin et al., J. Chem. Phys. 142, 234901 (2015)\n",
      "\t\t- for the oxRNA model:\n",
      "\t\t\t* P. Šulc et al., J. Chem. Phys. 140, 235102 (2014)\n",
      "\n",
      "Please cite these publications for any work that uses the oxDNA simulation package\n",
      "\t\t- for the code:\n",
      "\t\t\t* P. Šulc et al., J. Chem. Phys. 137, 135101 (2012)\n",
      "\t\t\t* L. Rovigatti et al., J. Comput. Chem. 36, 1 (2015)\n",
      "\t\t- for the oxDNA model:\n",
      "\t\t\t* T. E. Ouldridge et al., J. Chem. Phys, 134, 085101 (2011)\n",
      "\t\t- for the oxDNA2 model:\n",
      "\t\t\t* B. E. K. Snodin et al., J. Chem. Phys. 142, 234901 (2015)\n",
      "\t\t- for the oxRNA model:\n",
      "\t\t\t* P. Šulc et al., J. Chem. Phys. 140, 235102 (2014)\n"
     ]
    },
    {
     "name": "stdout",
     "output_type": "stream",
     "text": [
      "FLAMINGOS duplicate 0 nt=0 T=0.05 - Max yield: 0.8461538461538461\n",
      "Computed yields in 0.1776219978928566!\n",
      "Computing yields of FLAMINGOS duplicate 1 nt=0 T=0.01 with target=human, overreach=False, cutoff=0.8...\n"
     ]
    },
    {
     "name": "stderr",
     "output_type": "stream",
     "text": [
      "\n",
      "Please cite these publications for any work that uses the oxDNA simulation package\n",
      "\t\t- for the code:\n",
      "\t\t\t* P. Šulc et al., J. Chem. Phys. 137, 135101 (2012)\n",
      "\t\t\t* L. Rovigatti et al., J. Comput. Chem. 36, 1 (2015)\n",
      "\t\t- for the oxDNA model:\n",
      "\t\t\t* T. E. Ouldridge et al., J. Chem. Phys, 134, 085101 (2011)\n",
      "\t\t- for the oxDNA2 model:\n",
      "\t\t\t* B. E. K. Snodin et al., J. Chem. Phys. 142, 234901 (2015)\n",
      "\t\t- for the oxRNA model:\n",
      "\t\t\t* P. Šulc et al., J. Chem. Phys. 140, 235102 (2014)\n"
     ]
    },
    {
     "name": "stdout",
     "output_type": "stream",
     "text": [
      "FLAMINGOS duplicate 1 nt=0 T=0.01 - Max yield: 0\n",
      "Computed yields in 1.0649194307625294!\n",
      "Computing yields of FLAMINGOS duplicate 1 nt=0 T=0.02 with target=human, overreach=False, cutoff=0.8...\n"
     ]
    },
    {
     "name": "stderr",
     "output_type": "stream",
     "text": [
      "\n",
      "Please cite these publications for any work that uses the oxDNA simulation package\n",
      "\t\t- for the code:\n",
      "\t\t\t* P. Šulc et al., J. Chem. Phys. 137, 135101 (2012)\n",
      "\t\t\t* L. Rovigatti et al., J. Comput. Chem. 36, 1 (2015)\n",
      "\t\t- for the oxDNA model:\n",
      "\t\t\t* T. E. Ouldridge et al., J. Chem. Phys, 134, 085101 (2011)\n",
      "\t\t- for the oxDNA2 model:\n",
      "\t\t\t* B. E. K. Snodin et al., J. Chem. Phys. 142, 234901 (2015)\n",
      "\t\t- for the oxRNA model:\n",
      "\t\t\t* P. Šulc et al., J. Chem. Phys. 140, 235102 (2014)\n",
      "\n",
      "Please cite these publications for any work that uses the oxDNA simulation package\n",
      "\t\t- for the code:\n",
      "\t\t\t* P. Šulc et al., J. Chem. Phys. 137, 135101 (2012)\n",
      "\t\t\t* L. Rovigatti et al., J. Comput. Chem. 36, 1 (2015)\n",
      "\t\t- for the oxDNA model:\n",
      "\t\t\t* T. E. Ouldridge et al., J. Chem. Phys, 134, 085101 (2011)\n",
      "\t\t- for the oxDNA2 model:\n",
      "\t\t\t* B. E. K. Snodin et al., J. Chem. Phys. 142, 234901 (2015)\n",
      "\t\t- for the oxRNA model:\n",
      "\t\t\t* P. Šulc et al., J. Chem. Phys. 140, 235102 (2014)\n"
     ]
    },
    {
     "name": "stdout",
     "output_type": "stream",
     "text": [
      "FLAMINGOS duplicate 1 nt=0 T=0.02 - Max yield: 0\n",
      "Computed yields in 0.171145711094141!\n",
      "Computing yields of FLAMINGOS duplicate 1 nt=0 T=0.05 with target=human, overreach=False, cutoff=0.8...\n",
      "FLAMINGOS duplicate 1 nt=0 T=0.05 - Max yield: 0.8461538461538461\n",
      "Computed yields in 0.1869511641561985!\n",
      "Computing yields of FLAMINGOS duplicate 2 nt=0 T=0.01 with target=human, overreach=False, cutoff=0.8...\n"
     ]
    },
    {
     "name": "stderr",
     "output_type": "stream",
     "text": [
      "\n",
      "Please cite these publications for any work that uses the oxDNA simulation package\n",
      "\t\t- for the code:\n",
      "\t\t\t* P. Šulc et al., J. Chem. Phys. 137, 135101 (2012)\n",
      "\t\t\t* L. Rovigatti et al., J. Comput. Chem. 36, 1 (2015)\n",
      "\t\t- for the oxDNA model:\n",
      "\t\t\t* T. E. Ouldridge et al., J. Chem. Phys, 134, 085101 (2011)\n",
      "\t\t- for the oxDNA2 model:\n",
      "\t\t\t* B. E. K. Snodin et al., J. Chem. Phys. 142, 234901 (2015)\n",
      "\t\t- for the oxRNA model:\n",
      "\t\t\t* P. Šulc et al., J. Chem. Phys. 140, 235102 (2014)\n"
     ]
    },
    {
     "name": "stdout",
     "output_type": "stream",
     "text": [
      "FLAMINGOS duplicate 2 nt=0 T=0.01 - Max yield: 0\n",
      "Computed yields in 0.4738468714058399!\n",
      "Computing yields of FLAMINGOS duplicate 2 nt=0 T=0.02 with target=human, overreach=False, cutoff=0.8...\n",
      "FLAMINGOS duplicate 2 nt=0 T=0.02 - Max yield: 0\n"
     ]
    },
    {
     "name": "stderr",
     "output_type": "stream",
     "text": [
      "\n",
      "Please cite these publications for any work that uses the oxDNA simulation package\n",
      "\t\t- for the code:\n",
      "\t\t\t* P. Šulc et al., J. Chem. Phys. 137, 135101 (2012)\n",
      "\t\t\t* L. Rovigatti et al., J. Comput. Chem. 36, 1 (2015)\n",
      "\t\t- for the oxDNA model:\n",
      "\t\t\t* T. E. Ouldridge et al., J. Chem. Phys, 134, 085101 (2011)\n",
      "\t\t- for the oxDNA2 model:\n",
      "\t\t\t* B. E. K. Snodin et al., J. Chem. Phys. 142, 234901 (2015)\n",
      "\t\t- for the oxRNA model:\n",
      "\t\t\t* P. Šulc et al., J. Chem. Phys. 140, 235102 (2014)\n"
     ]
    },
    {
     "name": "stdout",
     "output_type": "stream",
     "text": [
      "Computed yields in 0.19323934987187386!\n",
      "Computing yields of FLAMINGOS duplicate 2 nt=0 T=0.05 with target=human, overreach=False, cutoff=0.8...\n",
      "FLAMINGOS duplicate 2 nt=0 T=0.05 - Max yield: 0.8461538461538461\n",
      "Computed yields in 0.16583829373121262!\n",
      "Computing yields of FLAMINGOS duplicate 3 nt=0 T=0.01 with target=human, overreach=False, cutoff=0.8...\n"
     ]
    },
    {
     "name": "stderr",
     "output_type": "stream",
     "text": [
      "\n",
      "Please cite these publications for any work that uses the oxDNA simulation package\n",
      "\t\t- for the code:\n",
      "\t\t\t* P. Šulc et al., J. Chem. Phys. 137, 135101 (2012)\n",
      "\t\t\t* L. Rovigatti et al., J. Comput. Chem. 36, 1 (2015)\n",
      "\t\t- for the oxDNA model:\n",
      "\t\t\t* T. E. Ouldridge et al., J. Chem. Phys, 134, 085101 (2011)\n",
      "\t\t- for the oxDNA2 model:\n",
      "\t\t\t* B. E. K. Snodin et al., J. Chem. Phys. 142, 234901 (2015)\n",
      "\t\t- for the oxRNA model:\n",
      "\t\t\t* P. Šulc et al., J. Chem. Phys. 140, 235102 (2014)\n",
      "\n",
      "Please cite these publications for any work that uses the oxDNA simulation package\n",
      "\t\t- for the code:\n",
      "\t\t\t* P. Šulc et al., J. Chem. Phys. 137, 135101 (2012)\n",
      "\t\t\t* L. Rovigatti et al., J. Comput. Chem. 36, 1 (2015)\n",
      "\t\t- for the oxDNA model:\n",
      "\t\t\t* T. E. Ouldridge et al., J. Chem. Phys, 134, 085101 (2011)\n",
      "\t\t- for the oxDNA2 model:\n",
      "\t\t\t* B. E. K. Snodin et al., J. Chem. Phys. 142, 234901 (2015)\n",
      "\t\t- for the oxRNA model:\n",
      "\t\t\t* P. Šulc et al., J. Chem. Phys. 140, 235102 (2014)\n"
     ]
    },
    {
     "name": "stdout",
     "output_type": "stream",
     "text": [
      "FLAMINGOS duplicate 3 nt=0 T=0.01 - Max yield: 0.8461538461538461\n",
      "Computed yields in 0.16238849982619286!\n",
      "Computing yields of FLAMINGOS duplicate 3 nt=0 T=0.02 with target=human, overreach=False, cutoff=0.8...\n",
      "FLAMINGOS duplicate 3 nt=0 T=0.02 - Max yield: 0.8461538461538461\n",
      "Computed yields in 0.1652657426893711!\n",
      "Computing yields of FLAMINGOS duplicate 3 nt=0 T=0.05 with target=human, overreach=False, cutoff=0.8...\n"
     ]
    },
    {
     "name": "stderr",
     "output_type": "stream",
     "text": [
      "\n",
      "Please cite these publications for any work that uses the oxDNA simulation package\n",
      "\t\t- for the code:\n",
      "\t\t\t* P. Šulc et al., J. Chem. Phys. 137, 135101 (2012)\n",
      "\t\t\t* L. Rovigatti et al., J. Comput. Chem. 36, 1 (2015)\n",
      "\t\t- for the oxDNA model:\n",
      "\t\t\t* T. E. Ouldridge et al., J. Chem. Phys, 134, 085101 (2011)\n",
      "\t\t- for the oxDNA2 model:\n",
      "\t\t\t* B. E. K. Snodin et al., J. Chem. Phys. 142, 234901 (2015)\n",
      "\t\t- for the oxRNA model:\n",
      "\t\t\t* P. Šulc et al., J. Chem. Phys. 140, 235102 (2014)\n",
      "\n",
      "Please cite these publications for any work that uses the oxDNA simulation package\n",
      "\t\t- for the code:\n",
      "\t\t\t* P. Šulc et al., J. Chem. Phys. 137, 135101 (2012)\n",
      "\t\t\t* L. Rovigatti et al., J. Comput. Chem. 36, 1 (2015)\n",
      "\t\t- for the oxDNA model:\n",
      "\t\t\t* T. E. Ouldridge et al., J. Chem. Phys, 134, 085101 (2011)\n",
      "\t\t- for the oxDNA2 model:\n",
      "\t\t\t* B. E. K. Snodin et al., J. Chem. Phys. 142, 234901 (2015)\n",
      "\t\t- for the oxRNA model:\n",
      "\t\t\t* P. Šulc et al., J. Chem. Phys. 140, 235102 (2014)\n"
     ]
    },
    {
     "name": "stdout",
     "output_type": "stream",
     "text": [
      "FLAMINGOS duplicate 3 nt=0 T=0.05 - Max yield: 0.8461538461538461\n",
      "Computed yields in 0.11564867943525314!\n",
      "Computing yields of MIX duplicate 0 nt=0 T=0.01 with target=human, overreach=False, cutoff=0.8...\n",
      "MIX duplicate 0 nt=0 T=0.01 - Max yield: 3.0\n"
     ]
    },
    {
     "name": "stderr",
     "output_type": "stream",
     "text": [
      "\n",
      "Please cite these publications for any work that uses the oxDNA simulation package\n",
      "\t\t- for the code:\n",
      "\t\t\t* P. Šulc et al., J. Chem. Phys. 137, 135101 (2012)\n",
      "\t\t\t* L. Rovigatti et al., J. Comput. Chem. 36, 1 (2015)\n",
      "\t\t- for the oxDNA model:\n",
      "\t\t\t* T. E. Ouldridge et al., J. Chem. Phys, 134, 085101 (2011)\n",
      "\t\t- for the oxDNA2 model:\n",
      "\t\t\t* B. E. K. Snodin et al., J. Chem. Phys. 142, 234901 (2015)\n",
      "\t\t- for the oxRNA model:\n",
      "\t\t\t* P. Šulc et al., J. Chem. Phys. 140, 235102 (2014)\n",
      "\n",
      "Please cite these publications for any work that uses the oxDNA simulation package\n",
      "\t\t- for the code:\n",
      "\t\t\t* P. Šulc et al., J. Chem. Phys. 137, 135101 (2012)\n",
      "\t\t\t* L. Rovigatti et al., J. Comput. Chem. 36, 1 (2015)\n",
      "\t\t- for the oxDNA model:\n",
      "\t\t\t* T. E. Ouldridge et al., J. Chem. Phys, 134, 085101 (2011)\n",
      "\t\t- for the oxDNA2 model:\n",
      "\t\t\t* B. E. K. Snodin et al., J. Chem. Phys. 142, 234901 (2015)\n",
      "\t\t- for the oxRNA model:\n",
      "\t\t\t* P. Šulc et al., J. Chem. Phys. 140, 235102 (2014)\n"
     ]
    },
    {
     "name": "stdout",
     "output_type": "stream",
     "text": [
      "Computed yields in 0.18440569937229156!\n",
      "Computing yields of MIX duplicate 0 nt=0 T=0.02 with target=human, overreach=False, cutoff=0.8...\n",
      "MIX duplicate 0 nt=0 T=0.02 - Max yield: 4.0\n",
      "Computed yields in 0.17742962762713432!\n",
      "Computing yields of MIX duplicate 0 nt=0 T=0.05 with target=human, overreach=False, cutoff=0.8...\n"
     ]
    },
    {
     "name": "stderr",
     "output_type": "stream",
     "text": [
      "\n",
      "Please cite these publications for any work that uses the oxDNA simulation package\n",
      "\t\t- for the code:\n",
      "\t\t\t* P. Šulc et al., J. Chem. Phys. 137, 135101 (2012)\n",
      "\t\t\t* L. Rovigatti et al., J. Comput. Chem. 36, 1 (2015)\n",
      "\t\t- for the oxDNA model:\n",
      "\t\t\t* T. E. Ouldridge et al., J. Chem. Phys, 134, 085101 (2011)\n",
      "\t\t- for the oxDNA2 model:\n",
      "\t\t\t* B. E. K. Snodin et al., J. Chem. Phys. 142, 234901 (2015)\n",
      "\t\t- for the oxRNA model:\n",
      "\t\t\t* P. Šulc et al., J. Chem. Phys. 140, 235102 (2014)\n"
     ]
    },
    {
     "name": "stdout",
     "output_type": "stream",
     "text": [
      "MIX duplicate 0 nt=0 T=0.05 - Max yield: 2.8461538461538463\n",
      "Computed yields in 0.21352466195821762!\n",
      "Computing yields of MIX duplicate 1 nt=0 T=0.01 with target=human, overreach=False, cutoff=0.8...\n"
     ]
    },
    {
     "name": "stderr",
     "output_type": "stream",
     "text": [
      "\n",
      "Please cite these publications for any work that uses the oxDNA simulation package\n",
      "\t\t- for the code:\n",
      "\t\t\t* P. Šulc et al., J. Chem. Phys. 137, 135101 (2012)\n",
      "\t\t\t* L. Rovigatti et al., J. Comput. Chem. 36, 1 (2015)\n",
      "\t\t- for the oxDNA model:\n",
      "\t\t\t* T. E. Ouldridge et al., J. Chem. Phys, 134, 085101 (2011)\n",
      "\t\t- for the oxDNA2 model:\n",
      "\t\t\t* B. E. K. Snodin et al., J. Chem. Phys. 142, 234901 (2015)\n",
      "\t\t- for the oxRNA model:\n",
      "\t\t\t* P. Šulc et al., J. Chem. Phys. 140, 235102 (2014)\n"
     ]
    },
    {
     "name": "stdout",
     "output_type": "stream",
     "text": [
      "MIX duplicate 1 nt=0 T=0.01 - Max yield: 4.0\n",
      "Computed yields in 0.24143673479557037!\n",
      "Computing yields of MIX duplicate 1 nt=0 T=0.02 with target=human, overreach=False, cutoff=0.8...\n",
      "MIX duplicate 1 nt=0 T=0.02 - Max yield: 4.0\n"
     ]
    },
    {
     "name": "stderr",
     "output_type": "stream",
     "text": [
      "\n",
      "Please cite these publications for any work that uses the oxDNA simulation package\n",
      "\t\t- for the code:\n",
      "\t\t\t* P. Šulc et al., J. Chem. Phys. 137, 135101 (2012)\n",
      "\t\t\t* L. Rovigatti et al., J. Comput. Chem. 36, 1 (2015)\n",
      "\t\t- for the oxDNA model:\n",
      "\t\t\t* T. E. Ouldridge et al., J. Chem. Phys, 134, 085101 (2011)\n",
      "\t\t- for the oxDNA2 model:\n",
      "\t\t\t* B. E. K. Snodin et al., J. Chem. Phys. 142, 234901 (2015)\n",
      "\t\t- for the oxRNA model:\n",
      "\t\t\t* P. Šulc et al., J. Chem. Phys. 140, 235102 (2014)\n",
      "\n",
      "Please cite these publications for any work that uses the oxDNA simulation package\n",
      "\t\t- for the code:\n",
      "\t\t\t* P. Šulc et al., J. Chem. Phys. 137, 135101 (2012)\n",
      "\t\t\t* L. Rovigatti et al., J. Comput. Chem. 36, 1 (2015)\n",
      "\t\t- for the oxDNA model:\n",
      "\t\t\t* T. E. Ouldridge et al., J. Chem. Phys, 134, 085101 (2011)\n",
      "\t\t- for the oxDNA2 model:\n",
      "\t\t\t* B. E. K. Snodin et al., J. Chem. Phys. 142, 234901 (2015)\n",
      "\t\t- for the oxRNA model:\n",
      "\t\t\t* P. Šulc et al., J. Chem. Phys. 140, 235102 (2014)\n"
     ]
    },
    {
     "name": "stdout",
     "output_type": "stream",
     "text": [
      "Computed yields in 0.17598985508084297!\n",
      "Computing yields of MIX duplicate 1 nt=0 T=0.05 with target=human, overreach=False, cutoff=0.8...\n",
      "MIX duplicate 1 nt=0 T=0.05 - Max yield: 3.769230769230769\n",
      "Computed yields in 0.21526386961340904!\n",
      "Computing yields of MIX duplicate 2 nt=0 T=0.01 with target=human, overreach=False, cutoff=0.8...\n"
     ]
    },
    {
     "name": "stderr",
     "output_type": "stream",
     "text": [
      "\n",
      "Please cite these publications for any work that uses the oxDNA simulation package\n",
      "\t\t- for the code:\n",
      "\t\t\t* P. Šulc et al., J. Chem. Phys. 137, 135101 (2012)\n",
      "\t\t\t* L. Rovigatti et al., J. Comput. Chem. 36, 1 (2015)\n",
      "\t\t- for the oxDNA model:\n",
      "\t\t\t* T. E. Ouldridge et al., J. Chem. Phys, 134, 085101 (2011)\n",
      "\t\t- for the oxDNA2 model:\n",
      "\t\t\t* B. E. K. Snodin et al., J. Chem. Phys. 142, 234901 (2015)\n",
      "\t\t- for the oxRNA model:\n",
      "\t\t\t* P. Šulc et al., J. Chem. Phys. 140, 235102 (2014)\n"
     ]
    },
    {
     "name": "stdout",
     "output_type": "stream",
     "text": [
      "MIX duplicate 2 nt=0 T=0.01 - Max yield: 4.0\n",
      "Computed yields in 0.23172154277563095!\n",
      "Computing yields of MIX duplicate 2 nt=0 T=0.02 with target=human, overreach=False, cutoff=0.8...\n",
      "MIX duplicate 2 nt=0 T=0.02 - Max yield: 4.0\n",
      "Computed yields in 0.15984173119068146!\n",
      "Computing yields of MIX duplicate 2 nt=0 T=0.05 with target=human, overreach=False, cutoff=0.8...\n"
     ]
    },
    {
     "name": "stderr",
     "output_type": "stream",
     "text": [
      "\n",
      "Please cite these publications for any work that uses the oxDNA simulation package\n",
      "\t\t- for the code:\n",
      "\t\t\t* P. Šulc et al., J. Chem. Phys. 137, 135101 (2012)\n",
      "\t\t\t* L. Rovigatti et al., J. Comput. Chem. 36, 1 (2015)\n",
      "\t\t- for the oxDNA model:\n",
      "\t\t\t* T. E. Ouldridge et al., J. Chem. Phys, 134, 085101 (2011)\n",
      "\t\t- for the oxDNA2 model:\n",
      "\t\t\t* B. E. K. Snodin et al., J. Chem. Phys. 142, 234901 (2015)\n",
      "\t\t- for the oxRNA model:\n",
      "\t\t\t* P. Šulc et al., J. Chem. Phys. 140, 235102 (2014)\n",
      "\n",
      "Please cite these publications for any work that uses the oxDNA simulation package\n",
      "\t\t- for the code:\n",
      "\t\t\t* P. Šulc et al., J. Chem. Phys. 137, 135101 (2012)\n",
      "\t\t\t* L. Rovigatti et al., J. Comput. Chem. 36, 1 (2015)\n",
      "\t\t- for the oxDNA model:\n",
      "\t\t\t* T. E. Ouldridge et al., J. Chem. Phys, 134, 085101 (2011)\n",
      "\t\t- for the oxDNA2 model:\n",
      "\t\t\t* B. E. K. Snodin et al., J. Chem. Phys. 142, 234901 (2015)\n",
      "\t\t- for the oxRNA model:\n",
      "\t\t\t* P. Šulc et al., J. Chem. Phys. 140, 235102 (2014)\n",
      "\n",
      "Please cite these publications for any work that uses the oxDNA simulation package\n",
      "\t\t- for the code:\n",
      "\t\t\t* P. Šulc et al., J. Chem. Phys. 137, 135101 (2012)\n",
      "\t\t\t* L. Rovigatti et al., J. Comput. Chem. 36, 1 (2015)\n",
      "\t\t- for the oxDNA model:\n",
      "\t\t\t* T. E. Ouldridge et al., J. Chem. Phys, 134, 085101 (2011)\n",
      "\t\t- for the oxDNA2 model:\n",
      "\t\t\t* B. E. K. Snodin et al., J. Chem. Phys. 142, 234901 (2015)\n",
      "\t\t- for the oxRNA model:\n",
      "\t\t\t* P. Šulc et al., J. Chem. Phys. 140, 235102 (2014)\n"
     ]
    },
    {
     "name": "stdout",
     "output_type": "stream",
     "text": [
      "MIX duplicate 2 nt=0 T=0.05 - Max yield: 3.6153846153846154\n",
      "Computed yields in 0.19466815888881683!\n",
      "Computing yields of MIX duplicate 3 nt=0 T=0.01 with target=human, overreach=False, cutoff=0.8...\n",
      "MIX duplicate 3 nt=0 T=0.01 - Max yield: 4.0\n",
      "Computed yields in 0.18267633020877838!\n",
      "Computing yields of MIX duplicate 3 nt=0 T=0.02 with target=human, overreach=False, cutoff=0.8...\n",
      "MIX duplicate 3 nt=0 T=0.02 - Max yield: 4.0\n"
     ]
    },
    {
     "name": "stderr",
     "output_type": "stream",
     "text": [
      "\n",
      "Please cite these publications for any work that uses the oxDNA simulation package\n",
      "\t\t- for the code:\n",
      "\t\t\t* P. Šulc et al., J. Chem. Phys. 137, 135101 (2012)\n",
      "\t\t\t* L. Rovigatti et al., J. Comput. Chem. 36, 1 (2015)\n",
      "\t\t- for the oxDNA model:\n",
      "\t\t\t* T. E. Ouldridge et al., J. Chem. Phys, 134, 085101 (2011)\n",
      "\t\t- for the oxDNA2 model:\n",
      "\t\t\t* B. E. K. Snodin et al., J. Chem. Phys. 142, 234901 (2015)\n",
      "\t\t- for the oxRNA model:\n",
      "\t\t\t* P. Šulc et al., J. Chem. Phys. 140, 235102 (2014)\n"
     ]
    },
    {
     "name": "stdout",
     "output_type": "stream",
     "text": [
      "Computed yields in 0.2641638293862343!\n",
      "Computing yields of MIX duplicate 3 nt=0 T=0.05 with target=human, overreach=False, cutoff=0.8...\n"
     ]
    },
    {
     "name": "stderr",
     "output_type": "stream",
     "text": [
      "\n",
      "Please cite these publications for any work that uses the oxDNA simulation package\n",
      "\t\t- for the code:\n",
      "\t\t\t* P. Šulc et al., J. Chem. Phys. 137, 135101 (2012)\n",
      "\t\t\t* L. Rovigatti et al., J. Comput. Chem. 36, 1 (2015)\n",
      "\t\t- for the oxDNA model:\n",
      "\t\t\t* T. E. Ouldridge et al., J. Chem. Phys, 134, 085101 (2011)\n",
      "\t\t- for the oxDNA2 model:\n",
      "\t\t\t* B. E. K. Snodin et al., J. Chem. Phys. 142, 234901 (2015)\n",
      "\t\t- for the oxRNA model:\n",
      "\t\t\t* P. Šulc et al., J. Chem. Phys. 140, 235102 (2014)\n"
     ]
    },
    {
     "name": "stdout",
     "output_type": "stream",
     "text": [
      "MIX duplicate 3 nt=0 T=0.05 - Max yield: 3.0\n",
      "Computed yields in 0.7799495793879032!\n",
      "Analyzing Wereflamingo_X3 yields for target: flamingo\n",
      "Computing yields of HUMANS duplicate 0 nt=0 T=0.01 with target=flamingo, overreach=False, cutoff=0.8...\n",
      "HUMANS duplicate 0 nt=0 T=0.01 - Max yield: 0\n",
      "Computed yields in 0.06384153664112091!\n",
      "Computing yields of HUMANS duplicate 0 nt=0 T=0.02 with target=flamingo, overreach=False, cutoff=0.8...\n",
      "HUMANS duplicate 0 nt=0 T=0.02 - Max yield: 0\n",
      "Computed yields in 0.059224214404821396!\n",
      "Computing yields of HUMANS duplicate 0 nt=0 T=0.05 with target=flamingo, overreach=False, cutoff=0.8...\n",
      "HUMANS duplicate 0 nt=0 T=0.05 - Max yield: 0\n"
     ]
    },
    {
     "name": "stderr",
     "output_type": "stream",
     "text": [
      "\n",
      "Please cite these publications for any work that uses the oxDNA simulation package\n",
      "\t\t- for the code:\n",
      "\t\t\t* P. Šulc et al., J. Chem. Phys. 137, 135101 (2012)\n",
      "\t\t\t* L. Rovigatti et al., J. Comput. Chem. 36, 1 (2015)\n",
      "\t\t- for the oxDNA model:\n",
      "\t\t\t* T. E. Ouldridge et al., J. Chem. Phys, 134, 085101 (2011)\n",
      "\t\t- for the oxDNA2 model:\n",
      "\t\t\t* B. E. K. Snodin et al., J. Chem. Phys. 142, 234901 (2015)\n",
      "\t\t- for the oxRNA model:\n",
      "\t\t\t* P. Šulc et al., J. Chem. Phys. 140, 235102 (2014)\n",
      "\n",
      "Please cite these publications for any work that uses the oxDNA simulation package\n",
      "\t\t- for the code:\n",
      "\t\t\t* P. Šulc et al., J. Chem. Phys. 137, 135101 (2012)\n",
      "\t\t\t* L. Rovigatti et al., J. Comput. Chem. 36, 1 (2015)\n",
      "\t\t- for the oxDNA model:\n",
      "\t\t\t* T. E. Ouldridge et al., J. Chem. Phys, 134, 085101 (2011)\n",
      "\t\t- for the oxDNA2 model:\n",
      "\t\t\t* B. E. K. Snodin et al., J. Chem. Phys. 142, 234901 (2015)\n",
      "\t\t- for the oxRNA model:\n",
      "\t\t\t* P. Šulc et al., J. Chem. Phys. 140, 235102 (2014)\n",
      "\n",
      "Please cite these publications for any work that uses the oxDNA simulation package\n",
      "\t\t- for the code:\n",
      "\t\t\t* P. Šulc et al., J. Chem. Phys. 137, 135101 (2012)\n",
      "\t\t\t* L. Rovigatti et al., J. Comput. Chem. 36, 1 (2015)\n",
      "\t\t- for the oxDNA model:\n",
      "\t\t\t* T. E. Ouldridge et al., J. Chem. Phys, 134, 085101 (2011)\n",
      "\t\t- for the oxDNA2 model:\n",
      "\t\t\t* B. E. K. Snodin et al., J. Chem. Phys. 142, 234901 (2015)\n",
      "\t\t- for the oxRNA model:\n",
      "\t\t\t* P. Šulc et al., J. Chem. Phys. 140, 235102 (2014)\n"
     ]
    },
    {
     "name": "stdout",
     "output_type": "stream",
     "text": [
      "Computed yields in 0.10175596177577972!\n",
      "Computing yields of HUMANS duplicate 1 nt=0 T=0.01 with target=flamingo, overreach=False, cutoff=0.8...\n",
      "HUMANS duplicate 1 nt=0 T=0.01 - Max yield: 0\n",
      "Computed yields in 0.07503830268979073!\n",
      "Computing yields of HUMANS duplicate 1 nt=0 T=0.02 with target=flamingo, overreach=False, cutoff=0.8...\n",
      "HUMANS duplicate 1 nt=0 T=0.02 - Max yield: 0\n",
      "Computed yields in 0.11899109184741974!\n",
      "Computing yields of HUMANS duplicate 1 nt=0 T=0.05 with target=flamingo, overreach=False, cutoff=0.8...\n"
     ]
    },
    {
     "name": "stderr",
     "output_type": "stream",
     "text": [
      "\n",
      "Please cite these publications for any work that uses the oxDNA simulation package\n",
      "\t\t- for the code:\n",
      "\t\t\t* P. Šulc et al., J. Chem. Phys. 137, 135101 (2012)\n",
      "\t\t\t* L. Rovigatti et al., J. Comput. Chem. 36, 1 (2015)\n",
      "\t\t- for the oxDNA model:\n",
      "\t\t\t* T. E. Ouldridge et al., J. Chem. Phys, 134, 085101 (2011)\n",
      "\t\t- for the oxDNA2 model:\n",
      "\t\t\t* B. E. K. Snodin et al., J. Chem. Phys. 142, 234901 (2015)\n",
      "\t\t- for the oxRNA model:\n",
      "\t\t\t* P. Šulc et al., J. Chem. Phys. 140, 235102 (2014)\n",
      "\n",
      "Please cite these publications for any work that uses the oxDNA simulation package\n",
      "\t\t- for the code:\n",
      "\t\t\t* P. Šulc et al., J. Chem. Phys. 137, 135101 (2012)\n",
      "\t\t\t* L. Rovigatti et al., J. Comput. Chem. 36, 1 (2015)\n",
      "\t\t- for the oxDNA model:\n",
      "\t\t\t* T. E. Ouldridge et al., J. Chem. Phys, 134, 085101 (2011)\n",
      "\t\t- for the oxDNA2 model:\n",
      "\t\t\t* B. E. K. Snodin et al., J. Chem. Phys. 142, 234901 (2015)\n",
      "\t\t- for the oxRNA model:\n",
      "\t\t\t* P. Šulc et al., J. Chem. Phys. 140, 235102 (2014)\n",
      "\n",
      "Please cite these publications for any work that uses the oxDNA simulation package\n",
      "\t\t- for the code:\n",
      "\t\t\t* P. Šulc et al., J. Chem. Phys. 137, 135101 (2012)\n",
      "\t\t\t* L. Rovigatti et al., J. Comput. Chem. 36, 1 (2015)\n",
      "\t\t- for the oxDNA model:\n",
      "\t\t\t* T. E. Ouldridge et al., J. Chem. Phys, 134, 085101 (2011)\n",
      "\t\t- for the oxDNA2 model:\n",
      "\t\t\t* B. E. K. Snodin et al., J. Chem. Phys. 142, 234901 (2015)\n",
      "\t\t- for the oxRNA model:\n",
      "\t\t\t* P. Šulc et al., J. Chem. Phys. 140, 235102 (2014)\n"
     ]
    },
    {
     "name": "stdout",
     "output_type": "stream",
     "text": [
      "HUMANS duplicate 1 nt=0 T=0.05 - Max yield: 0.9166666666666666\n",
      "Computed yields in 0.03017568588256836!\n",
      "Computing yields of HUMANS duplicate 2 nt=0 T=0.01 with target=flamingo, overreach=False, cutoff=0.8...\n",
      "HUMANS duplicate 2 nt=0 T=0.01 - Max yield: 0\n",
      "Computed yields in 0.07757272571325302!\n",
      "Computing yields of HUMANS duplicate 2 nt=0 T=0.02 with target=flamingo, overreach=False, cutoff=0.8...\n",
      "HUMANS duplicate 2 nt=0 T=0.02 - Max yield: 0\n",
      "Computed yields in 0.025157470256090164!\n",
      "Computing yields of HUMANS duplicate 2 nt=0 T=0.05 with target=flamingo, overreach=False, cutoff=0.8...\n",
      "HUMANS duplicate 2 nt=0 T=0.05 - Max yield: 0.8333333333333334\n",
      "Computed yields in 0.06024685502052307!\n",
      "Computing yields of HUMANS duplicate 3 nt=0 T=0.01 with target=flamingo, overreach=False, cutoff=0.8...\n",
      "HUMANS duplicate 3 nt=0 T=0.01 - Max yield: 0\n"
     ]
    },
    {
     "name": "stderr",
     "output_type": "stream",
     "text": [
      "\n",
      "Please cite these publications for any work that uses the oxDNA simulation package\n",
      "\t\t- for the code:\n",
      "\t\t\t* P. Šulc et al., J. Chem. Phys. 137, 135101 (2012)\n",
      "\t\t\t* L. Rovigatti et al., J. Comput. Chem. 36, 1 (2015)\n",
      "\t\t- for the oxDNA model:\n",
      "\t\t\t* T. E. Ouldridge et al., J. Chem. Phys, 134, 085101 (2011)\n",
      "\t\t- for the oxDNA2 model:\n",
      "\t\t\t* B. E. K. Snodin et al., J. Chem. Phys. 142, 234901 (2015)\n",
      "\t\t- for the oxRNA model:\n",
      "\t\t\t* P. Šulc et al., J. Chem. Phys. 140, 235102 (2014)\n",
      "\n",
      "Please cite these publications for any work that uses the oxDNA simulation package\n",
      "\t\t- for the code:\n",
      "\t\t\t* P. Šulc et al., J. Chem. Phys. 137, 135101 (2012)\n",
      "\t\t\t* L. Rovigatti et al., J. Comput. Chem. 36, 1 (2015)\n",
      "\t\t- for the oxDNA model:\n",
      "\t\t\t* T. E. Ouldridge et al., J. Chem. Phys, 134, 085101 (2011)\n",
      "\t\t- for the oxDNA2 model:\n",
      "\t\t\t* B. E. K. Snodin et al., J. Chem. Phys. 142, 234901 (2015)\n",
      "\t\t- for the oxRNA model:\n",
      "\t\t\t* P. Šulc et al., J. Chem. Phys. 140, 235102 (2014)\n",
      "\n",
      "Please cite these publications for any work that uses the oxDNA simulation package\n",
      "\t\t- for the code:\n",
      "\t\t\t* P. Šulc et al., J. Chem. Phys. 137, 135101 (2012)\n",
      "\t\t\t* L. Rovigatti et al., J. Comput. Chem. 36, 1 (2015)\n",
      "\t\t- for the oxDNA model:\n",
      "\t\t\t* T. E. Ouldridge et al., J. Chem. Phys, 134, 085101 (2011)\n",
      "\t\t- for the oxDNA2 model:\n",
      "\t\t\t* B. E. K. Snodin et al., J. Chem. Phys. 142, 234901 (2015)\n",
      "\t\t- for the oxRNA model:\n",
      "\t\t\t* P. Šulc et al., J. Chem. Phys. 140, 235102 (2014)\n",
      "\n",
      "Please cite these publications for any work that uses the oxDNA simulation package\n",
      "\t\t- for the code:\n",
      "\t\t\t* P. Šulc et al., J. Chem. Phys. 137, 135101 (2012)\n",
      "\t\t\t* L. Rovigatti et al., J. Comput. Chem. 36, 1 (2015)\n",
      "\t\t- for the oxDNA model:\n",
      "\t\t\t* T. E. Ouldridge et al., J. Chem. Phys, 134, 085101 (2011)\n",
      "\t\t- for the oxDNA2 model:\n",
      "\t\t\t* B. E. K. Snodin et al., J. Chem. Phys. 142, 234901 (2015)\n",
      "\t\t- for the oxRNA model:\n",
      "\t\t\t* P. Šulc et al., J. Chem. Phys. 140, 235102 (2014)\n"
     ]
    },
    {
     "name": "stdout",
     "output_type": "stream",
     "text": [
      "Computed yields in 0.05010305345058441!\n",
      "Computing yields of HUMANS duplicate 3 nt=0 T=0.02 with target=flamingo, overreach=False, cutoff=0.8...\n",
      "HUMANS duplicate 3 nt=0 T=0.02 - Max yield: 0\n",
      "Computed yields in 0.07696674019098282!\n",
      "Computing yields of HUMANS duplicate 3 nt=0 T=0.05 with target=flamingo, overreach=False, cutoff=0.8...\n",
      "HUMANS duplicate 3 nt=0 T=0.05 - Max yield: 0.9166666666666666\n"
     ]
    },
    {
     "name": "stderr",
     "output_type": "stream",
     "text": [
      "\n",
      "Please cite these publications for any work that uses the oxDNA simulation package\n",
      "\t\t- for the code:\n",
      "\t\t\t* P. Šulc et al., J. Chem. Phys. 137, 135101 (2012)\n",
      "\t\t\t* L. Rovigatti et al., J. Comput. Chem. 36, 1 (2015)\n",
      "\t\t- for the oxDNA model:\n",
      "\t\t\t* T. E. Ouldridge et al., J. Chem. Phys, 134, 085101 (2011)\n",
      "\t\t- for the oxDNA2 model:\n",
      "\t\t\t* B. E. K. Snodin et al., J. Chem. Phys. 142, 234901 (2015)\n",
      "\t\t- for the oxRNA model:\n",
      "\t\t\t* P. Šulc et al., J. Chem. Phys. 140, 235102 (2014)\n",
      "\n",
      "Please cite these publications for any work that uses the oxDNA simulation package\n",
      "\t\t- for the code:\n",
      "\t\t\t* P. Šulc et al., J. Chem. Phys. 137, 135101 (2012)\n",
      "\t\t\t* L. Rovigatti et al., J. Comput. Chem. 36, 1 (2015)\n",
      "\t\t- for the oxDNA model:\n",
      "\t\t\t* T. E. Ouldridge et al., J. Chem. Phys, 134, 085101 (2011)\n",
      "\t\t- for the oxDNA2 model:\n",
      "\t\t\t* B. E. K. Snodin et al., J. Chem. Phys. 142, 234901 (2015)\n",
      "\t\t- for the oxRNA model:\n",
      "\t\t\t* P. Šulc et al., J. Chem. Phys. 140, 235102 (2014)\n"
     ]
    },
    {
     "name": "stdout",
     "output_type": "stream",
     "text": [
      "Computed yields in 0.5949281193315983!\n",
      "Computing yields of FLAMINGOS duplicate 0 nt=0 T=0.01 with target=flamingo, overreach=False, cutoff=0.8...\n",
      "FLAMINGOS duplicate 0 nt=0 T=0.01 - Max yield: 7.916666666666666\n"
     ]
    },
    {
     "name": "stderr",
     "output_type": "stream",
     "text": [
      "\n",
      "Please cite these publications for any work that uses the oxDNA simulation package\n",
      "\t\t- for the code:\n",
      "\t\t\t* P. Šulc et al., J. Chem. Phys. 137, 135101 (2012)\n",
      "\t\t\t* L. Rovigatti et al., J. Comput. Chem. 36, 1 (2015)\n",
      "\t\t- for the oxDNA model:\n",
      "\t\t\t* T. E. Ouldridge et al., J. Chem. Phys, 134, 085101 (2011)\n",
      "\t\t- for the oxDNA2 model:\n",
      "\t\t\t* B. E. K. Snodin et al., J. Chem. Phys. 142, 234901 (2015)\n",
      "\t\t- for the oxRNA model:\n",
      "\t\t\t* P. Šulc et al., J. Chem. Phys. 140, 235102 (2014)\n"
     ]
    },
    {
     "name": "stdout",
     "output_type": "stream",
     "text": [
      "Computed yields in 0.35179009288549423!\n",
      "Computing yields of FLAMINGOS duplicate 0 nt=0 T=0.02 with target=flamingo, overreach=False, cutoff=0.8...\n",
      "FLAMINGOS duplicate 0 nt=0 T=0.02 - Max yield: 7.916666666666666\n",
      "Computed yields in 0.04887013882398605!\n",
      "Computing yields of FLAMINGOS duplicate 0 nt=0 T=0.05 with target=flamingo, overreach=False, cutoff=0.8...\n",
      "FLAMINGOS duplicate 0 nt=0 T=0.05 - Max yield: 5.416666666666667\n",
      "Computed yields in 0.09901484847068787!\n",
      "Computing yields of FLAMINGOS duplicate 1 nt=0 T=0.01 with target=flamingo, overreach=False, cutoff=0.8...\n",
      "FLAMINGOS duplicate 1 nt=0 T=0.01 - Max yield: 8.0\n",
      "Computed yields in 0.036928318440914154!\n",
      "Computing yields of FLAMINGOS duplicate 1 nt=0 T=0.02 with target=flamingo, overreach=False, cutoff=0.8...\n"
     ]
    },
    {
     "name": "stderr",
     "output_type": "stream",
     "text": [
      "\n",
      "Please cite these publications for any work that uses the oxDNA simulation package\n",
      "\t\t- for the code:\n",
      "\t\t\t* P. Šulc et al., J. Chem. Phys. 137, 135101 (2012)\n",
      "\t\t\t* L. Rovigatti et al., J. Comput. Chem. 36, 1 (2015)\n",
      "\t\t- for the oxDNA model:\n",
      "\t\t\t* T. E. Ouldridge et al., J. Chem. Phys, 134, 085101 (2011)\n",
      "\t\t- for the oxDNA2 model:\n",
      "\t\t\t* B. E. K. Snodin et al., J. Chem. Phys. 142, 234901 (2015)\n",
      "\t\t- for the oxRNA model:\n",
      "\t\t\t* P. Šulc et al., J. Chem. Phys. 140, 235102 (2014)\n",
      "\n",
      "Please cite these publications for any work that uses the oxDNA simulation package\n",
      "\t\t- for the code:\n",
      "\t\t\t* P. Šulc et al., J. Chem. Phys. 137, 135101 (2012)\n",
      "\t\t\t* L. Rovigatti et al., J. Comput. Chem. 36, 1 (2015)\n",
      "\t\t- for the oxDNA model:\n",
      "\t\t\t* T. E. Ouldridge et al., J. Chem. Phys, 134, 085101 (2011)\n",
      "\t\t- for the oxDNA2 model:\n",
      "\t\t\t* B. E. K. Snodin et al., J. Chem. Phys. 142, 234901 (2015)\n",
      "\t\t- for the oxRNA model:\n",
      "\t\t\t* P. Šulc et al., J. Chem. Phys. 140, 235102 (2014)\n",
      "\n",
      "Please cite these publications for any work that uses the oxDNA simulation package\n",
      "\t\t- for the code:\n",
      "\t\t\t* P. Šulc et al., J. Chem. Phys. 137, 135101 (2012)\n",
      "\t\t\t* L. Rovigatti et al., J. Comput. Chem. 36, 1 (2015)\n",
      "\t\t- for the oxDNA model:\n",
      "\t\t\t* T. E. Ouldridge et al., J. Chem. Phys, 134, 085101 (2011)\n",
      "\t\t- for the oxDNA2 model:\n",
      "\t\t\t* B. E. K. Snodin et al., J. Chem. Phys. 142, 234901 (2015)\n",
      "\t\t- for the oxRNA model:\n",
      "\t\t\t* P. Šulc et al., J. Chem. Phys. 140, 235102 (2014)\n",
      "\n",
      "Please cite these publications for any work that uses the oxDNA simulation package\n",
      "\t\t- for the code:\n",
      "\t\t\t* P. Šulc et al., J. Chem. Phys. 137, 135101 (2012)\n",
      "\t\t\t* L. Rovigatti et al., J. Comput. Chem. 36, 1 (2015)\n",
      "\t\t- for the oxDNA model:\n",
      "\t\t\t* T. E. Ouldridge et al., J. Chem. Phys, 134, 085101 (2011)\n",
      "\t\t- for the oxDNA2 model:\n",
      "\t\t\t* B. E. K. Snodin et al., J. Chem. Phys. 142, 234901 (2015)\n",
      "\t\t- for the oxRNA model:\n",
      "\t\t\t* P. Šulc et al., J. Chem. Phys. 140, 235102 (2014)\n"
     ]
    },
    {
     "name": "stdout",
     "output_type": "stream",
     "text": [
      "FLAMINGOS duplicate 1 nt=0 T=0.02 - Max yield: 7.916666666666666\n",
      "Computed yields in 0.09485477581620216!\n",
      "Computing yields of FLAMINGOS duplicate 1 nt=0 T=0.05 with target=flamingo, overreach=False, cutoff=0.8...\n",
      "FLAMINGOS duplicate 1 nt=0 T=0.05 - Max yield: 3.75\n",
      "Computed yields in 0.04227098822593689!\n",
      "Computing yields of FLAMINGOS duplicate 2 nt=0 T=0.01 with target=flamingo, overreach=False, cutoff=0.8...\n",
      "FLAMINGOS duplicate 2 nt=0 T=0.01 - Max yield: 8.0\n",
      "Computed yields in 0.048966843634843826!\n",
      "Computing yields of FLAMINGOS duplicate 2 nt=0 T=0.02 with target=flamingo, overreach=False, cutoff=0.8...\n",
      "FLAMINGOS duplicate 2 nt=0 T=0.02 - Max yield: 8.0\n",
      "Computed yields in 0.05387279763817787!\n",
      "Computing yields of FLAMINGOS duplicate 2 nt=0 T=0.05 with target=flamingo, overreach=False, cutoff=0.8...\n"
     ]
    },
    {
     "name": "stderr",
     "output_type": "stream",
     "text": [
      "\n",
      "Please cite these publications for any work that uses the oxDNA simulation package\n",
      "\t\t- for the code:\n",
      "\t\t\t* P. Šulc et al., J. Chem. Phys. 137, 135101 (2012)\n",
      "\t\t\t* L. Rovigatti et al., J. Comput. Chem. 36, 1 (2015)\n",
      "\t\t- for the oxDNA model:\n",
      "\t\t\t* T. E. Ouldridge et al., J. Chem. Phys, 134, 085101 (2011)\n",
      "\t\t- for the oxDNA2 model:\n",
      "\t\t\t* B. E. K. Snodin et al., J. Chem. Phys. 142, 234901 (2015)\n",
      "\t\t- for the oxRNA model:\n",
      "\t\t\t* P. Šulc et al., J. Chem. Phys. 140, 235102 (2014)\n",
      "\n",
      "Please cite these publications for any work that uses the oxDNA simulation package\n",
      "\t\t- for the code:\n",
      "\t\t\t* P. Šulc et al., J. Chem. Phys. 137, 135101 (2012)\n",
      "\t\t\t* L. Rovigatti et al., J. Comput. Chem. 36, 1 (2015)\n",
      "\t\t- for the oxDNA model:\n",
      "\t\t\t* T. E. Ouldridge et al., J. Chem. Phys, 134, 085101 (2011)\n",
      "\t\t- for the oxDNA2 model:\n",
      "\t\t\t* B. E. K. Snodin et al., J. Chem. Phys. 142, 234901 (2015)\n",
      "\t\t- for the oxRNA model:\n",
      "\t\t\t* P. Šulc et al., J. Chem. Phys. 140, 235102 (2014)\n",
      "\n",
      "Please cite these publications for any work that uses the oxDNA simulation package\n",
      "\t\t- for the code:\n",
      "\t\t\t* P. Šulc et al., J. Chem. Phys. 137, 135101 (2012)\n",
      "\t\t\t* L. Rovigatti et al., J. Comput. Chem. 36, 1 (2015)\n",
      "\t\t- for the oxDNA model:\n",
      "\t\t\t* T. E. Ouldridge et al., J. Chem. Phys, 134, 085101 (2011)\n",
      "\t\t- for the oxDNA2 model:\n",
      "\t\t\t* B. E. K. Snodin et al., J. Chem. Phys. 142, 234901 (2015)\n",
      "\t\t- for the oxRNA model:\n",
      "\t\t\t* P. Šulc et al., J. Chem. Phys. 140, 235102 (2014)\n",
      "\n",
      "Please cite these publications for any work that uses the oxDNA simulation package\n",
      "\t\t- for the code:\n",
      "\t\t\t* P. Šulc et al., J. Chem. Phys. 137, 135101 (2012)\n",
      "\t\t\t* L. Rovigatti et al., J. Comput. Chem. 36, 1 (2015)\n",
      "\t\t- for the oxDNA model:\n",
      "\t\t\t* T. E. Ouldridge et al., J. Chem. Phys, 134, 085101 (2011)\n",
      "\t\t- for the oxDNA2 model:\n",
      "\t\t\t* B. E. K. Snodin et al., J. Chem. Phys. 142, 234901 (2015)\n",
      "\t\t- for the oxRNA model:\n",
      "\t\t\t* P. Šulc et al., J. Chem. Phys. 140, 235102 (2014)\n"
     ]
    },
    {
     "name": "stdout",
     "output_type": "stream",
     "text": [
      "FLAMINGOS duplicate 2 nt=0 T=0.05 - Max yield: 4.75\n",
      "Computed yields in 0.08403753861784935!\n",
      "Computing yields of FLAMINGOS duplicate 3 nt=0 T=0.01 with target=flamingo, overreach=False, cutoff=0.8...\n",
      "FLAMINGOS duplicate 3 nt=0 T=0.01 - Max yield: 8.0\n",
      "Computed yields in 0.07757197320461273!\n",
      "Computing yields of FLAMINGOS duplicate 3 nt=0 T=0.02 with target=flamingo, overreach=False, cutoff=0.8...\n",
      "FLAMINGOS duplicate 3 nt=0 T=0.02 - Max yield: 8.0\n",
      "Computed yields in 0.05273683741688728!\n",
      "Computing yields of FLAMINGOS duplicate 3 nt=0 T=0.05 with target=flamingo, overreach=False, cutoff=0.8...\n"
     ]
    },
    {
     "name": "stderr",
     "output_type": "stream",
     "text": [
      "\n",
      "Please cite these publications for any work that uses the oxDNA simulation package\n",
      "\t\t- for the code:\n",
      "\t\t\t* P. Šulc et al., J. Chem. Phys. 137, 135101 (2012)\n",
      "\t\t\t* L. Rovigatti et al., J. Comput. Chem. 36, 1 (2015)\n",
      "\t\t- for the oxDNA model:\n",
      "\t\t\t* T. E. Ouldridge et al., J. Chem. Phys, 134, 085101 (2011)\n",
      "\t\t- for the oxDNA2 model:\n",
      "\t\t\t* B. E. K. Snodin et al., J. Chem. Phys. 142, 234901 (2015)\n",
      "\t\t- for the oxRNA model:\n",
      "\t\t\t* P. Šulc et al., J. Chem. Phys. 140, 235102 (2014)\n",
      "\n",
      "Please cite these publications for any work that uses the oxDNA simulation package\n",
      "\t\t- for the code:\n",
      "\t\t\t* P. Šulc et al., J. Chem. Phys. 137, 135101 (2012)\n",
      "\t\t\t* L. Rovigatti et al., J. Comput. Chem. 36, 1 (2015)\n",
      "\t\t- for the oxDNA model:\n",
      "\t\t\t* T. E. Ouldridge et al., J. Chem. Phys, 134, 085101 (2011)\n",
      "\t\t- for the oxDNA2 model:\n",
      "\t\t\t* B. E. K. Snodin et al., J. Chem. Phys. 142, 234901 (2015)\n",
      "\t\t- for the oxRNA model:\n",
      "\t\t\t* P. Šulc et al., J. Chem. Phys. 140, 235102 (2014)\n",
      "\n",
      "Please cite these publications for any work that uses the oxDNA simulation package\n",
      "\t\t- for the code:\n",
      "\t\t\t* P. Šulc et al., J. Chem. Phys. 137, 135101 (2012)\n",
      "\t\t\t* L. Rovigatti et al., J. Comput. Chem. 36, 1 (2015)\n",
      "\t\t- for the oxDNA model:\n",
      "\t\t\t* T. E. Ouldridge et al., J. Chem. Phys, 134, 085101 (2011)\n",
      "\t\t- for the oxDNA2 model:\n",
      "\t\t\t* B. E. K. Snodin et al., J. Chem. Phys. 142, 234901 (2015)\n",
      "\t\t- for the oxRNA model:\n",
      "\t\t\t* P. Šulc et al., J. Chem. Phys. 140, 235102 (2014)\n"
     ]
    },
    {
     "name": "stdout",
     "output_type": "stream",
     "text": [
      "FLAMINGOS duplicate 3 nt=0 T=0.05 - Max yield: 6.416666666666666\n",
      "Computed yields in 0.11412515863776207!\n",
      "Computing yields of MIX duplicate 0 nt=0 T=0.01 with target=flamingo, overreach=False, cutoff=0.8...\n",
      "MIX duplicate 0 nt=0 T=0.01 - Max yield: 4.0\n",
      "Computed yields in 0.11025020107626915!\n",
      "Computing yields of MIX duplicate 0 nt=0 T=0.02 with target=flamingo, overreach=False, cutoff=0.8...\n",
      "MIX duplicate 0 nt=0 T=0.02 - Max yield: 4.75\n",
      "Computed yields in 0.05632355436682701!\n",
      "Computing yields of MIX duplicate 0 nt=0 T=0.05 with target=flamingo, overreach=False, cutoff=0.8...\n"
     ]
    },
    {
     "name": "stderr",
     "output_type": "stream",
     "text": [
      "\n",
      "Please cite these publications for any work that uses the oxDNA simulation package\n",
      "\t\t- for the code:\n",
      "\t\t\t* P. Šulc et al., J. Chem. Phys. 137, 135101 (2012)\n",
      "\t\t\t* L. Rovigatti et al., J. Comput. Chem. 36, 1 (2015)\n",
      "\t\t- for the oxDNA model:\n",
      "\t\t\t* T. E. Ouldridge et al., J. Chem. Phys, 134, 085101 (2011)\n",
      "\t\t- for the oxDNA2 model:\n",
      "\t\t\t* B. E. K. Snodin et al., J. Chem. Phys. 142, 234901 (2015)\n",
      "\t\t- for the oxRNA model:\n",
      "\t\t\t* P. Šulc et al., J. Chem. Phys. 140, 235102 (2014)\n",
      "\n",
      "Please cite these publications for any work that uses the oxDNA simulation package\n",
      "\t\t- for the code:\n",
      "\t\t\t* P. Šulc et al., J. Chem. Phys. 137, 135101 (2012)\n",
      "\t\t\t* L. Rovigatti et al., J. Comput. Chem. 36, 1 (2015)\n",
      "\t\t- for the oxDNA model:\n",
      "\t\t\t* T. E. Ouldridge et al., J. Chem. Phys, 134, 085101 (2011)\n",
      "\t\t- for the oxDNA2 model:\n",
      "\t\t\t* B. E. K. Snodin et al., J. Chem. Phys. 142, 234901 (2015)\n",
      "\t\t- for the oxRNA model:\n",
      "\t\t\t* P. Šulc et al., J. Chem. Phys. 140, 235102 (2014)\n",
      "\n",
      "Please cite these publications for any work that uses the oxDNA simulation package\n",
      "\t\t- for the code:\n",
      "\t\t\t* P. Šulc et al., J. Chem. Phys. 137, 135101 (2012)\n",
      "\t\t\t* L. Rovigatti et al., J. Comput. Chem. 36, 1 (2015)\n",
      "\t\t- for the oxDNA model:\n",
      "\t\t\t* T. E. Ouldridge et al., J. Chem. Phys, 134, 085101 (2011)\n",
      "\t\t- for the oxDNA2 model:\n",
      "\t\t\t* B. E. K. Snodin et al., J. Chem. Phys. 142, 234901 (2015)\n",
      "\t\t- for the oxRNA model:\n",
      "\t\t\t* P. Šulc et al., J. Chem. Phys. 140, 235102 (2014)\n"
     ]
    },
    {
     "name": "stdout",
     "output_type": "stream",
     "text": [
      "MIX duplicate 0 nt=0 T=0.05 - Max yield: 2.8333333333333335\n",
      "Computed yields in 0.10701721161603928!\n",
      "Computing yields of MIX duplicate 1 nt=0 T=0.01 with target=flamingo, overreach=False, cutoff=0.8...\n",
      "MIX duplicate 1 nt=0 T=0.01 - Max yield: 4.916666666666666\n",
      "Computed yields in 0.0414392426609993!\n",
      "Computing yields of MIX duplicate 1 nt=0 T=0.02 with target=flamingo, overreach=False, cutoff=0.8...\n",
      "MIX duplicate 1 nt=0 T=0.02 - Max yield: 4.0\n",
      "Computed yields in 0.06318546831607819!\n",
      "Computing yields of MIX duplicate 1 nt=0 T=0.05 with target=flamingo, overreach=False, cutoff=0.8...\n"
     ]
    },
    {
     "name": "stderr",
     "output_type": "stream",
     "text": [
      "\n",
      "Please cite these publications for any work that uses the oxDNA simulation package\n",
      "\t\t- for the code:\n",
      "\t\t\t* P. Šulc et al., J. Chem. Phys. 137, 135101 (2012)\n",
      "\t\t\t* L. Rovigatti et al., J. Comput. Chem. 36, 1 (2015)\n",
      "\t\t- for the oxDNA model:\n",
      "\t\t\t* T. E. Ouldridge et al., J. Chem. Phys, 134, 085101 (2011)\n",
      "\t\t- for the oxDNA2 model:\n",
      "\t\t\t* B. E. K. Snodin et al., J. Chem. Phys. 142, 234901 (2015)\n",
      "\t\t- for the oxRNA model:\n",
      "\t\t\t* P. Šulc et al., J. Chem. Phys. 140, 235102 (2014)\n",
      "\n",
      "Please cite these publications for any work that uses the oxDNA simulation package\n",
      "\t\t- for the code:\n",
      "\t\t\t* P. Šulc et al., J. Chem. Phys. 137, 135101 (2012)\n",
      "\t\t\t* L. Rovigatti et al., J. Comput. Chem. 36, 1 (2015)\n",
      "\t\t- for the oxDNA model:\n",
      "\t\t\t* T. E. Ouldridge et al., J. Chem. Phys, 134, 085101 (2011)\n",
      "\t\t- for the oxDNA2 model:\n",
      "\t\t\t* B. E. K. Snodin et al., J. Chem. Phys. 142, 234901 (2015)\n",
      "\t\t- for the oxRNA model:\n",
      "\t\t\t* P. Šulc et al., J. Chem. Phys. 140, 235102 (2014)\n",
      "\n",
      "Please cite these publications for any work that uses the oxDNA simulation package\n",
      "\t\t- for the code:\n",
      "\t\t\t* P. Šulc et al., J. Chem. Phys. 137, 135101 (2012)\n",
      "\t\t\t* L. Rovigatti et al., J. Comput. Chem. 36, 1 (2015)\n",
      "\t\t- for the oxDNA model:\n",
      "\t\t\t* T. E. Ouldridge et al., J. Chem. Phys, 134, 085101 (2011)\n",
      "\t\t- for the oxDNA2 model:\n",
      "\t\t\t* B. E. K. Snodin et al., J. Chem. Phys. 142, 234901 (2015)\n",
      "\t\t- for the oxRNA model:\n",
      "\t\t\t* P. Šulc et al., J. Chem. Phys. 140, 235102 (2014)\n"
     ]
    },
    {
     "name": "stdout",
     "output_type": "stream",
     "text": [
      "MIX duplicate 1 nt=0 T=0.05 - Max yield: 3.0\n",
      "Computed yields in 0.29519087448716164!\n",
      "Computing yields of MIX duplicate 2 nt=0 T=0.01 with target=flamingo, overreach=False, cutoff=0.8...\n",
      "MIX duplicate 2 nt=0 T=0.01 - Max yield: 4.0\n",
      "Computed yields in 0.18189222365617752!\n",
      "Computing yields of MIX duplicate 2 nt=0 T=0.02 with target=flamingo, overreach=False, cutoff=0.8...\n"
     ]
    },
    {
     "name": "stderr",
     "output_type": "stream",
     "text": [
      "\n",
      "Please cite these publications for any work that uses the oxDNA simulation package\n",
      "\t\t- for the code:\n",
      "\t\t\t* P. Šulc et al., J. Chem. Phys. 137, 135101 (2012)\n",
      "\t\t\t* L. Rovigatti et al., J. Comput. Chem. 36, 1 (2015)\n",
      "\t\t- for the oxDNA model:\n",
      "\t\t\t* T. E. Ouldridge et al., J. Chem. Phys, 134, 085101 (2011)\n",
      "\t\t- for the oxDNA2 model:\n",
      "\t\t\t* B. E. K. Snodin et al., J. Chem. Phys. 142, 234901 (2015)\n",
      "\t\t- for the oxRNA model:\n",
      "\t\t\t* P. Šulc et al., J. Chem. Phys. 140, 235102 (2014)\n",
      "\n",
      "Please cite these publications for any work that uses the oxDNA simulation package\n",
      "\t\t- for the code:\n",
      "\t\t\t* P. Šulc et al., J. Chem. Phys. 137, 135101 (2012)\n",
      "\t\t\t* L. Rovigatti et al., J. Comput. Chem. 36, 1 (2015)\n",
      "\t\t- for the oxDNA model:\n",
      "\t\t\t* T. E. Ouldridge et al., J. Chem. Phys, 134, 085101 (2011)\n",
      "\t\t- for the oxDNA2 model:\n",
      "\t\t\t* B. E. K. Snodin et al., J. Chem. Phys. 142, 234901 (2015)\n",
      "\t\t- for the oxRNA model:\n",
      "\t\t\t* P. Šulc et al., J. Chem. Phys. 140, 235102 (2014)\n"
     ]
    },
    {
     "name": "stdout",
     "output_type": "stream",
     "text": [
      "MIX duplicate 2 nt=0 T=0.02 - Max yield: 4.0\n",
      "Computed yields in 0.21301314607262611!\n",
      "Computing yields of MIX duplicate 2 nt=0 T=0.05 with target=flamingo, overreach=False, cutoff=0.8...\n"
     ]
    },
    {
     "name": "stderr",
     "output_type": "stream",
     "text": [
      "\n",
      "Please cite these publications for any work that uses the oxDNA simulation package\n",
      "\t\t- for the code:\n",
      "\t\t\t* P. Šulc et al., J. Chem. Phys. 137, 135101 (2012)\n",
      "\t\t\t* L. Rovigatti et al., J. Comput. Chem. 36, 1 (2015)\n",
      "\t\t- for the oxDNA model:\n",
      "\t\t\t* T. E. Ouldridge et al., J. Chem. Phys, 134, 085101 (2011)\n",
      "\t\t- for the oxDNA2 model:\n",
      "\t\t\t* B. E. K. Snodin et al., J. Chem. Phys. 142, 234901 (2015)\n",
      "\t\t- for the oxRNA model:\n",
      "\t\t\t* P. Šulc et al., J. Chem. Phys. 140, 235102 (2014)\n",
      "\n",
      "Please cite these publications for any work that uses the oxDNA simulation package\n",
      "\t\t- for the code:\n",
      "\t\t\t* P. Šulc et al., J. Chem. Phys. 137, 135101 (2012)\n",
      "\t\t\t* L. Rovigatti et al., J. Comput. Chem. 36, 1 (2015)\n",
      "\t\t- for the oxDNA model:\n",
      "\t\t\t* T. E. Ouldridge et al., J. Chem. Phys, 134, 085101 (2011)\n",
      "\t\t- for the oxDNA2 model:\n",
      "\t\t\t* B. E. K. Snodin et al., J. Chem. Phys. 142, 234901 (2015)\n",
      "\t\t- for the oxRNA model:\n",
      "\t\t\t* P. Šulc et al., J. Chem. Phys. 140, 235102 (2014)\n"
     ]
    },
    {
     "name": "stdout",
     "output_type": "stream",
     "text": [
      "MIX duplicate 2 nt=0 T=0.05 - Max yield: 2.8333333333333335\n",
      "Computed yields in 0.04104737937450409!\n",
      "Computing yields of MIX duplicate 3 nt=0 T=0.01 with target=flamingo, overreach=False, cutoff=0.8...\n",
      "MIX duplicate 3 nt=0 T=0.01 - Max yield: 4.0\n",
      "Computed yields in 0.18734746798872948!\n",
      "Computing yields of MIX duplicate 3 nt=0 T=0.02 with target=flamingo, overreach=False, cutoff=0.8...\n",
      "MIX duplicate 3 nt=0 T=0.02 - Max yield: 4.916666666666666\n",
      "Computed yields in 0.42594971880316734!\n",
      "Computing yields of MIX duplicate 3 nt=0 T=0.05 with target=flamingo, overreach=False, cutoff=0.8...\n",
      "MIX duplicate 3 nt=0 T=0.05 - Max yield: 4.583333333333333\n",
      "Computed yields in 0.04423601180315018!\n"
     ]
    },
    {
     "name": "stderr",
     "output_type": "stream",
     "text": [
      "\n",
      "Please cite these publications for any work that uses the oxDNA simulation package\n",
      "\t\t- for the code:\n",
      "\t\t\t* P. Šulc et al., J. Chem. Phys. 137, 135101 (2012)\n",
      "\t\t\t* L. Rovigatti et al., J. Comput. Chem. 36, 1 (2015)\n",
      "\t\t- for the oxDNA model:\n",
      "\t\t\t* T. E. Ouldridge et al., J. Chem. Phys, 134, 085101 (2011)\n",
      "\t\t- for the oxDNA2 model:\n",
      "\t\t\t* B. E. K. Snodin et al., J. Chem. Phys. 142, 234901 (2015)\n",
      "\t\t- for the oxRNA model:\n",
      "\t\t\t* P. Šulc et al., J. Chem. Phys. 140, 235102 (2014)\n",
      "\n",
      "Please cite these publications for any work that uses the oxDNA simulation package\n",
      "\t\t- for the code:\n",
      "\t\t\t* P. Šulc et al., J. Chem. Phys. 137, 135101 (2012)\n",
      "\t\t\t* L. Rovigatti et al., J. Comput. Chem. 36, 1 (2015)\n",
      "\t\t- for the oxDNA model:\n",
      "\t\t\t* T. E. Ouldridge et al., J. Chem. Phys, 134, 085101 (2011)\n",
      "\t\t- for the oxDNA2 model:\n",
      "\t\t\t* B. E. K. Snodin et al., J. Chem. Phys. 142, 234901 (2015)\n",
      "\t\t- for the oxRNA model:\n",
      "\t\t\t* P. Šulc et al., J. Chem. Phys. 140, 235102 (2014)\n"
     ]
    }
   ],
   "source": [
    "all_data = []\n",
    "for target_name in target_names:\n",
    "    print(f\"Analyzing {results_name} yields for target: {target_name}\")\n",
    "    data = results.get_stats(target_name, cutoff, overreach=overreach, sample_every=sample_every, verbose=True, grouping_cols = ['shape', 'nt', 'temp', 'time'])\n",
    "    # data = dataset.get_flat_yields(target_name, cutoff, overreach=overreach)\n",
    "    data['target'] = target_name\n",
    "    all_data.append(data)\n",
    "data = pd.concat(all_data, axis='index').reset_index()"
   ]
  },
  {
   "cell_type": "code",
   "execution_count": 14,
   "id": "01c71ab8-c828-4be1-8fb7-693040390a76",
   "metadata": {},
   "outputs": [
    {
     "data": {
      "text/plain": [
       "array(['FLAMINGO', 'HUMAN', 'MI'], dtype=object)"
      ]
     },
     "execution_count": 14,
     "metadata": {},
     "output_type": "execute_result"
    }
   ],
   "source": [
    "np.unique(data['shape'])"
   ]
  },
  {
   "cell_type": "code",
   "execution_count": 15,
   "id": "32cead38-084d-4c13-9b48-ebf66d1347c3",
   "metadata": {},
   "outputs": [
    {
     "name": "stdout",
     "output_type": "stream",
     "text": [
      "Temperature options: [0.01 0.02 0.05]\n"
     ]
    }
   ],
   "source": [
    "print(f\"Temperature options: {data['temp'].unique()}\")"
   ]
  },
  {
   "cell_type": "code",
   "execution_count": 16,
   "id": "62adac6a-3928-46f5-a899-68c0516166a4",
   "metadata": {
    "tags": []
   },
   "outputs": [
    {
     "name": "stderr",
     "output_type": "stream",
     "text": [
      "/tmp/ipykernel_33053/3861024723.py:17: SettingWithCopyWarning: \n",
      "A value is trying to be set on a copy of a slice from a DataFrame.\n",
      "Try using .loc[row_indexer,col_indexer] = value instead\n",
      "\n",
      "See the caveats in the documentation: https://pandas.pydata.org/pandas-docs/stable/user_guide/indexing.html#returning-a-view-versus-a-copy\n",
      "  df['yield_min'] = df['yield_min'] / ymax\n",
      "/tmp/ipykernel_33053/3861024723.py:18: SettingWithCopyWarning: \n",
      "A value is trying to be set on a copy of a slice from a DataFrame.\n",
      "Try using .loc[row_indexer,col_indexer] = value instead\n",
      "\n",
      "See the caveats in the documentation: https://pandas.pydata.org/pandas-docs/stable/user_guide/indexing.html#returning-a-view-versus-a-copy\n",
      "  df['yield_max'] = df['yield_max'] / ymax\n",
      "/tmp/ipykernel_33053/3861024723.py:20: SettingWithCopyWarning: \n",
      "A value is trying to be set on a copy of a slice from a DataFrame.\n",
      "Try using .loc[row_indexer,col_indexer] = value instead\n",
      "\n",
      "See the caveats in the documentation: https://pandas.pydata.org/pandas-docs/stable/user_guide/indexing.html#returning-a-view-versus-a-copy\n",
      "  df['yield'] =  df['yield'] / ymax\n",
      "/tmp/ipykernel_33053/3861024723.py:25: SettingWithCopyWarning: \n",
      "A value is trying to be set on a copy of a slice from a DataFrame.\n",
      "Try using .loc[row_indexer,col_indexer] = value instead\n",
      "\n",
      "See the caveats in the documentation: https://pandas.pydata.org/pandas-docs/stable/user_guide/indexing.html#returning-a-view-versus-a-copy\n",
      "  df['time'] /= 1e6 # convert steps to megasteps\n",
      "/home/jrevan21/.conda/envs/polycubes2/lib/python3.10/site-packages/altair/utils/core.py:283: FutureWarning: iteritems is deprecated and will be removed in a future version. Use .items instead.\n",
      "  for col_name, dtype in df.dtypes.iteritems():\n"
     ]
    },
    {
     "data": {
      "text/html": [
       "\n",
       "<div id=\"altair-viz-5dfb415919634961a1acc46d50cabd04\"></div>\n",
       "<script type=\"text/javascript\">\n",
       "  (function(spec, embedOpt){\n",
       "    let outputDiv = document.currentScript.previousElementSibling;\n",
       "    if (outputDiv.id !== \"altair-viz-5dfb415919634961a1acc46d50cabd04\") {\n",
       "      outputDiv = document.getElementById(\"altair-viz-5dfb415919634961a1acc46d50cabd04\");\n",
       "    }\n",
       "    const paths = {\n",
       "      \"vega\": \"https://cdn.jsdelivr.net/npm//vega@5?noext\",\n",
       "      \"vega-lib\": \"https://cdn.jsdelivr.net/npm//vega-lib?noext\",\n",
       "      \"vega-lite\": \"https://cdn.jsdelivr.net/npm//vega-lite@4.8.1?noext\",\n",
       "      \"vega-embed\": \"https://cdn.jsdelivr.net/npm//vega-embed@6?noext\",\n",
       "    };\n",
       "\n",
       "    function loadScript(lib) {\n",
       "      return new Promise(function(resolve, reject) {\n",
       "        var s = document.createElement('script');\n",
       "        s.src = paths[lib];\n",
       "        s.async = true;\n",
       "        s.onload = () => resolve(paths[lib]);\n",
       "        s.onerror = () => reject(`Error loading script: ${paths[lib]}`);\n",
       "        document.getElementsByTagName(\"head\")[0].appendChild(s);\n",
       "      });\n",
       "    }\n",
       "\n",
       "    function showError(err) {\n",
       "      outputDiv.innerHTML = `<div class=\"error\" style=\"color:red;\">${err}</div>`;\n",
       "      throw err;\n",
       "    }\n",
       "\n",
       "    function displayChart(vegaEmbed) {\n",
       "      vegaEmbed(outputDiv, spec, embedOpt)\n",
       "        .catch(err => showError(`Javascript Error: ${err.message}<br>This usually means there's a typo in your chart specification. See the javascript console for the full traceback.`));\n",
       "    }\n",
       "\n",
       "    if(typeof define === \"function\" && define.amd) {\n",
       "      requirejs.config({paths});\n",
       "      require([\"vega-embed\"], displayChart, err => showError(`Error loading script: ${err.message}`));\n",
       "    } else if (typeof vegaEmbed === \"function\") {\n",
       "      displayChart(vegaEmbed);\n",
       "    } else {\n",
       "      loadScript(\"vega\")\n",
       "        .then(() => loadScript(\"vega-lite\"))\n",
       "        .then(() => loadScript(\"vega-embed\"))\n",
       "        .catch(showError)\n",
       "        .then(() => displayChart(vegaEmbed));\n",
       "    }\n",
       "  })({\"config\": {\"view\": {\"continuousWidth\": 400, \"continuousHeight\": 300}, \"axis\": {\"labelFontSize\": 18, \"titleFontSize\": 20}, \"title\": {\"fontSize\": 24}}, \"hconcat\": [{\"layer\": [{\"mark\": \"line\", \"encoding\": {\"color\": {\"type\": \"ordinal\", \"field\": \"shape\", \"scale\": {\"scheme\": \"accent\"}, \"title\": \"Shape\"}, \"x\": {\"type\": \"quantitative\", \"axis\": {\"tickCount\": 5}, \"field\": \"time\", \"title\": \"Time (megasteps)\"}, \"y\": {\"type\": \"quantitative\", \"axis\": {\"format\": \".0%\", \"tickCount\": 4}, \"field\": \"yield\", \"scale\": {\"domain\": [0, 1.0]}, \"title\": \"Yield\"}}, \"title\": \"T=human\"}, {\"mark\": {\"type\": \"area\", \"opacity\": 0.25}, \"encoding\": {\"color\": {\"type\": \"ordinal\", \"field\": \"shape\", \"scale\": {\"scheme\": \"accent\"}, \"title\": \"Shape\"}, \"x\": {\"type\": \"quantitative\", \"axis\": {\"tickCount\": 5}, \"field\": \"time\"}, \"y\": {\"type\": \"quantitative\", \"field\": \"yield_min\"}, \"y2\": {\"field\": \"yield_max\"}}, \"title\": \"T=human\"}], \"data\": {\"name\": \"data-d1a99b011ca40efba57e56d864dd1c52\"}}, {\"layer\": [{\"mark\": \"line\", \"encoding\": {\"color\": {\"type\": \"ordinal\", \"field\": \"shape\", \"scale\": {\"scheme\": \"accent\"}, \"title\": \"Shape\"}, \"x\": {\"type\": \"quantitative\", \"axis\": {\"tickCount\": 5}, \"field\": \"time\", \"title\": \"Time (megasteps)\"}, \"y\": {\"type\": \"quantitative\", \"axis\": {\"format\": \".0%\", \"tickCount\": 4}, \"field\": \"yield\", \"scale\": {\"domain\": [0, 1.0]}, \"title\": \"Yield\"}}, \"title\": \"T=flamingo\"}, {\"mark\": {\"type\": \"area\", \"opacity\": 0.25}, \"encoding\": {\"color\": {\"type\": \"ordinal\", \"field\": \"shape\", \"scale\": {\"scheme\": \"accent\"}, \"title\": \"Shape\"}, \"x\": {\"type\": \"quantitative\", \"axis\": {\"tickCount\": 5}, \"field\": \"time\"}, \"y\": {\"type\": \"quantitative\", \"field\": \"yield_min\"}, \"y2\": {\"field\": \"yield_max\"}}, \"title\": \"T=flamingo\"}], \"data\": {\"name\": \"data-a98c46ace8a15035c9c30d243324ac34\"}}], \"title\": \"Comparison of Datasets Wereflamingo_X3 Groups and Targets at Narrow Type 0, Temperature 0.01\", \"$schema\": \"https://vega.github.io/schema/vega-lite/v4.8.1.json\", \"datasets\": {\"data-d1a99b011ca40efba57e56d864dd1c52\": [{\"shape\": \"FLAMINGO\", \"nt\": 0, \"temp\": 0.01, \"time\": 0.0, \"yield\": 0.0, \"num_assemblies\": 8.0, \"yield_min\": 0.0, \"yield_max\": 0.0, \"yield_stdev\": 0.0, \"target\": \"human\"}, {\"shape\": \"FLAMINGO\", \"nt\": 0, \"temp\": 0.01, \"time\": 10.0, \"yield\": 0.0, \"num_assemblies\": 8.0, \"yield_min\": 0.0, \"yield_max\": 0.0, \"yield_stdev\": 0.0, \"target\": \"human\"}, {\"shape\": \"FLAMINGO\", \"nt\": 0, \"temp\": 0.01, \"time\": 20.0, \"yield\": 0.052884615384615384, \"num_assemblies\": 8.0, \"yield_min\": 0.0, \"yield_max\": 0.10576923076923077, \"yield_stdev\": 0.4885271508527603, \"target\": \"human\"}, {\"shape\": \"FLAMINGO\", \"nt\": 0, \"temp\": 0.01, \"time\": 30.0, \"yield\": 0.026442307692307692, \"num_assemblies\": 8.0, \"yield_min\": 0.0, \"yield_max\": 0.10576923076923077, \"yield_stdev\": 0.4230769230769231, \"target\": \"human\"}, {\"shape\": \"FLAMINGO\", \"nt\": 0, \"temp\": 0.01, \"time\": 40.0, \"yield\": 0.026442307692307692, \"num_assemblies\": 8.0, \"yield_min\": 0.0, \"yield_max\": 0.10576923076923077, \"yield_stdev\": 0.4230769230769231, \"target\": \"human\"}, {\"shape\": \"FLAMINGO\", \"nt\": 0, \"temp\": 0.01, \"time\": 50.0, \"yield\": 0.026442307692307692, \"num_assemblies\": 8.0, \"yield_min\": 0.0, \"yield_max\": 0.10576923076923077, \"yield_stdev\": 0.4230769230769231, \"target\": \"human\"}, {\"shape\": \"HUMAN\", \"nt\": 0, \"temp\": 0.01, \"time\": 0.0, \"yield\": 0.0, \"num_assemblies\": 8.0, \"yield_min\": 0.0, \"yield_max\": 0.0, \"yield_stdev\": 0.0, \"target\": \"human\"}, {\"shape\": \"HUMAN\", \"nt\": 0, \"temp\": 0.01, \"time\": 10.0, \"yield\": 0.3317307692307692, \"num_assemblies\": 8.0, \"yield_min\": 0.10576923076923077, \"yield_max\": 0.46153846153846156, \"yield_stdev\": 1.2756249193674614, \"target\": \"human\"}, {\"shape\": \"HUMAN\", \"nt\": 0, \"temp\": 0.01, \"time\": 20.0, \"yield\": 0.3629807692307692, \"num_assemblies\": 8.0, \"yield_min\": 0.10576923076923077, \"yield_max\": 0.46153846153846156, \"yield_stdev\": 1.3794419018401132, \"target\": \"human\"}, {\"shape\": \"HUMAN\", \"nt\": 0, \"temp\": 0.01, \"time\": 30.0, \"yield\": 0.3894230769230769, \"num_assemblies\": 8.0, \"yield_min\": 0.10576923076923077, \"yield_max\": 0.5288461538461539, \"yield_stdev\": 1.5339677960149767, \"target\": \"human\"}, {\"shape\": \"HUMAN\", \"nt\": 0, \"temp\": 0.01, \"time\": 40.0, \"yield\": 0.41586538461538464, \"num_assemblies\": 8.0, \"yield_min\": 0.21153846153846154, \"yield_max\": 0.5288461538461539, \"yield_stdev\": 1.11891571916198, \"target\": \"human\"}, {\"shape\": \"HUMAN\", \"nt\": 0, \"temp\": 0.01, \"time\": 50.0, \"yield\": 0.41586538461538464, \"num_assemblies\": 8.0, \"yield_min\": 0.21153846153846154, \"yield_max\": 0.5288461538461539, \"yield_stdev\": 1.11891571916198, \"target\": \"human\"}, {\"shape\": \"MI\", \"nt\": 0, \"temp\": 0.01, \"time\": 0.0, \"yield\": 0.0, \"num_assemblies\": 4.0, \"yield_min\": 0.0, \"yield_max\": 0.0, \"yield_stdev\": 0.0, \"target\": \"human\"}, {\"shape\": \"MI\", \"nt\": 0, \"temp\": 0.01, \"time\": 10.0, \"yield\": 0.3629807692307693, \"num_assemblies\": 4.0, \"yield_min\": 0.23076923076923078, \"yield_max\": 0.4807692307692308, \"yield_stdev\": 0.8198113989101626, \"target\": \"human\"}, {\"shape\": \"MI\", \"nt\": 0, \"temp\": 0.01, \"time\": 20.0, \"yield\": 0.4375, \"num_assemblies\": 4.0, \"yield_min\": 0.375, \"yield_max\": 0.5, \"yield_stdev\": 0.5773502691896257, \"target\": \"human\"}, {\"shape\": \"MI\", \"nt\": 0, \"temp\": 0.01, \"time\": 30.0, \"yield\": 0.4375, \"num_assemblies\": 4.0, \"yield_min\": 0.375, \"yield_max\": 0.5, \"yield_stdev\": 0.5773502691896257, \"target\": \"human\"}, {\"shape\": \"MI\", \"nt\": 0, \"temp\": 0.01, \"time\": 40.0, \"yield\": 0.46875, \"num_assemblies\": 4.0, \"yield_min\": 0.375, \"yield_max\": 0.5, \"yield_stdev\": 0.5, \"target\": \"human\"}, {\"shape\": \"MI\", \"nt\": 0, \"temp\": 0.01, \"time\": 50.0, \"yield\": 0.46875, \"num_assemblies\": 4.0, \"yield_min\": 0.375, \"yield_max\": 0.5, \"yield_stdev\": 0.5, \"target\": \"human\"}], \"data-a98c46ace8a15035c9c30d243324ac34\": [{\"shape\": \"FLAMINGO\", \"nt\": 0, \"temp\": 0.01, \"time\": 0.0, \"yield\": 0.0, \"num_assemblies\": 8.0, \"yield_min\": 0.0, \"yield_max\": 0.0, \"yield_stdev\": 0.0, \"target\": \"flamingo\"}, {\"shape\": \"FLAMINGO\", \"nt\": 0, \"temp\": 0.01, \"time\": 10.0, \"yield\": 0.8958333333333334, \"num_assemblies\": 8.0, \"yield_min\": 0.8541666666666667, \"yield_max\": 0.9895833333333334, \"yield_stdev\": 0.5046083923495821, \"target\": \"flamingo\"}, {\"shape\": \"FLAMINGO\", \"nt\": 0, \"temp\": 0.01, \"time\": 20.0, \"yield\": 0.9895833333333334, \"num_assemblies\": 8.0, \"yield_min\": 0.9791666666666667, \"yield_max\": 1.0, \"yield_stdev\": 0.06804138174397684, \"target\": \"flamingo\"}, {\"shape\": \"FLAMINGO\", \"nt\": 0, \"temp\": 0.01, \"time\": 30.0, \"yield\": 0.9973958333333333, \"num_assemblies\": 8.0, \"yield_min\": 0.9895833333333333, \"yield_max\": 1.0, \"yield_stdev\": 0.04166666666666684, \"target\": \"flamingo\"}, {\"shape\": \"FLAMINGO\", \"nt\": 0, \"temp\": 0.01, \"time\": 40.0, \"yield\": 0.9973958333333333, \"num_assemblies\": 8.0, \"yield_min\": 0.9895833333333333, \"yield_max\": 1.0, \"yield_stdev\": 0.04166666666666684, \"target\": \"flamingo\"}, {\"shape\": \"FLAMINGO\", \"nt\": 0, \"temp\": 0.01, \"time\": 50.0, \"yield\": 0.9973958333333333, \"num_assemblies\": 8.0, \"yield_min\": 0.9895833333333333, \"yield_max\": 1.0, \"yield_stdev\": 0.04166666666666684, \"target\": \"flamingo\"}, {\"shape\": \"HUMAN\", \"nt\": 0, \"temp\": 0.01, \"time\": 0.0, \"yield\": 0.0, \"num_assemblies\": 8.0, \"yield_min\": 0.0, \"yield_max\": 0.0, \"yield_stdev\": 0.0, \"target\": \"flamingo\"}, {\"shape\": \"HUMAN\", \"nt\": 0, \"temp\": 0.01, \"time\": 10.0, \"yield\": 0.0, \"num_assemblies\": 8.0, \"yield_min\": 0.0, \"yield_max\": 0.0, \"yield_stdev\": 0.0, \"target\": \"flamingo\"}, {\"shape\": \"HUMAN\", \"nt\": 0, \"temp\": 0.01, \"time\": 20.0, \"yield\": 0.0, \"num_assemblies\": 8.0, \"yield_min\": 0.0, \"yield_max\": 0.0, \"yield_stdev\": 0.0, \"target\": \"flamingo\"}, {\"shape\": \"HUMAN\", \"nt\": 0, \"temp\": 0.01, \"time\": 30.0, \"yield\": 0.0, \"num_assemblies\": 8.0, \"yield_min\": 0.0, \"yield_max\": 0.0, \"yield_stdev\": 0.0, \"target\": \"flamingo\"}, {\"shape\": \"HUMAN\", \"nt\": 0, \"temp\": 0.01, \"time\": 40.0, \"yield\": 0.0, \"num_assemblies\": 8.0, \"yield_min\": 0.0, \"yield_max\": 0.0, \"yield_stdev\": 0.0, \"target\": \"flamingo\"}, {\"shape\": \"HUMAN\", \"nt\": 0, \"temp\": 0.01, \"time\": 50.0, \"yield\": 0.0, \"num_assemblies\": 8.0, \"yield_min\": 0.0, \"yield_max\": 0.0, \"yield_stdev\": 0.0, \"target\": \"flamingo\"}, {\"shape\": \"MI\", \"nt\": 0, \"temp\": 0.01, \"time\": 0.0, \"yield\": 0.0, \"num_assemblies\": 4.0, \"yield_min\": 0.0, \"yield_max\": 0.0, \"yield_stdev\": 0.0, \"target\": \"flamingo\"}, {\"shape\": \"MI\", \"nt\": 0, \"temp\": 0.01, \"time\": 10.0, \"yield\": 0.4661458333333333, \"num_assemblies\": 4.0, \"yield_min\": 0.375, \"yield_max\": 0.6145833333333333, \"yield_stdev\": 0.921389349478999, \"target\": \"flamingo\"}, {\"shape\": \"MI\", \"nt\": 0, \"temp\": 0.01, \"time\": 20.0, \"yield\": 0.4947916666666667, \"num_assemblies\": 4.0, \"yield_min\": 0.4791666666666667, \"yield_max\": 0.5, \"yield_stdev\": 0.08333333333333329, \"target\": \"flamingo\"}, {\"shape\": \"MI\", \"nt\": 0, \"temp\": 0.01, \"time\": 30.0, \"yield\": 0.4973958333333333, \"num_assemblies\": 4.0, \"yield_min\": 0.4895833333333333, \"yield_max\": 0.5, \"yield_stdev\": 0.04166666666666674, \"target\": \"flamingo\"}, {\"shape\": \"MI\", \"nt\": 0, \"temp\": 0.01, \"time\": 40.0, \"yield\": 0.5, \"num_assemblies\": 4.0, \"yield_min\": 0.5, \"yield_max\": 0.5, \"yield_stdev\": 0.0, \"target\": \"flamingo\"}, {\"shape\": \"MI\", \"nt\": 0, \"temp\": 0.01, \"time\": 50.0, \"yield\": 0.5, \"num_assemblies\": 4.0, \"yield_min\": 0.5, \"yield_max\": 0.5, \"yield_stdev\": 0.0, \"target\": \"flamingo\"}]}}, {\"mode\": \"vega-lite\"});\n",
       "</script>"
      ],
      "text/plain": [
       "alt.HConcatChart(...)"
      ]
     },
     "execution_count": 16,
     "metadata": {},
     "output_type": "execute_result"
    }
   ],
   "source": [
    "### MORE PARAMETERS!!! ####\n",
    "nt = 0\n",
    "temperature = 0.01\n",
    "ymax = 8\n",
    "relative=True\n",
    "groups = np.unique(data['shape'])\n",
    "\n",
    "df = data[(data['nt'] == nt) & (data['temp'] == temperature)]\n",
    "\n",
    "\n",
    "# assert(len(shapes) > 0)\n",
    "# indexer = reduce(lambda a,b: (a | b), [df['shape'] == s for s in shapes])\n",
    "# df = df[indexer]\n",
    "\n",
    "# normalize yield if applicable, either way format x axis\n",
    "if relative:\n",
    "    df['yield_min'] = df['yield_min'] / ymax\n",
    "    df['yield_max'] = df['yield_max'] / ymax\n",
    "    # df['yield_stdev'] = df['yield_stdev'] / ymax\n",
    "    df['yield'] =  df['yield'] / ymax\n",
    "    ymax = 1.0\n",
    "    x_axis_format = '.0%'\n",
    "else:\n",
    "    x_axis_format = '.00'\n",
    "df['time'] /= 1e6 # convert steps to megasteps\n",
    "\n",
    "charts = []\n",
    "# if len(shapes) == 1:\n",
    "#     chart_title = f\"Comparison of Datasets: {', '.join(dataset_names_readable)} (Group: {shapes[0]}) (Narrow Type {nt})\"\n",
    "# else:\n",
    "chart_title = f\"Comparison of Datasets {results_name} Groups and Targets at Narrow Type {nt}, Temperature {temperature}\"\n",
    "temperatures = df['temp'].unique()\n",
    "for i, t in enumerate(target_names):\n",
    "    charts.append(alt.Chart(df[df['target'] == t], title=f\"T={t}\"))\n",
    "    charts[i] = charts[i].mark_line().encode(\n",
    "        x=alt.X('time:Q', title=\"Time (megasteps)\", axis=alt.Axis(tickCount=5)),\n",
    "        y=alt.Y(\n",
    "            \"yield:Q\",\n",
    "            title=\"Yield\",\n",
    "            scale=alt.Scale(domain=(0,ymax)),\n",
    "            axis=alt.Axis(format=x_axis_format, tickCount=4)\n",
    "        ),\n",
    "        color=alt.Color('shape:O', scale=alt.Scale(scheme=\"accent\"), title=\"Shape\")\n",
    "    ) + charts[i].mark_area(opacity=0.25).encode(\n",
    "        x=alt.X(\"time:Q\", axis=alt.Axis(tickCount=5)),\n",
    "        y=\"yield_min:Q\",\n",
    "        y2=\"yield_max:Q\",\n",
    "        color=alt.Color('shape:O', scale=alt.Scale(scheme=\"accent\"), title=\"Shape\")\n",
    "    )\n",
    "chart = alt.hconcat(*charts)\n",
    "# ) + alt.Chart(df).mark_errorband(extent='ci', opacity=0.2).encode(\n",
    "#     x=alt.X('time:Q'),\n",
    "#     y=alt.Y('yield', title='Yield'), accept_partials=True\n",
    "#     color = alt.Color('shape', scale=alt.Scale())\n",
    "# )).properties(width=600, height=450).facet(column='potential', row='type').properties(title=sim_name)\"None of the students learn anything and it's your fault\"\n",
    "\n",
    "chart = chart.properties(title=chart_title)\n",
    "chart.configure_axis(\n",
    "    labelFontSize=18,\n",
    "    titleFontSize=20\n",
    ").configure_title(fontSize=24)\n",
    "# chart.save(sims_root() + os.sep + results.export_name + os.sep + results.export_name + \".html\")"
   ]
  },
  {
   "cell_type": "code",
   "execution_count": 28,
   "id": "a510f620-999c-4a2f-be68-40bb32e54998",
   "metadata": {},
   "outputs": [
    {
     "data": {
      "text/html": [
       "<div>\n",
       "<style scoped>\n",
       "    .dataframe tbody tr th:only-of-type {\n",
       "        vertical-align: middle;\n",
       "    }\n",
       "\n",
       "    .dataframe tbody tr th {\n",
       "        vertical-align: top;\n",
       "    }\n",
       "\n",
       "    .dataframe thead th {\n",
       "        text-align: right;\n",
       "    }\n",
       "</style>\n",
       "<table border=\"1\" class=\"dataframe\">\n",
       "  <thead>\n",
       "    <tr style=\"text-align: right;\">\n",
       "      <th></th>\n",
       "      <th>shape</th>\n",
       "      <th>nt</th>\n",
       "      <th>temp</th>\n",
       "      <th>time</th>\n",
       "      <th>yield</th>\n",
       "      <th>num_assemblies</th>\n",
       "      <th>yield_min</th>\n",
       "      <th>yield_max</th>\n",
       "      <th>yield_stdev</th>\n",
       "      <th>target</th>\n",
       "    </tr>\n",
       "  </thead>\n",
       "  <tbody>\n",
       "    <tr>\n",
       "      <th>0</th>\n",
       "      <td>FLAMINGO</td>\n",
       "      <td>0</td>\n",
       "      <td>0.01</td>\n",
       "      <td>0.0</td>\n",
       "      <td>0.000000</td>\n",
       "      <td>8.0</td>\n",
       "      <td>0.000000</td>\n",
       "      <td>0.000000</td>\n",
       "      <td>0.000000</td>\n",
       "      <td>human</td>\n",
       "    </tr>\n",
       "    <tr>\n",
       "      <th>1</th>\n",
       "      <td>FLAMINGO</td>\n",
       "      <td>0</td>\n",
       "      <td>0.01</td>\n",
       "      <td>10000000.0</td>\n",
       "      <td>0.000000</td>\n",
       "      <td>8.0</td>\n",
       "      <td>0.000000</td>\n",
       "      <td>0.000000</td>\n",
       "      <td>0.000000</td>\n",
       "      <td>human</td>\n",
       "    </tr>\n",
       "    <tr>\n",
       "      <th>2</th>\n",
       "      <td>FLAMINGO</td>\n",
       "      <td>0</td>\n",
       "      <td>0.01</td>\n",
       "      <td>20000000.0</td>\n",
       "      <td>0.000000</td>\n",
       "      <td>8.0</td>\n",
       "      <td>0.000000</td>\n",
       "      <td>0.000000</td>\n",
       "      <td>0.000000</td>\n",
       "      <td>human</td>\n",
       "    </tr>\n",
       "    <tr>\n",
       "      <th>3</th>\n",
       "      <td>FLAMINGO</td>\n",
       "      <td>0</td>\n",
       "      <td>0.01</td>\n",
       "      <td>30000000.0</td>\n",
       "      <td>0.000000</td>\n",
       "      <td>8.0</td>\n",
       "      <td>0.000000</td>\n",
       "      <td>0.000000</td>\n",
       "      <td>0.000000</td>\n",
       "      <td>human</td>\n",
       "    </tr>\n",
       "    <tr>\n",
       "      <th>4</th>\n",
       "      <td>FLAMINGO</td>\n",
       "      <td>0</td>\n",
       "      <td>0.01</td>\n",
       "      <td>40000000.0</td>\n",
       "      <td>0.000000</td>\n",
       "      <td>8.0</td>\n",
       "      <td>0.000000</td>\n",
       "      <td>0.000000</td>\n",
       "      <td>0.000000</td>\n",
       "      <td>human</td>\n",
       "    </tr>\n",
       "    <tr>\n",
       "      <th>...</th>\n",
       "      <td>...</td>\n",
       "      <td>...</td>\n",
       "      <td>...</td>\n",
       "      <td>...</td>\n",
       "      <td>...</td>\n",
       "      <td>...</td>\n",
       "      <td>...</td>\n",
       "      <td>...</td>\n",
       "      <td>...</td>\n",
       "      <td>...</td>\n",
       "    </tr>\n",
       "    <tr>\n",
       "      <th>103</th>\n",
       "      <td>MI</td>\n",
       "      <td>0</td>\n",
       "      <td>0.05</td>\n",
       "      <td>10000000.0</td>\n",
       "      <td>1.604167</td>\n",
       "      <td>4.0</td>\n",
       "      <td>0.833333</td>\n",
       "      <td>2.833333</td>\n",
       "      <td>0.936342</td>\n",
       "      <td>flamingo</td>\n",
       "    </tr>\n",
       "    <tr>\n",
       "      <th>104</th>\n",
       "      <td>MI</td>\n",
       "      <td>0</td>\n",
       "      <td>0.05</td>\n",
       "      <td>20000000.0</td>\n",
       "      <td>0.937500</td>\n",
       "      <td>4.0</td>\n",
       "      <td>0.833333</td>\n",
       "      <td>1.000000</td>\n",
       "      <td>0.079786</td>\n",
       "      <td>flamingo</td>\n",
       "    </tr>\n",
       "    <tr>\n",
       "      <th>105</th>\n",
       "      <td>MI</td>\n",
       "      <td>0</td>\n",
       "      <td>0.05</td>\n",
       "      <td>30000000.0</td>\n",
       "      <td>1.187500</td>\n",
       "      <td>4.0</td>\n",
       "      <td>0.000000</td>\n",
       "      <td>2.000000</td>\n",
       "      <td>0.923898</td>\n",
       "      <td>flamingo</td>\n",
       "    </tr>\n",
       "    <tr>\n",
       "      <th>106</th>\n",
       "      <td>MI</td>\n",
       "      <td>0</td>\n",
       "      <td>0.05</td>\n",
       "      <td>40000000.0</td>\n",
       "      <td>2.125000</td>\n",
       "      <td>4.0</td>\n",
       "      <td>0.916667</td>\n",
       "      <td>2.916667</td>\n",
       "      <td>0.944036</td>\n",
       "      <td>flamingo</td>\n",
       "    </tr>\n",
       "    <tr>\n",
       "      <th>107</th>\n",
       "      <td>MI</td>\n",
       "      <td>0</td>\n",
       "      <td>0.05</td>\n",
       "      <td>50000000.0</td>\n",
       "      <td>1.520833</td>\n",
       "      <td>4.0</td>\n",
       "      <td>0.833333</td>\n",
       "      <td>2.750000</td>\n",
       "      <td>0.908741</td>\n",
       "      <td>flamingo</td>\n",
       "    </tr>\n",
       "  </tbody>\n",
       "</table>\n",
       "<p>108 rows × 10 columns</p>\n",
       "</div>"
      ],
      "text/plain": [
       "        shape  nt  temp        time     yield  num_assemblies  yield_min  \\\n",
       "0    FLAMINGO   0  0.01         0.0  0.000000             8.0   0.000000   \n",
       "1    FLAMINGO   0  0.01  10000000.0  0.000000             8.0   0.000000   \n",
       "2    FLAMINGO   0  0.01  20000000.0  0.000000             8.0   0.000000   \n",
       "3    FLAMINGO   0  0.01  30000000.0  0.000000             8.0   0.000000   \n",
       "4    FLAMINGO   0  0.01  40000000.0  0.000000             8.0   0.000000   \n",
       "..        ...  ..   ...         ...       ...             ...        ...   \n",
       "103        MI   0  0.05  10000000.0  1.604167             4.0   0.833333   \n",
       "104        MI   0  0.05  20000000.0  0.937500             4.0   0.833333   \n",
       "105        MI   0  0.05  30000000.0  1.187500             4.0   0.000000   \n",
       "106        MI   0  0.05  40000000.0  2.125000             4.0   0.916667   \n",
       "107        MI   0  0.05  50000000.0  1.520833             4.0   0.833333   \n",
       "\n",
       "     yield_max  yield_stdev    target  \n",
       "0     0.000000     0.000000     human  \n",
       "1     0.000000     0.000000     human  \n",
       "2     0.000000     0.000000     human  \n",
       "3     0.000000     0.000000     human  \n",
       "4     0.000000     0.000000     human  \n",
       "..         ...          ...       ...  \n",
       "103   2.833333     0.936342  flamingo  \n",
       "104   1.000000     0.079786  flamingo  \n",
       "105   2.000000     0.923898  flamingo  \n",
       "106   2.916667     0.944036  flamingo  \n",
       "107   2.750000     0.908741  flamingo  \n",
       "\n",
       "[108 rows x 10 columns]"
      ]
     },
     "execution_count": 28,
     "metadata": {},
     "output_type": "execute_result"
    }
   ],
   "source": [
    "data"
   ]
  },
  {
   "cell_type": "code",
   "execution_count": null,
   "id": "5b49c2f0-d57d-4280-b35d-254e6063736e",
   "metadata": {},
   "outputs": [],
   "source": [
    "mintime"
   ]
  },
  {
   "cell_type": "code",
   "execution_count": null,
   "id": "8ee7ee61-7e78-4c6a-9d4b-2143b6e12ae5",
   "metadata": {},
   "outputs": [],
   "source": []
  }
 ],
 "metadata": {
  "kernelspec": {
   "display_name": "Polycubes2",
   "language": "python",
   "name": "polycubes2"
  },
  "language_info": {
   "codemirror_mode": {
    "name": "ipython",
    "version": 3
   },
   "file_extension": ".py",
   "mimetype": "text/x-python",
   "name": "python",
   "nbconvert_exporter": "python",
   "pygments_lexer": "ipython3",
   "version": "3.10.9"
  }
 },
 "nbformat": 4,
 "nbformat_minor": 5
}
