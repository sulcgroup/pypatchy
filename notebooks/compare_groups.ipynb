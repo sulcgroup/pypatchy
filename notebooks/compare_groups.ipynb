{
 "cells": [
  {
   "cell_type": "markdown",
   "id": "e93fa8e3-74b9-4312-80c8-390124109416",
   "metadata": {},
   "source": [
    "# Compare Groups Script\n",
    "Compares export groups from within a **single results**. Different targets are plotted side-by-side, different export groups are plotted on the same axes."
   ]
  },
  {
   "cell_type": "code",
   "execution_count": 12,
   "id": "130400dc-ea27-40d4-af42-3d442be14760",
   "metadata": {},
   "outputs": [
    {
     "name": "stdout",
     "output_type": "stream",
     "text": [
      "Available datasets:\n",
      "\tAllosteric_Pyramid_Full_Fall22,\n",
      "\trestart_bad_trajs.sh,\n",
      "\tAllosteric_Pyramid_Partial_Fall22,\n",
      "\tAlloSolidCube_X5_4_12Dec22,\n",
      "\tAlloSolidCube_X5_1_12Dec22,\n",
      "\tAlloSolidCube_X3_Singlet_12Dec22,\n",
      "\tcheck_traj_sizes.sh,\n",
      "\thelices_periodic_nopadding,\n",
      "\tWTSolidCube_FullyAddr_JB,\n",
      "\tWereflamingo_X2,\n",
      "\tNoAlloPyramid_14Oct22,\n",
      "\tAlloPyramid_X4_14Mar23,\n",
      "\trecalculate_wereflamingo_clusters.sh,\n",
      "\tjobinfo.txt,\n",
      "\tAlloSolidCube_X1_12Dec22,\n",
      "\tWereflamingo_X4,\n",
      "\tWereflamingo_X3,\n",
      "\tWTSolidCube_Minimal_JB\n"
     ]
    },
    {
     "data": {
      "image/png": "[encoded data removed]",
      "text/plain": [
       "<Figure size 640x480 with 2 Axes>"
      ]
     },
     "metadata": {},
     "output_type": "display_data"
    }
   ],
   "source": [
    "import sys\n",
    "sys.path.append('../src')\n",
    "from patchy.analysis.input_output import *\n",
    "from functools import reduce\n",
    "import altair as alt\n",
    "print(\"Available datasets:\\n\\t\" + ',\\n\\t'.join(os.listdir(sims_root())))"
   ]
  },
  {
   "cell_type": "code",
   "execution_count": 17,
   "id": "2b763c82-a483-4ee7-8b6a-f6a016547e38",
   "metadata": {},
   "outputs": [],
   "source": [
    "results_name = \"Wereflamingo_X2\"\n",
    "results_name_readable = \"Wereflamingo X3\"\n",
    "\n",
    "results = choose_results(results_name)"
   ]
  },
  {
   "cell_type": "code",
   "execution_count": 18,
   "id": "d65b76ae-056f-43a0-bbd6-c9a28f78c07a",
   "metadata": {},
   "outputs": [],
   "source": [
    "target_names = results.targets.keys()"
   ]
  },
  {
   "cell_type": "code",
   "execution_count": 19,
   "id": "e7fe9b99-0502-4f2d-a532-197609279ea5",
   "metadata": {},
   "outputs": [],
   "source": [
    "# PARAMETERS!!!!!\n",
    "# narrow type = set of parameters specifying bonding angles between patches\n",
    "# cutoff = the lower limit for counting clusters as partially assembled forms of the target\n",
    "# cutoff = 1 -> only count fully assembled clusters\n",
    "cutoff = .8\n",
    "overreach = False\n",
    "sample_every = 1"
   ]
  },
  {
   "cell_type": "code",
   "execution_count": 20,
   "id": "63110e07-653e-4380-8afe-17e7bd9aa456",
   "metadata": {
    "scrolled": true,
    "tags": []
   },
   "outputs": [
    {
     "name": "stdout",
     "output_type": "stream",
     "text": [
      "Analyzing Wereflamingo_X2 yields for target: human\n",
      "Computing yields of HUMANS duplicate 0 nt=0 T=0.01 with target=human, overreach=False, cutoff=0.8...\n"
     ]
    },
    {
     "name": "stderr",
     "output_type": "stream",
     "text": [
      "\n",
      "Please cite these publications for any work that uses the oxDNA simulation package\n",
      "\t\t- for the code:\n",
      "\t\t\t* P. Šulc et al., J. Chem. Phys. 137, 135101 (2012)\n",
      "\t\t\t* L. Rovigatti et al., J. Comput. Chem. 36, 1 (2015)\n",
      "\t\t- for the oxDNA model:\n",
      "\t\t\t* T. E. Ouldridge et al., J. Chem. Phys, 134, 085101 (2011)\n",
      "\t\t- for the oxDNA2 model:\n",
      "\t\t\t* B. E. K. Snodin et al., J. Chem. Phys. 142, 234901 (2015)\n",
      "\t\t- for the oxRNA model:\n",
      "\t\t\t* P. Šulc et al., J. Chem. Phys. 140, 235102 (2014)\n"
     ]
    },
    {
     "ename": "ModuleNotFoundError",
     "evalue": "No module named 'analyseClusters'",
     "output_type": "error",
     "traceback": [
      "\u001b[0;31m---------------------------------------------------------------------------\u001b[0m",
      "\u001b[0;31mModuleNotFoundError\u001b[0m                       Traceback (most recent call last)",
      "Cell \u001b[0;32mIn[20], line 4\u001b[0m\n\u001b[1;32m      2\u001b[0m \u001b[38;5;28;01mfor\u001b[39;00m target_name \u001b[38;5;129;01min\u001b[39;00m target_names:\n\u001b[1;32m      3\u001b[0m     \u001b[38;5;28mprint\u001b[39m(\u001b[38;5;124mf\u001b[39m\u001b[38;5;124m\"\u001b[39m\u001b[38;5;124mAnalyzing \u001b[39m\u001b[38;5;132;01m{\u001b[39;00mresults_name\u001b[38;5;132;01m}\u001b[39;00m\u001b[38;5;124m yields for target: \u001b[39m\u001b[38;5;132;01m{\u001b[39;00mtarget_name\u001b[38;5;132;01m}\u001b[39;00m\u001b[38;5;124m\"\u001b[39m)\n\u001b[0;32m----> 4\u001b[0m     data \u001b[38;5;241m=\u001b[39m \u001b[43mresults\u001b[49m\u001b[38;5;241;43m.\u001b[39;49m\u001b[43mget_stats\u001b[49m\u001b[43m(\u001b[49m\u001b[43mtarget_name\u001b[49m\u001b[43m,\u001b[49m\u001b[43m \u001b[49m\u001b[43mcutoff\u001b[49m\u001b[43m,\u001b[49m\u001b[43m \u001b[49m\u001b[43moverreach\u001b[49m\u001b[38;5;241;43m=\u001b[39;49m\u001b[43moverreach\u001b[49m\u001b[43m,\u001b[49m\u001b[43m \u001b[49m\u001b[43msample_every\u001b[49m\u001b[38;5;241;43m=\u001b[39;49m\u001b[43msample_every\u001b[49m\u001b[43m,\u001b[49m\u001b[43m \u001b[49m\u001b[43mverbose\u001b[49m\u001b[38;5;241;43m=\u001b[39;49m\u001b[38;5;28;43;01mTrue\u001b[39;49;00m\u001b[43m,\u001b[49m\u001b[43m \u001b[49m\u001b[43mgrouping_cols\u001b[49m\u001b[43m \u001b[49m\u001b[38;5;241;43m=\u001b[39;49m\u001b[43m \u001b[49m\u001b[43m[\u001b[49m\u001b[38;5;124;43m'\u001b[39;49m\u001b[38;5;124;43mshape\u001b[39;49m\u001b[38;5;124;43m'\u001b[39;49m\u001b[43m,\u001b[49m\u001b[43m \u001b[49m\u001b[38;5;124;43m'\u001b[39;49m\u001b[38;5;124;43mnt\u001b[39;49m\u001b[38;5;124;43m'\u001b[39;49m\u001b[43m,\u001b[49m\u001b[43m \u001b[49m\u001b[38;5;124;43m'\u001b[39;49m\u001b[38;5;124;43mtemp\u001b[39;49m\u001b[38;5;124;43m'\u001b[39;49m\u001b[43m,\u001b[49m\u001b[43m \u001b[49m\u001b[38;5;124;43m'\u001b[39;49m\u001b[38;5;124;43mtime\u001b[39;49m\u001b[38;5;124;43m'\u001b[39;49m\u001b[43m]\u001b[49m\u001b[43m)\u001b[49m\n\u001b[1;32m      5\u001b[0m     \u001b[38;5;66;03m# data = dataset.get_flat_yields(target_name, cutoff, overreach=overreach)\u001b[39;00m\n\u001b[1;32m      6\u001b[0m     data[\u001b[38;5;124m'\u001b[39m\u001b[38;5;124mtarget\u001b[39m\u001b[38;5;124m'\u001b[39m] \u001b[38;5;241m=\u001b[39m target_name\n",
      "File \u001b[0;32m~/pypatchy/notebooks/../src/patchy/analysis/patchyresults.py:189\u001b[0m, in \u001b[0;36mPatchyRunSet.get_stats\u001b[0;34m(self, target_name, cutoff, overreach, verbose, grouping_cols, sample_every)\u001b[0m\n\u001b[1;32m    188\u001b[0m \u001b[38;5;28;01mdef\u001b[39;00m \u001b[38;5;21mget_stats\u001b[39m(\u001b[38;5;28mself\u001b[39m, target_name, cutoff\u001b[38;5;241m=\u001b[39m\u001b[38;5;241m1\u001b[39m, overreach\u001b[38;5;241m=\u001b[39m\u001b[38;5;28;01mFalse\u001b[39;00m, verbose\u001b[38;5;241m=\u001b[39m\u001b[38;5;28;01mFalse\u001b[39;00m, grouping_cols \u001b[38;5;241m=\u001b[39m [\u001b[38;5;124m'\u001b[39m\u001b[38;5;124mnt\u001b[39m\u001b[38;5;124m'\u001b[39m, \u001b[38;5;124m'\u001b[39m\u001b[38;5;124mtemp\u001b[39m\u001b[38;5;124m'\u001b[39m, \u001b[38;5;124m'\u001b[39m\u001b[38;5;124mtime\u001b[39m\u001b[38;5;124m'\u001b[39m],sample_every\u001b[38;5;241m=\u001b[39m\u001b[38;5;241m-\u001b[39m\u001b[38;5;241m1\u001b[39m):\n\u001b[0;32m--> 189\u001b[0m     data \u001b[38;5;241m=\u001b[39m \u001b[38;5;28;43mself\u001b[39;49m\u001b[38;5;241;43m.\u001b[39;49m\u001b[43mget_flat_yields\u001b[49m\u001b[43m(\u001b[49m\u001b[43mtarget_name\u001b[49m\u001b[43m,\u001b[49m\u001b[43m \u001b[49m\u001b[43mcutoff\u001b[49m\u001b[38;5;241;43m=\u001b[39;49m\u001b[43mcutoff\u001b[49m\u001b[43m,\u001b[49m\u001b[43m \u001b[49m\u001b[43moverreach\u001b[49m\u001b[38;5;241;43m=\u001b[39;49m\u001b[43moverreach\u001b[49m\u001b[43m,\u001b[49m\u001b[43m  \u001b[49m\u001b[43mverbose\u001b[49m\u001b[38;5;241;43m=\u001b[39;49m\u001b[43mverbose\u001b[49m\u001b[43m,\u001b[49m\u001b[43m \u001b[49m\u001b[43mpop_cols\u001b[49m\u001b[38;5;241;43m=\u001b[39;49m\u001b[43m[\u001b[49m\u001b[38;5;124;43m'\u001b[39;49m\u001b[38;5;124;43mtidx\u001b[39;49m\u001b[38;5;124;43m'\u001b[39;49m\u001b[43m]\u001b[49m\u001b[43m,\u001b[49m\u001b[43m \u001b[49m\u001b[43msample_every\u001b[49m\u001b[38;5;241;43m=\u001b[39;49m\u001b[43msample_every\u001b[49m\u001b[43m)\u001b[49m\n\u001b[1;32m    190\u001b[0m     \u001b[38;5;66;03m# data = data.dropna()\u001b[39;00m\n\u001b[1;32m    191\u001b[0m     gb \u001b[38;5;241m=\u001b[39m data\u001b[38;5;241m.\u001b[39mgroupby(grouping_cols)\n",
      "File \u001b[0;32m~/pypatchy/notebooks/../src/patchy/analysis/patchyresults.py:165\u001b[0m, in \u001b[0;36mPatchyRunSet.get_flat_yields\u001b[0;34m(self, target_name, cutoff, overreach, verbose, pop_cols, filters, sample_every)\u001b[0m\n\u001b[1;32m    164\u001b[0m \u001b[38;5;28;01mdef\u001b[39;00m \u001b[38;5;21mget_flat_yields\u001b[39m(\u001b[38;5;28mself\u001b[39m, target_name, cutoff\u001b[38;5;241m=\u001b[39m\u001b[38;5;241m1\u001b[39m, overreach\u001b[38;5;241m=\u001b[39m\u001b[38;5;28;01mFalse\u001b[39;00m, verbose\u001b[38;5;241m=\u001b[39m\u001b[38;5;28;01mFalse\u001b[39;00m, pop_cols\u001b[38;5;241m=\u001b[39m[], filters\u001b[38;5;241m=\u001b[39m{}, sample_every\u001b[38;5;241m=\u001b[39m\u001b[38;5;241m-\u001b[39m\u001b[38;5;241m1\u001b[39m):\n\u001b[0;32m--> 165\u001b[0m     data \u001b[38;5;241m=\u001b[39m \u001b[38;5;28;43mself\u001b[39;49m\u001b[38;5;241;43m.\u001b[39;49m\u001b[43mget_yields\u001b[49m\u001b[43m(\u001b[49m\u001b[43mtarget_name\u001b[49m\u001b[43m,\u001b[49m\u001b[43m \u001b[49m\u001b[43mcutoff\u001b[49m\u001b[38;5;241;43m=\u001b[39;49m\u001b[43mcutoff\u001b[49m\u001b[43m,\u001b[49m\u001b[43m \u001b[49m\u001b[43mverbose\u001b[49m\u001b[38;5;241;43m=\u001b[39;49m\u001b[43mverbose\u001b[49m\u001b[43m,\u001b[49m\u001b[43m \u001b[49m\u001b[43moverreach\u001b[49m\u001b[38;5;241;43m=\u001b[39;49m\u001b[43moverreach\u001b[49m\u001b[43m,\u001b[49m\u001b[43msample_every\u001b[49m\u001b[38;5;241;43m=\u001b[39;49m\u001b[43msample_every\u001b[49m\u001b[43m)\u001b[49m\n\u001b[1;32m    166\u001b[0m     data \u001b[38;5;241m=\u001b[39m data\u001b[38;5;241m.\u001b[39mreset_index()\n\u001b[1;32m    168\u001b[0m     cols \u001b[38;5;241m=\u001b[39m [c \u001b[38;5;28;01mfor\u001b[39;00m c \u001b[38;5;129;01min\u001b[39;00m \u001b[38;5;28mlist\u001b[39m(data\u001b[38;5;241m.\u001b[39mcolumns) \u001b[38;5;28;01mif\u001b[39;00m c \u001b[38;5;129;01mnot\u001b[39;00m \u001b[38;5;129;01min\u001b[39;00m pop_cols]\n",
      "File \u001b[0;32m~/pypatchy/notebooks/../src/patchy/analysis/patchyresults.py:161\u001b[0m, in \u001b[0;36mPatchyRunSet.get_yields\u001b[0;34m(self, target_name, cutoff, overreach, verbose, sample_every)\u001b[0m\n\u001b[1;32m    159\u001b[0m \u001b[38;5;28;01mdef\u001b[39;00m \u001b[38;5;21mget_yields\u001b[39m(\u001b[38;5;28mself\u001b[39m, target_name, cutoff\u001b[38;5;241m=\u001b[39m\u001b[38;5;241m1\u001b[39m, overreach\u001b[38;5;241m=\u001b[39m\u001b[38;5;28;01mFalse\u001b[39;00m, verbose\u001b[38;5;241m=\u001b[39m\u001b[38;5;28;01mFalse\u001b[39;00m, sample_every\u001b[38;5;241m=\u001b[39m\u001b[38;5;241m-\u001b[39m\u001b[38;5;241m1\u001b[39m):\n\u001b[1;32m    160\u001b[0m     target_graph \u001b[38;5;241m=\u001b[39m \u001b[38;5;28mself\u001b[39m\u001b[38;5;241m.\u001b[39mtargets[target_name][\u001b[38;5;124m'\u001b[39m\u001b[38;5;124mgraph\u001b[39m\u001b[38;5;124m'\u001b[39m]\n\u001b[0;32m--> 161\u001b[0m     all_data \u001b[38;5;241m=\u001b[39m [r\u001b[38;5;241m.\u001b[39manalyseClusterYield(target_name, target_graph, cutoff\u001b[38;5;241m=\u001b[39mcutoff,  verbose\u001b[38;5;241m=\u001b[39mverbose, overreach\u001b[38;5;241m=\u001b[39moverreach,sample_every\u001b[38;5;241m=\u001b[39msample_every) \u001b[38;5;28;01mfor\u001b[39;00m r \u001b[38;5;129;01min\u001b[39;00m \u001b[38;5;28mself\u001b[39m\u001b[38;5;241m.\u001b[39mflat_runs()]\n\u001b[1;32m    162\u001b[0m     \u001b[38;5;28;01mreturn\u001b[39;00m pd\u001b[38;5;241m.\u001b[39mconcat(all_data)\n",
      "File \u001b[0;32m~/pypatchy/notebooks/../src/patchy/analysis/patchyresults.py:161\u001b[0m, in \u001b[0;36m<listcomp>\u001b[0;34m(.0)\u001b[0m\n\u001b[1;32m    159\u001b[0m \u001b[38;5;28;01mdef\u001b[39;00m \u001b[38;5;21mget_yields\u001b[39m(\u001b[38;5;28mself\u001b[39m, target_name, cutoff\u001b[38;5;241m=\u001b[39m\u001b[38;5;241m1\u001b[39m, overreach\u001b[38;5;241m=\u001b[39m\u001b[38;5;28;01mFalse\u001b[39;00m, verbose\u001b[38;5;241m=\u001b[39m\u001b[38;5;28;01mFalse\u001b[39;00m, sample_every\u001b[38;5;241m=\u001b[39m\u001b[38;5;241m-\u001b[39m\u001b[38;5;241m1\u001b[39m):\n\u001b[1;32m    160\u001b[0m     target_graph \u001b[38;5;241m=\u001b[39m \u001b[38;5;28mself\u001b[39m\u001b[38;5;241m.\u001b[39mtargets[target_name][\u001b[38;5;124m'\u001b[39m\u001b[38;5;124mgraph\u001b[39m\u001b[38;5;124m'\u001b[39m]\n\u001b[0;32m--> 161\u001b[0m     all_data \u001b[38;5;241m=\u001b[39m [\u001b[43mr\u001b[49m\u001b[38;5;241;43m.\u001b[39;49m\u001b[43manalyseClusterYield\u001b[49m\u001b[43m(\u001b[49m\u001b[43mtarget_name\u001b[49m\u001b[43m,\u001b[49m\u001b[43m \u001b[49m\u001b[43mtarget_graph\u001b[49m\u001b[43m,\u001b[49m\u001b[43m \u001b[49m\u001b[43mcutoff\u001b[49m\u001b[38;5;241;43m=\u001b[39;49m\u001b[43mcutoff\u001b[49m\u001b[43m,\u001b[49m\u001b[43m  \u001b[49m\u001b[43mverbose\u001b[49m\u001b[38;5;241;43m=\u001b[39;49m\u001b[43mverbose\u001b[49m\u001b[43m,\u001b[49m\u001b[43m \u001b[49m\u001b[43moverreach\u001b[49m\u001b[38;5;241;43m=\u001b[39;49m\u001b[43moverreach\u001b[49m\u001b[43m,\u001b[49m\u001b[43msample_every\u001b[49m\u001b[38;5;241;43m=\u001b[39;49m\u001b[43msample_every\u001b[49m\u001b[43m)\u001b[49m \u001b[38;5;28;01mfor\u001b[39;00m r \u001b[38;5;129;01min\u001b[39;00m \u001b[38;5;28mself\u001b[39m\u001b[38;5;241m.\u001b[39mflat_runs()]\n\u001b[1;32m    162\u001b[0m     \u001b[38;5;28;01mreturn\u001b[39;00m pd\u001b[38;5;241m.\u001b[39mconcat(all_data)\n",
      "File \u001b[0;32m~/pypatchy/notebooks/../src/patchy/analysis/patchyrunresult.py:251\u001b[0m, in \u001b[0;36mPatchyRunResult.analyseClusterYield\u001b[0;34m(self, target_name, target_graph, cutoff, overreach, verbose, parallel, sample_every)\u001b[0m\n\u001b[1;32m    244\u001b[0m \u001b[38;5;66;03m# dt = getVal(run_result.get_path() + \"input\", 'dt = ') # todo: switch to oxpy\u001b[39;00m\n\u001b[1;32m    245\u001b[0m \n\u001b[1;32m    246\u001b[0m \u001b[38;5;66;03m# figure out how long simulation ran\u001b[39;00m\n\u001b[1;32m    247\u001b[0m \u001b[38;5;66;03m# maxTimeStep = self.max_time()\u001b[39;00m\n\u001b[1;32m    248\u001b[0m \n\u001b[1;32m    249\u001b[0m \u001b[38;5;66;03m# \u001b[39;00m\n\u001b[1;32m    250\u001b[0m tlength \u001b[38;5;241m=\u001b[39m \u001b[38;5;28mself\u001b[39m\u001b[38;5;241m.\u001b[39mnum_timepoints()\n\u001b[0;32m--> 251\u001b[0m cluster_categories \u001b[38;5;241m=\u001b[39m \u001b[38;5;28;43mself\u001b[39;49m\u001b[38;5;241;43m.\u001b[39;49m\u001b[43mgetClusterCategories\u001b[49m\u001b[43m(\u001b[49m\u001b[43mtarget_name\u001b[49m\u001b[43m,\u001b[49m\u001b[43m \u001b[49m\u001b[43mtarget_graph\u001b[49m\u001b[43m,\u001b[49m\u001b[43m \u001b[49m\u001b[43mverbose\u001b[49m\u001b[43m,\u001b[49m\u001b[43m \u001b[49m\u001b[43mparallel\u001b[49m\u001b[43m,\u001b[49m\u001b[43m \u001b[49m\u001b[43msample_every\u001b[49m\u001b[43m)\u001b[49m\n\u001b[1;32m    253\u001b[0m \u001b[38;5;66;03m# create a 'default' version of the yield dataframe to serve for timepoints with no clusters\u001b[39;00m\n\u001b[1;32m    254\u001b[0m data \u001b[38;5;241m=\u001b[39m pd\u001b[38;5;241m.\u001b[39mDataFrame(index\u001b[38;5;241m=\u001b[39mpd\u001b[38;5;241m.\u001b[39mMultiIndex\u001b[38;5;241m.\u001b[39mfrom_product([\n\u001b[1;32m    255\u001b[0m         [\u001b[38;5;28mself\u001b[39m\u001b[38;5;241m.\u001b[39mnarrow_type_number], [\u001b[38;5;28mself\u001b[39m\u001b[38;5;241m.\u001b[39mtemperature], [\u001b[38;5;28mself\u001b[39m\u001b[38;5;241m.\u001b[39mduplicate_number], np\u001b[38;5;241m.\u001b[39marange(\u001b[38;5;241m0\u001b[39m, tlength, sample_every)\n\u001b[1;32m    256\u001b[0m         ], names\u001b[38;5;241m=\u001b[39m[\u001b[38;5;124m'\u001b[39m\u001b[38;5;124mnt\u001b[39m\u001b[38;5;124m'\u001b[39m, \u001b[38;5;124m'\u001b[39m\u001b[38;5;124mtemp\u001b[39m\u001b[38;5;124m'\u001b[39m, \u001b[38;5;124m'\u001b[39m\u001b[38;5;124mduplicate\u001b[39m\u001b[38;5;124m'\u001b[39m, \u001b[38;5;124m'\u001b[39m\u001b[38;5;124mtidx\u001b[39m\u001b[38;5;124m'\u001b[39m]),\n\u001b[1;32m    257\u001b[0m                     columns\u001b[38;5;241m=\u001b[39m[\u001b[38;5;124m'\u001b[39m\u001b[38;5;124myield\u001b[39m\u001b[38;5;124m'\u001b[39m])\n",
      "File \u001b[0;32m~/pypatchy/notebooks/../src/patchy/analysis/patchyrunresult.py:186\u001b[0m, in \u001b[0;36mPatchyRunResult.getClusterCategories\u001b[0;34m(self, target_name, target_graph, verbose, parallel, sample_every)\u001b[0m\n\u001b[1;32m    184\u001b[0m \u001b[38;5;28;01mif\u001b[39;00m os\u001b[38;5;241m.\u001b[39mpath\u001b[38;5;241m.\u001b[39misfile(filename):\n\u001b[1;32m    185\u001b[0m     \u001b[38;5;28;01mwith\u001b[39;00m \u001b[38;5;28mopen\u001b[39m(filename, \u001b[38;5;124m'\u001b[39m\u001b[38;5;124mrb\u001b[39m\u001b[38;5;124m'\u001b[39m) \u001b[38;5;28;01mas\u001b[39;00m f:\n\u001b[0;32m--> 186\u001b[0m         cluster_categories \u001b[38;5;241m=\u001b[39m \u001b[43mpickle\u001b[49m\u001b[38;5;241;43m.\u001b[39;49m\u001b[43mload\u001b[49m\u001b[43m(\u001b[49m\u001b[43mf\u001b[49m\u001b[43m)\u001b[49m\n\u001b[1;32m    187\u001b[0m \u001b[38;5;66;03m# otherwise construct empty dataframe, settle in with beverage\u001b[39;00m\n\u001b[1;32m    188\u001b[0m \u001b[38;5;28;01melse\u001b[39;00m:\n\u001b[1;32m    189\u001b[0m     cluster_categories \u001b[38;5;241m=\u001b[39m pd\u001b[38;5;241m.\u001b[39mDataFrame(columns\u001b[38;5;241m=\u001b[39m[\u001b[38;5;124m\"\u001b[39m\u001b[38;5;124mnt\u001b[39m\u001b[38;5;124m\"\u001b[39m, \u001b[38;5;124m\"\u001b[39m\u001b[38;5;124mtemp\u001b[39m\u001b[38;5;124m\"\u001b[39m, \u001b[38;5;124m\"\u001b[39m\u001b[38;5;124mduplicate\u001b[39m\u001b[38;5;124m\"\u001b[39m, \u001b[38;5;124m\"\u001b[39m\u001b[38;5;124mtidx\u001b[39m\u001b[38;5;124m\"\u001b[39m, \u001b[38;5;124m\"\u001b[39m\u001b[38;5;124mclustercategory\u001b[39m\u001b[38;5;124m\"\u001b[39m, \u001b[38;5;124m\"\u001b[39m\u001b[38;5;124msizeratio\u001b[39m\u001b[38;5;124m\"\u001b[39m])\n",
      "\u001b[0;31mModuleNotFoundError\u001b[0m: No module named 'analyseClusters'"
     ]
    }
   ],
   "source": [
    "all_data = []\n",
    "for target_name in target_names:\n",
    "    print(f\"Analyzing {results_name} yields for target: {target_name}\")\n",
    "    data = results.get_stats(target_name, cutoff, overreach=overreach, sample_every=sample_every, verbose=True, grouping_cols = ['shape', 'nt', 'temp', 'time'])\n",
    "    # data = dataset.get_flat_yields(target_name, cutoff, overreach=overreach)\n",
    "    data['target'] = target_name\n",
    "    all_data.append(data)\n",
    "data = pd.concat(all_data, axis='index').reset_index()"
   ]
  },
  {
   "cell_type": "code",
   "execution_count": null,
   "id": "01c71ab8-c828-4be1-8fb7-693040390a76",
   "metadata": {},
   "outputs": [],
   "source": [
    "np.unique(data['shape'])"
   ]
  },
  {
   "cell_type": "code",
   "execution_count": null,
   "id": "32cead38-084d-4c13-9b48-ebf66d1347c3",
   "metadata": {},
   "outputs": [],
   "source": [
    "print(f\"Temperature options: {data['temp'].unique()}\")"
   ]
  },
  {
   "cell_type": "code",
   "execution_count": null,
   "id": "62adac6a-3928-46f5-a899-68c0516166a4",
   "metadata": {
    "tags": []
   },
   "outputs": [],
   "source": [
    "### MORE PARAMETERS!!! ####\n",
    "nt = 0\n",
    "temperature = 0.01\n",
    "ymax = 8\n",
    "relative=True\n",
    "groups = np.unique(data['shape'])\n",
    "\n",
    "df = data[(data['nt'] == nt) & (data['temp'] == temperature)]\n",
    "\n",
    "\n",
    "# assert(len(shapes) > 0)\n",
    "# indexer = reduce(lambda a,b: (a | b), [df['shape'] == s for s in shapes])\n",
    "# df = df[indexer]\n",
    "\n",
    "# normalize yield if applicable, either way format x axis\n",
    "if relative:\n",
    "    df['yield_min'] = df['yield_min'] / ymax\n",
    "    df['yield_max'] = df['yield_max'] / ymax\n",
    "    # df['yield_stdev'] = df['yield_stdev'] / ymax\n",
    "    df['yield'] =  df['yield'] / ymax\n",
    "    ymax = 1.0\n",
    "    x_axis_format = '.0%'\n",
    "else:\n",
    "    x_axis_format = '.00'\n",
    "df['time'] /= 1e6 # convert steps to megasteps\n",
    "\n",
    "charts = []\n",
    "# if len(shapes) == 1:\n",
    "#     chart_title = f\"Comparison of Datasets: {', '.join(dataset_names_readable)} (Group: {shapes[0]}) (Narrow Type {nt})\"\n",
    "# else:\n",
    "chart_title = f\"Comparison of Datasets {results_name} Groups and Targets at Narrow Type {nt}, Temperature {temperature}\"\n",
    "temperatures = df['temp'].unique()\n",
    "for i, t in enumerate(target_names):\n",
    "    charts.append(alt.Chart(df[df['target'] == t], title=f\"T={t}\"))\n",
    "    charts[i] = charts[i].mark_line().encode(\n",
    "        x=alt.X('time:Q', title=\"Time (megasteps)\", axis=alt.Axis(tickCount=5)),\n",
    "        y=alt.Y(\n",
    "            \"yield:Q\",\n",
    "            title=\"Yield\",\n",
    "            scale=alt.Scale(domain=(0,ymax)),\n",
    "            axis=alt.Axis(format=x_axis_format, tickCount=4)\n",
    "        ),\n",
    "        color=alt.Color('shape:O', scale=alt.Scale(scheme=\"accent\"), title=\"Shape\")\n",
    "    ) + charts[i].mark_area(opacity=0.25).encode(\n",
    "        x=alt.X(\"time:Q\", axis=alt.Axis(tickCount=5)),\n",
    "        y=\"yield_min:Q\",\n",
    "        y2=\"yield_max:Q\",\n",
    "        color=alt.Color('shape:O', scale=alt.Scale(scheme=\"accent\"), title=\"Shape\")\n",
    "    )\n",
    "chart = alt.hconcat(*charts)\n",
    "# ) + alt.Chart(df).mark_errorband(extent='ci', opacity=0.2).encode(\n",
    "#     x=alt.X('time:Q'),\n",
    "#     y=alt.Y('yield', title='Yield'), accept_partials=True\n",
    "#     color = alt.Color('shape', scale=alt.Scale())\n",
    "# )).properties(width=600, height=450).facet(column='potential', row='type').properties(title=sim_name)\"None of the students learn anything and it's your fault\"\n",
    "\n",
    "chart = chart.properties(title=chart_title)\n",
    "chart.configure_axis(\n",
    "    labelFontSize=18,\n",
    "    titleFontSize=20\n",
    ").configure_title(fontSize=24)\n",
    "# chart.save(sims_root() + os.sep + results.export_name + os.sep + results.export_name + \".html\")"
   ]
  },
  {
   "cell_type": "code",
   "execution_count": null,
   "id": "a510f620-999c-4a2f-be68-40bb32e54998",
   "metadata": {},
   "outputs": [],
   "source": [
    "data"
   ]
  },
  {
   "cell_type": "code",
   "execution_count": 21,
   "id": "5b49c2f0-d57d-4280-b35d-254e6063736e",
   "metadata": {},
   "outputs": [
    {
     "ename": "NameError",
     "evalue": "name 'mintime' is not defined",
     "output_type": "error",
     "traceback": [
      "\u001b[0;31m---------------------------------------------------------------------------\u001b[0m",
      "\u001b[0;31mNameError\u001b[0m                                 Traceback (most recent call last)",
      "Cell \u001b[0;32mIn[21], line 1\u001b[0m\n\u001b[0;32m----> 1\u001b[0m \u001b[43mmintime\u001b[49m\n",
      "\u001b[0;31mNameError\u001b[0m: name 'mintime' is not defined"
     ]
    }
   ],
   "source": [
    "mintime"
   ]
  },
  {
   "cell_type": "code",
   "execution_count": null,
   "id": "8ee7ee61-7e78-4c6a-9d4b-2143b6e12ae5",
   "metadata": {},
   "outputs": [],
   "source": []
  }
 ],
 "metadata": {
  "kernelspec": {
   "display_name": "Polycubes2",
   "language": "python",
   "name": "polycubes2"
  },
  "language_info": {
   "codemirror_mode": {
    "name": "ipython",
    "version": 3
   },
   "file_extension": ".py",
   "mimetype": "text/x-python",
   "name": "python",
   "nbconvert_exporter": "python",
   "pygments_lexer": "ipython3",
   "version": "3.10.9"
  }
 },
 "nbformat": 4,
 "nbformat_minor": 5
}
