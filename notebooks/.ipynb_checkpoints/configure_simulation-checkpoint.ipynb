{
 "cells": [
  {
   "cell_type": "code",
   "execution_count": 9,
   "id": "6c0e977d-6910-4cc4-a69f-4b63eb50e92c",
   "metadata": {},
   "outputs": [],
   "source": [
    "import sys\n",
    "import os\n",
    "import json\n",
    "sys.path.append('../src')"
   ]
  },
  {
   "cell_type": "code",
   "execution_count": 15,
   "id": "5a79de0e-32c8-49b6-84b1-d47eb0c025a9",
   "metadata": {},
   "outputs": [],
   "source": [
    "from patchy.setup.patchy_set_setup import PatchySimulationSetup\n",
    "from patchy.util import *"
   ]
  },
  {
   "cell_type": "code",
   "execution_count": null,
   "id": "f0422f4b-b773-4db0-a70e-dc2484e59b32",
   "metadata": {},
   "outputs": [],
   "source": [
    "with open(get_root() + os.sep + \"input\" + os.sep + \"wereflamingo_X2.json\") as f:\n",
    "    PatchySimulationSetup(json.load(f))"
   ]
  }
 ],
 "metadata": {
  "kernelspec": {
   "display_name": "Polycubes2",
   "language": "python",
   "name": "polycubes2"
  },
  "language_info": {
   "codemirror_mode": {
    "name": "ipython",
    "version": 3
   },
   "file_extension": ".py",
   "mimetype": "text/x-python",
   "name": "python",
   "nbconvert_exporter": "python",
   "pygments_lexer": "ipython3",
   "version": "3.10.9"
  }
 },
 "nbformat": 4,
 "nbformat_minor": 5
}
