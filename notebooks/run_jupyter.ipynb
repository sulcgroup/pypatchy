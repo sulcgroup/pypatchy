{
 "cells": [
  {
   "cell_type": "code",
   "execution_count": 1,
   "id": "d1bb64c6-795d-4ae0-bbb2-c4fcfb585d96",
   "metadata": {},
   "outputs": [
    {
     "name": "stdout",
     "output_type": "stream",
     "text": [
      "Available datasets:\n",
      "\tsolidcubeanalysis.sh,\n",
      "\tAlloHollowCube_X1_7Nov22,\n",
      "\tAlloHollowCubeMin_X1_9Nov22,\n",
      "\tAlloPyramid_X3_17Nov22,\n",
      "\tAlloSolidCube_X1_7Nov22,\n",
      "\tIcosahedron_12vP_12vC_12Dec22,\n",
      "\tOffsetTestRingNoAllo,\n",
      "\tWTHollowCube_7Nov22,\n",
      "\tAlloPyramid_14Oct22,\n",
      "\tNoAlloPyramid_14Oct22,\n",
      "\tAlloSolidCube_X5_1_7Nov22,\n",
      "\tIcosahedron_12vP_12vC_21Dec22,\n",
      "\tAlloSolidCube_X5_4_7Nov22,\n",
      "\tAlloPyramid_Reduced_29Oct22,\n",
      "\tAlloSolidCube_X3_Singlet_7Nov22,\n",
      "\tWTSolidCube_7Nov22,\n",
      "\tIcosahedron_12vP_12vC_MSMethod_18Jan23\n"
     ]
    },
    {
     "name": "stdin",
     "output_type": "stream",
     "text": [
      "Input the name of a dataset:  AlloPyramid_14Oct22\n"
     ]
    },
    {
     "name": "stdout",
     "output_type": "stream",
     "text": [
      "Available datasets:\n",
      "\tsolidcubeanalysis.sh,\n",
      "\tAlloHollowCube_X1_7Nov22,\n",
      "\tAlloHollowCubeMin_X1_9Nov22,\n",
      "\tAlloPyramid_X3_17Nov22,\n",
      "\tAlloSolidCube_X1_7Nov22,\n",
      "\tIcosahedron_12vP_12vC_12Dec22,\n",
      "\tOffsetTestRingNoAllo,\n",
      "\tWTHollowCube_7Nov22,\n",
      "\tAlloPyramid_14Oct22,\n",
      "\tNoAlloPyramid_14Oct22,\n",
      "\tAlloSolidCube_X5_1_7Nov22,\n",
      "\tIcosahedron_12vP_12vC_21Dec22,\n",
      "\tAlloSolidCube_X5_4_7Nov22,\n",
      "\tAlloPyramid_Reduced_29Oct22,\n",
      "\tAlloSolidCube_X3_Singlet_7Nov22,\n",
      "\tWTSolidCube_7Nov22,\n",
      "\tIcosahedron_12vP_12vC_MSMethod_18Jan23\n"
     ]
    },
    {
     "name": "stdin",
     "output_type": "stream",
     "text": [
      "Input the name of an analysis target (pyramid):  pyramid\n"
     ]
    },
    {
     "data": {
      "image/png": "[encoded data removed]",
      "text/plain": [
       "<Figure size 640x480 with 2 Axes>"
      ]
     },
     "metadata": {},
     "output_type": "display_data"
    }
   ],
   "source": [
    "from input_output import *\n",
    "print(\"Available datasets:\\n\\t\" + ',\\n\\t'.join(os.listdir(sims_root())))\n",
    "results_name = input(\"Input the name of a dataset: \")\n",
    "# construct a PatchySimResultSet object from the specified directory\n",
    "results = choose_results(results_name)\n",
    "target_name = input(f\"Input the name of an analysis target ({','.join(results.targets.keys())}): \")\n",
    "\n",
    "target = results.targets[target_name]"
   ]
  },
  {
   "cell_type": "code",
   "execution_count": null,
   "id": "c9d16be3-e6fc-4c09-aa49-79c106b872ab",
   "metadata": {},
   "outputs": [],
   "source": [
    "# narrow type = set of parameters specifying bonding angles between patches\n",
    "nt = int(input(f\"Input the narrow type of the data ({', '.join([f'{nt}' for nt in results.narrow_types()])}): \"))\n",
    "# cutoff = the lower limit for counting clusters as partially assembled forms of the target\n",
    "# cutoff = 1 -> only count fully assembled clusters\n",
    "cutoff = float(input(\"Input the graph match cutoff: \"))\n",
    "relative = input(\"Calculate relative yields?\") == \"True\"\n",
    "overreach = input(\"Include overreaching graphs in yield calculations?\") == \"True\"\n",
    "rs = input(\"Enter resample frequency (in kilosteps, should be >= to the observable print interval):\")"
   ]
  },
  {
   "cell_type": "code",
   "execution_count": null,
   "id": "02ccfe66-36a5-4173-a3fb-08caff7b9eac",
   "metadata": {},
   "outputs": [],
   "source": [
    "df = results.calculateYields(target_name, cutoff, overreach)"
   ]
  },
  {
   "cell_type": "code",
   "execution_count": null,
   "id": "6b15dc52-9ea4-48e2-a050-8e21023d74a1",
   "metadata": {},
   "outputs": [],
   "source": [
    "# resample yields program\n",
    "picklename = results.root_dir + os.sep + f\"target_{target_name}_rs{rs}_cutoff{cutoff}_over{overreach}_rel{relative}.pickle\"\n",
    "if os.path.isfile(picklename):\n",
    "    df = pd.read_pickle(picklename)\n",
    "else:\n",
    "    gb = df.groupby(['shape', \"temp\", \"potential\"])\n",
    "    resampling = gb.resample(rule=f'{rs}us', on='time')\n",
    "    df = resampling.mean()\n",
    "    df.drop(labels=['duplicate', 'temp', 'potential'], axis='columns', inplace=True)\n",
    "    df['yield_min'] = resampling.min()['yield']\n",
    "    df['yield_max'] = resampling.max()['yield']\n",
    "    df['yield_stdev'] = resampling.std()['yield']\n",
    "    df.reset_index(inplace=True)\n",
    "    df['time'] = pd.to_numeric(df['time'].dt.microseconds)\n",
    "    df.to_pickle(picklename)"
   ]
  },
  {
   "cell_type": "code",
   "execution_count": null,
   "id": "a2abd7fc-111d-4848-8888-892cbdfd61a7",
   "metadata": {},
   "outputs": [],
   "source": [
    "df = df[df['potential'] == nt]"
   ]
  },
  {
   "cell_type": "code",
   "execution_count": null,
   "id": "792c4ff9",
   "metadata": {},
   "outputs": [],
   "source": [
    "# data = []\n",
    "# for run_result in results.flat_runs():\n",
    "#     data += results.annanosecondsalyseClusterYield(run_result, target=target_name)\n",
    "# df = pd.DataFrame(data)\n",
    "# # df['time'] /= 10e6 # to make data more readable\n",
    "\n",
    "rule_data = pd.DataFrame(\n",
    "    [\n",
    "        {\n",
    "            'run_name': results.runs[int(i / len(results.rule))].name,\n",
    "            'cube_name': results.rule[i % len(results.rule)].name,\n",
    "            'level': lvl\n",
    "        }\n",
    "        for i, lvl in enumerate(itertools.chain.from_iterable([r.cube_type_levels for r in results.runs]))\n",
    "    ]\n",
    ")\n",
    "\n"
   ]
  },
  {
   "cell_type": "code",
   "execution_count": null,
   "id": "427c042d-5f63-49ce-b8a1-a75e5ad38016",
   "metadata": {},
   "outputs": [],
   "source": [
    "# df.set_index(['time','shape','temp','potential','duplicate'], inplace=True)\n",
    "\n",
    "max_time = df['time'].max()\n",
    "max_yield = df['yield'].max()"
   ]
  },
  {
   "cell_type": "code",
   "execution_count": null,
   "id": "867cc5b5-b2c3-4bf5-8b58-1d9c777bd5ea",
   "metadata": {},
   "outputs": [],
   "source": [
    "yield_data = [df[df['temp'].copy() == t] for t in df['temp'].unique()]"
   ]
  },
  {
   "cell_type": "code",
   "execution_count": null,
   "id": "3e2a8ae2-9c17-476d-9c92-48d7a35c58d5",
   "metadata": {},
   "outputs": [],
   "source": [
    "if (relative):\n",
    "    for t, yld in zip(results.temperatures(), yield_data):\n",
    "        yld['yield'] = yld['yield'] / (yld['num_assemblies'] * target['rel_count'])\n",
    "    ymax = 1.0\n",
    "else:\n",
    "    if (df['num_assemblies'].unique().size > 1):\n",
    "        print (\"Assembly counts are not consistant, scaling may be wonky. You may want to do a relative yield analysis.\")\n",
    "    ymax = df['num_assemblies'].max() * target['rel_count']"
   ]
  },
  {
   "cell_type": "code",
   "execution_count": null,
   "id": "ae4e0d55",
   "metadata": {
    "tags": []
   },
   "outputs": [],
   "source": [
    "charts = []\n",
    "for i, yld in enumerate(yield_data):\n",
    "    charts.append(alt.Chart(yld, title=\"Assembly Yields at T=%f\" % results.temperatures()[i]))\n",
    "    charts[i] = charts[i].mark_line().encode(\n",
    "            x=alt.X('time:Q', title=\"Time (megasteps)\", axis=alt.Axis(tickCount=5)),\n",
    "            y=alt.Y(\n",
    "                \"yield:Q\",\n",
    "                title=\"Yield\",\n",
    "                scale=alt.Scale(\n",
    "                    domain=(0, ymax)\n",
    "                )\n",
    "            ),\n",
    "            color=alt.Color('shape', scale=alt.Scale(scheme=\"accent\"), title=\"Configuration\")\n",
    "    )\n",
    "    charts[i] = charts[i].properties(width=int(800 / len(results.temperatures())), height=250)\n",
    "    errbars = charts[i].mark_area(opacity=0.25).encode(\n",
    "        x=alt.X(\"time:Q\", axis=alt.Axis(tickCount=5)),\n",
    "        y=\"yield_min:Q\",\n",
    "        y2=\"yield_max:Q\"\n",
    "    )\n",
    "    charts[i] = charts[i] + errbars\n",
    "        \n",
    "chart = alt.hconcat(\n",
    "    alt.Chart(rule_data).mark_bar().encode(\n",
    "        x=alt.X('run_name', title=\"Configuration\"),\n",
    "        y=alt.Y('level', title=\"Level\"),\n",
    "        color=alt.Color('cube_name', title=\"Type\")\n",
    "    ),\n",
    "    *charts\n",
    ")\n",
    "\n",
    "# ) + alt.Chart(df).mark_errorband(extent='ci', opacity=0.2).encode(\n",
    "#     x=alt.X('time:Q'),\n",
    "#     y=alt.Y('yield', title='Yield'),\n",
    "#     color = alt.Color('shape', scale=alt.Scale())\n",
    "# )).properties(width=600, height=450).facet(column='potential', row='type').properties(title=sim_name)\n",
    "\n",
    "chart.properties(title=f\"{results.export_name} - {target_name} - NT{nt}\")\n",
    "# chart.save(sims_root() + os.sep + results.export_name + os.sep + results.export_name + \".html\")"
   ]
  },
  {
   "cell_type": "code",
   "execution_count": null,
   "id": "7992a6ca-e450-4138-a55b-7abbadc11e9b",
   "metadata": {},
   "outputs": [],
   "source": []
  }
 ],
 "metadata": {
  "kernelspec": {
   "display_name": "polycubes",
   "language": "python",
   "name": "polycubes"
  },
  "language_info": {
   "codemirror_mode": {
    "name": "ipython",
    "version": 3
   },
   "file_extension": ".py",
   "mimetype": "text/x-python",
   "name": "python",
   "nbconvert_exporter": "python",
   "pygments_lexer": "ipython3",
   "version": "3.9.12"
  }
 },
 "nbformat": 4,
 "nbformat_minor": 5
}
