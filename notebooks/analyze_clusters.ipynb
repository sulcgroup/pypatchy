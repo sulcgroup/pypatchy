{
 "cells": [
  {
   "cell_type": "code",
   "execution_count": null,
   "id": "6a8ee496-b3e4-4a9e-bd08-a62f34feba99",
   "metadata": {},
   "outputs": [],
   "source": [
    "from pypatchy.patchy."
   ]
  }
 ],
 "metadata": {
  "kernelspec": {
   "display_name": "Polycubes",
   "language": "python",
   "name": "polycubes"
  },
  "language_info": {
   "codemirror_mode": {
    "name": "ipython",
    "version": 3
   },
   "file_extension": ".py",
   "mimetype": "text/x-python",
   "name": "python",
   "nbconvert_exporter": "python",
   "pygments_lexer": "ipython3",
   "version": "3.9.16"
  }
 },
 "nbformat": 4,
 "nbformat_minor": 5
}
