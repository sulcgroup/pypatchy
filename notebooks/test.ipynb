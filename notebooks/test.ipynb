{
 "cells": [
  {
   "cell_type": "code",
   "execution_count": 3,
   "id": "6e6112e2-0e32-4370-b134-d15db7ef1ad6",
   "metadata": {
    "pycharm": {
     "name": "#%%\n"
    }
   },
   "source": [
    "from pypatchy.patchy.simulation_ensemble import PatchySimulationEnsemble, list_simulation_ensembles"
   ],
   "outputs": []
  },
  {
   "cell_type": "code",
   "execution_count": 4,
   "id": "16903e52-b61d-4d11-9506-6486a39966d5",
   "metadata": {
    "pycharm": {
     "name": "#%%\n"
    }
   },
   "source": [
    "from pypatchy.patchy.ensemble_parameter import ParameterValue\n",
    "from pypatchy.patchy.simulation_specification import PatchySimulation"
   ],
   "outputs": []
  },
  {
   "cell_type": "code",
   "execution_count": 6,
   "id": "223776cf-aa48-49df-8377-6a4fef051426",
   "metadata": {
    "pycharm": {
     "name": "#%%\n"
    }
   },
   "source": [
    "from oxDNA_analysis_tools.file_info import file_info\n",
    "from pypatchy.patchy.analysis_lib import YIELD_KEY"
   ],
   "outputs": []
  },
  {
   "cell_type": "code",
   "execution_count": 7,
   "id": "c18eb50b-2d4e-4855-bf42-ad8e54b4cacc",
   "metadata": {
    "pycharm": {
     "name": "#%%\n"
    }
   },
   "source": [
    "list_simulation_ensembles()"
   ],
   "outputs": []
  },
  {
   "cell_type": "code",
   "execution_count": 8,
   "id": "c826f247-a274-451b-9aea-6a9ef26526aa",
   "metadata": {
    "pycharm": {
     "name": "#%%\n"
    }
   },
   "source": [
    "ensemble = PatchySimulationEnsemble(cfg_file_name=\"AlloPyramid_X4.json\", sim_date=\"2023-03-14\")"
   ],
   "outputs": []
  },
  {
   "cell_type": "code",
   "execution_count": 9,
   "id": "e2e142cf-8cca-4d43-b505-35325bd7ac51",
   "metadata": {
    "pycharm": {
     "name": "#%%\n"
    }
   },
   "source": [
    "ensemble.info()"
   ],
   "outputs": []
  },
  {
   "cell_type": "code",
   "execution_count": 7,
   "id": "e479d987-666b-4524-9dad-2e5b9df05b2a",
   "metadata": {
    "pycharm": {
     "name": "#%%\n"
    }
   },
   "source": [
    "step = ensemble.analysis_pipeline.name_map[\"classify_clusters\"]\n",
    "ensemble.missing_analysis_data(step)"
   ],
   "outputs": []
  },
  {
   "cell_type": "code",
   "execution_count": 8,
   "id": "aa7ef621-4bbf-457a-91f3-2e2f855899fa",
   "metadata": {
    "pycharm": {
     "name": "#%%\n"
    }
   },
   "source": [
    "ensemble.missing_analysis_data(step)"
   ],
   "outputs": []
  },
  {
   "cell_type": "code",
   "execution_count": 9,
   "id": "7f3e7096-34e6-45b9-89d7-022f0e346f38",
   "metadata": {
    "pycharm": {
     "name": "#%%\n"
    }
   },
   "source": [
    "ensemble.time_length(PatchySimulation([ParameterValue(\"duplicate\", 0), ParameterValue(\"narrow_type\", 0), ParameterValue(\"T\", 0.025)]))"
   ],
   "outputs": []
  },
  {
   "cell_type": "code",
   "execution_count": 11,
   "id": "544f3446-6059-4463-99e6-61679fcc92e8",
   "metadata": {
    "pycharm": {
     "name": "#%%\n"
    }
   },
   "source": [
    "len(ensemble.slurm_log)"
   ],
   "outputs": []
  },
  {
   "cell_type": "code",
   "execution_count": 9,
   "id": "4f78d914-9c2a-4d13-9b0a-24d37952c9e8",
   "metadata": {
    "pycharm": {
     "name": "#%%\n"
    }
   },
   "source": [
    "from pypatchy.patchy.vis_lib import plot_analysis_data\n",
    "plot_analysis_data(ensemble, \"compute_yield_0.75\", YIELD_KEY, plot_grid_h_axis=\"narrow_type\", plot_line_color=\"T\")"
   ],
   "outputs": []
  },
  {
   "cell_type": "code",
   "execution_count": null,
   "id": "4c256e4b-dbd7-4775-b944-55c59a8ee44f",
   "metadata": {
    "pycharm": {
     "name": "#%%\n"
    }
   },
   "source": [
    "ensemble.do_analysis_parallel = False"
   ],
   "outputs": []
  },
  {
   "cell_type": "code",
   "execution_count": null,
   "id": "28174e30-4a53-4c47-88af-6462920883cf",
   "metadata": {
    "pycharm": {
     "name": "#%%\n"
    }
   },
   "source": [
    "sim = ensemble.ensemble()[0]\n",
    "print(str(sim))"
   ],
   "outputs": []
  },
  {
   "cell_type": "code",
   "execution_count": 24,
   "id": "e195dcd4-c16b-474a-b91d-87443e6835c6",
   "metadata": {
    "pycharm": {
     "name": "#%%\n"
    }
   },
   "source": [
    "step = ensemble.analysis_pipeline[\"classify_clusters\"]"
   ],
   "outputs": []
  },
  {
   "cell_type": "code",
   "execution_count": 26,
   "id": "439493db-d5b6-47fd-886e-e7e927be1cfa",
   "metadata": {
    "pycharm": {
     "name": "#%%\n"
    }
   },
   "source": [
    "len(range(0, ensemble.time_length(sim), step.output_tstep*10))"
   ],
   "outputs": []
  },
  {
   "cell_type": "code",
   "execution_count": 6,
   "id": "9eb7c1e4-c466-45e4-93b0-4581dbc9086c",
   "metadata": {
    "pycharm": {
     "name": "#%%\n"
    }
   },
   "source": [
    "ensemble.get_data(step, sim, range(0, ensemble.time_length(sim), step.output_tstep*10))"
   ],
   "outputs": []
  },
  {
   "cell_type": "code",
   "execution_count": 24,
   "id": "4c32a17b-b4bf-4cbc-9bf4-8392a85a1a50",
   "metadata": {
    "pycharm": {
     "name": "#%%\n"
    }
   },
   "source": [
    "file_info([str(traj_file)])"
   ],
   "outputs": []
  },
  {
   "cell_type": "code",
   "execution_count": 14,
   "id": "790ca102-5979-410a-8fa6-0975d30c7f04",
   "metadata": {
    "pycharm": {
     "name": "#%%\n"
    }
   },
   "source": [
    "ensemble.get_stopped_sims()"
   ],
   "outputs": []
  },
  {
   "cell_type": "code",
   "execution_count": 39,
   "id": "91f2c75f-3c5d-4328-9f69-58a40c482222",
   "metadata": {
    "pycharm": {
     "name": "#%%\n"
    }
   },
   "source": [
    "sims_that_need_attn = []\n",
    "sim = ensemble.ensemble()[1]\n",
    "entries = ensemble.slurm_log.by_simulation(sim)\n",
    "print(len(entries))\n",
    "desired_sim_length = ensemble.sim_get_param(sim, \"steps\")\n",
    "last_entry = entries[-1]\n",
    "# get job info\n",
    "jobinfo = ensemble.bash_exec(f\"scontrol show job {last_entry.job_id} | grep JobState\")\n",
    "job_stopped = len(jobinfo) == 0 or jobinfo.split()[0].split(\"=\")[1] != \"RUNNING\"\n",
    "if job_stopped:\n",
    "    if ensemble.time_length(sim) < desired_sim_length:\n",
    "        sims_that_need_attn.append(sim)\n"
   ],
   "outputs": []
  },
  {
   "cell_type": "code",
   "execution_count": 23,
   "id": "bff2e478-2a9f-414f-af6c-3554546b63e1",
   "metadata": {
    "pycharm": {
     "name": "#%%\n"
    }
   },
   "source": [
    "ensemble.get_last_continue_step(sim)"
   ],
   "outputs": []
  },
  {
   "cell_type": "code",
   "execution_count": 29,
   "id": "118cff17-88dc-4d7e-8754-1c67c86146d3",
   "metadata": {
    "pycharm": {
     "name": "#%%\n"
    }
   },
   "source": [
    "len(ensemble.slurm_log.by_simulation(sim).by_type([\"oxdna_continue\", \"oxdna\"]))"
   ],
   "outputs": []
  },
  {
   "cell_type": "code",
   "execution_count": 13,
   "id": "fdae5c55-5290-4886-8e05-f4d1e8e9b8c4",
   "metadata": {
    "tags": [],
    "pycharm": {
     "name": "#%%\n"
    }
   },
   "source": [
    "ensemble.show_analysis_status()"
   ],
   "outputs": []
  },
  {
   "cell_type": "code",
   "execution_count": 12,
   "id": "e6874999-91a2-4c6a-89c0-f8440ae6efea",
   "metadata": {
    "pycharm": {
     "name": "#%%\n"
    }
   },
   "source": [
    "ensemble.lookup_simulation((\"narrow_type\", 0), (\"duplicate\",0), "
   ],
   "outputs": []
  },
  {
   "cell_type": "code",
   "execution_count": 36,
   "id": "0ca9ddd4-bd3a-4c6c-baa0-6f4ddfa510cd",
   "metadata": {
    "scrolled": true,
    "tags": [],
    "pycharm": {
     "name": "#%%\n"
    }
   },
   "source": [
    "ensemble.do_setup()"
   ],
   "outputs": []
  },
  {
   "cell_type": "code",
   "execution_count": 37,
   "id": "22be803a-b88a-41a6-bb22-31c266cb4d8e",
   "metadata": {
    "scrolled": true,
    "tags": [],
    "pycharm": {
     "name": "#%%\n"
    }
   },
   "source": [
    "ensemble.start_simulations()"
   ],
   "outputs": []
  },
  {
   "cell_type": "code",
   "execution_count": null,
   "id": "2d7f6ac4-f6b1-4394-9585-1f1bd64505f6",
   "metadata": {
    "pycharm": {
     "name": "#%%\n"
    }
   },
   "source": [],
   "outputs": []
  }
 ],
 "metadata": {
  "kernelspec": {
   "display_name": "Polycubes",
   "language": "python",
   "name": "polycubes"
  },
  "language_info": {
   "codemirror_mode": {
    "name": "ipython",
    "version": 3
   },
   "file_extension": ".py",
   "mimetype": "text/x-python",
   "name": "python",
   "nbconvert_exporter": "python",
   "pygments_lexer": "ipython3",
   "version": "3.9.16"
  }
 },
 "nbformat": 4,
 "nbformat_minor": 5
}
